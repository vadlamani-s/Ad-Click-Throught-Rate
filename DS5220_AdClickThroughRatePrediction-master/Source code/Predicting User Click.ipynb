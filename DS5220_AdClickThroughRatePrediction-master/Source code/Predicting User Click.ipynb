{
  "cells": [
    {
      "cell_type": "markdown",
      "source": [
        "# Predicting User Click"
      ],
      "metadata": {
        "id": "e80bYBTasXuK",
        "colab_type": "text"
      }
    },
    {
      "cell_type": "code",
      "source": [
        "from google.colab import drive\n",
        "drive.mount('/content/drive')"
      ],
      "outputs": [],
      "execution_count": null,
      "metadata": {
        "id": "pE8G92mU5IvB",
        "colab_type": "code",
        "outputId": "d3eb0400-44fe-4c75-9f11-cf84af80295f",
        "colab": {
          "base_uri": "https://localhost:8080/",
          "height": 122
        }
      }
    },
    {
      "cell_type": "markdown",
      "source": [
        "## Problem Description"
      ],
      "metadata": {
        "id": "835p1llKsXuN",
        "colab_type": "text"
      }
    },
    {
      "cell_type": "markdown",
      "source": [
        "__ Introduction: <br> Clickthrough rate (CTR) __\n",
        "is a ratio showing how often people who see your ad end up clicking it. Clickthrough rate (CTR) can be used to gauge how well your keywords and ads are performing.\n",
        "\n",
        "- CTR is the number of clicks that your ad receives divided by the number of times your ad is shown: clicks ÷ impressions = CTR. For example, if you had 5 clicks and 100 impressions, then your CTR would be 5%.\n",
        "\n",
        "- Each of your ads and keywords have their own CTRs that you can see listed in your account.\n",
        "- A high CTR is a good indication that users find your ads helpful and relevant. CTR also contributes to your keyword's expected CTR, which is a component of Ad Rank. Note that a good CTR is relative to what you're advertising and on which networks.\n",
        "> Credits: Google (https://support.google.com/adwords/answer/2615875?hl=en) \n",
        "\n",
        "<p> Search advertising has been one of the major revenue sources of the Internet industry for years. A key technology behind search advertising is to predict the click-through rate (pCTR) of ads, as the economic model behind search advertising requires pCTR values to rank ads and to price clicks.<b> In this task, given the training instances derived from session logs of the Tencent proprietary search engine, soso.com, participants are expected to accurately predict the pCTR of ads in the testing instances. </b></p>"
      ],
      "metadata": {
        "id": "arVdSJw-sXuO",
        "colab_type": "text"
      }
    },
    {
      "cell_type": "markdown",
      "source": [
        "## Source/Useful Links \n"
      ],
      "metadata": {
        "id": "8x_i3mVosXub",
        "colab_type": "text"
      }
    },
    {
      "cell_type": "markdown",
      "source": [
        "\n",
        "Source : https://www.kaggle.com/c/kddcup2012-track2 \n",
        "\n",
        "Dropbox Links : https://www.dropbox.com/sh/k84z8y9n387ptjb/AAA8O8IDFsSRhOhaLfXVZcJwa?dl=0 \n",
        "\n",
        "Blog :https://hivemall.incubator.apache.org/userguide/regression/kddcup12tr2_dataset.html"
      ],
      "metadata": {
        "id": "YYT8LPpjsXuc",
        "colab_type": "text"
      }
    },
    {
      "cell_type": "markdown",
      "source": [
        "## Real-world/Business Objectives and Constraints"
      ],
      "metadata": {
        "id": "FrtufoSLsXud",
        "colab_type": "text"
      }
    },
    {
      "cell_type": "markdown",
      "source": [
        "Objective: Given query and user information, we need to predict if the user would click the add.\n",
        "    \n",
        "Constraints: Low latency, Interpretability."
      ],
      "metadata": {
        "id": "ZYML5C-jsXue",
        "colab_type": "text"
      }
    },
    {
      "cell_type": "markdown",
      "source": [
        "## Machine Learning problem"
      ],
      "metadata": {
        "id": "HaLYApKysXug",
        "colab_type": "text"
      }
    },
    {
      "cell_type": "markdown",
      "source": [
        "### Data Overview "
      ],
      "metadata": {
        "id": "MxBmp8dusXui",
        "colab_type": "text"
      }
    },
    {
      "cell_type": "markdown",
      "source": [
        "<table style=\"width:50%;text-align:center;\">\n",
        "<caption style=\"text-align:center;\">Data Files</caption>\n",
        "<tr>\n",
        "<td><b>Filename</b></td><td><b>Available Format</b></td>\n",
        "</tr>\n",
        "<tr>\n",
        "<td>training</td><td>.txt (9.9Gb)</td>\n",
        "</tr>\n",
        "<tr>\n",
        "<td>queryid_tokensid</td><td>.txt (704Mb)</td>\n",
        "</tr>\n",
        "<tr>\n",
        "<td>purchasedkeywordid_tokensid</td><td>.txt (26Mb)</td>\n",
        "</tr>\n",
        "<tr>\n",
        "<td>titleid_tokensid</td><td>.txt (172Mb)</td>\n",
        "</tr>\n",
        "<tr>\n",
        "<td>descriptionid_tokensid</td><td>.txt (268Mb)</td>\n",
        "</tr>\n",
        "<tr>\n",
        "<td>userid_profile</td><td>.txt (284Mb)</td>\n",
        "</tr>\n",
        "</table>\n",
        "\n",
        "<table style=\"width:100%\">\n",
        "  <caption style=\"text-align:center;\">training.txt</caption>\n",
        "  <tr>\n",
        "    <th>Feature</th>\n",
        "    <th>Description</th>\n",
        "  </tr>\n",
        "  <tr>\n",
        "    <td>UserID</td>\n",
        "    <td>The unique id for each user</td>\n",
        "    </tr>\n",
        "  <tr>\n",
        "    <td>AdID</td>\n",
        "    <td>The unique id for each ad</td>\n",
        "  </tr>\n",
        "  <tr>\n",
        "    <td>QueryID</td>\n",
        "    <td>The unique id for each Query (it is a primary key in Query table(queryid_tokensid.txt))</td>\n",
        "  </tr>\n",
        "  <tr>\n",
        "    <td>Depth</td>\n",
        "    <td>The number of ads impressed in a session is known as the 'depth'. </td>\n",
        "  </tr>\n",
        "  <tr>\n",
        "    <td>Position</td>\n",
        "    <td>The order of an ad in the impression list is known as the ‘position’ of that ad.</td>\n",
        "  </tr>\n",
        "  <tr>\n",
        "    <td>Impression</td>\n",
        "    <td>The number of search sessions in which the ad (AdID) was impressed by the user (UserID) who issued the query (Query).</td>\n",
        "  </tr>\n",
        "  <tr>\n",
        "    <td>Click</td>\n",
        "    <td>The number of times, among the above impressions, the user (UserID) clicked the ad (AdID).</td>\n",
        "  </tr>\n",
        "  <tr>\n",
        "    <td>TitleId</td>\n",
        "    <td>A property of ads. This is the key of 'titleid_tokensid.txt'. [An Ad, when impressed, would be displayed as a short text known as ’title’, followed by a slightly longer text known as the ’description’, and a URL (usually shortened to save screen space) known as ’display URL’.]</td>\n",
        "  </tr>\n",
        "  <tr>\n",
        "    <td>DescId</td>\n",
        "    <td>A property of ads.  This is the key of 'descriptionid_tokensid.txt'. [An Ad, when impressed, would be displayed as a short text known as ’title’, followed by a slightly longer text known as the ’description’, and a URL (usually shortened to save screen space) known as ’display URL’.]</td>\n",
        "  </tr>\n",
        "  <tr>\n",
        "    <td>AdURL</td>\n",
        "    <td>The URL is shown together with the title and description of an ad. It is usually the shortened landing page URL of the ad, but not always. In the data file,  this URL is hashed for anonymity.</td>\n",
        "  </tr>\n",
        "  <tr>\n",
        "    <td>KeyId</td>\n",
        "    <td>A property of ads. This is the key of  'purchasedkeyword_tokensid.txt'.</td>\n",
        "  </tr>\n",
        "  <tr>\n",
        "    <td>AdvId</td>\n",
        "    <td>a property of the ad. Some advertisers consistently optimize their ads, so the title and description of their ads are more attractive than those of others’ ads.</td>\n",
        "  </tr>\n",
        "</table>\n",
        "\n",
        "___\n",
        "There are five additional data files, as mentioned in the above section: \n",
        "\n",
        "1. queryid_tokensid.txt \n",
        "\n",
        "2. purchasedkeywordid_tokensid.txt \n",
        "\n",
        "3. titleid_tokensid.txt \n",
        "\n",
        "4. descriptionid_tokensid.txt \n",
        "\n",
        "5. userid_profile.txt \n",
        "\n",
        "Each line of the first four files maps an id to a list of tokens, corresponding to the query, keyword, ad title, and ad description, respectively. In each line, a TAB character separates the id and the token set.  A token can basically be a word in a natural language. For anonymity, each token is represented by its hash value.  Tokens are delimited by the character ‘|’. \n",
        "\n",
        "Each line of ‘userid_profile.txt’ is composed of UserID, Gender, and Age, delimited by the TAB character. Note that not every UserID in the training and the testing set will be present in ‘userid_profile.txt’. Each field is described below: \n",
        "\n",
        "1. Gender:  '1'  for male, '2' for female,  and '0'  for unknown. \n",
        "\n",
        "2. Age: '1'  for (0, 12],  '2' for (12, 18], '3' for (18, 24], '4'  for  (24, 30], '5' for (30,  40], and '6' for greater than 40. "
      ],
      "metadata": {
        "id": "oCd2-3tWsXuj",
        "colab_type": "text"
      }
    },
    {
      "cell_type": "markdown",
      "source": [
        "### Example Data point "
      ],
      "metadata": {
        "id": "xH7vl4NnsXuk",
        "colab_type": "text"
      }
    },
    {
      "cell_type": "markdown",
      "source": [
        "__ training.txt __\n",
        "<pre>\n",
        "Click Impression\tAdURL\t     AdId\t   AdvId  Depth\tPos\t QId\t   KeyId\tTitleId\t DescId\t UId\n",
        "0\t 1\t 4298118681424644510\t7686695\t385\t    3\t  3\t 1601\t    5521\t 7709\t  576\t 490234\n",
        "0\t 1\t 4860571499428580850\t21560664\t37484\t  2\t  2\t 2255103\t317\t     48989\t  44771\t 490234\n",
        "0\t 1\t 9704320783495875564\t21748480\t36759\t  3\t  3\t 4532751\t60721\t 685038\t  29681\t 490234\n",
        "</pre>\n",
        "\n",
        "__ queryid_tokensid.txt__\n",
        "<pre>\n",
        "QId\tQuery\n",
        "0\t12731\n",
        "1\t1545|75|31\n",
        "2\t383\n",
        "3\t518|1996\n",
        "4\t4189|75|31\n",
        "</pre>\n",
        "\n",
        "__purchasedkeywordid_tokensid.txt__\n",
        "<pre>\n",
        "</pre>\n",
        "\n",
        "__titleid_tokensid.txt__\n",
        "<pre>\n",
        "TitleId\tTitle\n",
        "0\t615|1545|75|31|1|138|1270|615|131\n",
        "1\t466|582|685|1|42|45|477|314\n",
        "2\t12731|190|513|12731|677|183\n",
        "3\t2371|3970|1|2805|4340|3|2914|10640|3688|11|834|3\n",
        "4\t165|134|460|2887|50|2|17527|1|1540|592|2181|3|...\n",
        "</pre>\n",
        "\n",
        "__descriptionid_tokensid.txt__\n",
        "<pre>\n",
        "DescId\tDescription\n",
        "0\t1545|31|40|615|1|272|18889|1|220|511|20|5270|1...\n",
        "1\t172|46|467|170|5634|5112|40|155|1965|834|21|41...\n",
        "2\t2672|6|1159|109662|123|49933|160|848|248|207|1...\n",
        "3\t13280|35|1299|26|282|477|606|1|4016|1671|771|1...\n",
        "4\t13327|99|128|494|2928|21|26500|10|11733|10|318\n",
        "</pre>\n",
        "\n",
        "__userid_profile.txt__\n",
        "<pre>\n",
        "UId\tGender\tAge\n",
        "1\t1\t5\n",
        "2\t2\t3\n",
        "3\t1\t5\n",
        "4\t1\t3\n",
        "5\t2\t1\n",
        "</pre>"
      ],
      "metadata": {
        "id": "37Cl4x72sXul",
        "colab_type": "text"
      }
    },
    {
      "cell_type": "markdown",
      "source": [],
      "metadata": {
        "id": "8Rc7rYccsXum",
        "colab_type": "text"
      }
    },
    {
      "cell_type": "markdown",
      "source": [
        "## Mapping the Real-world to a Machine Learning problem"
      ],
      "metadata": {
        "id": "PgvThP91sXun",
        "colab_type": "text"
      }
    },
    {
      "cell_type": "markdown",
      "source": [
        "#### Performance metric \n"
      ],
      "metadata": {
        "id": "UHA4sCoxsXup",
        "colab_type": "text"
      }
    },
    {
      "cell_type": "markdown",
      "source": [
        "\n",
        "Source : https://www.kaggle.com/c/kddcup2012-track2#Evaluation \n",
        "\n",
        "ROC: https://www.appliedaicourse.com/course/applied-ai-course-online/lessons/receiver-operating-characteristic-curve-roc-curve-and-auc-1/"
      ],
      "metadata": {
        "id": "7sgaFtPesXuq",
        "colab_type": "text"
      }
    },
    {
      "cell_type": "markdown",
      "source": [
        "#### Type of Machine Learning Problem "
      ],
      "metadata": {
        "id": "KGovXjCJsXur",
        "colab_type": "text"
      }
    },
    {
      "cell_type": "markdown",
      "source": [
        "Classification Problem -> Given query and user information, we need to predict if the user would click the add."
      ],
      "metadata": {
        "id": "MSlFvRWssXus",
        "colab_type": "text"
      }
    },
    {
      "cell_type": "markdown",
      "source": [
        "#### Usefull links"
      ],
      "metadata": {
        "id": "AUfz4pbpsXut",
        "colab_type": "text"
      }
    },
    {
      "cell_type": "markdown",
      "source": [
        "Source : https://www.kaggle.com/c/kddcup2012-track2 \n",
        "\n",
        "pdf : https://jyunyu.csie.org/docs/pubs/kddcup2012paper.pdf "
      ],
      "metadata": {
        "id": "3G7HXxZKsXuu",
        "colab_type": "text"
      }
    },
    {
      "cell_type": "code",
      "source": [
        "# Importing Libraries\n",
        "\n",
        "import pandas as pd\n",
        "import numpy as np\n",
        "from datetime import datetime\n",
        "import tqdm\n",
        "import re\n",
        "import seaborn as sns\n",
        "%matplotlib inline\n",
        "import matplotlib.pyplot as plt\n",
        "\n",
        "from scipy import spatial\n",
        "from sklearn.svm import SVC\n",
        "from xgboost import XGBClassifier\n",
        "from sklearn.tree import DecisionTreeClassifier\n",
        "from sklearn.ensemble import RandomForestClassifier\n",
        "from sklearn.feature_extraction.text import CountVectorizer\n",
        "from sklearn.feature_extraction.text import TfidfVectorizer\n",
        "from sklearn.preprocessing import normalize\n",
        "from sklearn.model_selection import train_test_split\n",
        "from scipy.sparse import hstack\n",
        "from scipy.sparse import csr_matrix\n",
        "from sklearn.preprocessing import normalize\n",
        "from sklearn import metrics\n",
        "from sklearn.metrics import roc_curve, auc\n",
        "from sklearn.metrics import confusion_matrix\n",
        "from sklearn.model_selection import GridSearchCV\n",
        "from sklearn.model_selection import RandomizedSearchCV\n",
        "from sklearn.linear_model import LogisticRegression\n",
        "from sklearn.model_selection import StratifiedKFold\n",
        "from sklearn.metrics.pairwise import cosine_similarity\n",
        "from gensim.models import Word2Vec\n",
        "from prettytable import PrettyTable\n",
        "from tqdm import tqdm\n",
        "from sklearn.metrics import roc_auc_score\n",
        "\n",
        "import warnings\n",
        "warnings.filterwarnings(\"ignore\")\n",
        "\n"
      ],
      "outputs": [],
      "execution_count": 5,
      "metadata": {
        "id": "1mXUbhnOsXuw",
        "colab_type": "code",
        "colab": {},
        "execution": {
          "iopub.status.busy": "2020-04-17T09:28:10.030Z",
          "iopub.execute_input": "2020-04-17T09:28:10.047Z",
          "iopub.status.idle": "2020-04-17T09:28:10.075Z",
          "shell.execute_reply": "2020-04-17T09:28:10.114Z"
        }
      }
    },
    {
      "cell_type": "code",
      "source": [
        "# Loading training data...\n",
        "\n",
        "# Here we took  1 million datapoints due to lack of computational resources \n",
        "\n",
        "column  = ['clicks', 'impressions', 'AdURL', 'AdId', 'AdvId', 'Depth', 'Pos', 'QId', 'KeyId', 'TitleId', 'DescId', 'UId']\n",
        "train   = pd.read_csv('../Data/training.txt', sep='\\t', header=None, names=column,nrows = 1000000)\n",
        "train.head()\n",
        "\n",
        "# print(type(train['AdURL'][0])) -> <class 'numpy.uint64'>\n",
        "# print(type(train['UId'][0])) -> <class 'numpy.int64'>\n",
        "# train.shape -> (100000, 12)"
      ],
      "outputs": [
        {
          "output_type": "execute_result",
          "execution_count": 4,
          "data": {
            "text/plain": [
              "   clicks  impressions                 AdURL      AdId  AdvId  Depth  Pos  \\\n",
              "0       0            1   4298118681424644510   7686695    385      3    3   \n",
              "1       0            1   4860571499428580850  21560664  37484      2    2   \n",
              "2       0            1   9704320783495875564  21748480  36759      3    3   \n",
              "3       0            1  13677630321509009335   3517124  23778      3    1   \n",
              "4       0            1   3284760244799604489  20758093  34535      1    1   \n",
              "\n",
              "       QId  KeyId  TitleId  DescId     UId  \n",
              "0     1601   5521     7709     576  490234  \n",
              "1  2255103    317    48989   44771  490234  \n",
              "2  4532751  60721   685038   29681  490234  \n",
              "3     1601   2155     1207    1422  490234  \n",
              "4  4532751  77819   266618  222223  490234  "
            ],
            "text/html": [
              "<div>\n",
              "<style scoped>\n",
              "    .dataframe tbody tr th:only-of-type {\n",
              "        vertical-align: middle;\n",
              "    }\n",
              "\n",
              "    .dataframe tbody tr th {\n",
              "        vertical-align: top;\n",
              "    }\n",
              "\n",
              "    .dataframe thead th {\n",
              "        text-align: right;\n",
              "    }\n",
              "</style>\n",
              "<table border=\"1\" class=\"dataframe\">\n",
              "  <thead>\n",
              "    <tr style=\"text-align: right;\">\n",
              "      <th></th>\n",
              "      <th>clicks</th>\n",
              "      <th>impressions</th>\n",
              "      <th>AdURL</th>\n",
              "      <th>AdId</th>\n",
              "      <th>AdvId</th>\n",
              "      <th>Depth</th>\n",
              "      <th>Pos</th>\n",
              "      <th>QId</th>\n",
              "      <th>KeyId</th>\n",
              "      <th>TitleId</th>\n",
              "      <th>DescId</th>\n",
              "      <th>UId</th>\n",
              "    </tr>\n",
              "  </thead>\n",
              "  <tbody>\n",
              "    <tr>\n",
              "      <th>0</th>\n",
              "      <td>0</td>\n",
              "      <td>1</td>\n",
              "      <td>4298118681424644510</td>\n",
              "      <td>7686695</td>\n",
              "      <td>385</td>\n",
              "      <td>3</td>\n",
              "      <td>3</td>\n",
              "      <td>1601</td>\n",
              "      <td>5521</td>\n",
              "      <td>7709</td>\n",
              "      <td>576</td>\n",
              "      <td>490234</td>\n",
              "    </tr>\n",
              "    <tr>\n",
              "      <th>1</th>\n",
              "      <td>0</td>\n",
              "      <td>1</td>\n",
              "      <td>4860571499428580850</td>\n",
              "      <td>21560664</td>\n",
              "      <td>37484</td>\n",
              "      <td>2</td>\n",
              "      <td>2</td>\n",
              "      <td>2255103</td>\n",
              "      <td>317</td>\n",
              "      <td>48989</td>\n",
              "      <td>44771</td>\n",
              "      <td>490234</td>\n",
              "    </tr>\n",
              "    <tr>\n",
              "      <th>2</th>\n",
              "      <td>0</td>\n",
              "      <td>1</td>\n",
              "      <td>9704320783495875564</td>\n",
              "      <td>21748480</td>\n",
              "      <td>36759</td>\n",
              "      <td>3</td>\n",
              "      <td>3</td>\n",
              "      <td>4532751</td>\n",
              "      <td>60721</td>\n",
              "      <td>685038</td>\n",
              "      <td>29681</td>\n",
              "      <td>490234</td>\n",
              "    </tr>\n",
              "    <tr>\n",
              "      <th>3</th>\n",
              "      <td>0</td>\n",
              "      <td>1</td>\n",
              "      <td>13677630321509009335</td>\n",
              "      <td>3517124</td>\n",
              "      <td>23778</td>\n",
              "      <td>3</td>\n",
              "      <td>1</td>\n",
              "      <td>1601</td>\n",
              "      <td>2155</td>\n",
              "      <td>1207</td>\n",
              "      <td>1422</td>\n",
              "      <td>490234</td>\n",
              "    </tr>\n",
              "    <tr>\n",
              "      <th>4</th>\n",
              "      <td>0</td>\n",
              "      <td>1</td>\n",
              "      <td>3284760244799604489</td>\n",
              "      <td>20758093</td>\n",
              "      <td>34535</td>\n",
              "      <td>1</td>\n",
              "      <td>1</td>\n",
              "      <td>4532751</td>\n",
              "      <td>77819</td>\n",
              "      <td>266618</td>\n",
              "      <td>222223</td>\n",
              "      <td>490234</td>\n",
              "    </tr>\n",
              "  </tbody>\n",
              "</table>\n",
              "</div>"
            ]
          },
          "metadata": {}
        }
      ],
      "execution_count": 4,
      "metadata": {
        "id": "LAqRKCOosXu1",
        "colab_type": "code",
        "outputId": "55aaf460-c4c2-4a7f-c543-68828a3ac6cd",
        "colab": {},
        "execution": {
          "iopub.status.busy": "2020-04-17T02:06:35.717Z",
          "iopub.execute_input": "2020-04-17T02:06:35.734Z",
          "iopub.status.idle": "2020-04-17T02:06:36.611Z",
          "shell.execute_reply": "2020-04-17T02:06:36.669Z"
        }
      }
    },
    {
      "cell_type": "code",
      "source": [
        "train  = train.reset_index()"
      ],
      "outputs": [],
      "execution_count": null,
      "metadata": {
        "id": "bRcEzlbBsXu8",
        "colab_type": "code",
        "colab": {}
      }
    },
    {
      "cell_type": "code",
      "source": [
        "# For each training instance, we first split it into (#click) positive samples and \n",
        "\n",
        "# (#impression-#click) negative samples. Then we train a classifier to discriminate \n",
        "\n",
        "# positive samples from negative ones."
      ],
      "outputs": [],
      "execution_count": null,
      "metadata": {
        "id": "ztohvuq4sXvA",
        "colab_type": "code",
        "colab": {}
      }
    },
    {
      "cell_type": "code",
      "source": [
        "# Replicating each instance by (#impressions)\n",
        "\n",
        "start = datetime.now()\n",
        "\n",
        "\n",
        "for index, row in train.iterrows():\n",
        "    if row['impressions'] > 1:\n",
        "        train = train.append([row]*(int(row['impressions']-1)),ignore_index=True)\n",
        "        \n",
        "    if index%10000 == 0:\n",
        "        print(\"Rows completed : \", index)\n",
        "        \n",
        "end =datetime.now()\n",
        "print(\"Time taken to run this cell: \",end-start)\n",
        "\n",
        "# train.shape -> (121760, 15)"
      ],
      "outputs": [],
      "execution_count": null,
      "metadata": {
        "scrolled": true,
        "id": "5XA8AGf5sXvF",
        "colab_type": "code",
        "outputId": "c9baad40-b9d1-44d5-8d6d-abe85a7e282f",
        "colab": {}
      }
    },
    {
      "cell_type": "code",
      "source": [
        "# total no of rows: 1235092"
      ],
      "outputs": [],
      "execution_count": null,
      "metadata": {
        "id": "dJTvC0rwsXvK",
        "colab_type": "code",
        "colab": {}
      }
    },
    {
      "cell_type": "code",
      "source": [
        "print(type(train['AdURL'][0]))"
      ],
      "outputs": [
        {
          "output_type": "error",
          "ename": "NameError",
          "evalue": "name 'train' is not defined",
          "traceback": [
            "\u001b[0;31m---------------------------------------------------------------------------\u001b[0m",
            "\u001b[0;31mNameError\u001b[0m                                 Traceback (most recent call last)",
            "\u001b[0;32m<ipython-input-1-9462cae5a90e>\u001b[0m in \u001b[0;36m<module>\u001b[0;34m\u001b[0m\n\u001b[0;32m----> 1\u001b[0;31m \u001b[0mprint\u001b[0m\u001b[0;34m(\u001b[0m\u001b[0mtype\u001b[0m\u001b[0;34m(\u001b[0m\u001b[0mtrain\u001b[0m\u001b[0;34m[\u001b[0m\u001b[0;34m'AdURL'\u001b[0m\u001b[0;34m]\u001b[0m\u001b[0;34m[\u001b[0m\u001b[0;36m0\u001b[0m\u001b[0;34m]\u001b[0m\u001b[0;34m)\u001b[0m\u001b[0;34m)\u001b[0m\u001b[0;34m\u001b[0m\u001b[0;34m\u001b[0m\u001b[0m\n\u001b[0m",
            "\u001b[0;31mNameError\u001b[0m: name 'train' is not defined"
          ]
        }
      ],
      "execution_count": 1,
      "metadata": {
        "id": "DfIos3RIsXvN",
        "colab_type": "code",
        "outputId": "79ce2ee4-8b87-4fe4-c01e-4c20a375fdba",
        "colab": {},
        "execution": {
          "iopub.status.busy": "2020-04-17T01:48:39.231Z",
          "iopub.execute_input": "2020-04-17T01:48:39.249Z",
          "iopub.status.idle": "2020-04-17T01:48:39.288Z",
          "shell.execute_reply": "2020-04-17T01:48:39.339Z"
        }
      }
    },
    {
      "cell_type": "code",
      "source": [
        "# Saving to csv file\n",
        "\n",
        "train.to_csv('C:/Users/Administrator/Documents/Datasets/KDD_Cup_2012_Track 2/train_10L.csv',index=False)"
      ],
      "outputs": [],
      "execution_count": null,
      "metadata": {
        "id": "gdpGXh4psXvR",
        "colab_type": "code",
        "colab": {}
      }
    },
    {
      "cell_type": "code",
      "source": [
        "# Loading the data in original format\n",
        "\n",
        "data = pd.read_csv(\"C:/Users/Administrator/Documents/Datasets/KDD_Cup_2012_Track 2/train_10L.csv\",   \n",
        "                 dtype={'index':np.int64,'AdURL': np.uint64,'AdId':np.int64,'AdvId':np.int64,'Depth':np.int64,'Pos':np.int64,'QId':np.int64,'KeyId':np.int64,'TitleId':np.int64,'DescId':np.int64,'UId':np.int64})"
      ],
      "outputs": [],
      "execution_count": null,
      "metadata": {
        "id": "haUs3ExMsXvV",
        "colab_type": "code",
        "colab": {}
      }
    },
    {
      "cell_type": "code",
      "source": [
        "data['class_label'] = 0\n",
        "data_n = data   # storing dataframe in a temporary variable which is used in the below snippet\n",
        "data.head()"
      ],
      "outputs": [],
      "execution_count": null,
      "metadata": {
        "id": "l1afXai6sXva",
        "colab_type": "code",
        "colab": {}
      }
    },
    {
      "cell_type": "code",
      "source": [
        "# labelling the datapoints\n",
        "\n",
        "start = datetime.now()\n",
        "\n",
        "indeces = list()\n",
        "\n",
        "for i, row in data.iterrows():\n",
        "    if i<1000000:   # no.of original rows(before replication)\n",
        "        data_n = data\n",
        "        if row['clicks'] == 0 and row['impressions'] == 1:\n",
        "            data['class_label'] = 0\n",
        "        elif row['clicks'] == 1 and row['impressions'] == 1:\n",
        "            data['class_label'] = 1\n",
        "        else:\n",
        "            data_n = data_n.loc[data_n['index']==row['index']]\n",
        "            if row['clicks']>=1:\n",
        "                clicks_num = row['clicks']\n",
        "                data_n = data_n.sample(int(clicks_num))\n",
        "                ind = data_n.index  # Example: data_n.index -> Int64Index([100000, 30], dtype='int64')\n",
        "                indeces.extend(ind)\n",
        "        if i%10000 == 0:\n",
        "            print(\"Rows completed : \", i)\n",
        "\n",
        "end = datetime.now()\n",
        "print(\"Time taken to run this cell: \",end-start)"
      ],
      "outputs": [],
      "execution_count": null,
      "metadata": {
        "scrolled": true,
        "id": "HNzbu570sXvd",
        "colab_type": "code",
        "outputId": "75ace075-0153-4c44-fc3c-04e749ac9f85",
        "colab": {}
      }
    },
    {
      "cell_type": "code",
      "source": [
        "indeces = list(dict.fromkeys(indeces)) # to remove duplicate indeces if any\n",
        "indeces"
      ],
      "outputs": [],
      "execution_count": null,
      "metadata": {
        "id": "XWDUGdABsXvm",
        "colab_type": "code",
        "outputId": "15bacb1d-9631-4498-bfbc-b630a4edbc2b",
        "colab": {}
      }
    },
    {
      "cell_type": "code",
      "source": [
        "data.iloc[indeces,16] = 1\n",
        "# 16 -> \"class_label\" column number"
      ],
      "outputs": [],
      "execution_count": null,
      "metadata": {
        "id": "xSfQeVUCsXvq",
        "colab_type": "code",
        "colab": {}
      }
    },
    {
      "cell_type": "code",
      "source": [
        "#duplicateRowsDF = data[data.duplicated(['AdURL','AdId', 'AdvId','UId','QId','KeyId','TitleId','DescId','Depth','Pos','impressions'])]\n",
        "#duplicateRowsDF = data[data.duplicated(['index'])]\n",
        "\n",
        "# data_n= data_n.loc[data_n['index']==30]\n",
        "# data_n = data_n.sample(2)\n",
        "# data_n['label']=1"
      ],
      "outputs": [],
      "execution_count": null,
      "metadata": {
        "id": "gXaalInOsXvu",
        "colab_type": "code",
        "colab": {}
      }
    },
    {
      "cell_type": "code",
      "source": [
        "# Saving to csv file\n",
        "\n",
        "data.to_csv('C:/Users/Administrator/Documents/Datasets/KDD_Cup_2012_Track 2/train_10L_labeled.csv',index=False)"
      ],
      "outputs": [],
      "execution_count": null,
      "metadata": {
        "id": "1T57xjgnsXvz",
        "colab_type": "code",
        "colab": {}
      }
    },
    {
      "cell_type": "code",
      "source": [
        "# Reading from csv file\n",
        "\n",
        "data = pd.read_csv(\"C:/Users/Administrator/Documents/Datasets/KDD_Cup_2012_Track 2/train_10L_labeled.csv\")\n",
        "\n",
        "data.head()"
      ],
      "outputs": [],
      "execution_count": null,
      "metadata": {
        "id": "ERxa3U0ssXv4",
        "colab_type": "code",
        "outputId": "6cacbcbf-1387-41ac-ac7b-780d5a4a2342",
        "colab": {}
      }
    },
    {
      "cell_type": "code",
      "source": [
        "disb = data['class_label'].value_counts().sortlevel()\n",
        "\n",
        "my_colors = 'rgbkymc'\n",
        "disb.plot(kind='bar')\n",
        "plt.xlabel('Class')\n",
        "plt.ylabel('Data points per Class')\n",
        "plt.title('Distribution')\n",
        "plt.grid()\n",
        "plt.show()"
      ],
      "outputs": [],
      "execution_count": null,
      "metadata": {
        "id": "fSpJjaSSsXv8",
        "colab_type": "code",
        "outputId": "b51fd9ed-b375-4361-a6f5-c46092fbccb8",
        "colab": {}
      }
    },
    {
      "cell_type": "code",
      "source": [
        "data['class_label'].value_counts()"
      ],
      "outputs": [],
      "execution_count": null,
      "metadata": {
        "id": "bf0J7ZAKsXwA",
        "colab_type": "code",
        "outputId": "0052d23a-dc71-4353-aa7d-975ff1df3939",
        "colab": {}
      }
    },
    {
      "cell_type": "code",
      "source": [
        "# CTR(ad) = #Clicks(ad)/#Impressions(ad)\n",
        "\n",
        "# Calculating net CTR for our dataset...\n",
        "\n",
        "total_impressions = data['impressions'].sum()\n",
        "total_clicks      = data['clicks'].sum()\n",
        "net_CTR           = total_clicks * 1.0 / total_impressions\n",
        "\n",
        "print( ('Net CTR: {0}'.format(round(net_CTR*100,2))), '%')"
      ],
      "outputs": [],
      "execution_count": null,
      "metadata": {
        "id": "J-XEeHLpsXwL",
        "colab_type": "code",
        "outputId": "cdeccab0-4105-4dd2-a054-26b1992578a3",
        "colab": {}
      }
    },
    {
      "cell_type": "code",
      "source": [
        "# total no. of unique users in the dataset...\n",
        "print( 'Total no. of unique users:', len(data.groupby('UId')))\n",
        "\n",
        "# total no. of unique queries in the dataset...\n",
        "print( 'Total no. of unique queries:', len(data.groupby('QId')))\n",
        "\n",
        "# total no. of unique advertisements in the dataset...\n",
        "print( 'Total no. of unique ads:', len(data.groupby('AdId')))\n",
        "\n",
        "# total no. of unique advertisers in the dataset...\n",
        "print( 'Total no. of unique advertisers:', len(data.groupby('AdvId')))"
      ],
      "outputs": [],
      "execution_count": null,
      "metadata": {
        "id": "JW1LEI9fsXwP",
        "colab_type": "code",
        "outputId": "8a8b361c-cdde-4d70-d715-31edf6b4bf1b",
        "colab": {}
      }
    },
    {
      "cell_type": "code",
      "source": [
        "sns.kdeplot(data['CTR'])\n",
        "plt.show()"
      ],
      "outputs": [],
      "execution_count": null,
      "metadata": {
        "id": "9THXIDuesXwU",
        "colab_type": "code",
        "outputId": "b15e9c20-b3b6-4aa2-90de-4166fa24aa39",
        "colab": {}
      }
    },
    {
      "cell_type": "code",
      "source": [
        "f, (ax1, ax2) = plt.subplots(2)\n",
        "sns.boxplot(x='class_label', y='CTR', data=data,ax=ax1)\n",
        "sns.boxplot(x='class_label', y='pCTR', data=data,ax=ax2)\n",
        "\n",
        "plt.show()"
      ],
      "outputs": [],
      "execution_count": null,
      "metadata": {
        "id": "f63gup1psXwX",
        "colab_type": "code",
        "outputId": "7c424b87-41bf-45fc-8c06-a715e702cd6b",
        "colab": {}
      }
    },
    {
      "cell_type": "markdown",
      "source": [
        "The adds which have high CTR got clicked"
      ],
      "metadata": {
        "id": "5LsE7wLlsXwc",
        "colab_type": "text"
      }
    },
    {
      "cell_type": "markdown",
      "source": [
        "### Train Test Split"
      ],
      "metadata": {
        "id": "zqEKCELlsXwd",
        "colab_type": "text"
      }
    },
    {
      "cell_type": "code",
      "source": [
        "y_true = data['class_label'].values\n",
        "\n",
        "# split the data into test and train by maintaining same distribution of output varaible 'y_true' [stratify=y_true]\n",
        "x_train, x_test, y_train, y_test = train_test_split(data, y_true, stratify=y_true, test_size=0.20)"
      ],
      "outputs": [],
      "execution_count": null,
      "metadata": {
        "id": "6WDE7SrasXwe",
        "colab_type": "code",
        "colab": {}
      }
    },
    {
      "cell_type": "code",
      "source": [
        "print(x_train.shape)\n",
        "print(x_test.shape)\n",
        "print(y_train.shape)\n",
        "print(y_test.shape)"
      ],
      "outputs": [],
      "execution_count": null,
      "metadata": {
        "id": "2rIqCC8QsXwi",
        "colab_type": "code",
        "outputId": "3ee86226-51d1-4262-e884-3df1d8a9cb17",
        "colab": {}
      }
    },
    {
      "cell_type": "code",
      "source": [
        "train_class_distribution = x_train['class_label'].value_counts().sortlevel()\n",
        "test_class_distribution = x_test['class_label'].value_counts().sortlevel()\n",
        "\n",
        "my_colors = 'rgbkymc'\n",
        "train_class_distribution.plot(kind='bar')\n",
        "plt.xlabel('Class')\n",
        "plt.ylabel('Data points per Class')\n",
        "plt.title('Distribution of yi in train data')\n",
        "plt.grid()\n",
        "plt.show()\n",
        "\n",
        "# ref: argsort https://docs.scipy.org/doc/numpy/reference/generated/numpy.argsort.html\n",
        "# -(train_class_distribution.values): the minus sign will give us in decreasing order\n",
        "sorted_yi = np.argsort(-train_class_distribution.values) #Return a Numpy representation of the DataFrame\n",
        "for i in sorted_yi:\n",
        "    print('Number of data points in class', i, ':',train_class_distribution.values[i], '(', np.round((train_class_distribution.values[i]/x_train.shape[0]*100), 3), '%)')\n",
        "\n",
        "\n",
        "print('-'*80)\n",
        "\n",
        "\n",
        "my_colors = 'rgbkymc'\n",
        "test_class_distribution.plot(kind='bar')\n",
        "plt.xlabel('Class')\n",
        "plt.ylabel('Data points per Class')\n",
        "plt.title('Distribution of yi in test data')\n",
        "plt.grid()\n",
        "plt.show()\n",
        "\n",
        "# ref: argsort https://docs.scipy.org/doc/numpy/reference/generated/numpy.argsort.html\n",
        "# -(train_class_distribution.values): the minus sign will give us in decreasing order\n",
        "sorted_yi = np.argsort(-test_class_distribution.values)\n",
        "for i in sorted_yi:\n",
        "    print('Number of data points in class', i, ':',test_class_distribution.values[i], '(', np.round((test_class_distribution.values[i]/x_test.shape[0]*100), 3), '%)')\n"
      ],
      "outputs": [],
      "execution_count": null,
      "metadata": {
        "id": "Kzn2V-kesXwo",
        "colab_type": "code",
        "outputId": "028bda1a-deef-486a-c3e4-54265b95df5b",
        "colab": {}
      }
    },
    {
      "cell_type": "code",
      "source": [
        "#how to deal with highly imbalanced data?\n",
        "#https://www.kdnuggets.com/2017/06/7-techniques-handle-imbalanced-data.html"
      ],
      "outputs": [],
      "execution_count": null,
      "metadata": {
        "id": "ib63oKbesXw8",
        "colab_type": "code",
        "colab": {}
      }
    },
    {
      "cell_type": "code",
      "source": [
        "# we observe that some categories come with only a few or even no instances.\n",
        "\n",
        "# Computing the click-through rate directly for those categories would result in inaccurate estimations \n",
        "\n",
        "# because of the insuﬃcient statistics. Thus, we apply smoothing methods during click-through rate estima-tion. \n",
        "\n",
        "# We mainly use a simple additive smoothing  pseudo-CTR = click + α × β #impression + β\n",
        "\n",
        "# and we name it pseudo click-through rate (pseudo-CTR). In our experiments, we set α as 0.05 and β as 75."
      ],
      "outputs": [],
      "execution_count": null,
      "metadata": {
        "id": "Mn5Y5zb4sXxB",
        "colab_type": "code",
        "colab": {}
      }
    },
    {
      "cell_type": "code",
      "source": [
        "\n",
        "# Add target variable CTR as #clicks / #impression\n",
        "\n",
        "x_train['CTR'] = x_train['clicks'] * 1.0 / x_train['impressions']\n",
        "\n",
        "#adding relative position as a new feature\n",
        "x_train['RPosition'] = x_train['Depth'] - x_train['Pos'] * 1.0 / x_train['Depth']\n",
        "\n",
        "# Add predicted CTR as #clicks + ab / #impressions + b\n",
        "x_train['pCTR'] = (1.0 * x_train['clicks'] + 0.05 * 75) / (x_train['impressions'] + 75)\n",
        "\n",
        "x_train.head()"
      ],
      "outputs": [],
      "execution_count": null,
      "metadata": {
        "id": "FhwW9ztmsXxF",
        "colab_type": "code",
        "outputId": "3b581f77-e925-4a5c-d805-06ebd29faa57",
        "colab": {}
      }
    },
    {
      "cell_type": "code",
      "source": [
        "\n",
        "# Add target variable CTR as #clicks / #impression\n",
        "\n",
        "x_test['CTR'] = x_test['clicks'] * 1.0 / x_test['impressions']\n",
        "\n",
        "#adding relative position as a new feature\n",
        "x_test['RPosition'] = x_test['Depth'] - x_test['Pos'] * 1.0 / x_test['Depth']\n",
        "\n",
        "# Add predicted CTR as #clicks + ab / #impressions + b\n",
        "x_test['pCTR'] = (1.0 * x_test['clicks'] + 0.05 * 75) / (x_test['impressions'] + 75)\n",
        "\n",
        "x_test.head()"
      ],
      "outputs": [],
      "execution_count": null,
      "metadata": {
        "id": "9V4O60dRsXxJ",
        "colab_type": "code",
        "outputId": "ad986ce3-f1bd-4116-98c0-e733ced83e17",
        "colab": {}
      }
    },
    {
      "cell_type": "code",
      "source": [
        "print(x_train.shape)\n",
        "print(x_test.shape)"
      ],
      "outputs": [],
      "execution_count": null,
      "metadata": {
        "id": "5aUv9pTLsXxN",
        "colab_type": "code",
        "outputId": "ccca2eb0-9908-48db-d66a-782a42abf015",
        "colab": {}
      }
    },
    {
      "cell_type": "code",
      "source": [
        "#  Now, we will load additional files provided in the problem, extract useful info. from them & merge"
      ],
      "outputs": [],
      "execution_count": null,
      "metadata": {
        "id": "13Ygx0eRsXxY",
        "colab_type": "code",
        "colab": {}
      }
    },
    {
      "cell_type": "code",
      "source": [
        "def count(sentence):\n",
        "    '''\n",
        "        (str) -> (int)\n",
        "        Returns no. of words in a sentence.\n",
        "    '''\n",
        "    return len(str(sentence).split('|'))\n",
        "\n",
        "\n",
        "\n",
        "\n",
        "# Load User Data..\n",
        "\n",
        "user_col  = ['UId', 'Gender', 'Age']\n",
        "user      = pd.read_csv('C:/Users/Administrator/Documents/Datasets/KDD_Cup_2012_Track 2/userid_profile.txt', sep='\\t', header=None, names=user_col)\n",
        "\n",
        "# Load Query Data..\n",
        "\n",
        "query_col = ['QId', 'Query']\n",
        "query     = pd.read_csv('C:/Users/Administrator/Documents/Datasets/KDD_Cup_2012_Track 2/queryid_tokensid.txt', sep='\\t', header=None, names=query_col)\n",
        "\n",
        "# Load Ad Description Data..\n",
        "\n",
        "desc_col  = ['DescId', 'Description']\n",
        "desc      = pd.read_csv('C:/Users/Administrator/Documents/Datasets/KDD_Cup_2012_Track 2/descriptionid_tokensid.txt', sep='\\t', header=None, names=desc_col)\n",
        "\n",
        "# Load Ad Title Data..\n",
        "\n",
        "title_col = ['TitleId', 'Title']\n",
        "title     = pd.read_csv('C:/Users/Administrator/Documents/Datasets/KDD_Cup_2012_Track 2/titleid_tokensid.txt', sep='\\t', header=None, names=title_col)\n",
        "\n",
        "# Load Keyword Data..\n",
        "\n",
        "key_col  = ['KeyId', 'Keyword']\n",
        "keyword  = pd.read_csv('C:/Users/Administrator/Documents/Datasets/KDD_Cup_2012_Track 2/purchasedkeywordid_tokensid.txt', sep='\\t', header=None, names=key_col)\n",
        "\n",
        "# Count no. of tokens in a query issued by a user.\n",
        "\n",
        "query['QCount'] = query['Query'].apply(count)\n",
        "del query['Query']\n",
        "\n",
        "# Count no. of tokens in title of an advertisement.\n",
        "\n",
        "title['TCount'] = title['Title'].apply(count)\n",
        "del title['Title']\n",
        "\n",
        "# Count no. of tokens in description of an advertisement.\n",
        "\n",
        "desc['DCount'] = desc['Description'].apply(count)\n",
        "del desc['Description']\n",
        "\n",
        "# Count no. of tokens in purchased keyword.\n",
        "\n",
        "keyword['KCount'] = keyword['Keyword'].apply(count)\n",
        "del keyword['Keyword']\n"
      ],
      "outputs": [],
      "execution_count": null,
      "metadata": {
        "id": "m2Xz8Dy8sXxe",
        "colab_type": "code",
        "colab": {}
      }
    },
    {
      "cell_type": "code",
      "source": [
        "# Merging data with user, query, title, keyword & desc on appropriate keys to get data..\n",
        "\n",
        "x_train  = pd.merge(x_train, user,  on='UId')\n",
        "x_train  = pd.merge(x_train, query, on='QId')\n",
        "x_train  = pd.merge(x_train, title, on='TitleId')\n",
        "x_train  = pd.merge(x_train, desc,  on='DescId')\n",
        "x_train  = pd.merge(x_train, keyword, on='KeyId')\n",
        "\n",
        "x_train.head()"
      ],
      "outputs": [],
      "execution_count": null,
      "metadata": {
        "id": "ngbpaPnusXxi",
        "colab_type": "code",
        "outputId": "8e11aa27-54dd-4d7d-e8f5-9b595c4ad991",
        "colab": {}
      }
    },
    {
      "cell_type": "code",
      "source": [
        "# Merging data with user, query, title, keyword & desc on appropriate keys to get data..\n",
        "\n",
        "x_test  = pd.merge(x_test, user,  on='UId')\n",
        "x_test  = pd.merge(x_test, query, on='QId')\n",
        "x_test  = pd.merge(x_test, title, on='TitleId')\n",
        "x_test  = pd.merge(x_test, desc,  on='DescId')\n",
        "x_test  = pd.merge(x_test, keyword, on='KeyId')\n",
        "\n",
        "x_test.head()"
      ],
      "outputs": [],
      "execution_count": null,
      "metadata": {
        "id": "NkNrPUAksXxm",
        "colab_type": "code",
        "outputId": "d5dc439b-48c8-46c7-e1ac-fc6d26e72324",
        "colab": {}
      }
    },
    {
      "cell_type": "code",
      "source": [
        "x_train.isnull().sum()"
      ],
      "outputs": [],
      "execution_count": null,
      "metadata": {
        "scrolled": true,
        "id": "e9OHmy2xsXxr",
        "colab_type": "code",
        "outputId": "532b57d4-d953-4769-a185-32f3feae53ee",
        "colab": {}
      }
    },
    {
      "cell_type": "code",
      "source": [
        "# checking the null values in every column of x_test\n",
        "x_test.isnull().sum()"
      ],
      "outputs": [],
      "execution_count": null,
      "metadata": {
        "scrolled": true,
        "id": "62ChDbq1sXxx",
        "colab_type": "code",
        "outputId": "d6db43f2-31c1-4ed0-e75f-01104bb827e0",
        "colab": {}
      }
    },
    {
      "cell_type": "markdown",
      "source": [
        "### Feature Engineering"
      ],
      "metadata": {
        "id": "5De11EN2sXx1",
        "colab_type": "text"
      }
    },
    {
      "cell_type": "code",
      "source": [
        "def features(data_1,temp,key,op):\n",
        "    temp_data = temp.groupby(key).agg([op])\n",
        "    temp_df = pd.DataFrame()\n",
        "    temp_df[key] = temp_data.index\n",
        "    temp_df['values'] = temp_data.get_values()    \n",
        "    temp = pd.merge(temp,temp_df, on=key, how='left')\n",
        "    return temp['values']"
      ],
      "outputs": [],
      "execution_count": null,
      "metadata": {
        "id": "DFEikG5SsXx3",
        "colab_type": "code",
        "colab": {}
      }
    },
    {
      "cell_type": "code",
      "source": [
        "# For each AdID, we compute the average click-through rate for all instances with the\n",
        "# same AdID, and use this value as a single feature. This feature represents the estimated click-through rate given its\n",
        "# category. We compute this kind of feature for AdID, AdvertiserID, depth, position,QID,KeyID,TitleID,\n",
        "# DescID,UID,RPosition->(depth−position)/depth.\n",
        "\n",
        "start = datetime.now()\n",
        "\n",
        "x_train['mAdURL']     = features(x_train,x_train[['AdURL', 'CTR']],'AdURL','mean')\n",
        "x_train['mAdId']      = features(x_train,x_train[['AdId', 'CTR']],'AdId','mean')\n",
        "x_train['mAdvId']     = features(x_train,x_train[['AdvId', 'CTR']],'AdvId','mean')\n",
        "x_train['mDepth']     = features(x_train,x_train[['Depth', 'CTR']],'Depth','mean')\n",
        "x_train['mPos']       = features(x_train,x_train[['Pos', 'CTR']],'Pos','mean')\n",
        "x_train['mQId']       = features(x_train,x_train[['QId', 'CTR']],'QId','mean')\n",
        "x_train['mKeyId']     = features(x_train,x_train[['KeyId', 'CTR']],'KeyId','mean')\n",
        "x_train['mTitleId']   = features(x_train,x_train[['TitleId', 'CTR']],'TitleId','mean')\n",
        "x_train['mDescId']    = features(x_train,x_train[['DescId', 'CTR']],'DescId','mean')\n",
        "x_train['mUId']       = features(x_train,x_train[['UId', 'CTR']],'UId','mean')\n",
        "x_train['mRPosition'] = features(x_train,x_train[['RPosition', 'CTR']],'RPosition','mean')\n",
        "x_train['mGender']    = features(x_train,x_train[['Gender', 'CTR']],'Gender','mean')\n",
        "x_train['mAge']       = features(x_train,x_train[['Age', 'CTR']],'Age','mean')\n",
        "\n",
        "x_train['pAdURL']     = features(x_train,x_train[['AdURL', 'pCTR']],'AdURL','mean')\n",
        "x_train['pAdId']      = features(x_train,x_train[['AdId', 'pCTR']],'AdId','mean')\n",
        "x_train['pAdvId']     = features(x_train,x_train[['AdvId', 'pCTR']],'AdvId','mean')\n",
        "x_train['pDepth']     = features(x_train,x_train[['Depth', 'pCTR']],'Depth','mean')\n",
        "x_train['pPos']       = features(x_train,x_train[['Pos', 'pCTR']],'Pos','mean')\n",
        "x_train['pQId']       = features(x_train,x_train[['QId', 'pCTR']],'QId','mean')\n",
        "x_train['pKeyId']     = features(x_train,x_train[['KeyId', 'pCTR']],'KeyId','mean')\n",
        "x_train['pTitleId']   = features(x_train,x_train[['TitleId', 'pCTR']],'TitleId','mean')\n",
        "x_train['pDescId']    = features(x_train,x_train[['DescId', 'pCTR']],'DescId','mean')\n",
        "x_train['pUId']       = features(x_train,x_train[['UId', 'pCTR']],'UId','mean')\n",
        "x_train['pRPosition'] = features(x_train,x_train[['RPosition', 'pCTR']],'RPosition','mean')\n",
        "x_train['pGender']    = features(x_train,x_train[['Gender', 'pCTR']],'Gender','mean')\n",
        "x_train['pAge']       = features(x_train,x_train[['Age', 'pCTR']],'Age','mean')\n",
        "\n",
        "# Test Features\n",
        "\n",
        "x_test['mAdURL']     = features(x_test,x_train[['AdURL', 'CTR']],'AdURL','mean')\n",
        "x_test['mAdId']      = features(x_test,x_train[['AdId', 'CTR']],'AdId','mean')\n",
        "x_test['mAdvId']     = features(x_test,x_train[['AdvId', 'CTR']],'AdvId','mean')\n",
        "x_test['mDepth']     = features(x_test,x_train[['Depth', 'CTR']],'Depth','mean')\n",
        "x_test['mPos']       = features(x_test,x_train[['Pos', 'CTR']],'Pos','mean')\n",
        "x_test['mQId']       = features(x_test,x_train[['QId', 'CTR']],'QId','mean')\n",
        "x_test['mKeyId']     = features(x_test,x_train[['KeyId', 'CTR']],'KeyId','mean')\n",
        "x_test['mTitleId']   = features(x_test,x_train[['TitleId', 'CTR']],'TitleId','mean')\n",
        "x_test['mDescId']    = features(x_test,x_train[['DescId', 'CTR']],'DescId','mean')\n",
        "x_test['mUId']       = features(x_test,x_train[['UId', 'CTR']],'UId','mean')\n",
        "x_test['mRPosition'] = features(x_test,x_train[['RPosition', 'CTR']],'RPosition','mean')\n",
        "x_test['mGender']    = features(x_test,x_train[['Gender', 'CTR']],'Gender','mean')\n",
        "x_test['mAge']       = features(x_test,x_train[['Age', 'CTR']],'Age','mean')\n",
        "\n",
        "x_test['pAdURL']     = features(x_test,x_train[['AdURL', 'pCTR']],'AdURL','mean')\n",
        "x_test['pAdId']      = features(x_test,x_train[['AdId', 'pCTR']],'AdId','mean')\n",
        "x_test['pAdvId']     = features(x_test,x_train[['AdvId', 'pCTR']],'AdvId','mean')\n",
        "x_test['pDepth']     = features(x_test,x_train[['Depth', 'pCTR']],'Depth','mean')\n",
        "x_test['pPos']       = features(x_test,x_train[['Pos', 'pCTR']],'Pos','mean')\n",
        "x_test['pQId']       = features(x_test,x_train[['QId', 'pCTR']],'QId','mean')\n",
        "x_test['pKeyId']     = features(x_test,x_train[['KeyId', 'pCTR']],'KeyId','mean')\n",
        "x_test['pTitleId']   = features(x_test,x_train[['TitleId', 'pCTR']],'TitleId','mean')\n",
        "x_test['pDescId']    = features(x_test,x_train[['DescId', 'pCTR']],'DescId','mean')\n",
        "x_test['pUId']       = features(x_test,x_train[['UId', 'pCTR']],'UId','mean')\n",
        "x_test['pRPosition'] = features(x_test,x_train[['RPosition', 'pCTR']],'RPosition','mean')\n",
        "x_test['pGender']    = features(x_test,x_train[['Gender', 'pCTR']],'Gender','mean')\n",
        "x_test['pAge']       = features(x_test,x_train[['Age', 'pCTR']],'Age','mean')\n",
        "\n",
        "end = datetime.now()\n",
        "print(\"Time taken to run this cell: \",end-start)"
      ],
      "outputs": [],
      "execution_count": null,
      "metadata": {
        "id": "sf94Xd7OsXx8",
        "colab_type": "code",
        "outputId": "c8bf8fc7-61c0-45e3-f7d9-b0ea92031954",
        "colab": {}
      }
    },
    {
      "cell_type": "code",
      "source": [
        "# only the above features gave the better results when I modelled. So saving these features for future purpose\n",
        "\n",
        "x_train.to_csv('C:/Users/Administrator/Documents/Datasets/KDD_Cup_2012_Track 2/train_10L_basic_feat.csv',index=False)\n",
        "x_test.to_csv('C:/Users/Administrator/Documents/Datasets/KDD_Cup_2012_Track 2/test_10L_basic_feat.csv',index=False)"
      ],
      "outputs": [],
      "execution_count": null,
      "metadata": {
        "id": "Lm9HceKRsXyA",
        "colab_type": "code",
        "colab": {}
      }
    },
    {
      "cell_type": "code",
      "source": [
        "# Reading from CSV file\n",
        "\n",
        "x_train = pd.read_csv(\"C:/Users/Administrator/Documents/Datasets/KDD_Cup_2012_Track 2/train_10L_basic_feat.csv\")\n",
        "x_test = pd.read_csv(\"C:/Users/Administrator/Documents/Datasets/KDD_Cup_2012_Track 2/test_10L_basic_feat.csv\")\n",
        "\n",
        "#total 49 features"
      ],
      "outputs": [],
      "execution_count": null,
      "metadata": {
        "id": "RWYFSpA4sXyE",
        "colab_type": "code",
        "colab": {}
      }
    },
    {
      "cell_type": "code",
      "source": [
        "x_train.head()"
      ],
      "outputs": [],
      "execution_count": null,
      "metadata": {
        "id": "q4XUDebtsXyI",
        "colab_type": "code",
        "outputId": "237ce6e3-c4a4-4856-aeab-275d7bf9d41b",
        "colab": {}
      }
    },
    {
      "cell_type": "code",
      "source": [
        "x_test.head()"
      ],
      "outputs": [],
      "execution_count": null,
      "metadata": {
        "id": "qbIWLTKksXyM",
        "colab_type": "code",
        "outputId": "35464887-9ee3-4caa-fa6b-986723ef23ab",
        "colab": {}
      }
    },
    {
      "cell_type": "code",
      "source": [
        "temp_data_1 = x_train.loc[x_train['class_label']==1]\n",
        "\n",
        "print( 'Maximum Length of a Desc: ', temp_data_1['DCount'].max())\n",
        "print( 'Average Length of a Desc: ', temp_data_1['DCount'].mean())\n",
        "print( 'Average Length of a Desc: ', temp_data_1['DCount'].min())"
      ],
      "outputs": [],
      "execution_count": null,
      "metadata": {
        "id": "QaMLBlpWsXyP",
        "colab_type": "code",
        "outputId": "24ebf7f9-7892-42c3-8f01-1a0f2cb70498",
        "colab": {}
      }
    },
    {
      "cell_type": "code",
      "source": [
        "sns.kdeplot(temp_data_1['DCount'])"
      ],
      "outputs": [],
      "execution_count": null,
      "metadata": {
        "id": "yhCCFdvbsXyU",
        "colab_type": "code",
        "outputId": "2a17c130-21cf-4a83-8f24-efa62a1810a7",
        "colab": {}
      }
    },
    {
      "cell_type": "code",
      "source": [
        "sns.boxplot(x='class_label', y='DCount', data=x_train)\n",
        "plt.show()"
      ],
      "outputs": [],
      "execution_count": null,
      "metadata": {
        "id": "a3aHtAHSsXyY",
        "colab_type": "code",
        "outputId": "a21df76e-0ae2-42ab-e87b-269280c3df7d",
        "colab": {}
      }
    },
    {
      "cell_type": "code",
      "source": [
        "# This is the same plot as above just a little more readable ...\n",
        "\n",
        "plt.figure(figsize=(10,4))\n",
        "\n",
        "plt.subplot(1, 2, 1)\n",
        "plt.hist(temp_data_1['DCount'],\n",
        "         color='green',\n",
        "         bins=65,\n",
        "         normed=False)\n",
        "plt.xlabel('No. of words in a Desc')\n",
        "\n",
        "plt.subplot(1, 2, 2)\n",
        "plt.boxplot(temp_data_1['DCount'],\n",
        "            labels=['No. of words in a Desc'],\n",
        "            )\n",
        "\n",
        "plt.tight_layout()"
      ],
      "outputs": [],
      "execution_count": null,
      "metadata": {
        "id": "sG6ayeyDsXyb",
        "colab_type": "code",
        "outputId": "a48201a1-dd47-49a6-9d41-07fbbec3f18b",
        "colab": {}
      }
    },
    {
      "cell_type": "code",
      "source": [
        "print( 'Maximum Length of a Title: ', temp_data_1['TCount'].max())\n",
        "print( 'Average Length of a Title: ', temp_data_1['TCount'].mean())\n",
        "print( 'Average Length of a Title: ', temp_data_1['TCount'].min())\n",
        "\n",
        "sns.kdeplot(temp_data_1['TCount'])"
      ],
      "outputs": [],
      "execution_count": null,
      "metadata": {
        "id": "5jEJDdN-sXym",
        "colab_type": "code",
        "outputId": "009f8256-f432-4f04-8cd7-c6aef51dc219",
        "colab": {}
      }
    },
    {
      "cell_type": "code",
      "source": [
        "sns.boxplot(x='class_label', y='TCount', data=x_train)\n",
        "plt.show()"
      ],
      "outputs": [],
      "execution_count": null,
      "metadata": {
        "id": "3YdlYaTosXyp",
        "colab_type": "code",
        "outputId": "19825d4d-8035-4546-caa1-495d776b8b65",
        "colab": {}
      }
    },
    {
      "cell_type": "code",
      "source": [
        "# This is the same plot as above just a little more readable ...\n",
        "\n",
        "plt.figure(figsize=(10,4))\n",
        "\n",
        "plt.subplot(1, 2, 1)\n",
        "plt.hist(temp_data_1['TCount'],\n",
        "         color='green',\n",
        "         bins=38,\n",
        "         normed=False)\n",
        "plt.xlabel('No. of words in a Title')\n",
        "\n",
        "plt.subplot(1, 2, 2)\n",
        "plt.boxplot(temp_data_1['TCount'],\n",
        "            labels=['No. of words in a Title'],\n",
        "            )\n",
        "\n",
        "plt.tight_layout()"
      ],
      "outputs": [],
      "execution_count": null,
      "metadata": {
        "id": "gFo-plNssXyt",
        "colab_type": "code",
        "outputId": "b7934cc1-91a1-48ef-a5dc-5670aa7c63db",
        "colab": {}
      }
    },
    {
      "cell_type": "code",
      "source": [
        "print( 'Maximum Length of a Keyword: ', temp_data_1['KCount'].max())\n",
        "print( 'Average Length of a Keyword: ', temp_data_1['KCount'].mean())\n",
        "print( 'Average Length of a Keyword: ', temp_data_1['KCount'].min())\n",
        "\n",
        "sns.kdeplot(temp_data_1['KCount'])"
      ],
      "outputs": [],
      "execution_count": null,
      "metadata": {
        "id": "szeTAEN1sXyy",
        "colab_type": "code",
        "outputId": "a2f80d04-eb3b-4ca8-d8fe-1abf78b0e0dc",
        "colab": {}
      }
    },
    {
      "cell_type": "code",
      "source": [
        "sns.boxplot(x='class_label', y='KCount', data=x_train)\n",
        "plt.show()"
      ],
      "outputs": [],
      "execution_count": null,
      "metadata": {
        "id": "2Ldxh7nZsXy2",
        "colab_type": "code",
        "outputId": "cebc7b65-8a26-4048-d1b1-918389cde589",
        "colab": {}
      }
    },
    {
      "cell_type": "code",
      "source": [
        "# This is the same plot as above just a little more readable ...\n",
        "\n",
        "plt.figure(figsize=(10,4))\n",
        "\n",
        "plt.subplot(1, 2, 1)\n",
        "plt.hist(temp_data_1['KCount'],\n",
        "         color='green',\n",
        "         bins=20,\n",
        "         normed=False)\n",
        "plt.xlabel('No. of words in a Keyword')\n",
        "\n",
        "plt.subplot(1, 2, 2)\n",
        "plt.boxplot(temp_data_1['KCount'],\n",
        "            labels=['No. of words in a Keyword'],\n",
        "            )\n",
        "\n",
        "plt.tight_layout()"
      ],
      "outputs": [],
      "execution_count": null,
      "metadata": {
        "id": "eJeHvPxEsXy5",
        "colab_type": "code",
        "outputId": "a09bcda7-9f39-423e-efdc-b76fde36394b",
        "colab": {}
      }
    },
    {
      "cell_type": "code",
      "source": [
        "print( 'Maximum Length of a Query: ', temp_data_1['QCount'].max())\n",
        "print( 'Average Length of a Query: ', temp_data_1['QCount'].mean())\n",
        "print( 'Minimum Length of a Query: ', temp_data_1['QCount'].min())\n",
        "\n",
        "sns.kdeplot(temp_data_1['QCount'])"
      ],
      "outputs": [],
      "execution_count": null,
      "metadata": {
        "id": "D1BypwI9sXy9",
        "colab_type": "code",
        "outputId": "3613224e-3050-4748-cb1f-0ccb28fe82c6",
        "colab": {}
      }
    },
    {
      "cell_type": "code",
      "source": [
        "sns.boxplot(x='class_label', y='QCount', data=x_train)\n",
        "plt.show()"
      ],
      "outputs": [],
      "execution_count": null,
      "metadata": {
        "id": "wrmtx55BsXzC",
        "colab_type": "code",
        "outputId": "a4e4dcec-2ed4-405a-c0f1-ebbe944100c3",
        "colab": {}
      }
    },
    {
      "cell_type": "code",
      "source": [
        "# This is the same plot as above just a little more readable ...\n",
        "\n",
        "plt.figure(figsize=(10,4))\n",
        "\n",
        "plt.subplot(1, 2, 1)\n",
        "plt.hist(temp_data_1['QCount'],\n",
        "         color='green',\n",
        "         bins=35,\n",
        "         normed=False)\n",
        "plt.xlabel('No. of words in a Query')\n",
        "\n",
        "plt.subplot(1, 2, 2)\n",
        "plt.boxplot(temp_data_1['QCount'],\n",
        "            labels=['No. of words in a Query'],\n",
        "            )\n",
        "\n",
        "plt.tight_layout()"
      ],
      "outputs": [],
      "execution_count": null,
      "metadata": {
        "id": "DRoEcVQXsXzG",
        "colab_type": "code",
        "outputId": "a06930b5-cc4c-4585-9427-8c4b48b5e696",
        "colab": {}
      }
    },
    {
      "cell_type": "code",
      "source": [
        "print( 'Maximum Depth: ', temp_data_1['Depth'].max())\n",
        "print( 'Minimum Depth: ', temp_data_1['Depth'].min())\n",
        "\n",
        "sns.kdeplot(temp_data_1['Depth'])"
      ],
      "outputs": [],
      "execution_count": null,
      "metadata": {
        "id": "gVLFNCtisXzK",
        "colab_type": "code",
        "outputId": "9000ee90-db21-43f5-8294-28fabcc899ca",
        "colab": {}
      }
    },
    {
      "cell_type": "code",
      "source": [
        "print( 'Maximum impressions: ', temp_data_1['impressions'].max())\n",
        "print( 'Average impressions: ', temp_data_1['impressions'].mean())\n",
        "print( 'Median impressions: ', temp_data_1['impressions'].median())\n",
        "print( 'Minimum impressions: ', temp_data_1['impressions'].min())\n",
        "\n",
        "sns.kdeplot(temp_data_1['impressions'])"
      ],
      "outputs": [],
      "execution_count": null,
      "metadata": {
        "id": "--Pi3jWqsXzO",
        "colab_type": "code",
        "outputId": "f83f57af-1d11-41de-938c-66a9e51970c8",
        "colab": {}
      }
    },
    {
      "cell_type": "code",
      "source": [
        "sns.boxplot(x='class_label', y='impressions', data=x_train)\n",
        "plt.show()"
      ],
      "outputs": [],
      "execution_count": null,
      "metadata": {
        "id": "RJMtSxTSsXzS",
        "colab_type": "code",
        "outputId": "8015c629-64ca-4058-8cc7-6f451e23bddf",
        "colab": {}
      }
    },
    {
      "cell_type": "markdown",
      "source": [
        "### Tried some more feature engineering"
      ],
      "metadata": {
        "id": "064xViVmsXzW",
        "colab_type": "text"
      }
    },
    {
      "cell_type": "code",
      "source": [
        "# Here we compute total #impressions for each AdId, AdvId, Depth, Pos, Rposition\n",
        "\n",
        "start = datetime.now()\n",
        "\n",
        "x_train['num_Imp_Ad']         = features(x_train,x_train[['AdId', 'impressions']],'AdId','sum')\n",
        "x_train['num_Imp_Advertiser'] = features(x_train,x_train[['AdvId', 'impressions']],'AdvId','sum')\n",
        "x_train['num_Imp_Depth']      = features(x_train,x_train[['Depth', 'impressions']],'Depth','sum')\n",
        "x_train['num_Imp_Position']   = features(x_train,x_train[['Pos', 'impressions']],'Pos','sum')\n",
        "x_train['num_Imp_Rposition '] = features(x_train,x_train[['RPosition', 'impressions']],'RPosition','sum')\n",
        "x_train['num_Imp_UId']      = features(x_train,x_train[['UId', 'impressions']],'UId','sum')\n",
        "\n",
        "x_test['num_Imp_Ad']         = features(x_test,x_train[['AdId', 'impressions']],'AdId','sum')\n",
        "x_test['num_Imp_Advertiser'] = features(x_test,x_train[['AdvId', 'impressions']],'AdvId','sum')\n",
        "x_test['num_Imp_Depth']      = features(x_test,x_train[['Depth', 'impressions']],'Depth','sum')\n",
        "x_test['num_Imp_Position']   = features(x_test,x_train[['Pos', 'impressions']],'Pos','sum')\n",
        "x_test['num_Imp_Rposition '] = features(x_test,x_train[['RPosition', 'impressions']],'RPosition','sum')\n",
        "x_test['num_Imp_UId']      = features(x_test,x_train[['UId', 'impressions']],'UId','sum')\n",
        "\n",
        "end = datetime.now()\n",
        "print(\"Time taken to run this cell: \",end-start)"
      ],
      "outputs": [],
      "execution_count": null,
      "metadata": {
        "id": "jJRBEWavsXzX",
        "colab_type": "code",
        "outputId": "9df819cc-12c2-4629-e1bf-eb40007313b0",
        "colab": {}
      }
    },
    {
      "cell_type": "code",
      "source": [
        "# Here we compute total #impressions for each AdId, AdvId, Depth, Pos, Rposition\n",
        "\n",
        "start = datetime.now()\n",
        "\n",
        "x_train['num_Imp_count_Ad']         = features(x_train,x_train[['AdId', 'impressions']],'AdId','count')\n",
        "x_train['num_Imp_count_Advertiser'] = features(x_train,x_train[['AdvId', 'impressions']],'AdvId','count')\n",
        "#x_train['num_Imp_count_Depth']      = features(x_train,x_train[['Depth', 'impressions']],'Depth','count')\n",
        "#x_train['num_Imp_count_Position']   = features(x_train,x_train[['Pos', 'impressions']],'Pos','count')\n",
        "#x_train['num_Imp_count_Rposition '] = features(x_train,x_train[['RPosition', 'impressions']],'RPosition','count')\n",
        "x_train['num_Imp_count_QId']        = features(x_train,x_train[['QId', 'impressions']],'QId','count')\n",
        "x_train['num_Imp_count_KeyId']      = features(x_train,x_train[['KeyId', 'impressions']],'KeyId','count')\n",
        "x_train['num_Imp_count_TitleId ']   = features(x_train,x_train[['TitleId', 'impressions']],'TitleId','count')\n",
        "x_train['num_Imp_count_DescId']     = features(x_train,x_train[['DescId', 'impressions']],'DescId','count')\n",
        "x_train['num_Imp_count_UId']        = features(x_train,x_train[['UId', 'impressions']],'UId','count')\n",
        "\n",
        "\n",
        "x_test['num_Imp_count_Ad']         = features(x_test,x_train[['AdId', 'impressions']],'AdId','count')\n",
        "x_test['num_Imp_count_Advertiser'] = features(x_test,x_train[['AdvId', 'impressions']],'AdvId','count')\n",
        "#x_test['num_Imp_count_Depth']      = features(x_test,x_train[['Depth', 'impressions']],'Depth','count')\n",
        "#x_test['num_Imp_count_Position']   = features(x_test,x_train[['Pos', 'impressions']],'Pos','count')\n",
        "#x_test['num_Imp_count_Rposition '] = features(x_test,x_train[['RPosition', 'impressions']],'RPosition','count')\n",
        "x_test['num_Imp_count_QId']        = features(x_test,x_train[['QId', 'impressions']],'QId','count')\n",
        "x_test['num_Imp_count_KeyId']      = features(x_test,x_train[['KeyId', 'impressions']],'KeyId','count')\n",
        "x_test['num_Imp_count_TitleId ']   = features(x_test,x_train[['TitleId', 'impressions']],'TitleId','count')\n",
        "x_test['num_Imp_count_DescId']     = features(x_test,x_train[['DescId', 'impressions']],'DescId','count')\n",
        "x_test['num_Imp_count_UId']        = features(x_test,x_train[['UId', 'impressions']],'UId','count')\n",
        "\n",
        "end = datetime.now()\n",
        "print(\"Time taken to run this cell: \",end-start)"
      ],
      "outputs": [],
      "execution_count": null,
      "metadata": {
        "id": "A_7qGji1sXzd",
        "colab_type": "code",
        "outputId": "ceb69586-24cc-412c-b7b0-7847b2dfde9f",
        "colab": {}
      }
    },
    {
      "cell_type": "code",
      "source": [
        "# Here we compute total #clicks for each AdId, AdvId, QId, KeyId, TitleId, DescId, UId, Gender\n",
        "\n",
        "start = datetime.now()\n",
        "\n",
        "x_train['num_click_Ad']         = features(x_train,x_train[['AdId', 'clicks']],'AdId','sum')\n",
        "x_train['num_click_Advertiser'] = features(x_train,x_train[['AdvId', 'clicks']],'AdvId','sum')\n",
        "x_train['num_click_QId']        = features(x_train,x_train[['QId', 'clicks']],'QId','sum')\n",
        "x_train['num_click_KeyId']      = features(x_train,x_train[['KeyId', 'clicks']],'KeyId','sum')\n",
        "x_train['num_click_TitleId ']   = features(x_train,x_train[['TitleId', 'clicks']],'TitleId','sum')\n",
        "x_train['num_click_DescId']     = features(x_train,x_train[['DescId', 'clicks']],'DescId','sum')\n",
        "x_train['num_click_UId']        = features(x_train,x_train[['UId', 'clicks']],'UId','sum')\n",
        "x_train['num_click_Gender ']    = features(x_train,x_train[['Gender', 'clicks']],'Gender','sum')\n",
        "\n",
        "x_test['num_click_Ad']          = features(x_test,x_train[['AdId', 'clicks']],'AdId','sum')\n",
        "x_test['num_click_Advertiser']  = features(x_test,x_train[['AdvId', 'clicks']],'AdvId','sum')\n",
        "x_test['num_click_QId']         = features(x_test,x_train[['QId', 'clicks']],'QId','sum')\n",
        "x_test['num_click_KeyId']       = features(x_test,x_train[['KeyId', 'clicks']],'KeyId','sum')\n",
        "x_test['num_click_TitleId ']    = features(x_test,x_train[['TitleId', 'clicks']],'TitleId','sum')\n",
        "x_test['num_click_DescId']      = features(x_test,x_train[['DescId', 'clicks']],'DescId','sum')\n",
        "x_test['num_click_UId']         = features(x_test,x_train[['UId', 'clicks']],'UId','sum')\n",
        "x_test['num_click_Gender ']     = features(x_test,x_train[['Gender', 'clicks']],'Gender','sum')\n",
        "\n",
        "end = datetime.now()\n",
        "print(\"Time taken to run this cell: \",end-start)"
      ],
      "outputs": [],
      "execution_count": null,
      "metadata": {
        "id": "JhFnLBQJsXzh",
        "colab_type": "code",
        "outputId": "4df4b254-8995-4b78-bba3-c72a9755f9b6",
        "colab": {}
      }
    },
    {
      "cell_type": "code",
      "source": [
        "start = datetime.now()\n",
        "\n",
        "x_train['num_count_Ad']         = features(x_train,x_train[['AdId', 'clicks']],'AdId','count')\n",
        "x_train['num_count_Advertiser'] = features(x_train,x_train[['AdvId', 'clicks']],'AdvId','count')\n",
        "x_train['num_count_QId']        = features(x_train,x_train[['QId', 'clicks']],'QId','count')\n",
        "x_train['num_count_KeyId']      = features(x_train,x_train[['KeyId', 'clicks']],'KeyId','count')\n",
        "x_train['num_count_TitleId ']   = features(x_train,x_train[['TitleId', 'clicks']],'TitleId','count')\n",
        "x_train['num_count_DescId']     = features(x_train,x_train[['DescId', 'clicks']],'DescId','count')\n",
        "x_train['num_count_UId']        = features(x_train,x_train[['UId', 'clicks']],'UId','count')\n",
        "\n",
        "x_test['num_count_Ad']         = features(x_test,x_train[['AdId', 'clicks']],'AdId','count')\n",
        "x_test['num_count_Advertiser'] = features(x_test,x_train[['AdvId', 'clicks']],'AdvId','count')\n",
        "x_test['num_count_QId']        = features(x_test,x_train[['QId', 'clicks']],'QId','count')\n",
        "x_test['num_count_KeyId']      = features(x_test,x_train[['KeyId', 'clicks']],'KeyId','count')\n",
        "x_test['num_count_TitleId ']   = features(x_test,x_train[['TitleId', 'clicks']],'TitleId','count')\n",
        "x_test['num_count_DescId']     = features(x_test,x_train[['DescId', 'clicks']],'DescId','count')\n",
        "x_test['num_count_UId']        = features(x_test,x_train[['UId', 'clicks']],'UId','count')\n",
        "\n",
        "\n",
        "end = datetime.now()\n",
        "print(\"Time taken to run this cell: \",end-start)"
      ],
      "outputs": [],
      "execution_count": null,
      "metadata": {
        "id": "E6rineLhsXzl",
        "colab_type": "code",
        "outputId": "f466fe79-8826-41f9-e98d-3bb6ae5aaf6e",
        "colab": {}
      }
    },
    {
      "cell_type": "code",
      "source": [
        "x_train.head()"
      ],
      "outputs": [],
      "execution_count": null,
      "metadata": {
        "id": "y70GgxcbsXzo",
        "colab_type": "code",
        "outputId": "02c2b50c-be77-43d5-ce3d-ceb0ead22df6",
        "colab": {}
      }
    },
    {
      "cell_type": "code",
      "source": [
        "x_test.head()"
      ],
      "outputs": [],
      "execution_count": null,
      "metadata": {
        "id": "b8aDCvIMsXzt",
        "colab_type": "code",
        "outputId": "dfe1967b-9f8c-4d08-d38d-5529d6b42f67",
        "colab": {}
      }
    },
    {
      "cell_type": "markdown",
      "source": [
        "### Weighted Features -> where each token is weighted by their idf value"
      ],
      "metadata": {
        "id": "kfwMbMjEsXzw",
        "colab_type": "text"
      }
    },
    {
      "cell_type": "code",
      "source": [
        "# https://stackoverflow.com/questions/209840/convert-two-lists-into-a-dictionary-in-python\n",
        "\n",
        "start = datetime.now()\n",
        "\n",
        "# Load Keyword Data.\n",
        "\n",
        "key_col  = ['KeyId', 'Keyword']\n",
        "keyword  = pd.read_csv('C:/Users/Administrator/Documents/Datasets/KDD_Cup_2012_Track 2/purchasedkeywordid_tokensid.txt', sep='\\t', header=None, names=key_col)\n",
        "\n",
        "# one-hot encoding of Keyword feature.\n",
        "key_tfidf_vectorizer = TfidfVectorizer(use_idf=True)\n",
        "tfidf_keyword = key_tfidf_vectorizer.fit_transform(keyword['Keyword'])\n",
        "\n",
        "a = list(key_tfidf_vectorizer.vocabulary_.keys())\n",
        "b = list(key_tfidf_vectorizer.idf_)\n",
        "#print(len(a)) -> 91482\n",
        "#print(len(b)) -> 91482\n",
        "dict_keyword = dict(zip(a[::], b[::]))\n",
        "\n",
        "\n",
        "# Load Query Data..\n",
        "\n",
        "query_col = ['QId', 'Query']\n",
        "query     = pd.read_csv('C:/Users/Administrator/Documents/Datasets/KDD_Cup_2012_Track 2/queryid_tokensid.txt', sep='\\t', header=None, names=query_col)\n",
        "\n",
        "query_tfidf_vectorizer = TfidfVectorizer(use_idf=True)\n",
        "tfidf_query = query_tfidf_vectorizer.fit_transform(query['Query'])\n",
        "\n",
        "a = list(query_tfidf_vectorizer.vocabulary_.keys())\n",
        "b = list(query_tfidf_vectorizer.idf_)\n",
        "dict_query = dict(zip(a[::], b[::]))\n",
        "\n",
        "# Load Ad Description Data..\n",
        "\n",
        "desc_col  = ['DescId', 'Description']\n",
        "desc      = pd.read_csv('C:/Users/Administrator/Documents/Datasets/KDD_Cup_2012_Track 2/descriptionid_tokensid.txt', sep='\\t', header=None, names=desc_col)\n",
        "\n",
        "desc_tfidf_vectorizer = TfidfVectorizer(use_idf=True)\n",
        "tfidf_desc = desc_tfidf_vectorizer.fit_transform(desc['Description'])\n",
        "\n",
        "a = list(desc_tfidf_vectorizer.vocabulary_.keys())\n",
        "b = list(desc_tfidf_vectorizer.idf_)\n",
        "dict_desc = dict(zip(a[::], b[::]))\n",
        "\n",
        "# Load Ad Title Data..\n",
        "\n",
        "title_col = ['TitleId', 'Title']\n",
        "title     = pd.read_csv('C:/Users/Administrator/Documents/Datasets/KDD_Cup_2012_Track 2/titleid_tokensid.txt', sep='\\t', header=None, names=title_col)\n",
        "\n",
        "title_tfidf_vectorizer = TfidfVectorizer(use_idf=True)\n",
        "tfidf_title = title_tfidf_vectorizer.fit_transform(title['Title'])\n",
        "\n",
        "a = list(title_tfidf_vectorizer.vocabulary_.keys())\n",
        "b = list(title_tfidf_vectorizer.idf_)\n",
        "dict_title = dict(zip(a[::], b[::]))\n",
        "\n",
        "end = datetime.now()\n",
        "print(\"Time taken to run this cell: \",end-start)"
      ],
      "outputs": [],
      "execution_count": null,
      "metadata": {
        "id": "4ufFMh-VsXzx",
        "colab_type": "code",
        "outputId": "cae58d8a-626c-4d98-bff6-8d792245d5e3",
        "colab": {}
      }
    },
    {
      "cell_type": "code",
      "source": [
        "# https://stackoverflow.com/questions/34279378/python-pandas-apply-function-with-two-arguments-to-columns/34279543\n",
        "\n",
        "start = datetime.now()\n",
        "\n",
        "def idf_sum(sentence,res):\n",
        "    sum = 0.0\n",
        "    store = str(sentence).split('|')\n",
        "    for i in range(len(store)):\n",
        "        val = res.get(store[i])\n",
        "        if val is None:\n",
        "            val = 0.0\n",
        "        else:\n",
        "            sum = sum+val\n",
        "    return sum\n",
        "\n",
        "keyword['num_idf_Keyword'] = keyword['Keyword'].apply((lambda x: idf_sum(x,dict_keyword)))\n",
        "#del keyword['Keyword']\n",
        "\n",
        "query['num_idf_query'] = query['Query'].apply((lambda x: idf_sum(x,dict_query)))\n",
        "#del query['Query']\n",
        "\n",
        "desc['num_idf_desc'] = desc['Description'].apply((lambda x: idf_sum(x,dict_desc)))\n",
        "#del desc['Description']\n",
        "\n",
        "title['num_idf_title'] = title['Title'].apply((lambda x: idf_sum(x,dict_title)))\n",
        "#del title['Title']\n",
        "\n",
        "end = datetime.now()\n",
        "print(\"Time taken to run this cell: \",end-start)"
      ],
      "outputs": [],
      "execution_count": null,
      "metadata": {
        "id": "xZjmKDx2sXz1",
        "colab_type": "code",
        "outputId": "44f73ee4-781c-4fb8-e15f-25ae6ed95099",
        "colab": {}
      }
    },
    {
      "cell_type": "code",
      "source": [
        "del keyword['Keyword']\n",
        "del query['Query']\n",
        "del desc['Description']\n",
        "del title['Title']"
      ],
      "outputs": [],
      "execution_count": null,
      "metadata": {
        "id": "rSve7MD6sXz5",
        "colab_type": "code",
        "colab": {}
      }
    },
    {
      "cell_type": "code",
      "source": [
        "# Merging data with user, query, title, keyword & desc on appropriate keys to get data..\n",
        "\n",
        "x_train  = pd.merge(x_train, query, on='QId')\n",
        "x_train  = pd.merge(x_train, title, on='TitleId')\n",
        "x_train  = pd.merge(x_train, desc,  on='DescId')\n",
        "x_train  = pd.merge(x_train, keyword, on='KeyId')\n",
        "\n",
        "x_train.head()"
      ],
      "outputs": [],
      "execution_count": null,
      "metadata": {
        "id": "bHg7NN1qsXz9",
        "colab_type": "code",
        "outputId": "47c65b46-16a9-4133-df20-18c58984cabc",
        "colab": {}
      }
    },
    {
      "cell_type": "code",
      "source": [
        "# Merging data with user, query, title, keyword & desc on appropriate keys to get data..\n",
        "\n",
        "x_test  = pd.merge(x_test, query, on='QId')\n",
        "x_test  = pd.merge(x_test, title, on='TitleId')\n",
        "x_test  = pd.merge(x_test, desc,  on='DescId')\n",
        "x_test  = pd.merge(x_test, keyword, on='KeyId')\n",
        "\n",
        "x_test.head()"
      ],
      "outputs": [],
      "execution_count": null,
      "metadata": {
        "id": "PBGCQZg6sX0B",
        "colab_type": "code",
        "outputId": "c8bf1145-61a4-4f58-e730-d49272d8bd77",
        "colab": {}
      }
    },
    {
      "cell_type": "code",
      "source": [
        "# Saving to CSV file\n",
        "\n",
        "x_train.to_csv('C:/Users/Administrator/Documents/Datasets/KDD_Cup_2012_Track 2/train_10L_num_feats_mod.csv',index=False)\n",
        "x_test.to_csv('C:/Users/Administrator/Documents/Datasets/KDD_Cup_2012_Track 2/test_10L_num_feats_mod.csv',index=False)"
      ],
      "outputs": [],
      "execution_count": null,
      "metadata": {
        "id": "9n480hz9sX0F",
        "colab_type": "code",
        "colab": {}
      }
    },
    {
      "cell_type": "code",
      "source": [
        "x_train.to_csv('C:/Users/Administrator/Documents/Datasets/KDD_Cup_2012_Track 2/train_10L_num_feats_mod_1.csv',index=False)\n",
        "x_test.to_csv('C:/Users/Administrator/Documents/Datasets/KDD_Cup_2012_Track 2/test_10L_num_feats_mod_1.csv',index=False)"
      ],
      "outputs": [],
      "execution_count": null,
      "metadata": {
        "id": "sw8Kt5H-sX0I",
        "colab_type": "code",
        "colab": {}
      }
    },
    {
      "cell_type": "code",
      "source": [
        "# Reading from CSV file\n",
        "\n",
        "x_train = pd.read_csv('../Data/train_1M_num_feats_mod_1.csv')\n",
        "x_test = pd.read_csv('../Data/train_1M_num_feats_mod_1.csv')\n",
        "\n",
        "#x_train.head() -> total 81 features."
      ],
      "outputs": [],
      "execution_count": 6,
      "metadata": {
        "id": "23HDVHBcsX0N",
        "colab_type": "code",
        "colab": {},
        "execution": {
          "iopub.status.busy": "2020-04-17T09:28:30.730Z",
          "iopub.execute_input": "2020-04-17T09:28:30.749Z",
          "iopub.status.idle": "2020-04-17T09:28:34.670Z",
          "shell.execute_reply": "2020-04-17T09:28:34.712Z"
        }
      }
    },
    {
      "cell_type": "code",
      "source": [
        "x_train.columns\n"
      ],
      "outputs": [
        {
          "output_type": "execute_result",
          "execution_count": 8,
          "data": {
            "text/plain": [
              "Index(['index', 'clicks', 'impressions', 'AdURL', 'AdId', 'AdvId', 'Depth',\n",
              "       'Pos', 'QId', 'KeyId', 'TitleId', 'DescId', 'UId', 'CTR', 'RPosition',\n",
              "       'pCTR', 'class_label', 'Gender', 'Age', 'QCount', 'TCount', 'DCount',\n",
              "       'KCount', 'mAdURL', 'mAdId', 'mAdvId', 'mDepth', 'mPos', 'mQId',\n",
              "       'mKeyId', 'mTitleId', 'mDescId', 'mUId', 'mRPosition', 'mGender',\n",
              "       'mAge', 'pAdURL', 'pAdId', 'pAdvId', 'pDepth', 'pPos', 'pQId', 'pKeyId',\n",
              "       'pTitleId', 'pDescId', 'pUId', 'pRPosition', 'pGender', 'pAge',\n",
              "       'num_Imp_Ad', 'num_Imp_Advertiser', 'num_Imp_Depth', 'num_Imp_Position',\n",
              "       'num_Imp_Rposition ', 'num_Imp_UId', 'num_Imp_count_Ad',\n",
              "       'num_Imp_count_Advertiser', 'num_Imp_count_QId', 'num_Imp_count_KeyId',\n",
              "       'num_Imp_count_TitleId ', 'num_Imp_count_DescId', 'num_Imp_count_UId',\n",
              "       'num_click_Ad', 'num_click_Advertiser', 'num_click_QId',\n",
              "       'num_click_KeyId', 'num_click_TitleId ', 'num_click_DescId',\n",
              "       'num_click_UId', 'num_click_Gender ', 'num_count_Ad',\n",
              "       'num_count_Advertiser', 'num_count_QId', 'num_count_KeyId',\n",
              "       'num_count_TitleId ', 'num_count_DescId', 'num_count_UId',\n",
              "       'num_idf_query', 'num_idf_title', 'num_idf_desc', 'num_idf_Keyword'],\n",
              "      dtype='object')"
            ]
          },
          "metadata": {}
        }
      ],
      "execution_count": 8,
      "metadata": {
        "collapsed": true,
        "outputExpanded": false,
        "jupyter": {
          "source_hidden": false,
          "outputs_hidden": false
        },
        "nteract": {
          "transient": {
            "deleting": false
          }
        },
        "execution": {
          "iopub.status.busy": "2020-04-17T09:29:09.423Z",
          "iopub.execute_input": "2020-04-17T09:29:09.440Z",
          "iopub.status.idle": "2020-04-17T09:29:09.472Z",
          "shell.execute_reply": "2020-04-17T09:29:09.486Z"
        }
      }
    },
    {
      "cell_type": "code",
      "source": [
        "# Reading from CSV file\n",
        "\n",
        "x_train = pd.read_csv(\"../Data/train_1M_basic_feat.csv\")\n",
        "x_test = pd.read_csv(\"../Data/test_1M_basic_feat.csv\")\n",
        "\n",
        "#total 49 features"
      ],
      "outputs": [],
      "execution_count": null,
      "metadata": {
        "id": "wiO2qEtRsX0Q",
        "colab_type": "code",
        "colab": {},
        "execution": {
          "iopub.status.busy": "2020-04-16T06:22:10.791Z",
          "iopub.execute_input": "2020-04-16T06:22:10.815Z",
          "iopub.status.idle": "2020-04-16T06:22:17.067Z",
          "shell.execute_reply": "2020-04-16T06:22:17.099Z"
        }
      }
    },
    {
      "cell_type": "code",
      "source": [
        "x_train.head()"
      ],
      "outputs": [],
      "execution_count": null,
      "metadata": {
        "id": "f28DIgNOsX0U",
        "colab_type": "code",
        "outputId": "b23592b7-3d8d-4c70-c7d7-41b558747a17",
        "colab": {
          "base_uri": "https://localhost:8080/",
          "height": 224
        },
        "execution": {
          "iopub.status.busy": "2020-04-16T06:22:20.954Z",
          "iopub.execute_input": "2020-04-16T06:22:20.974Z",
          "iopub.status.idle": "2020-04-16T06:22:21.017Z",
          "shell.execute_reply": "2020-04-16T06:22:21.037Z"
        }
      }
    },
    {
      "cell_type": "code",
      "source": [
        "y_train = x_train['class_label'].values\n",
        "y_test = x_test['class_label'].values"
      ],
      "outputs": [],
      "execution_count": 9,
      "metadata": {
        "id": "Ocu-IcG7sX0X",
        "colab_type": "code",
        "colab": {},
        "execution": {
          "iopub.status.busy": "2020-04-17T09:29:20.471Z",
          "iopub.execute_input": "2020-04-17T09:29:20.489Z",
          "iopub.status.idle": "2020-04-17T09:29:20.519Z",
          "shell.execute_reply": "2020-04-17T09:29:20.539Z"
        }
      }
    },
    {
      "cell_type": "markdown",
      "source": [
        "### CORRELATION CHECK"
      ],
      "metadata": {
        "id": "EcQgiBeVsX0b",
        "colab_type": "text"
      }
    },
    {
      "cell_type": "code",
      "source": [
        "# Heatmap of correlation plot\n",
        "plt.figure(figsize=(9,7))\n",
        "sns.heatmap(x_train.corr(), cmap='RdYlGn')\n",
        "plt.show()"
      ],
      "outputs": [],
      "execution_count": null,
      "metadata": {
        "id": "RpD36m8_sX0d",
        "colab_type": "code",
        "outputId": "941a9558-ce00-494f-db30-f2699b1c8f05",
        "colab": {},
        "execution": {
          "iopub.status.busy": "2020-04-16T06:22:28.668Z",
          "iopub.execute_input": "2020-04-16T06:22:28.692Z",
          "iopub.status.idle": "2020-04-16T06:22:32.887Z",
          "shell.execute_reply": "2020-04-16T06:22:32.940Z"
        }
      }
    },
    {
      "cell_type": "code",
      "source": [
        "# Dropping off the class labels and index columns\n",
        "\n",
        "x_train = x_train.drop('class_label', axis=1)\n",
        "x_train = x_train.drop('index', axis=1)\n",
        "\n",
        "x_test = x_test.drop('class_label', axis=1)\n",
        "x_test = x_test.drop('index', axis=1)\n",
        "\n",
        "print(x_train.shape)\n",
        "print(x_test.shape)"
      ],
      "outputs": [
        {
          "output_type": "stream",
          "name": "stdout",
          "text": [
            "(243708, 79)\n",
            "(243708, 79)\n"
          ]
        }
      ],
      "execution_count": 19,
      "metadata": {
        "id": "OXn89M8-sX0h",
        "colab_type": "code",
        "outputId": "b6e54e32-d3ea-44c7-fd49-b9dbff54c30a",
        "colab": {
          "base_uri": "https://localhost:8080/",
          "height": 51
        },
        "execution": {
          "iopub.status.busy": "2020-04-17T09:44:10.321Z",
          "iopub.execute_input": "2020-04-17T09:44:10.341Z",
          "iopub.status.idle": "2020-04-17T09:44:10.531Z",
          "shell.execute_reply": "2020-04-17T09:44:10.550Z"
        }
      }
    },
    {
      "cell_type": "markdown",
      "source": [
        "### Binary Sparse features"
      ],
      "metadata": {
        "id": "2xpBYTCYsX0l",
        "colab_type": "text"
      }
    },
    {
      "cell_type": "code",
      "source": [
        "# We also expand query’s tokens, title’s tokens, description’s tokens and keyword’s tokens into binary features.\n",
        "# That is, if a token occurs in title, query, description or keyword, the corresponding value in the feature vector will be\n",
        "# 1, or 0 otherwise\n",
        "\n",
        "start = datetime.now()\n",
        "\n",
        "\n",
        "# one-hot encoding of Keyword feature.\n",
        "train = [str (item) for item in x_train['KeyId']]\n",
        "test = [str (item) for item in x_test['KeyId']]\n",
        "keyword_vectorizer = CountVectorizer(binary=True)\n",
        "bow_train_keyword = keyword_vectorizer.fit_transform(train)\n",
        "bow_test_keyword = keyword_vectorizer.transform(test)\n",
        "\n",
        "#train = [str (item) for item in x_train['Gender']]\n",
        "#test = [str (item) for item in x_test['Gender']]\n",
        "#user_gender_vectorizer = CountVectorizer(binary=True)\n",
        "#bow_train_gender = user_gender_vectorizer.fit_transform(train)\n",
        "#bow_test_gender = user_gender_vectorizer.transform(test)\n",
        "\n",
        "#train = [str (item) for item in x_train['Age']]\n",
        "#test = [str (item) for item in x_test['Age']]\n",
        "#user_age_vectorizer = CountVectorizer(binary=True)\n",
        "#bow_train_age = user_age_vectorizer.fit_transform(train)\n",
        "#bow_test_age = user_age_vectorizer.transform(test)\n",
        "\n",
        "train = [str (item) for item in x_train['QId']]\n",
        "test = [str (item) for item in x_test['QId']]\n",
        "query_vectorizer = CountVectorizer(binary=True)\n",
        "bow_train_query = query_vectorizer.fit_transform(train)\n",
        "bow_test_query = query_vectorizer.transform(test)\n",
        "\n",
        "train = [str (item) for item in x_train['DescId']]\n",
        "test = [str (item) for item in x_test['DescId']]\n",
        "desc_vectorizer = CountVectorizer(binary=True)\n",
        "bow_train_desc = desc_vectorizer.fit_transform(train)\n",
        "bow_test_desc = desc_vectorizer.transform(test)\n",
        "\n",
        "train = [str (item) for item in x_train['TitleId']]\n",
        "test = [str (item) for item in x_test['TitleId']]\n",
        "title_vectorizer = CountVectorizer(binary=True)\n",
        "bow_train_title = title_vectorizer.fit_transform(train)\n",
        "bow_test_title = title_vectorizer.transform(test)\n",
        "\n",
        "train = [str (item) for item in x_train['AdId']]\n",
        "test = [str (item) for item in x_test['AdId']]\n",
        "add_vectorizer = CountVectorizer(binary=True)\n",
        "bow_train_add = add_vectorizer.fit_transform(train)\n",
        "bow_test_add = add_vectorizer.transform(test)\n",
        "\n",
        "train = [str (item) for item in x_train['AdvId']]\n",
        "test = [str (item) for item in x_test['AdvId']]\n",
        "adv_vectorizer = CountVectorizer(binary=True)\n",
        "bow_train_adv = adv_vectorizer.fit_transform(train)\n",
        "bow_test_adv = adv_vectorizer.transform(test)\n",
        "\n",
        "train = [str (item) for item in x_train['AdURL']]\n",
        "test = [str (item) for item in x_test['AdURL']]\n",
        "adurl_vectorizer = CountVectorizer(binary=True)\n",
        "bow_train_adurl = adurl_vectorizer.fit_transform(train)\n",
        "bow_test_adurl = adurl_vectorizer.transform(test)\n",
        "\n",
        "end = datetime.now()\n",
        "print(\"Time taken to run this cell: \",end-start)"
      ],
      "outputs": [
        {
          "output_type": "stream",
          "name": "stdout",
          "text": [
            "Time taken to run this cell:  0:00:09.403072\n"
          ]
        }
      ],
      "execution_count": 36,
      "metadata": {
        "id": "BXsYodocsX0m",
        "colab_type": "code",
        "outputId": "9f667680-4ab0-45f6-dbb5-a2fa847f65ad",
        "colab": {},
        "execution": {
          "iopub.status.busy": "2020-04-17T10:54:03.068Z",
          "iopub.execute_input": "2020-04-17T10:54:03.085Z",
          "iopub.status.idle": "2020-04-17T10:54:12.436Z",
          "shell.execute_reply": "2020-04-17T10:54:12.546Z"
        }
      }
    },
    {
      "cell_type": "code",
      "source": [
        "x_train_sparse = csr_matrix(x_train.values)\n",
        "train_data = hstack((x_train_sparse,bow_train_keyword,bow_train_query,bow_train_desc,bow_train_title,bow_train_add,bow_train_adv,bow_train_adurl))\n",
        "\n",
        "x_test_sparse = csr_matrix(x_test.values)\n",
        "test_data = hstack((x_test_sparse,bow_test_keyword,bow_test_query,bow_test_desc,bow_test_title,bow_test_add,bow_test_adv,bow_test_adurl))"
      ],
      "outputs": [],
      "execution_count": 37,
      "metadata": {
        "id": "nHAFCpZKsX0r",
        "colab_type": "code",
        "colab": {},
        "execution": {
          "iopub.status.busy": "2020-04-17T10:54:12.464Z",
          "iopub.execute_input": "2020-04-17T10:54:12.481Z",
          "iopub.status.idle": "2020-04-17T10:54:15.238Z",
          "shell.execute_reply": "2020-04-17T10:54:15.339Z"
        }
      }
    },
    {
      "cell_type": "code",
      "source": [
        "test_data"
      ],
      "outputs": [
        {
          "output_type": "execute_result",
          "execution_count": 38,
          "data": {
            "text/plain": [
              "<243708x374299 sparse matrix of type '<class 'numpy.float64'>'\n",
              "\twith 19458975 stored elements in COOrdinate format>"
            ]
          },
          "metadata": {}
        }
      ],
      "execution_count": 38,
      "metadata": {
        "id": "Sma8_EOBsX0w",
        "colab_type": "code",
        "outputId": "4eac16eb-1771-49d6-933d-748cbb7782be",
        "colab": {},
        "execution": {
          "iopub.status.busy": "2020-04-17T10:54:15.270Z",
          "iopub.execute_input": "2020-04-17T10:54:15.287Z",
          "iopub.status.idle": "2020-04-17T10:54:15.323Z",
          "shell.execute_reply": "2020-04-17T10:54:15.347Z"
        }
      }
    },
    {
      "cell_type": "code",
      "source": [
        "train_normalized = normalize(train_data, axis=1)\n",
        "test_normalized = normalize(test_data , axis=1)"
      ],
      "outputs": [],
      "execution_count": 39,
      "metadata": {
        "id": "1hKrkFpLsX00",
        "colab_type": "code",
        "colab": {},
        "execution": {
          "iopub.status.busy": "2020-04-17T10:54:18.214Z",
          "iopub.execute_input": "2020-04-17T10:54:18.234Z",
          "iopub.status.idle": "2020-04-17T10:54:18.804Z",
          "shell.execute_reply": "2020-04-17T10:54:18.826Z"
        }
      }
    },
    {
      "cell_type": "code",
      "source": [
        "# To plot confusion matrix.\n",
        "def plot_confusion_matrix(y_test, pred):\n",
        "    C = confusion_matrix(y_test, pred)\n",
        "    \n",
        "    labels = [0,1]\n",
        "    print(\"-\"*20, \"Confusion matrix\", \"-\"*20)\n",
        "    plt.figure(figsize=(10,4))\n",
        "    sns.heatmap(C, annot=True, cmap=\"YlGnBu\", fmt=\".3f\", xticklabels=labels, yticklabels=labels)\n",
        "    plt.xlabel('Predicted Class')\n",
        "    plt.ylabel('Original Class')\n",
        "    plt.show()"
      ],
      "outputs": [],
      "execution_count": 49,
      "metadata": {
        "id": "2FiXsixZsX04",
        "colab_type": "code",
        "colab": {},
        "execution": {
          "iopub.status.busy": "2020-04-17T10:57:16.682Z",
          "iopub.execute_input": "2020-04-17T10:57:16.701Z",
          "iopub.status.idle": "2020-04-17T10:57:16.733Z",
          "shell.execute_reply": "2020-04-17T10:57:16.753Z"
        }
      }
    },
    {
      "cell_type": "code",
      "source": [
        "def scoreClickAUC(num_clicks, num_impressions, predicted_ctr):\n",
        "    \"\"\"\n",
        "    Calculates the area under the ROC curve (AUC) for click rates\n",
        "\n",
        "    Parameters\n",
        "    ----------\n",
        "    num_clicks : a list containing the number of clicks\n",
        "\n",
        "    num_impressions : a list containing the number of impressions\n",
        "\n",
        "    predicted_ctr : a list containing the predicted click-through rates\n",
        "\n",
        "    Returns\n",
        "    ------- a under the ROC curve (AUC) for click rates\n",
        "    \"\"\"\n",
        "     #sorting the values in descending order and store the index\n",
        "    i_sorted = sorted(range(len(predicted_ctr)),key=lambda i: predicted_ctr[i],\n",
        "                      reverse=True)\n",
        "    auc_temp = 0.0\n",
        "    click_sum = 0.0\n",
        "    old_click_sum = 0.0\n",
        "    no_click = 0.0\n",
        "    no_click_sum = 0.0\n",
        "\n",
        "    # treat all instances with the same predicted_ctr as coming from the same bucket\n",
        "    last_ctr = predicted_ctr[i_sorted[0]] + 1.0\n",
        "\n",
        "    for i in range(len(predicted_ctr)):\n",
        "        # when prev_ctr value at i-1 not match with current ctr value at i\n",
        "        if last_ctr != predicted_ctr[i_sorted[i]]: \n",
        "            auc_temp += (click_sum+old_click_sum) * no_click / 2.0        \n",
        "            old_click_sum = click_sum\n",
        "            no_click = 0.0\n",
        "            last_ctr = predicted_ctr[i_sorted[i]] #updating the last ctr value \n",
        "        # Calculating negative sample as #impressions - #clicks    \n",
        "        no_click += num_impressions[i_sorted[i]] - num_clicks[i_sorted[i]]\n",
        "        no_click_sum += num_impressions[i_sorted[i]] - num_clicks[i_sorted[i]]\n",
        "        # Calculating postive samples as # of clicks \n",
        "        click_sum += num_clicks[i_sorted[i]]\n",
        "    auc_temp += (click_sum+old_click_sum) * no_click / 2.0\n",
        "    auc = auc_temp / (click_sum * no_click_sum) # That is the scaling to a total area of 1\n",
        "    return auc"
      ],
      "outputs": [],
      "execution_count": 41,
      "metadata": {
        "collapsed": true,
        "outputExpanded": false,
        "jupyter": {
          "source_hidden": false,
          "outputs_hidden": false
        },
        "nteract": {
          "transient": {
            "deleting": false
          }
        },
        "execution": {
          "iopub.status.busy": "2020-04-17T10:54:23.141Z",
          "iopub.execute_input": "2020-04-17T10:54:23.158Z",
          "iopub.status.idle": "2020-04-17T10:54:23.184Z",
          "shell.execute_reply": "2020-04-17T10:54:23.204Z"
        }
      }
    },
    {
      "cell_type": "markdown",
      "source": [
        "### LOGISTIC REGRESSION MODEL"
      ],
      "metadata": {
        "id": "tM3l7itssX08",
        "colab_type": "text"
      }
    },
    {
      "cell_type": "code",
      "source": [
        "# To print scores\n",
        "def print_metrics_measure(pred,y_test):\n",
        "    \n",
        "     # Plotting Confusion_Matrix\n",
        "    plot_confusion_matrix(y_test, pred)\n",
        "    \n",
        "    #Score\n",
        "    score = metrics.roc_auc_score(y_test, pred)*100\n",
        "    \n",
        "    print('\\nThe score of the LR [Test data] : ',(score))\n",
        "    \n",
        "    \n",
        "    print(\"----\"*20)"
      ],
      "outputs": [],
      "execution_count": 42,
      "metadata": {
        "id": "7vVPfD3KsX09",
        "colab_type": "code",
        "colab": {},
        "execution": {
          "iopub.status.busy": "2020-04-17T10:54:25.759Z",
          "iopub.execute_input": "2020-04-17T10:54:25.779Z",
          "iopub.status.idle": "2020-04-17T10:54:25.807Z",
          "shell.execute_reply": "2020-04-17T10:54:25.826Z"
        }
      }
    },
    {
      "cell_type": "code",
      "source": [
        "x_train.columns"
      ],
      "outputs": [
        {
          "output_type": "execute_result",
          "execution_count": 44,
          "data": {
            "text/plain": [
              "Index(['clicks', 'impressions', 'AdURL', 'AdId', 'AdvId', 'Depth', 'Pos',\n",
              "       'QId', 'KeyId', 'TitleId', 'DescId', 'UId', 'CTR', 'RPosition', 'pCTR',\n",
              "       'Gender', 'Age', 'QCount', 'TCount', 'DCount', 'KCount', 'mAdURL',\n",
              "       'mAdId', 'mAdvId', 'mDepth', 'mPos', 'mQId', 'mKeyId', 'mTitleId',\n",
              "       'mDescId', 'mUId', 'mRPosition', 'mGender', 'mAge', 'pAdURL', 'pAdId',\n",
              "       'pAdvId', 'pDepth', 'pPos', 'pQId', 'pKeyId', 'pTitleId', 'pDescId',\n",
              "       'pUId', 'pRPosition', 'pGender', 'pAge', 'num_Imp_Ad',\n",
              "       'num_Imp_Advertiser', 'num_Imp_Depth', 'num_Imp_Position',\n",
              "       'num_Imp_Rposition ', 'num_Imp_UId', 'num_Imp_count_Ad',\n",
              "       'num_Imp_count_Advertiser', 'num_Imp_count_QId', 'num_Imp_count_KeyId',\n",
              "       'num_Imp_count_TitleId ', 'num_Imp_count_DescId', 'num_Imp_count_UId',\n",
              "       'num_click_Ad', 'num_click_Advertiser', 'num_click_QId',\n",
              "       'num_click_KeyId', 'num_click_TitleId ', 'num_click_DescId',\n",
              "       'num_click_UId', 'num_click_Gender ', 'num_count_Ad',\n",
              "       'num_count_Advertiser', 'num_count_QId', 'num_count_KeyId',\n",
              "       'num_count_TitleId ', 'num_count_DescId', 'num_count_UId',\n",
              "       'num_idf_query', 'num_idf_title', 'num_idf_desc', 'num_idf_Keyword'],\n",
              "      dtype='object')"
            ]
          },
          "metadata": {}
        }
      ],
      "execution_count": 44,
      "metadata": {
        "collapsed": true,
        "outputExpanded": false,
        "jupyter": {
          "source_hidden": false,
          "outputs_hidden": false
        },
        "nteract": {
          "transient": {
            "deleting": false
          }
        },
        "execution": {
          "iopub.status.busy": "2020-04-17T10:54:30.786Z",
          "iopub.execute_input": "2020-04-17T10:54:30.804Z",
          "iopub.status.idle": "2020-04-17T10:54:30.841Z",
          "shell.execute_reply": "2020-04-17T10:54:30.857Z"
        }
      }
    },
    {
      "cell_type": "code",
      "source": [
        "x_train.info()"
      ],
      "outputs": [],
      "execution_count": null,
      "metadata": {
        "collapsed": true,
        "outputExpanded": false,
        "jupyter": {
          "source_hidden": false,
          "outputs_hidden": false
        },
        "nteract": {
          "transient": {
            "deleting": false
          }
        },
        "execution": {
          "iopub.status.busy": "2020-04-17T10:54:37.554Z",
          "iopub.execute_input": "2020-04-17T10:54:37.576Z",
          "iopub.status.idle": "2020-04-17T10:54:37.618Z",
          "shell.execute_reply": "2020-04-17T10:54:37.669Z"
        }
      }
    },
    {
      "cell_type": "code",
      "source": [
        "def gridsearch(train_std_data,test_std_data,y_1,y_test):\n",
        "   \n",
        "    cv_scores = []\n",
        "    tuned_parameters = [{'C': [0.001,0.01,0.1,1,10,100,1000], \"penalty\":[\"l1\",\"l2\"]}]\n",
        "    k = StratifiedKFold(n_splits=3)\n",
        "    grid_lr = GridSearchCV(LogisticRegression(), tuned_parameters, scoring = 'roc_auc', cv=k, return_train_score=True)\n",
        "    grid_lr.fit(train_std_data,y_1)\n",
        "    print(\"Best Estimator: \")\n",
        "    model = grid_lr.best_estimator_\n",
        "    print(model)\n",
        "    print(\"******\"*20)\n",
        "    \n",
        "    C = [0.001,0.01,0.1,1,10,100,1000]\n",
        "    \n",
        "    if grid_lr.best_params_['penalty'] == 'l1':\n",
        "        cv_scores = (grid_lr.cv_results_['mean_train_score'][::2])\n",
        "    else:\n",
        "        cv_scores = (grid_lr.cv_results_['mean_train_score'][1::2])\n",
        "\n",
        "    plt.plot(C, cv_scores)\n",
        "    \n",
        "    for xy in zip(C, np.round(cv_scores,3)):\n",
        "        plt.annotate('(%s, %s)' % xy, xy=xy, textcoords='data')\n",
        "    \n",
        "    plt.xlabel('Hyperparameters')\n",
        "    plt.ylabel('cv_scores')\n",
        "    plt.title(\"CV_SCORES of Train\")\n",
        "    plt.grid()\n",
        "    plt.show()\n",
        "    \n",
        "    #print(\"Best Hyperparameter is: \",grid_lr.best_params_['C'])\n",
        "    \n",
        "    \n",
        "    if grid_lr.best_params_['penalty'] == 'l1':\n",
        "        cv_scores = (grid_lr.cv_results_['mean_test_score'][::2])\n",
        "    else:\n",
        "        cv_scores = (grid_lr.cv_results_['mean_test_score'][1::2])\n",
        "\n",
        "    plt.plot(C, cv_scores)\n",
        "    \n",
        "    for xy in zip(C, np.round(cv_scores,3)):\n",
        "        plt.annotate('(%s, %s)' % xy, xy=xy, textcoords='data')\n",
        "        \n",
        "    plt.xlabel('Hyperparameters')\n",
        "    plt.ylabel('cv_scores')\n",
        "    plt.title(\"CV_SCORES of Test\")\n",
        "    plt.grid()\n",
        "    plt.show()\n",
        "    \n",
        "    #print(\"Best Hyperparameter is: \",grid_lr.best_params_['C'])\n",
        "    \n",
        "    print(\"******\"*20)\n",
        "    \n",
        "    pred = grid_lr.predict(test_std_data)\n",
        "    \n",
        "    print_metrics_measure(pred,y_test)\n",
        "   \n",
        "    ns_probs = [0 for _ in range(len(y_test))]\n",
        "    lr_probs_train = grid_lr.predict_proba(train_std_data)\n",
        "    lr_probs_train = lr_probs_train[:, 1]\n",
        "    lr_probs_test = grid_lr.predict_proba(test_std_data)\n",
        "    lr_probs_test = lr_probs_test[:, 1]\n",
        "    ns_auc = roc_auc_score(y_test, ns_probs)\n",
        "    lr_auc = roc_auc_score(y_test, lr_probs_test)\n",
        "    ns_fpr, ns_tpr, _ = roc_curve(y_test, ns_probs)\n",
        "    lr_fpr, lr_tpr, _ = roc_curve(y_test, lr_probs_test)\n",
        "    plt.plot(ns_fpr, ns_tpr, linestyle='--', label='No Skill')\n",
        "    plt.plot(lr_fpr, lr_tpr, marker='.', label='Logistic')\n",
        "    # axis labels\n",
        "    plt.xlabel('False Positive Rate')\n",
        "    plt.ylabel('True Positive Rate')\n",
        "    # show the legend\n",
        "    plt.legend()\n",
        "    # show the plot\n",
        "    plt.show()\n",
        "    roc_auc_train = scoreClickAUC(x_train['clicks'],x_train['impressions'],lr_probs_train)\n",
        "    roc_auc_test = scoreClickAUC(x_test['clicks'],x_test['impressions'],lr_probs_test)\n",
        "    print(\"scoreKDD train AUC:\", roc_auc_train)\n",
        "    print(\"scoreKDD test AUC:\", roc_auc_test)\n",
        "   \n",
        "    return model"
      ],
      "outputs": [],
      "execution_count": 53,
      "metadata": {
        "id": "ws2jh8cSsX1A",
        "colab_type": "code",
        "colab": {},
        "execution": {
          "iopub.status.busy": "2020-04-17T10:58:15.819Z",
          "iopub.execute_input": "2020-04-17T10:58:15.836Z",
          "iopub.status.idle": "2020-04-17T10:58:15.865Z",
          "shell.execute_reply": "2020-04-17T10:58:15.881Z"
        }
      }
    },
    {
      "cell_type": "code",
      "source": [
        "lr_grid_bow = gridsearch(train_normalized,test_normalized,y_train,y_test)"
      ],
      "outputs": [
        {
          "output_type": "stream",
          "name": "stdout",
          "text": [
            "Best Estimator: \n",
            "LogisticRegression(C=1, class_weight=None, dual=False, fit_intercept=True,\n",
            "                   intercept_scaling=1, l1_ratio=None, max_iter=100,\n",
            "                   multi_class='auto', n_jobs=None, penalty='l2',\n",
            "                   random_state=None, solver='lbfgs', tol=0.0001, verbose=0,\n",
            "                   warm_start=False)\n",
            "************************************************************************************************************************\n"
          ]
        },
        {
          "output_type": "display_data",
          "data": {
            "text/plain": [
              "<Figure size 432x288 with 1 Axes>"
            ],
            "image/png": "[encoded data removed]"
          },
          "metadata": {
            "needs_background": "light"
          }
        },
        {
          "output_type": "display_data",
          "data": {
            "text/plain": [
              "<Figure size 432x288 with 1 Axes>"
            ],
            "image/png": "[encoded data removed]"
          },
          "metadata": {
            "needs_background": "light"
          }
        },
        {
          "output_type": "stream",
          "name": "stdout",
          "text": [
            "************************************************************************************************************************\n",
            "-------------------- Confusion matrix --------------------\n"
          ]
        },
        {
          "output_type": "display_data",
          "data": {
            "text/plain": [
              "<Figure size 720x288 with 2 Axes>"
            ],
            "image/png": "[encoded data removed]"
          },
          "metadata": {
            "needs_background": "light"
          }
        },
        {
          "output_type": "stream",
          "name": "stdout",
          "text": [
            "\n",
            "The score of the LR [Test data] :  50.0\n",
            "--------------------------------------------------------------------------------\n"
          ]
        },
        {
          "output_type": "display_data",
          "data": {
            "text/plain": [
              "<Figure size 432x288 with 1 Axes>"
            ],
            "image/png": "[encoded data removed]"
          },
          "metadata": {
            "needs_background": "light"
          }
        },
        {
          "output_type": "stream",
          "name": "stdout",
          "text": [
            "scoreKDD train AUC: 0.5\n",
            "scoreKDD test AUC: 0.5\n"
          ]
        }
      ],
      "execution_count": 54,
      "metadata": {
        "id": "cJpnIuZysX1E",
        "colab_type": "code",
        "outputId": "01abc3b2-214b-4aae-875b-2cb3b1e39855",
        "colab": {},
        "execution": {
          "iopub.status.busy": "2020-04-17T10:58:20.945Z",
          "iopub.execute_input": "2020-04-17T10:58:20.967Z",
          "iopub.status.idle": "2020-04-17T10:59:15.415Z",
          "shell.execute_reply": "2020-04-17T10:59:15.453Z"
        }
      }
    },
    {
      "cell_type": "markdown",
      "source": [
        "### Observations:"
      ],
      "metadata": {
        "id": "A9zuBGyVsX1H",
        "colab_type": "text"
      }
    },
    {
      "cell_type": "markdown",
      "source": [
        "1. We used grid search inorder to tune the hyperparameters(C, penalty).\n",
        "\n",
        "\n",
        "2. The scorimg metric we used here is auc which is equivalent to the probability that a random pair of a positive sample (clicked ad)\n",
        "   and a negative one (unclicked ad) is ranked correctly.\n",
        "   \n",
        "    \n",
        "3. We tried to plot the train and test cv scores inorder to understand which value of C is good.\n",
        "\n",
        "\n",
        "4. With better hyperparameter tuning, the Logistic Regression model scored 50%. From the confusion matrix we can understand that\n",
        "   for any query point it is trying to output class 0 (if imbalanced). If we tries to balance the dataset using class_weight=balanced, it is trying to output class 1"
      ],
      "metadata": {
        "id": "CwMcRLIcsX1J",
        "colab_type": "text"
      }
    },
    {
      "cell_type": "markdown",
      "source": [
        "##### The easiest way to successfully generalize a model is by using more data. \n",
        "\n",
        "##### The problem is that out-of-the-box classifiers like logistic regression or random forest tend to generalize by discarding the rare class"
      ],
      "metadata": {
        "id": "_4X5K6BNsX1K",
        "colab_type": "text"
      }
    },
    {
      "cell_type": "markdown",
      "source": [
        "### SVM"
      ],
      "metadata": {
        "id": "TnjOByV8sX1L",
        "colab_type": "text"
      }
    },
    {
      "cell_type": "code",
      "source": [
        "# To print scores\n",
        "def print_metrics_measure(y_train,y_test,pred_train,pred_test):\n",
        "    \n",
        "     # Plotting Confusion_Matrix\n",
        "    plot_confusion_matrix(y_test, pred_test)\n",
        "    \n",
        "    #Roc_Auc\n",
        "    auc_train = metrics.roc_auc_score(y_train, pred_train)*100\n",
        "    auc_test = metrics.roc_auc_score(y_test, pred_test)*100\n",
        "    print('\\nTrain auc_score : ',(auc_train))\n",
        "    print('\\nTest auc_score : ',(auc_test))\n"
      ],
      "outputs": [],
      "execution_count": null,
      "metadata": {
        "id": "HrWLucczsX1M",
        "colab_type": "code",
        "colab": {},
        "execution": {
          "iopub.status.busy": "2020-04-17T01:37:37.884Z",
          "iopub.execute_input": "2020-04-17T01:37:37.904Z",
          "iopub.status.idle": "2020-04-17T01:37:37.934Z",
          "shell.execute_reply": "2020-04-17T01:37:37.953Z"
        }
      }
    },
    {
      "cell_type": "code",
      "source": [
        "train_normalized = normalize(x_train, axis=1)\n",
        "test_normalized = normalize(x_test , axis=1)"
      ],
      "outputs": [],
      "execution_count": null,
      "metadata": {
        "id": "C2azPDb5BmUL",
        "colab_type": "code",
        "colab": {}
      }
    },
    {
      "cell_type": "code",
      "source": [
        "tuned_parameters = {'C': [0.1], 'gamma': [0.1]}\n",
        "#k = StratifiedKFold(n_splits=5)\n",
        "random_lr = RandomizedSearchCV(SVC(kernel='rbf'), tuned_parameters, scoring = 'roc_auc', cv=2)\n",
        "random_lr.fit(train_normalized,y_train)\n",
        "print(\"Best Estimator: \")\n",
        "model = random_lr.best_estimator_\n",
        "print(model)\n",
        "print(\"******\"*20)\n",
        "pred_train = random_lr.predict(train_normalized)\n",
        "pred_test = random_lr.predict(test_normalized)\n",
        "\n",
        "print_metrics_measure(y_train,y_test,pred_train,pred_test)\n"
      ],
      "outputs": [],
      "execution_count": null,
      "metadata": {
        "id": "yEqAB3scsX1Q",
        "colab_type": "code",
        "outputId": "e77d9451-3f3f-4c78-f28f-c96f029fa47d",
        "colab": {
          "base_uri": "https://localhost:8080/",
          "height": 470
        }
      }
    },
    {
      "cell_type": "code",
      "source": [
        "tuned_parameters = {'C': [0.001,0.1,1], 'gamma': [0.001,0.1,1]}\n",
        "#k = StratifiedKFold(n_splits=5)\n",
        "random_lr = RandomizedSearchCV(SVC(kernel='rbf'), tuned_parameters, scoring = 'roc_auc', cv=2)\n",
        "random_lr.fit(train_normalized,y_train)\n",
        "print(\"Best Estimator: \")\n",
        "model = random_lr.best_estimator_\n",
        "print(model)\n",
        "print(\"******\"*20)\n",
        "pred_train = random_lr.predict(train_normalized)\n",
        "pred_test = random_lr.predict(test_normalized)\n",
        "\n",
        "print_metrics_measure(y_train,y_test,pred_train,pred_test)\n"
      ],
      "outputs": [],
      "execution_count": null,
      "metadata": {
        "id": "X7Fo0Jr0QpoW",
        "colab_type": "code",
        "outputId": "151e4c53-990e-4cd6-b11e-ebf6a837f171",
        "colab": {
          "base_uri": "https://localhost:8080/",
          "height": 470
        }
      }
    },
    {
      "cell_type": "code",
      "source": [
        "from sklearn.svm import LinearSVC\n",
        "tuned_parameters = {'C': [0.001,0.1,1,10,100]}\n",
        "#k = StratifiedKFold(n_splits=5)\n",
        "random_lr = RandomizedSearchCV(LinearSVC(), tuned_parameters, scoring = 'roc_auc', cv=2)\n",
        "random_lr.fit(train_normalized,y_train)\n",
        "print(\"Best Estimator: \")\n",
        "model = random_lr.best_estimator_\n",
        "print(model)\n",
        "print(\"******\"*20)\n",
        "pred_train = random_lr.predict(train_normalized)\n",
        "pred_test = random_lr.predict(test_normalized)\n",
        "\n",
        "print_metrics_measure(y_train,y_test,pred_train,pred_test)\n"
      ],
      "outputs": [],
      "execution_count": null,
      "metadata": {
        "id": "M05_GwGTUDIe",
        "colab_type": "code",
        "outputId": "4660d6b2-f903-410d-9c70-b79f5ffe681a",
        "colab": {
          "base_uri": "https://localhost:8080/",
          "height": 471
        }
      }
    },
    {
      "cell_type": "code",
      "source": [],
      "outputs": [],
      "execution_count": null,
      "metadata": {
        "id": "YMvOUrG9sX1V",
        "colab_type": "code",
        "colab": {}
      }
    },
    {
      "cell_type": "markdown",
      "source": [
        "#Decision Tree"
      ],
      "metadata": {
        "id": "NBd7hPNAAH-P",
        "colab_type": "text"
      }
    },
    {
      "cell_type": "code",
      "source": [
        "cv_scores = []\n",
        "tuned_parameters = {'max_depth': [25,40,75,100]}\n",
        "#k = StratifiedKFold(n_splits=5)\n",
        "random_dt = RandomizedSearchCV(DecisionTreeClassifier(), tuned_parameters, scoring = 'roc_auc', cv=2)\n",
        "random_dt.fit(x_train,y_train)\n",
        "print(\"Best Estimator: \")\n",
        "model_dt = random_dt.best_estimator_\n",
        "print(model_dt)\n",
        "print(\"******\"*20)\n",
        "pred_train = random_dt.predict(x_train)\n",
        "pred_test = random_dt.predict(x_test)\n",
        "\n",
        "print_metrics_measure(pred_test, y_test)"
      ],
      "outputs": [
        {
          "output_type": "stream",
          "name": "stdout",
          "text": [
            "Best Estimator: \n",
            "DecisionTreeClassifier(ccp_alpha=0.0, class_weight=None, criterion='gini',\n",
            "                       max_depth=75, max_features=None, max_leaf_nodes=None,\n",
            "                       min_impurity_decrease=0.0, min_impurity_split=None,\n",
            "                       min_samples_leaf=1, min_samples_split=2,\n",
            "                       min_weight_fraction_leaf=0.0, presort='deprecated',\n",
            "                       random_state=None, splitter='best')\n",
            "************************************************************************************************************************\n",
            "-------------------- Confusion matrix --------------------\n"
          ]
        },
        {
          "output_type": "display_data",
          "data": {
            "text/plain": [
              "<Figure size 720x288 with 2 Axes>"
            ],
            "image/png": "[encoded data removed]"
          },
          "metadata": {
            "needs_background": "light"
          }
        },
        {
          "output_type": "stream",
          "name": "stdout",
          "text": [
            "\n",
            "The score of the LR [Test data] :  97.97336118943424\n",
            "--------------------------------------------------------------------------------\n"
          ]
        }
      ],
      "execution_count": 56,
      "metadata": {
        "id": "3JSXc6qWsX1Y",
        "colab_type": "code",
        "outputId": "f69ffc8e-e9b2-41cc-bf33-05bbd6c947a0",
        "colab": {
          "base_uri": "https://localhost:8080/",
          "height": 504
        },
        "execution": {
          "iopub.status.busy": "2020-04-17T11:02:27.461Z",
          "iopub.execute_input": "2020-04-17T11:02:27.482Z",
          "iopub.status.idle": "2020-04-17T11:02:36.090Z",
          "shell.execute_reply": "2020-04-17T11:02:36.108Z"
        }
      }
    },
    {
      "cell_type": "markdown",
      "source": [
        "#RandomForest"
      ],
      "metadata": {
        "id": "h4yvLktF8Fib",
        "colab_type": "text"
      }
    },
    {
      "cell_type": "code",
      "source": [
        "cv_scores = []\n",
        "tuned_parameters = {'n_estimators': [100,200,400,500], 'max_depth': [25,35,50,80]}\n",
        "#k = StratifiedKFold(n_splits=5)\n",
        "random_lr = RandomizedSearchCV(RandomForestClassifier(), tuned_parameters, scoring = 'roc_auc', cv=2)\n",
        "random_lr.fit(x_train,y_train)\n",
        "print(\"Best Estimator: \")\n",
        "model_rdlr = random_lr.best_estimator_\n",
        "print(model_rdlr)\n",
        "print(\"******\"*20)\n",
        "pred_train = random_lr.predict(x_train)\n",
        "pred_test = random_lr.predict(x_test)\n",
        "\n",
        "print_metrics_measure(y_train,y_test,pred_train,pred_test)"
      ],
      "outputs": [],
      "execution_count": null,
      "metadata": {
        "id": "HHai-wtmsX1e",
        "colab_type": "code",
        "outputId": "4dded680-b668-462f-f5e0-12a4f4cc423b",
        "colab": {
          "base_uri": "https://localhost:8080/",
          "height": 521
        }
      }
    },
    {
      "cell_type": "markdown",
      "source": [
        "### XGBOOST MODEL"
      ],
      "metadata": {
        "id": "G8TTMNigsX2M",
        "colab_type": "text"
      }
    },
    {
      "cell_type": "markdown",
      "source": [
        "#### To model, I used only average (click-through rate and pseudo click-through rate) features (47 features). Only using these features gave me better results(74% test auc) than using all the features we engineered above(67% Test auc - tried in different notebook). \n"
      ],
      "metadata": {
        "id": "XOTuUNsWsX2M",
        "colab_type": "text"
      }
    },
    {
      "cell_type": "code",
      "source": [
        "x_train.columns"
      ],
      "outputs": [],
      "execution_count": null,
      "metadata": {
        "id": "u_B-hdL8sX2N",
        "colab_type": "code",
        "outputId": "6e3f3f54-c7bb-4901-8cd2-27856a7f27a3",
        "colab": {}
      }
    },
    {
      "cell_type": "code",
      "source": [
        "x_train.head()"
      ],
      "outputs": [],
      "execution_count": null,
      "metadata": {
        "id": "Ez6EXPHysX2T",
        "colab_type": "code",
        "outputId": "372137f0-3995-4504-fe60-8d99fb009304",
        "colab": {}
      }
    },
    {
      "cell_type": "code",
      "source": [
        "x_test.head()"
      ],
      "outputs": [],
      "execution_count": null,
      "metadata": {
        "id": "aWxodS9zsX2X",
        "colab_type": "code",
        "outputId": "8c0f3265-c2ae-44ab-db34-71ae4ee35ef7",
        "colab": {}
      }
    },
    {
      "cell_type": "code",
      "source": [
        "start = datetime.now()\n",
        "\n",
        "x_cfl=XGBClassifier(n_estimators=455,max_depth=3,learning_rate=0.1373,colsample_bytree=0.65,subsample=1)\n",
        "x_cfl.fit(x_train,y_train,verbose=True)\n",
        "\n",
        "predict_y = x_cfl.predict(x_train)\n",
        "fpr, tpr, thresholds = metrics.roc_curve(y_train, predict_y, pos_label=1)\n",
        "print (\"The train score is:\",metrics.auc(fpr, tpr))\n",
        "\n",
        "predict_y = x_cfl.predict(x_test)\n",
        "fpr, tpr, thresholds = metrics.roc_curve(y_test, predict_y, pos_label=1)\n",
        "print(\"The test score is:\",metrics.auc(fpr, tpr))\n",
        "\n",
        "plot_confusion_matrix(y_test, predict_y)\n",
        "\n",
        "print(\"-\"*20, \"Feature Importance\", \"-\"*20)\n",
        "\n",
        "features = x_train.columns\n",
        "importances = x_cfl.feature_importances_\n",
        "indices = (np.argsort(importances))[-10:]\n",
        "plt.figure(figsize=(8,8))\n",
        "plt.title('Feature Importances')\n",
        "plt.barh(range(len(indices)), importances[indices], color='b', align='center')\n",
        "plt.yticks(range(len(indices)), [features[i] for i in indices])\n",
        "plt.xlabel('Relative Importance')\n",
        "plt.show()\n",
        "\n",
        "print(\"Time taken to run this cell :\", datetime.now() - start)"
      ],
      "outputs": [],
      "execution_count": null,
      "metadata": {
        "id": "wEp1o88-sX2b",
        "colab_type": "code",
        "outputId": "49012521-90b6-4169-ece6-a791a1120529",
        "colab": {}
      }
    },
    {
      "cell_type": "markdown",
      "source": [
        "### Observations:"
      ],
      "metadata": {
        "id": "4H0Igp8wsX2i",
        "colab_type": "text"
      }
    },
    {
      "cell_type": "markdown",
      "source": [
        "1. XGBoost is already a good starting point if the classes are not skewed too much, because it internally takes care that the bags it trains on are not imbalanced. But then again, the data is resampled, it is just happening secretly.\n",
        "\n",
        "\n",
        "2. We tried the hyperparameter tuning(n_estimators,max_depth,learning_rate,colsample_bytree,subsample) in differant notebook, used the values here, tried to tweak them and could see better results than Logistic regression.\n",
        "\n",
        "\n",
        "3. The scorimg metric we used here is auc which is equivalent to the probability that a random pair of a positive sample (clicked ad) and a negative one (unclicked ad) is ranked correctly.\n",
        "\n",
        "\n",
        "4. We tried to plot the confusion matrix inorder to better understand the results.\n",
        "\n",
        "\n",
        "5.  We tried to get feature importance to understand which features are important. Here we printed top 10 important features. We could see from the above feature importance plot that even raw ID features are very important.\n",
        "\n",
        "6. We tried using all the features engineered above, but using averageor mean CTR features only gave us better results.\n",
        "\n",
        "\n",
        "6. Here we got the result train score = 0.75 and test score  = 0.74 (improved just by tweaking the parameters)"
      ],
      "metadata": {
        "id": "WJ17_LknsX2j",
        "colab_type": "text"
      }
    },
    {
      "cell_type": "markdown",
      "source": [
        "### Conclusion:"
      ],
      "metadata": {
        "id": "TpqhCsD1sX2k",
        "colab_type": "text"
      }
    },
    {
      "cell_type": "code",
      "source": [
        "x = PrettyTable()\n",
        "\n",
        "x.field_names = [\"Model\",\"Train Score %\",\"Test Score %\"]\n",
        "x.add_row([ \"Logistic Regression\",50,50])\n",
        "x.add_row([ \"SVM(RBF_kernel)\",50,50])\n",
        "x.add_row([ \"SVM(Linear)\",50,50])\n",
        "x.add_row([ \"Decision Tree\",76.46,70.75])\n",
        "x.add_row([ \"Random Forest\",78.54,71.22])\n",
        "x.add_row([ \"XGBOOST\",75.67,74.78])\n",
        "\n",
        "print(x)"
      ],
      "outputs": [],
      "execution_count": null,
      "metadata": {
        "id": "D0XEa6klsX2l",
        "colab_type": "code",
        "outputId": "c619cd98-b6c3-495d-8e50-321316f1d115",
        "colab": {
          "base_uri": "https://localhost:8080/",
          "height": 187
        }
      }
    },
    {
      "cell_type": "markdown",
      "source": [
        "From the above table we could observe that XGBOOST model beats Logistic Regression model as out of the box classifiers like Logistic Regression discards the rare classes."
      ],
      "metadata": {
        "id": "D6cBdjffsX2q",
        "colab_type": "text"
      }
    },
    {
      "cell_type": "markdown",
      "source": [
        "### Links:"
      ],
      "metadata": {
        "id": "IKX6xBthsX2r",
        "colab_type": "text"
      }
    },
    {
      "cell_type": "markdown",
      "source": [
        "How to use multiple parameters in apply function?\n",
        "\n",
        "https://stackoverflow.com/questions/34279378/python-pandas-apply-function-with-two-arguments-to-columns/34279543\n",
        "\n",
        "How to combine two lists as key and value pairs\n",
        "\n",
        "https://stackoverflow.com/questions/209840/convert-two-lists-into-a-dictionary-in-python\n",
        "\n",
        "how to deal with highly imbalanced data?\n",
        "\n",
        "https://www.kdnuggets.com/2017/06/7-techniques-handle-imbalanced-data.html\n",
        "https://towardsdatascience.com/methods-for-dealing-with-imbalanced-data-5b761be45a18\n",
        "\n",
        "Documentation:\n",
        "Metrics:\n",
        "\n",
        "https://scikit-learn.org/stable/modules/classes.html\n",
        "\n",
        "https://scikit-learn.org/stable/modules/generated/sklearn.feature_extraction.text.TfidfVectorizer.html\n",
        "https://scikit-learn.org/stable/modules/generated/sklearn.metrics.roc_curve.html\n",
        "https://scikit-learn.org/stable/modules/generated/sklearn.metrics.auc.html\n",
        "https://www.dataschool.io/roc-curves-and-auc-explained/\n",
        "\n",
        "\n",
        "Referred:\n",
        "\n",
        "https://jyunyu.csie.org/docs/pubs/kddcup2012paper.pdf \n",
        "\n"
      ],
      "metadata": {
        "id": "N4a-7R80sX2r",
        "colab_type": "text"
      }
    },
    {
      "cell_type": "code",
      "source": [
        "'''<!--Table-->\n",
        "<table id=\"tablePreview\" class=\"table table-hover table-striped\">\n",
        "<!--Table head-->\n",
        "  <thead>\n",
        "    <tr>\n",
        "      <th></th>\n",
        "      <th><b>Model</b></th>\n",
        "      <th><b>Train Score %</b></th>\n",
        "      <th><b>Test Score %</b></th>\n",
        "      \n",
        "    </tr>\n",
        "  </thead>\n",
        "  <!--Table head-->\n",
        "  <!--Table body-->\n",
        "  <tbody>\n",
        "    <tr>\n",
        "      <th scope=\"row\">1</th>\n",
        "      <td>Logistic Regression</td>\n",
        "      <td>50</td>\n",
        "      <td>50</td>\n",
        "    </tr>\n",
        "    <tr>\n",
        "      <th scope=\"row\">2</th>\n",
        "      <td>SVM(RBF_kernel)</td>\n",
        "      <td>50</td>\n",
        "      <td>50</td>\n",
        "    </tr>\n",
        "    <tr>\n",
        "      <th scope=\"row\">3</th>\n",
        "      <td>SVM(Linear) </td>\n",
        "      <td>50</td>\n",
        "      <td>50</td>\n",
        "    </tr>\n",
        "       <tr>\n",
        "      <th scope=\"row\">4</th>\n",
        "      <td>Decision Tree</td>\n",
        "      <td>76.46</td>\n",
        "      <td>70.75</td>\n",
        "    </tr>\n",
        "        <tr>\n",
        "      <th scope=\"row\">5</th>\n",
        "      <td>Random Forest</td>\n",
        "      <td>78.54</td>\n",
        "      <td>71.22</td>\n",
        "    </tr>\n",
        "        <tr>\n",
        "      <th scope=\"row\">6</th>\n",
        "      <td>XGBoost</td>\n",
        "      <td>75.67</td>\n",
        "      <td>74.78</td>\n",
        "    </tr>\n",
        "    \n",
        "  </tbody>\n",
        "  <!--Table body-->\n",
        "</table>\n",
        "<!--Table-->'''"
      ],
      "outputs": [],
      "execution_count": null,
      "metadata": {
        "id": "jtOcgehIsX2s",
        "colab_type": "code",
        "outputId": "ffd2e4bb-cc4f-48f6-f3b8-e897781a17df",
        "colab": {
          "base_uri": "https://localhost:8080/",
          "height": 54
        }
      }
    }
  ],
  "metadata": {
    "kernelspec": {
      "name": "python3",
      "display_name": "Python 3"
    },
    "language_info": {
      "name": "python",
      "version": "3.7.3",
      "mimetype": "text/x-python",
      "codemirror_mode": {
        "name": "ipython",
        "version": 3
      },
      "pygments_lexer": "ipython3",
      "nbconvert_exporter": "python",
      "file_extension": ".py"
    },
    "colab": {
      "name": "KDD_Casestudy_classification_modified-Copy1.ipynb",
      "provenance": [],
      "collapsed_sections": [],
      "toc_visible": true
    },
    "accelerator": "GPU",
    "nteract": {
      "version": "0.22.4"
    }
  },
  "nbformat": 4,
  "nbformat_minor": 0
}