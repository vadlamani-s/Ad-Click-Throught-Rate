{
  "cells": [
    {
      "cell_type": "code",
      "source": [
        "## Importing packages\n",
        "\n",
        "# This R environment comes with all of CRAN and many other helpful packages preinstalled.\n",
        "# You can see which packages are installed by checking out the kaggle/rstats docker image: \n",
        "# https://github.com/kaggle/docker-rstats\n",
        "\n",
        "library(tidyverse) # metapackage with lots of helpful functions\n",
        "\n",
        "## Running code\n",
        "\n",
        "# In a notebook, you can run a single code cell by clicking in the cell and then hitting \n",
        "# the blue arrow to the left, or by clicking in the cell and pressing Shift+Enter. In a script, \n",
        "# you can run code by highlighting the code you want to run and then clicking the blue arrow\n",
        "# at the bottom of this window.\n",
        "\n",
        "## Reading in files\n",
        "\n",
        "# You can access files from datasets you've added to this kernel in the \"../input/\" directory.\n",
        "# You can see the files added to this kernel by running the code below. \n",
        "\n",
        "list.files(path = \"../input/acp-data\")\n",
        "\n",
        "## Saving data\n",
        "\n",
        "# If you save any files or images, these will be put in the \"output\" directory. You \n",
        "# can see the output directory by committing and running your kernel (using the \n",
        "# Commit & Run button) and then checking out the compiled version of your kernel."
      ],
      "outputs": [
        {
          "output_type": "stream",
          "name": "stderr",
          "text": [
            "Registered S3 methods overwritten by 'ggplot2':\n",
            "  method         from \n",
            "  [.quosures     rlang\n",
            "  c.quosures     rlang\n",
            "  print.quosures rlang\n",
            "\n",
            "Registered S3 method overwritten by 'rvest':\n",
            "  method            from\n",
            "  read_xml.response xml2\n",
            "\n",
            "-- \u001b[1mAttaching packages\u001b[22m --------------------------------------- tidyverse 1.2.1 --\n",
            "\n",
            "\u001b[32mv\u001b[39m \u001b[34mggplot2\u001b[39m 3.1.1       \u001b[32mv\u001b[39m \u001b[34mpurrr  \u001b[39m 0.3.3  \n",
            "\u001b[32mv\u001b[39m \u001b[34mtibble \u001b[39m 2.1.1       \u001b[32mv\u001b[39m \u001b[34mdplyr  \u001b[39m 0.8.0.\u001b[31m1\u001b[39m\n",
            "\u001b[32mv\u001b[39m \u001b[34mtidyr  \u001b[39m 0.8.3       \u001b[32mv\u001b[39m \u001b[34mstringr\u001b[39m 1.4.0  \n",
            "\u001b[32mv\u001b[39m \u001b[34mreadr  \u001b[39m 1.3.1       \u001b[32mv\u001b[39m \u001b[34mforcats\u001b[39m 0.4.0  \n",
            "\n",
            "-- \u001b[1mConflicts\u001b[22m ------------------------------------------ tidyverse_conflicts() --\n",
            "\u001b[31mx\u001b[39m \u001b[34mdplyr\u001b[39m::\u001b[32mfilter()\u001b[39m masks \u001b[34mstats\u001b[39m::filter()\n",
            "\u001b[31mx\u001b[39m \u001b[34mdplyr\u001b[39m::\u001b[32mlag()\u001b[39m    masks \u001b[34mstats\u001b[39m::lag()\n",
            "\n"
          ]
        },
        {
          "output_type": "display_data",
          "data": {
            "text/html": [],
            "text/markdown": [],
            "text/latex": [],
            "text/plain": [
              "character(0)"
            ]
          },
          "metadata": {}
        }
      ],
      "execution_count": 1,
      "metadata": {
        "_uuid": "8f2839f25d086af736a60e9eeb907d3b93b6e0e5",
        "_cell_guid": "b1076dfc-b9ad-4769-8c92-a6c4dae69d19",
        "trusted": true,
        "execution": {
          "iopub.status.busy": "2020-03-28T00:30:32.586Z",
          "iopub.execute_input": "2020-03-28T00:30:32.595Z",
          "iopub.status.idle": "2020-03-28T00:30:34.182Z",
          "shell.execute_reply": "2020-03-28T00:30:34.188Z"
        }
      }
    },
    {
      "cell_type": "markdown",
      "source": [
        "# 1. Business Objective"
      ],
      "metadata": {}
    },
    {
      "cell_type": "markdown",
      "source": [
        "## 1.1 Problem Statement\n",
        "\n",
        "### Premise: \n",
        "* Clickthrough rate (CTR) is a ratio showing how often people who see your ad end up clicking it. Clickthrough rate (CTR) can be used to gauge how well your keywords and ads are performing.\n",
        "\n",
        "* CTR is the number of clicks that your ad receives divided by the number of times your ad is shown: clicks ÷ impressions = CTR. For example, if you had 5 clicks and 100 impressions, then your CTR would be 5%.\n",
        "\n",
        "* Each of your ads and keywords have their own CTRs that you can see listed in your account.\n",
        "\n",
        "* A high CTR is a good indication that users find your ads helpful and relevant. CTR also contributes to your keyword's expected CTR, which is a component of Ad Rank. Note that a good CTR is relative to what you're advertising and on which networks.\n",
        "\n",
        "> Credits: Google (https://support.google.com/adwords/answer/2615875?hl=en) \n",
        "\n",
        "* Search advertising is a multi-billion dollar internet industry that has served as one of the most lucrative stories in the domain of machine learning. It has relied extensively on the ability of learned models to predict ad click–through rates (CTR) accurately while promoting authenticity and low latency.\n",
        "\n",
        "* Many proprietary search engines owned by Google, Microsoft, Yahoo etc., have effectively tackled the economic model underlying the prediction of ad CTR, which works in accordance with cost-per-click (CPC) advertising system where several ads, bidded by advertisers, are selectively picked and ranked by the product of the CPC and CTR (revenue). \n",
        "* So the business objective for these companies centralizes on the balance between maximizing profit (and thus the CPC) and user satisfaction (and thus the CTR).\n",
        "\n",
        "> **The mathematical objective of our project solely revolves around finding pCTR, \n",
        "which is the probability that a certain ad is clicked while being conditioned \n",
        "on the occurrence of the ad (AdID), user (UserID) and relevant context (P(Click|AdID,UserID,Context)).\n",
        "Thus, accurately predicting the probability of click (pCTR) of ads is critical for maximizing the revenue \n",
        "and improving user satisfaction.****"
      ],
      "metadata": {}
    },
    {
      "cell_type": "markdown",
      "source": [
        "## 1.2 Constraints\n",
        "\n",
        "* Interpretability\n",
        "* Low latency / delay"
      ],
      "metadata": {}
    },
    {
      "cell_type": "markdown",
      "source": [
        "## 1.3 Dataset source\n",
        "\n",
        "> https://www.kaggle.com/c/kddcup2012-track2"
      ],
      "metadata": {}
    },
    {
      "cell_type": "markdown",
      "source": [
        "# 2. Machine Learning Objective"
      ],
      "metadata": {}
    },
    {
      "cell_type": "markdown",
      "source": [
        "## 2.1 A Glimpse of the Dataset "
      ],
      "metadata": {}
    },
    {
      "cell_type": "markdown",
      "source": [
        "### 2.1.1 Schema\n",
        "\n",
        "<table style=\"width:50%;text-align:center;\">\n",
        "<caption style=\"text-align:center;\">Data Files</caption>\n",
        "<tr>\n",
        "<td><b>Filename</b></td><td><b>Available Format</b></td>\n",
        "</tr>\n",
        "<tr>\n",
        "<td>training</td><td>.txt (9.9Gb)</td>\n",
        "</tr>\n",
        "<tr>\n",
        "<td>queryid_tokensid</td><td>.txt (704Mb)</td>\n",
        "</tr>\n",
        "<tr>\n",
        "<td>purchasedkeywordid_tokensid</td><td>.txt (26Mb)</td>\n",
        "</tr>\n",
        "<tr>\n",
        "<td>titleid_tokensid</td><td>.txt (172Mb)</td>\n",
        "</tr>\n",
        "<tr>\n",
        "<td>descriptionid_tokensid</td><td>.txt (268Mb)</td>\n",
        "</tr>\n",
        "<tr>\n",
        "<td>userid_profile</td><td>.txt (284Mb)</td>\n",
        "</tr>\n",
        "</table>\n",
        "\n",
        "### 2.1.2 Feature description of training.txt (Main)\n",
        "\n",
        "<table style=\"width:100%\">\n",
        "  <caption style=\"text-align:center;\">training.txt</caption>\n",
        "  <tr>\n",
        "    <th>Feature</th>\n",
        "    <th>Description</th>\n",
        "  </tr>\n",
        "  <tr>\n",
        "    <td>UserID</td>\n",
        "    <td>The unique id for each user</td>\n",
        "    </tr>\n",
        "  <tr>\n",
        "    <td>AdID</td>\n",
        "    <td>The unique id for each ad</td>\n",
        "  </tr>\n",
        "  <tr>\n",
        "    <td>QueryID</td>\n",
        "    <td>The unique id for each Query (it is a primary key in Query table(queryid_tokensid.txt))</td>\n",
        "  </tr>\n",
        "  <tr>\n",
        "    <td>Depth</td>\n",
        "    <td>The number of ads impressed in a session is known as the 'depth'. </td>\n",
        "  </tr>\n",
        "  <tr>\n",
        "    <td>Position</td>\n",
        "    <td>The order of an ad in the impression list is known as the ‘position’ of that ad.</td>\n",
        "  </tr>\n",
        "  <tr>\n",
        "    <td>Impression</td>\n",
        "    <td>The number of search sessions in which the ad (AdID) was impressed by the user (UserID) who issued the query (Query).</td>\n",
        "  </tr>\n",
        "  <tr>\n",
        "    <td>Click</td>\n",
        "    <td>The number of times, among the above impressions, the user (UserID) clicked the ad (AdID).</td>\n",
        "  </tr>\n",
        "  <tr>\n",
        "    <td>TitleId</td>\n",
        "    <td>A property of ads. This is the key of 'titleid_tokensid.txt'. [An Ad, when impressed, would be displayed as a short text known as ’title’, followed by a slightly longer text known as the ’description’, and a URL (usually shortened to save screen space) known as ’display URL’.]</td>\n",
        "  </tr>\n",
        "  <tr>\n",
        "    <td>DescId</td>\n",
        "    <td>A property of ads.  This is the key of 'descriptionid_tokensid.txt'. [An Ad, when impressed, would be displayed as a short text known as ’title’, followed by a slightly longer text known as the ’description’, and a URL (usually shortened to save screen space) known as ’display URL’.]</td>\n",
        "  </tr>\n",
        "  <tr>\n",
        "    <td>AdURL</td>\n",
        "    <td>The URL is shown together with the title and description of an ad. It is usually the shortened landing page URL of the ad, but not always. In the data file,  this URL is hashed for anonymity.</td>\n",
        "  </tr>\n",
        "  <tr>\n",
        "    <td>KeyId</td>\n",
        "    <td>A property of ads. This is the key of  'purchasedkeyword_tokensid.txt'.</td>\n",
        "  </tr>\n",
        "  <tr>\n",
        "    <td>AdvId</td>\n",
        "    <td>a property of the ad. Some advertisers consistently optimize their ads, so the title and description of their ads are more attractive than those of others’ ads.</td>\n",
        "  </tr>\n",
        "</table>\n",
        "\n",
        "___\n",
        "There are five additional data files, as mentioned in the above section: \n",
        "\n",
        "1. queryid_tokensid.txt \n",
        "\n",
        "2. purchasedkeywordid_tokensid.txt \n",
        "\n",
        "3. titleid_tokensid.txt \n",
        "\n",
        "4. descriptionid_tokensid.txt \n",
        "\n",
        "5. userid_profile.txt \n",
        "\n",
        "Each line of the first four files maps an id to a list of tokens, corresponding to the query, keyword, ad title, and ad description, respectively. In each line, a TAB character separates the id and the token set.  A token can basically be a word in a natural language. For anonymity, each token is represented by its hash value.  Tokens are delimited by the character ‘|’. \n",
        "\n",
        "Each line of ‘userid_profile.txt’ is composed of UserID, Gender, and Age, delimited by the TAB character. Note that not every UserID in the training and the testing set will be present in ‘userid_profile.txt’. Each field is described below: \n",
        "\n",
        "1. Gender:  '1'  for male, '2' for female,  and '0'  for unknown. \n",
        "\n",
        "2. Age: '1'  for (0, 12],  '2' for (12, 18], '3' for (18, 24], '4'  for  (24, 30], '5' for (30,  40], and '6' for greater than 40. "
      ],
      "metadata": {}
    },
    {
      "cell_type": "markdown",
      "source": [
        "### 2.1.3 Examining an instance of the data\n",
        "__ training_subsampled.csv __ (Subsampled version - 5M rows of training.txt)\n",
        "<pre>\n",
        "Click Impression     AdURL\t                AdId\t   AdvId   Depth      Pos\t  QId\t   KeyId\tTitleId\t DescId\t  UId\n",
        "0\t      1\t     4298118681424644510\t  7686695\t 385\t   3\t    3\t  1601\t   5521\t   7709\t   576\t   490234\n",
        "0\t      1\t     4860571499428580850      21560664\t37484\t 2\t    2\t  2255103\t317\t    48989\t  44771\t 490234\n",
        "0\t      1\t     9704320783495875564\t  21748480\t36759     3\t    3\t  4532751\t60721\t  685038\t 29681\t 490234\n",
        "</pre>\n",
        "\n",
        "__ queryid_tokensid.txt__\n",
        "<pre>\n",
        "QId\tQuery\n",
        "0\t12731\n",
        "1\t1545|75|31\n",
        "2\t383\n",
        "3\t518|1996\n",
        "4\t4189|75|31\n",
        "</pre>\n",
        "\n",
        "__purchasedkeywordid_tokensid.txt__\n",
        "<pre>\n",
        "KId Keyword\n",
        "0\t12731\n",
        "1\t1545\n",
        "2\t477\n",
        "3\t1545|75|31\n",
        "4\t279\n",
        "</pre>\n",
        "\n",
        "__titleid_tokensid.txt__\n",
        "<pre>\n",
        "TitleId\tTitle\n",
        "0\t615|1545|75|31|1|138|1270|615|131\n",
        "1\t466|582|685|1|42|45|477|314\n",
        "2\t12731|190|513|12731|677|183\n",
        "3\t2371|3970|1|2805|4340|3|2914|10640|3688|11|834|3\n",
        "4\t165|134|460|2887|50|2|17527|1|1540|592|2181|3|...\n",
        "</pre>\n",
        "\n",
        "__descriptionid_tokensid.txt__\n",
        "<pre>\n",
        "DescId\tDescription\n",
        "0\t1545|31|40|615|1|272|18889|1|220|511|20|5270|1...\n",
        "1\t172|46|467|170|5634|5112|40|155|1965|834|21|41...\n",
        "2\t2672|6|1159|109662|123|49933|160|848|248|207|1...\n",
        "3\t13280|35|1299|26|282|477|606|1|4016|1671|771|1...\n",
        "4\t13327|99|128|494|2928|21|26500|10|11733|10|318\n",
        "</pre>\n",
        "\n",
        "__userid_profile.txt__\n",
        "<pre>\n",
        "UId\tGender   Age\n",
        " 1\t  1\t    5\n",
        " 2\t  2\t    3\n",
        " 3\t  1\t    5\n",
        " 4\t  1\t    3\n",
        " 5\t  2\t    1\n",
        "</pre>"
      ],
      "metadata": {}
    },
    {
      "cell_type": "markdown",
      "source": [
        "## 2.2 Mapping business objective to Machine learning problem"
      ],
      "metadata": {}
    },
    {
      "cell_type": "markdown",
      "source": [
        "### 2.2.1 What is the primary objective of this ML problem?"
      ],
      "metadata": {}
    },
    {
      "cell_type": "markdown",
      "source": [
        "### 2.2.2 What constraints / bias we need to address?"
      ],
      "metadata": {}
    },
    {
      "cell_type": "markdown",
      "source": [
        "### 2.2.3 Key Performance Indicator / Performance Evaluation Metrics "
      ],
      "metadata": {}
    },
    {
      "cell_type": "markdown",
      "source": [
        "### 2.2.4 What type of Machine Learning problem can our problem statement be posed as?"
      ],
      "metadata": {}
    },
    {
      "cell_type": "markdown",
      "source": [
        "# 3. Exploratory Data Analysis\n"
      ],
      "metadata": {}
    },
    {
      "cell_type": "markdown",
      "source": [
        "## 3.1 Importing the data"
      ],
      "metadata": {}
    },
    {
      "cell_type": "markdown",
      "source": [
        "### 3.1.1 Read training_subsampled.csv (Main data)"
      ],
      "metadata": {}
    },
    {
      "cell_type": "code",
      "source": [
        "main = read.csv(\"../input/acp-data/training_subsampled.csv\")"
      ],
      "outputs": [],
      "execution_count": null,
      "metadata": {
        "trusted": true
      }
    },
    {
      "cell_type": "code",
      "source": [
        "main %>% head"
      ],
      "outputs": [],
      "execution_count": null,
      "metadata": {
        "trusted": true
      }
    },
    {
      "cell_type": "markdown",
      "source": [
        "### 3.1.2 Read Query data"
      ],
      "metadata": {}
    },
    {
      "cell_type": "code",
      "source": [
        "query.colnames  = c('QId', 'Query')\n",
        "queries = read.csv(\"../input/acp-data/queryid_tokensid.txt\", sep = \"\\t\", header = FALSE, col.names = query.colnames)"
      ],
      "outputs": [],
      "execution_count": null,
      "metadata": {
        "trusted": true
      }
    },
    {
      "cell_type": "code",
      "source": [
        "queries %>% head"
      ],
      "outputs": [],
      "execution_count": null,
      "metadata": {
        "trusted": true
      }
    },
    {
      "cell_type": "markdown",
      "source": [
        "### 3.1.3 Read User data"
      ],
      "metadata": {}
    },
    {
      "cell_type": "code",
      "source": [
        "user.colnames  = c('UId', 'Gender', 'Age')\n",
        "users = read.csv(\"../input/acp-data/userid_profile.txt\", sep = \"\\t\", header = FALSE, col.names = user.colnames)"
      ],
      "outputs": [],
      "execution_count": null,
      "metadata": {
        "trusted": true
      }
    },
    {
      "cell_type": "code",
      "source": [
        "users %>% head"
      ],
      "outputs": [],
      "execution_count": null,
      "metadata": {
        "trusted": true
      }
    },
    {
      "cell_type": "markdown",
      "source": [
        "### 3.1.4 Read Ad Title data"
      ],
      "metadata": {}
    },
    {
      "cell_type": "code",
      "source": [
        "adtitle.colnames  = c('TitleId', 'Title')\n",
        "ad.titles = read.csv(\"../input/acp-data/titleid_tokensid.txt\", sep = \"\\t\", header = FALSE, col.names = adtitle.colnames)"
      ],
      "outputs": [],
      "execution_count": null,
      "metadata": {
        "trusted": true
      }
    },
    {
      "cell_type": "code",
      "source": [
        "ad.titles %>% head"
      ],
      "outputs": [],
      "execution_count": null,
      "metadata": {
        "trusted": true
      }
    },
    {
      "cell_type": "markdown",
      "source": [
        "### 3.1.5 Read Ad Description data"
      ],
      "metadata": {}
    },
    {
      "cell_type": "code",
      "source": [
        "addesc.colnames  = c('DescId', 'Description')\n",
        "ad.desc = read.csv(\"../input/acp-data/descriptionid_tokensid.txt\", sep = \"\\t\", header = FALSE, col.names = addesc.colnames)"
      ],
      "outputs": [],
      "execution_count": null,
      "metadata": {
        "trusted": true
      }
    },
    {
      "cell_type": "code",
      "source": [
        "ad.desc %>% head"
      ],
      "outputs": [],
      "execution_count": null,
      "metadata": {
        "trusted": true
      }
    },
    {
      "cell_type": "markdown",
      "source": [
        "### 3.1.6 Read Purchased Keyword token data"
      ],
      "metadata": {}
    },
    {
      "cell_type": "code",
      "source": [
        "keywd.colnames  = c('KeywordId', 'Keyword')\n",
        "keywords = read.csv(\"../input/acp-data/purchasedkeywordid_tokensid.txt\", sep = \"\\t\", header = FALSE, col.names = keywd.colnames)"
      ],
      "outputs": [],
      "execution_count": null,
      "metadata": {
        "trusted": true
      }
    },
    {
      "cell_type": "code",
      "source": [
        "keywords %>% head"
      ],
      "outputs": [],
      "execution_count": null,
      "metadata": {
        "trusted": true
      }
    },
    {
      "cell_type": "code",
      "source": [
        "findCount <- function(x) {\n",
        "  length(unlist(strsplit(x, \"|\", fixed = TRUE)))\n",
        "}"
      ],
      "outputs": [],
      "execution_count": null,
      "metadata": {
        "trusted": true
      }
    },
    {
      "cell_type": "code",
      "source": [
        "X <- as.data.frame(matrix(rnorm(30), nrow=5, ncol=6))\n",
        "X.apply(X, 2, )"
      ],
      "outputs": [],
      "execution_count": null,
      "metadata": {
        "trusted": true
      }
    },
    {
      "cell_type": "code",
      "source": [],
      "outputs": [],
      "execution_count": null,
      "metadata": {
        "trusted": true
      }
    }
  ],
  "metadata": {
    "kernelspec": {
      "display_name": "R",
      "language": "R",
      "name": "ir"
    },
    "language_info": {
      "name": "R",
      "codemirror_mode": "r",
      "pygments_lexer": "r",
      "mimetype": "text/x-r-source",
      "file_extension": ".r",
      "version": "3.6.1"
    },
    "nteract": {
      "version": "0.22.0"
    }
  },
  "nbformat": 4,
  "nbformat_minor": 4
}