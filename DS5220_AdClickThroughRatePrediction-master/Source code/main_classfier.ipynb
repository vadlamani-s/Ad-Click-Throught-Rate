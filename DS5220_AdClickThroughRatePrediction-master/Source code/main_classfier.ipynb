{
  "cells": [
    {
      "cell_type": "code",
      "source": [
        "\n",
        "# Importing Libraries\n",
        "\n",
        "import pandas as pd\n",
        "import numpy as np\n",
        "from datetime import datetime\n",
        "import tqdm\n",
        "import re\n",
        "import seaborn as sns\n",
        "%matplotlib inline\n",
        "import matplotlib.pyplot as plt\n",
        "\n",
        "from scipy import spatial\n",
        "from sklearn.svm import SVC\n",
        "from xgboost import XGBClassifier\n",
        "from sklearn.tree import DecisionTreeClassifier\n",
        "from sklearn.ensemble import RandomForestClassifier\n",
        "from sklearn.feature_extraction.text import CountVectorizer\n",
        "from sklearn.feature_extraction.text import TfidfVectorizer\n",
        "from sklearn.preprocessing import normalize\n",
        "from sklearn.model_selection import train_test_split\n",
        "from scipy.sparse import hstack\n",
        "from scipy.sparse import csr_matrix\n",
        "from sklearn.preprocessing import normalize\n",
        "from sklearn import metrics\n",
        "from sklearn.metrics import roc_curve, auc\n",
        "from sklearn.metrics import confusion_matrix\n",
        "from sklearn.model_selection import GridSearchCV\n",
        "from sklearn.model_selection import RandomizedSearchCV\n",
        "from sklearn.linear_model import LogisticRegression\n",
        "from sklearn.model_selection import StratifiedKFold\n",
        "from sklearn.metrics.pairwise import cosine_similarity\n",
        "from gensim.models import Word2Vec\n",
        "from prettytable import PrettyTable\n",
        "from tqdm import tqdm\n",
        "from sklearn.datasets import make_classification\n",
        "from sklearn.metrics import roc_auc_score\n",
        "\n",
        "import warnings\n",
        "warnings.filterwarnings(\"ignore\")\n",
        "\n"
      ],
      "outputs": [],
      "execution_count": 1,
      "metadata": {
        "collapsed": true,
        "outputExpanded": false,
        "jupyter": {
          "source_hidden": false,
          "outputs_hidden": false
        },
        "nteract": {
          "transient": {
            "deleting": false
          }
        },
        "execution": {
          "iopub.status.busy": "2020-04-17T21:06:37.710Z",
          "iopub.execute_input": "2020-04-17T21:06:37.714Z",
          "iopub.status.idle": "2020-04-17T21:06:42.145Z",
          "shell.execute_reply": "2020-04-17T21:06:42.149Z"
        }
      }
    },
    {
      "cell_type": "code",
      "source": [
        "x_train = pd.read_csv(\"../Data/train_1M_basic_feat.csv\")\n",
        "x_test = pd.read_csv(\"../Data/test_1M_basic_feat.csv\")"
      ],
      "outputs": [],
      "execution_count": 2,
      "metadata": {
        "collapsed": true,
        "outputExpanded": false,
        "jupyter": {
          "source_hidden": false,
          "outputs_hidden": false
        },
        "nteract": {
          "transient": {
            "deleting": false
          }
        },
        "execution": {
          "iopub.status.busy": "2020-04-17T21:06:45.665Z",
          "iopub.execute_input": "2020-04-17T21:06:45.669Z",
          "iopub.status.idle": "2020-04-17T21:06:52.421Z",
          "shell.execute_reply": "2020-04-17T21:06:52.449Z"
        }
      }
    },
    {
      "cell_type": "code",
      "source": [
        "y_train = x_train['class_label'].values\n",
        "y_test = x_test['class_label'].values"
      ],
      "outputs": [],
      "execution_count": 3,
      "metadata": {
        "collapsed": true,
        "outputExpanded": false,
        "jupyter": {
          "source_hidden": false,
          "outputs_hidden": false
        },
        "nteract": {
          "transient": {
            "deleting": false
          }
        },
        "execution": {
          "iopub.status.busy": "2020-04-17T21:06:52.429Z",
          "iopub.execute_input": "2020-04-17T21:06:52.432Z",
          "iopub.status.idle": "2020-04-17T21:06:52.439Z",
          "shell.execute_reply": "2020-04-17T21:06:52.452Z"
        }
      }
    },
    {
      "cell_type": "code",
      "source": [
        "x_train.columns"
      ],
      "outputs": [
        {
          "output_type": "execute_result",
          "execution_count": 20,
          "data": {
            "text/plain": [
              "Index(['clicks', 'impressions', 'AdURL', 'AdId', 'AdvId', 'Depth', 'Pos',\n",
              "       'QId', 'KeyId', 'TitleId', 'DescId', 'UId', 'CTR', 'RPosition', 'pCTR',\n",
              "       'Gender', 'Age', 'QCount', 'TCount', 'DCount', 'KCount', 'mAdURL',\n",
              "       'mAdId', 'mAdvId', 'mDepth', 'mPos', 'mQId', 'mKeyId', 'mTitleId',\n",
              "       'mDescId', 'mUId', 'mRPosition', 'mGender', 'mAge', 'pAdURL', 'pAdId',\n",
              "       'pAdvId', 'pDepth', 'pPos', 'pQId', 'pKeyId', 'pTitleId', 'pDescId',\n",
              "       'pUId', 'pRPosition', 'pGender', 'pAge'],\n",
              "      dtype='object')"
            ]
          },
          "metadata": {}
        }
      ],
      "execution_count": 20,
      "metadata": {
        "collapsed": true,
        "outputExpanded": false,
        "jupyter": {
          "source_hidden": false,
          "outputs_hidden": false
        },
        "nteract": {
          "transient": {
            "deleting": false
          }
        },
        "execution": {
          "iopub.status.busy": "2020-04-17T20:54:05.451Z",
          "iopub.execute_input": "2020-04-17T20:54:05.457Z",
          "iopub.status.idle": "2020-04-17T20:54:05.467Z",
          "shell.execute_reply": "2020-04-17T20:54:05.490Z"
        }
      }
    },
    {
      "cell_type": "code",
      "source": [
        "# Heatmap of correlation plot\n",
        "plt.figure(figsize=(9,7))\n",
        "sns.heatmap(x_train.corr(), cmap='RdYlGn')\n",
        "plt.show()"
      ],
      "outputs": [
        {
          "output_type": "display_data",
          "data": {
            "text/plain": [
              "<Figure size 648x504 with 2 Axes>"
            ],
            "image/png": "[encoded data removed]"
          },
          "metadata": {
            "needs_background": "light"
          }
        }
      ],
      "execution_count": 4,
      "metadata": {
        "collapsed": true,
        "outputExpanded": false,
        "jupyter": {
          "source_hidden": false,
          "outputs_hidden": false
        },
        "nteract": {
          "transient": {
            "deleting": false
          }
        },
        "execution": {
          "iopub.status.busy": "2020-04-17T15:15:57.901Z",
          "iopub.execute_input": "2020-04-17T15:15:57.906Z",
          "iopub.status.idle": "2020-04-17T15:16:02.172Z",
          "shell.execute_reply": "2020-04-17T15:16:02.291Z"
        }
      }
    },
    {
      "cell_type": "code",
      "source": [
        "x_train_o = x_train\n",
        "x_train = x_train.drop('class_label', axis=1)\n",
        "x_train = x_train.drop('index', axis=1)\n",
        "x_train = x_train.drop('clicks', axis=1)\n",
        "x_train = x_train.drop('impressions', axis=1)\n",
        "x_train = x_train.drop('CTR', axis=1)\n",
        "x_train = x_train.drop('pCTR', axis=1)\n",
        "\n",
        "x_test_o = x_test\n",
        "x_test = x_test.drop('class_label', axis=1)\n",
        "x_test = x_test.drop('index', axis=1)\n",
        "x_test = x_test.drop('clicks', axis=1)\n",
        "x_test = x_test.drop('impressions', axis=1)\n",
        "x_test = x_test.drop('CTR', axis=1)\n",
        "x_test = x_test.drop('pCTR', axis=1)\n",
        "\n",
        "print(x_train.shape)\n",
        "print(x_test.shape)"
      ],
      "outputs": [
        {
          "output_type": "stream",
          "name": "stdout",
          "text": [
            "(974891, 43)\n",
            "(243708, 43)\n"
          ]
        }
      ],
      "execution_count": 4,
      "metadata": {
        "collapsed": true,
        "outputExpanded": false,
        "jupyter": {
          "source_hidden": false,
          "outputs_hidden": false
        },
        "nteract": {
          "transient": {
            "deleting": false
          }
        },
        "execution": {
          "iopub.status.busy": "2020-04-17T21:06:52.566Z",
          "iopub.execute_input": "2020-04-17T21:06:52.569Z",
          "iopub.status.idle": "2020-04-17T21:06:53.245Z",
          "shell.execute_reply": "2020-04-17T21:06:53.268Z"
        }
      }
    },
    {
      "cell_type": "code",
      "source": [
        "# We also expand query’s tokens, title’s tokens, description’s tokens and keyword’s tokens into binary features.\n",
        "# That is, if a token occurs in title, query, description or keyword, the corresponding value in the feature vector will be\n",
        "# 1, or 0 otherwise\n",
        "\n",
        "\n",
        "\n",
        "# one-hot encoding of Keyword feature.\n",
        "train = [str (item) for item in x_train['KeyId']]\n",
        "test = [str (item) for item in x_test['KeyId']]\n",
        "keyword_vectorizer = CountVectorizer(binary=True)\n",
        "bow_train_keyword = keyword_vectorizer.fit_transform(train)\n",
        "bow_test_keyword = keyword_vectorizer.transform(test)\n",
        "\n",
        "#train = [str (item) for item in x_train['Gender']]\n",
        "#test = [str (item) for item in x_test['Gender']]\n",
        "#user_gender_vectorizer = CountVectorizer(binary=True)\n",
        "#bow_train_gender = user_gender_vectorizer.fit_transform(train)\n",
        "#bow_test_gender = user_gender_vectorizer.transform(test)\n",
        "\n",
        "#train = [str (item) for item in x_train['Age']]\n",
        "#test = [str (item) for item in x_test['Age']]\n",
        "#user_age_vectorizer = CountVectorizer(binary=True)\n",
        "#bow_train_age = user_age_vectorizer.fit_transform(train)\n",
        "#bow_test_age = user_age_vectorizer.transform(test)\n",
        "\n",
        "train = [str (item) for item in x_train['QId']]\n",
        "test = [str (item) for item in x_test['QId']]\n",
        "query_vectorizer = CountVectorizer(binary=True)\n",
        "bow_train_query = query_vectorizer.fit_transform(train)\n",
        "bow_test_query = query_vectorizer.transform(test)\n",
        "\n",
        "train = [str (item) for item in x_train['DescId']]\n",
        "test = [str (item) for item in x_test['DescId']]\n",
        "desc_vectorizer = CountVectorizer(binary=True)\n",
        "bow_train_desc = desc_vectorizer.fit_transform(train)\n",
        "bow_test_desc = desc_vectorizer.transform(test)\n",
        "\n",
        "train = [str (item) for item in x_train['TitleId']]\n",
        "test = [str (item) for item in x_test['TitleId']]\n",
        "title_vectorizer = CountVectorizer(binary=True)\n",
        "bow_train_title = title_vectorizer.fit_transform(train)\n",
        "bow_test_title = title_vectorizer.transform(test)\n",
        "\n",
        "train = [str (item) for item in x_train['AdId']]\n",
        "test = [str (item) for item in x_test['AdId']]\n",
        "add_vectorizer = CountVectorizer(binary=True)\n",
        "bow_train_add = add_vectorizer.fit_transform(train)\n",
        "bow_test_add = add_vectorizer.transform(test)\n",
        "\n",
        "train = [str (item) for item in x_train['AdvId']]\n",
        "test = [str (item) for item in x_test['AdvId']]\n",
        "adv_vectorizer = CountVectorizer(binary=True)\n",
        "bow_train_adv = adv_vectorizer.fit_transform(train)\n",
        "bow_test_adv = adv_vectorizer.transform(test)\n",
        "\n",
        "train = [str (item) for item in x_train['AdURL']]\n",
        "test = [str (item) for item in x_test['AdURL']]\n",
        "adurl_vectorizer = CountVectorizer(binary=True)\n",
        "bow_train_adurl = adurl_vectorizer.fit_transform(train)\n",
        "bow_test_adurl = adurl_vectorizer.transform(test)"
      ],
      "outputs": [],
      "execution_count": 5,
      "metadata": {
        "collapsed": true,
        "outputExpanded": false,
        "jupyter": {
          "source_hidden": false,
          "outputs_hidden": false
        },
        "nteract": {
          "transient": {
            "deleting": false
          }
        },
        "execution": {
          "iopub.status.busy": "2020-04-17T21:06:53.297Z",
          "iopub.execute_input": "2020-04-17T21:06:53.340Z",
          "iopub.status.idle": "2020-04-17T21:07:15.992Z",
          "shell.execute_reply": "2020-04-17T21:07:16.013Z"
        }
      }
    },
    {
      "cell_type": "code",
      "source": [
        "x_train_sparse = csr_matrix(x_train.values)\n",
        "train_data = hstack((x_train_sparse,bow_train_keyword,bow_train_query,bow_train_desc,bow_train_title,bow_train_add,bow_train_adv,bow_train_adurl))\n",
        "\n",
        "x_test_sparse = csr_matrix(x_test.values)\n",
        "test_data = hstack((x_test_sparse,bow_test_keyword,bow_test_query,bow_test_desc,bow_test_title,bow_test_add,bow_test_adv,bow_test_adurl))"
      ],
      "outputs": [],
      "execution_count": 6,
      "metadata": {
        "collapsed": true,
        "outputExpanded": false,
        "jupyter": {
          "source_hidden": false,
          "outputs_hidden": false
        },
        "nteract": {
          "transient": {
            "deleting": false
          }
        },
        "execution": {
          "iopub.status.busy": "2020-04-17T21:07:15.999Z",
          "iopub.execute_input": "2020-04-17T21:07:16.003Z",
          "iopub.status.idle": "2020-04-17T21:07:19.950Z",
          "shell.execute_reply": "2020-04-17T21:07:19.963Z"
        }
      }
    },
    {
      "cell_type": "code",
      "source": [
        "train_normalized = normalize(train_data, axis=1)\n",
        "test_normalized = normalize(test_data , axis=1)"
      ],
      "outputs": [],
      "execution_count": 7,
      "metadata": {
        "collapsed": true,
        "outputExpanded": false,
        "jupyter": {
          "source_hidden": false,
          "outputs_hidden": false
        },
        "nteract": {
          "transient": {
            "deleting": false
          }
        },
        "execution": {
          "iopub.status.busy": "2020-04-17T21:07:19.956Z",
          "iopub.execute_input": "2020-04-17T21:07:19.959Z",
          "iopub.status.idle": "2020-04-17T21:07:20.670Z",
          "shell.execute_reply": "2020-04-17T21:07:20.716Z"
        }
      }
    },
    {
      "cell_type": "code",
      "source": [
        "def scoreClickAUC(num_clicks, num_impressions, predicted_ctr):\n",
        "    \"\"\"\n",
        "    Calculates the area under the ROC curve (AUC) for click rates\n",
        "\n",
        "    Parameters\n",
        "    ----------\n",
        "    num_clicks : a list containing the number of clicks\n",
        "\n",
        "    num_impressions : a list containing the number of impressions\n",
        "\n",
        "    predicted_ctr : a list containing the predicted click-through rates\n",
        "\n",
        "    Returns\n",
        "    ------- a under the ROC curve (AUC) for click rates\n",
        "    \"\"\"\n",
        "     #sorting the values in descending order and store the index\n",
        "    i_sorted = sorted(range(len(predicted_ctr)),key=lambda i: predicted_ctr[i],\n",
        "                      reverse=True)\n",
        "    auc_temp = 0.0\n",
        "    click_sum = 0.0\n",
        "    old_click_sum = 0.0\n",
        "    no_click = 0.0\n",
        "    no_click_sum = 0.0\n",
        "\n",
        "    # treat all instances with the same predicted_ctr as coming from the same bucket\n",
        "    last_ctr = predicted_ctr[i_sorted[0]] + 1.0\n",
        "\n",
        "    for i in range(len(predicted_ctr)):\n",
        "        # when prev_ctr value at i-1 not match with current ctr value at i\n",
        "        if last_ctr != predicted_ctr[i_sorted[i]]: \n",
        "            auc_temp += (click_sum+old_click_sum) * no_click / 2.0        \n",
        "            old_click_sum = click_sum\n",
        "            no_click = 0.0\n",
        "            last_ctr = predicted_ctr[i_sorted[i]] #updating the last ctr value \n",
        "        # Calculating negative sample as #impressions - #clicks    \n",
        "        no_click += num_impressions[i_sorted[i]] - num_clicks[i_sorted[i]]\n",
        "        no_click_sum += num_impressions[i_sorted[i]] - num_clicks[i_sorted[i]]\n",
        "        # Calculating postive samples as # of clicks \n",
        "        click_sum += num_clicks[i_sorted[i]]\n",
        "    auc_temp += (click_sum+old_click_sum) * no_click / 2.0\n",
        "    auc = auc_temp / (click_sum * no_click_sum) # That is the scaling to a total area of 1\n",
        "    return auc"
      ],
      "outputs": [],
      "execution_count": 8,
      "metadata": {
        "collapsed": true,
        "outputExpanded": false,
        "jupyter": {
          "source_hidden": false,
          "outputs_hidden": false
        },
        "nteract": {
          "transient": {
            "deleting": false
          }
        },
        "execution": {
          "iopub.status.busy": "2020-04-17T21:07:20.676Z",
          "iopub.execute_input": "2020-04-17T21:07:20.679Z",
          "iopub.status.idle": "2020-04-17T21:07:20.684Z",
          "shell.execute_reply": "2020-04-17T21:07:20.718Z"
        }
      }
    },
    {
      "cell_type": "code",
      "source": [
        "# To plot confusion matrix.\n",
        "def plot_confusion_matrix(y_test, pred):\n",
        "    C = confusion_matrix(y_test, pred)\n",
        "    \n",
        "    labels = [0,1]\n",
        "    print(\"-\"*20, \"Confusion matrix\", \"-\"*20)\n",
        "    plt.figure(figsize=(10,4))\n",
        "    sns.heatmap(C, annot=True, cmap=\"YlGnBu\", fmt=\".3f\", xticklabels=labels, yticklabels=labels)\n",
        "    plt.xlabel('Predicted Class')\n",
        "    plt.ylabel('Original Class')\n",
        "    plt.show()"
      ],
      "outputs": [],
      "execution_count": 9,
      "metadata": {
        "collapsed": true,
        "outputExpanded": false,
        "jupyter": {
          "source_hidden": false,
          "outputs_hidden": false
        },
        "nteract": {
          "transient": {
            "deleting": false
          }
        },
        "execution": {
          "iopub.status.busy": "2020-04-17T21:07:20.690Z",
          "iopub.execute_input": "2020-04-17T21:07:20.693Z",
          "iopub.status.idle": "2020-04-17T21:07:20.698Z",
          "shell.execute_reply": "2020-04-17T21:07:20.721Z"
        }
      }
    },
    {
      "cell_type": "code",
      "source": [
        "cv_scores = []\n",
        "tuned_parameters = {'max_depth': [25,40,75,100]}\n",
        "#k = StratifiedKFold(n_splits=5)\n",
        "random_dt = RandomizedSearchCV(DecisionTreeClassifier(), tuned_parameters, scoring = 'roc_auc', cv=2)\n",
        "random_dt.fit(x_train,y_train)\n",
        "print(\"Best Estimator: \")\n",
        "model_dt = random_dt.best_estimator_\n",
        "print(model_dt)\n",
        "print(\"******\"*20)\n",
        "pred_train = random_dt.predict(x_train)\n",
        "pred_test = random_dt.predict(x_test)\n",
        "\n",
        "plot_confusion_matrix(pred_test,y_test)\n",
        "\n",
        "ns_probs = [0 for _ in range(len(y_test))]\n",
        "dt_probs_train = random_dt.predict_proba(x_train)\n",
        "dt_probs_train = dt_probs_train[:, 1]\n",
        "dt_probs_test = random_dt.predict_proba(x_test)\n",
        "dt_probs_test = dt_probs_test[:, 1]\n",
        "ns_fpr, ns_tpr, _ = roc_curve(y_test, ns_probs)\n",
        "dt_fpr, dt_tpr, _ = roc_curve(y_test, dt_probs_test)\n",
        "plt.plot(ns_fpr, ns_tpr, linestyle='--', label='No Skill')\n",
        "plt.plot(dt_fpr, dt_tpr, marker='.', label='Decision Tree')\n",
        "    # axis labels\n",
        "plt.xlabel('False Positive Rate')\n",
        "plt.ylabel('True Positive Rate')\n",
        "    # show the legend\n",
        "plt.legend()\n",
        "    # show the plot\n",
        "plt.show()\n",
        "roc_auc_train = scoreClickAUC(x_train_o['clicks'],x_train_o['impressions'],dt_probs_train)\n",
        "roc_auc_test = scoreClickAUC(x_test_o['clicks'],x_test_o['impressions'],dt_probs_test)\n",
        "print(\"scoreKDD train AUC:\", roc_auc_train)\n",
        "print(\"scoreKDD test AUC:\", roc_auc_test)"
      ],
      "outputs": [
        {
          "output_type": "stream",
          "name": "stdout",
          "text": [
            "Best Estimator: \n",
            "DecisionTreeClassifier(ccp_alpha=0.0, class_weight=None, criterion='gini',\n",
            "                       max_depth=25, max_features=None, max_leaf_nodes=None,\n",
            "                       min_impurity_decrease=0.0, min_impurity_split=None,\n",
            "                       min_samples_leaf=1, min_samples_split=2,\n",
            "                       min_weight_fraction_leaf=0.0, presort='deprecated',\n",
            "                       random_state=None, splitter='best')\n",
            "************************************************************************************************************************\n",
            "-------------------- Confusion matrix --------------------\n"
          ]
        },
        {
          "output_type": "display_data",
          "data": {
            "text/plain": [
              "<Figure size 720x288 with 2 Axes>"
            ],
            "image/png": "[encoded data removed]"
          },
          "metadata": {
            "needs_background": "light"
          }
        },
        {
          "output_type": "display_data",
          "data": {
            "text/plain": [
              "<Figure size 432x288 with 1 Axes>"
            ],
            "image/png": "[encoded data removed]"
          },
          "metadata": {
            "needs_background": "light"
          }
        },
        {
          "output_type": "stream",
          "name": "stdout",
          "text": [
            "scoreKDD train AUC: 0.7649609906143584\n",
            "scoreKDD test AUC: 0.48004066230007\n"
          ]
        }
      ],
      "execution_count": 10,
      "metadata": {
        "collapsed": true,
        "outputExpanded": false,
        "jupyter": {
          "source_hidden": false,
          "outputs_hidden": false
        },
        "nteract": {
          "transient": {
            "deleting": false
          }
        },
        "execution": {
          "iopub.status.busy": "2020-04-17T21:07:20.703Z",
          "iopub.execute_input": "2020-04-17T21:07:20.707Z",
          "iopub.status.idle": "2020-04-17T21:09:09.714Z",
          "shell.execute_reply": "2020-04-17T21:09:09.737Z"
        }
      }
    },
    {
      "cell_type": "markdown",
      "source": [
        "Random Forest"
      ],
      "metadata": {
        "nteract": {
          "transient": {
            "deleting": false
          }
        }
      }
    },
    {
      "cell_type": "code",
      "source": [
        "cv_scores = []\n",
        "tuned_parameters = {'n_estimators': [100,200,400,500], 'max_depth': [25,35,50,80]}\n",
        "#k = StratifiedKFold(n_splits=5)\n",
        "random_lr = RandomizedSearchCV(RandomForestClassifier(), tuned_parameters, scoring = 'roc_auc', cv=2)\n",
        "random_lr.fit(x_train,y_train)\n",
        "print(\"Best Estimator: \")\n",
        "model_rdlr = random_lr.best_estimator_\n",
        "print(model_rdlr)\n",
        "print(\"******\"*20)\n",
        "pred_train = random_lr.predict(x_train)\n",
        "pred_test = random_lr.predict(x_test)\n",
        "\n",
        "plot_confusion_matrix(pred_test,y_test)\n",
        "\n",
        "ns_probs = [0 for _ in range(len(y_test))]\n",
        "rf_probs_train = random_lr.predict_proba(x_train)\n",
        "rf_probs_train = rf_probs_train[:, 1]\n",
        "rf_probs_test = random_lr.predict_proba(x_test)\n",
        "rf_probs_test = rf_probs_test[:, 1]\n",
        "ns_fpr, ns_tpr, _ = roc_curve(y_test, ns_probs)\n",
        "rf_fpr, rf_tpr, _ = roc_curve(y_test, rf_probs_test)\n",
        "plt.plot(ns_fpr, ns_tpr, linestyle='--', label='No Skill')\n",
        "plt.plot(rf_fpr, rf_tpr, marker='.', label='Random Forest')\n",
        "    # axis labels\n",
        "plt.xlabel('False Positive Rate')\n",
        "plt.ylabel('True Positive Rate')\n",
        "    # show the legend\n",
        "plt.legend()\n",
        "    # show the plot\n",
        "plt.show()\n",
        "roc_auc_train = scoreClickAUC(x_train['clicks'],x_train['impressions'],rf_probs_train)\n",
        "roc_auc_test = scoreClickAUC(x_test['clicks'],x_test['impressions'],rf_probs_test)\n",
        "print(\"scoreKDD train AUC:\", roc_auc_train)\n",
        "print(\"scoreKDD test AUC:\", roc_auc_test)"
      ],
      "outputs": [],
      "execution_count": null,
      "metadata": {
        "collapsed": true,
        "outputExpanded": false,
        "jupyter": {
          "source_hidden": false,
          "outputs_hidden": false
        },
        "nteract": {
          "transient": {
            "deleting": false
          }
        },
        "execution": {
          "iopub.status.busy": "2020-04-17T21:06:09.328Z",
          "iopub.execute_input": "2020-04-17T21:06:09.333Z",
          "iopub.status.idle": "2020-04-17T16:30:14.424Z",
          "shell.execute_reply": "2020-04-17T16:30:14.429Z"
        }
      }
    },
    {
      "cell_type": "markdown",
      "source": [
        "XGBOOST"
      ],
      "metadata": {
        "nteract": {
          "transient": {
            "deleting": false
          }
        }
      }
    },
    {
      "cell_type": "code",
      "source": [
        "\n",
        "x_cfl=XGBClassifier(n_estimators=455,max_depth=3,learning_rate=0.1373,colsample_bytree=0.65,subsample=1)\n",
        "x_cfl.fit(x_train,y_train,verbose=True)\n",
        "\n",
        "predict_y = x_cfl.predict(x_train)\n",
        "\n",
        "predict_y = x_cfl.predict(x_test)\n",
        "plot_confusion_matrix(y_test, predict_y)\n",
        "\n",
        "ns_probs = [0 for _ in range(len(y_test))]\n",
        "xg_probs_train = x_cfl.predict_proba(x_train)\n",
        "xg_probs_train = xg_probs_train[:, 1]\n",
        "xg_probs_test = x_cfl.predict_proba(x_test)\n",
        "xg_probs_test = xg_probs_test[:, 1]\n",
        "ns_fpr, ns_tpr, _ = roc_curve(y_test, ns_probs)\n",
        "xg_fpr, xg_tpr, _ = roc_curve(y_test, xg_probs_test)\n",
        "plt.plot(ns_fpr, ns_tpr, linestyle='--', label='No Skill')\n",
        "plt.plot(xg_fpr, xg_tpr, marker='.', label='Random Forest')\n",
        "    # axis labels\n",
        "plt.xlabel('False Positive Rate')\n",
        "plt.ylabel('True Positive Rate')\n",
        "    # show the legend\n",
        "plt.legend()\n",
        "    # show the plot\n",
        "plt.show()\n",
        "roc_auc_train = scoreClickAUC(x_train_o['clicks'],x_train_o['impressions'],xg_probs_train)\n",
        "roc_auc_test = scoreClickAUC(x_test_o['clicks'],x_test_o['impressions'],xg_probs_test)\n",
        "print(\"scoreKDD train AUC:\", roc_auc_train)\n",
        "print(\"scoreKDD test AUC:\", roc_auc_test)\n",
        "\n",
        "print(\"-\"*20, \"Feature Importance\", \"-\"*20)\n",
        "\n",
        "features = x_train.columns\n",
        "importances = x_cfl.feature_importances_\n",
        "indices = (np.argsort(importances))[-10:]\n",
        "plt.figure(figsize=(8,8))\n",
        "plt.title('Feature Importances')\n",
        "plt.barh(range(len(indices)), importances[indices], color='b', align='center')\n",
        "plt.yticks(range(len(indices)), [features[i] for i in indices])\n",
        "plt.xlabel('Relative Importance')\n",
        "plt.show()\n"
      ],
      "outputs": [
        {
          "output_type": "stream",
          "name": "stdout",
          "text": [
            "-------------------- Confusion matrix --------------------\n"
          ]
        },
        {
          "output_type": "display_data",
          "data": {
            "text/plain": [
              "<Figure size 720x288 with 2 Axes>"
            ],
            "image/png": "[encoded data removed]"
          },
          "metadata": {
            "needs_background": "light"
          }
        },
        {
          "output_type": "display_data",
          "data": {
            "text/plain": [
              "<Figure size 432x288 with 1 Axes>"
            ],
            "image/png": "[encoded data removed]"
          },
          "metadata": {
            "needs_background": "light"
          }
        },
        {
          "output_type": "stream",
          "name": "stdout",
          "text": [
            "scoreKDD train AUC: 0.9410732214104738\n",
            "scoreKDD test AUC: 0.4597566112257702\n",
            "-------------------- Feature Importance --------------------\n"
          ]
        },
        {
          "output_type": "display_data",
          "data": {
            "text/plain": [
              "<Figure size 576x576 with 1 Axes>"
            ],
            "image/png": "[encoded data removed]"
          },
          "metadata": {
            "needs_background": "light"
          }
        }
      ],
      "execution_count": 11,
      "metadata": {
        "collapsed": true,
        "outputExpanded": false,
        "jupyter": {
          "source_hidden": false,
          "outputs_hidden": false
        },
        "nteract": {
          "transient": {
            "deleting": false
          }
        },
        "execution": {
          "iopub.status.busy": "2020-04-17T21:09:09.720Z",
          "iopub.execute_input": "2020-04-17T21:09:09.724Z",
          "iopub.status.idle": "2020-04-17T21:11:18.184Z",
          "shell.execute_reply": "2020-04-17T21:11:18.189Z"
        }
      }
    },
    {
      "cell_type": "code",
      "source": [],
      "outputs": [],
      "execution_count": null,
      "metadata": {
        "collapsed": true,
        "outputExpanded": false,
        "jupyter": {
          "source_hidden": false,
          "outputs_hidden": false
        },
        "nteract": {
          "transient": {
            "deleting": false
          }
        }
      }
    },
    {
      "cell_type": "code",
      "source": [],
      "outputs": [],
      "execution_count": null,
      "metadata": {
        "collapsed": true,
        "outputExpanded": false,
        "jupyter": {
          "source_hidden": false,
          "outputs_hidden": false
        },
        "nteract": {
          "transient": {
            "deleting": false
          }
        }
      }
    },
    {
      "cell_type": "code",
      "source": [],
      "outputs": [],
      "execution_count": null,
      "metadata": {
        "collapsed": true,
        "outputExpanded": false,
        "jupyter": {
          "source_hidden": false,
          "outputs_hidden": false
        },
        "nteract": {
          "transient": {
            "deleting": false
          }
        }
      }
    },
    {
      "cell_type": "code",
      "source": [],
      "outputs": [],
      "execution_count": null,
      "metadata": {
        "collapsed": true,
        "outputExpanded": false,
        "jupyter": {
          "source_hidden": false,
          "outputs_hidden": false
        },
        "nteract": {
          "transient": {
            "deleting": false
          }
        }
      }
    },
    {
      "cell_type": "code",
      "source": [],
      "outputs": [],
      "execution_count": null,
      "metadata": {
        "collapsed": true,
        "outputExpanded": false,
        "jupyter": {
          "source_hidden": false,
          "outputs_hidden": false
        },
        "nteract": {
          "transient": {
            "deleting": false
          }
        }
      }
    },
    {
      "cell_type": "code",
      "source": [],
      "outputs": [],
      "execution_count": null,
      "metadata": {
        "collapsed": true,
        "outputExpanded": false,
        "jupyter": {
          "source_hidden": false,
          "outputs_hidden": false
        },
        "nteract": {
          "transient": {
            "deleting": false
          }
        }
      }
    },
    {
      "cell_type": "code",
      "source": [],
      "outputs": [],
      "execution_count": null,
      "metadata": {
        "collapsed": true,
        "outputExpanded": false,
        "jupyter": {
          "source_hidden": false,
          "outputs_hidden": false
        },
        "nteract": {
          "transient": {
            "deleting": false
          }
        }
      }
    },
    {
      "cell_type": "code",
      "source": [],
      "outputs": [],
      "execution_count": null,
      "metadata": {
        "collapsed": true,
        "outputExpanded": false,
        "jupyter": {
          "source_hidden": false,
          "outputs_hidden": false
        },
        "nteract": {
          "transient": {
            "deleting": false
          }
        }
      }
    },
    {
      "cell_type": "code",
      "source": [],
      "outputs": [],
      "execution_count": null,
      "metadata": {
        "collapsed": true,
        "outputExpanded": false,
        "jupyter": {
          "source_hidden": false,
          "outputs_hidden": false
        },
        "nteract": {
          "transient": {
            "deleting": false
          }
        }
      }
    },
    {
      "cell_type": "code",
      "source": [],
      "outputs": [],
      "execution_count": null,
      "metadata": {
        "collapsed": true,
        "outputExpanded": false,
        "jupyter": {
          "source_hidden": false,
          "outputs_hidden": false
        },
        "nteract": {
          "transient": {
            "deleting": false
          }
        }
      }
    }
  ],
  "metadata": {
    "kernel_info": {
      "name": "base"
    },
    "language_info": {
      "name": "python",
      "version": "3.7.3",
      "mimetype": "text/x-python",
      "codemirror_mode": {
        "name": "ipython",
        "version": 3
      },
      "pygments_lexer": "ipython3",
      "nbconvert_exporter": "python",
      "file_extension": ".py"
    },
    "kernelspec": {
      "argv": [
        "/Users/kaushik/anaconda3/bin/python",
        "-m",
        "ipykernel_launcher",
        "-f",
        "{connection_file}"
      ],
      "display_name": "base",
      "language": "python",
      "name": "base"
    },
    "nteract": {
      "version": "0.22.4"
    }
  },
  "nbformat": 4,
  "nbformat_minor": 0
}