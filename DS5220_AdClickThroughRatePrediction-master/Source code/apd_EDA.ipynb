{
  "cells": [
    {
      "cell_type": "markdown",
      "source": [
        "<h1> 1. Business Problem </h1>"
      ],
      "metadata": {
        "id": "XhMZKjSus9FW",
        "colab_type": "text"
      }
    },
    {
      "cell_type": "markdown",
      "source": [
        "<h2>1.1 Problem Description </h2>"
      ],
      "metadata": {
        "id": "rwGUHZXes9Fb",
        "colab_type": "text"
      }
    },
    {
      "cell_type": "markdown",
      "source": [
        "__ Introduction: <br> Clickthrough rate (CTR) __\n",
        "is a ratio showing how often people who see your ad end up clicking it. Clickthrough rate (CTR) can be used to gauge how well your keywords and ads are performing.\n",
        "\n",
        "- CTR is the number of clicks that your ad receives divided by the number of times your ad is shown: clicks ÷ impressions = CTR. For example, if you had 5 clicks and 100 impressions, then your CTR would be 5%.\n",
        "\n",
        "- Each of your ads and keywords have their own CTRs that you can see listed in your account.\n",
        "- A high CTR is a good indication that users find your ads helpful and relevant. CTR also contributes to your keyword's expected CTR, which is a component of Ad Rank. Note that a good CTR is relative to what you're advertising and on which networks.\n",
        "> Credits: Google (https://support.google.com/adwords/answer/2615875?hl=en) \n",
        "\n",
        "<p> Search advertising has been one of the major revenue sources of the Internet industry for years. A key technology behind search advertising is to predict the click-through rate (pCTR) of ads, as the economic model behind search advertising requires pCTR values to rank ads and to price clicks.<b> In this task, given the training instances derived from session logs of the Tencent proprietary search engine, soso.com, participants are expected to accurately predict the pCTR of ads in the testing instances. </b></p>"
      ],
      "metadata": {
        "id": "N4T9UYbds9Fc",
        "colab_type": "text"
      }
    },
    {
      "cell_type": "markdown",
      "source": [
        "<h2>1.2 Source/Useful Links </h2>"
      ],
      "metadata": {
        "id": "rc9fpoc0s9Fd",
        "colab_type": "text"
      }
    },
    {
      "cell_type": "markdown",
      "source": [
        "__ Source __ : https://www.kaggle.com/c/kddcup2012-track2 <br>\n",
        "__ Dropbox Links __: https://www.dropbox.com/sh/k84z8y9n387ptjb/AAA8O8IDFsSRhOhaLfXVZcJwa?dl=0 <br>\n",
        "__ Blog __ :https://hivemall.incubator.apache.org/userguide/regression/kddcup12tr2_dataset.html"
      ],
      "metadata": {
        "id": "TzGvxwF-s9Fe",
        "colab_type": "text"
      }
    },
    {
      "cell_type": "markdown",
      "source": [
        "<h2> 1.3 Real-world/Business Objectives and Constraints </h2>"
      ],
      "metadata": {
        "id": "a4vzlCDms9Ff",
        "colab_type": "text"
      }
    },
    {
      "cell_type": "markdown",
      "source": [
        "Objective: Predict the pClick (probability of click) as accurately as possible.\n",
        "\n",
        "Constraints: Low latency, Interpretability."
      ],
      "metadata": {
        "id": "7jf5S1Ess9Fg",
        "colab_type": "text"
      }
    },
    {
      "cell_type": "markdown",
      "source": [
        "<h1>2. Machine Learning problem </h1>"
      ],
      "metadata": {
        "id": "RbAGemNxs9Fh",
        "colab_type": "text"
      }
    },
    {
      "cell_type": "markdown",
      "source": [
        "<h2>2.1 Data </h2>"
      ],
      "metadata": {
        "id": "AZtZShcus9Fi",
        "colab_type": "text"
      }
    },
    {
      "cell_type": "markdown",
      "source": [
        "<h3> 2.1.1 Data Overview </h3>"
      ],
      "metadata": {
        "id": "icFAoBZvs9Fj",
        "colab_type": "text"
      }
    },
    {
      "cell_type": "markdown",
      "source": [
        "<table style=\"width:50%;text-align:center;\">\n",
        "<caption style=\"text-align:center;\">Data Files</caption>\n",
        "<tr>\n",
        "<td><b>Filename</b></td><td><b>Available Format</b></td>\n",
        "</tr>\n",
        "<tr>\n",
        "<td>training</td><td>.txt (9.9Gb)</td>\n",
        "</tr>\n",
        "<tr>\n",
        "<td>queryid_tokensid</td><td>.txt (704Mb)</td>\n",
        "</tr>\n",
        "<tr>\n",
        "<td>purchasedkeywordid_tokensid</td><td>.txt (26Mb)</td>\n",
        "</tr>\n",
        "<tr>\n",
        "<td>titleid_tokensid</td><td>.txt (172Mb)</td>\n",
        "</tr>\n",
        "<tr>\n",
        "<td>descriptionid_tokensid</td><td>.txt (268Mb)</td>\n",
        "</tr>\n",
        "<tr>\n",
        "<td>userid_profile</td><td>.txt (284Mb)</td>\n",
        "</tr>\n",
        "</table>\n",
        "\n",
        "<table style=\"width:100%\">\n",
        "  <caption style=\"text-align:center;\">training.txt</caption>\n",
        "  <tr>\n",
        "    <th>Feature</th>\n",
        "    <th>Description</th>\n",
        "  </tr>\n",
        "  <tr>\n",
        "    <td>UserID</td>\n",
        "    <td>The unique id for each user</td>\n",
        "    </tr>\n",
        "  <tr>\n",
        "    <td>AdID</td>\n",
        "    <td>The unique id for each ad</td>\n",
        "  </tr>\n",
        "  <tr>\n",
        "    <td>QueryID</td>\n",
        "    <td>The unique id for each Query (it is a primary key in Query table(queryid_tokensid.txt))</td>\n",
        "  </tr>\n",
        "  <tr>\n",
        "    <td>Depth</td>\n",
        "    <td>The number of ads impressed in a session is known as the 'depth'. </td>\n",
        "  </tr>\n",
        "  <tr>\n",
        "    <td>Position</td>\n",
        "    <td>The order of an ad in the impression list is known as the ‘position’ of that ad.</td>\n",
        "  </tr>\n",
        "  <tr>\n",
        "    <td>Impression</td>\n",
        "    <td>The number of search sessions in which the ad (AdID) was impressed by the user (UserID) who issued the query (Query).</td>\n",
        "  </tr>\n",
        "  <tr>\n",
        "    <td>Click</td>\n",
        "    <td>The number of times, among the above impressions, the user (UserID) clicked the ad (AdID).</td>\n",
        "  </tr>\n",
        "  <tr>\n",
        "    <td>TitleId</td>\n",
        "    <td>A property of ads. This is the key of 'titleid_tokensid.txt'. [An Ad, when impressed, would be displayed as a short text known as ’title’, followed by a slightly longer text known as the ’description’, and a URL (usually shortened to save screen space) known as ’display URL’.]</td>\n",
        "  </tr>\n",
        "  <tr>\n",
        "    <td>DescId</td>\n",
        "    <td>A property of ads.  This is the key of 'descriptionid_tokensid.txt'. [An Ad, when impressed, would be displayed as a short text known as ’title’, followed by a slightly longer text known as the ’description’, and a URL (usually shortened to save screen space) known as ’display URL’.]</td>\n",
        "  </tr>\n",
        "  <tr>\n",
        "    <td>AdURL</td>\n",
        "    <td>The URL is shown together with the title and description of an ad. It is usually the shortened landing page URL of the ad, but not always. In the data file,  this URL is hashed for anonymity.</td>\n",
        "  </tr>\n",
        "  <tr>\n",
        "    <td>KeyId</td>\n",
        "    <td>A property of ads. This is the key of  'purchasedkeyword_tokensid.txt'.</td>\n",
        "  </tr>\n",
        "  <tr>\n",
        "    <td>AdvId</td>\n",
        "    <td>a property of the ad. Some advertisers consistently optimize their ads, so the title and description of their ads are more attractive than those of others’ ads.</td>\n",
        "  </tr>\n",
        "</table>\n",
        "\n",
        "___\n",
        "There are five additional data files, as mentioned in the above section: \n",
        "\n",
        "1. queryid_tokensid.txt \n",
        "\n",
        "2. purchasedkeywordid_tokensid.txt \n",
        "\n",
        "3. titleid_tokensid.txt \n",
        "\n",
        "4. descriptionid_tokensid.txt \n",
        "\n",
        "5. userid_profile.txt \n",
        "\n",
        "Each line of the first four files maps an id to a list of tokens, corresponding to the query, keyword, ad title, and ad description, respectively. In each line, a TAB character separates the id and the token set.  A token can basically be a word in a natural language. For anonymity, each token is represented by its hash value.  Tokens are delimited by the character ‘|’. \n",
        "\n",
        "Each line of ‘userid_profile.txt’ is composed of UserID, Gender, and Age, delimited by the TAB character. Note that not every UserID in the training and the testing set will be present in ‘userid_profile.txt’. Each field is described below: \n",
        "\n",
        "1. Gender:  '1'  for male, '2' for female,  and '0'  for unknown. \n",
        "\n",
        "2. Age: '1'  for (0, 12],  '2' for (12, 18], '3' for (18, 24], '4'  for  (24, 30], '5' for (30,  40], and '6' for greater than 40. "
      ],
      "metadata": {
        "id": "oTgrISUos9Fk",
        "colab_type": "text"
      }
    },
    {
      "cell_type": "markdown",
      "source": [
        "<h3> 2.1.2 Example Data point </h3>"
      ],
      "metadata": {
        "id": "nMYP_ym4s9Fl",
        "colab_type": "text"
      }
    },
    {
      "cell_type": "markdown",
      "source": [
        "__ training.txt __\n",
        "<pre>\n",
        "Click Impression\tAdURL\t     AdId\t   AdvId  Depth\tPos\t QId\t   KeyId\tTitleId\t DescId\t UId\n",
        "0\t 1\t 4298118681424644510\t7686695\t385\t    3\t  3\t 1601\t    5521\t 7709\t  576\t 490234\n",
        "0\t 1\t 4860571499428580850\t21560664\t37484\t  2\t  2\t 2255103\t317\t     48989\t  44771\t 490234\n",
        "0\t 1\t 9704320783495875564\t21748480\t36759\t  3\t  3\t 4532751\t60721\t 685038\t  29681\t 490234\n",
        "</pre>\n",
        "\n",
        "__ queryid_tokensid.txt__\n",
        "<pre>\n",
        "QId\tQuery\n",
        "0\t12731\n",
        "1\t1545|75|31\n",
        "2\t383\n",
        "3\t518|1996\n",
        "4\t4189|75|31\n",
        "</pre>\n",
        "\n",
        "__purchasedkeywordid_tokensid.txt__\n",
        "<pre>\n",
        "KId Keyword\n",
        "0\t12731\n",
        "1\t1545\n",
        "2\t477\n",
        "3\t1545|75|31\n",
        "4\t279\n",
        "</pre>\n",
        "\n",
        "__titleid_tokensid.txt__\n",
        "<pre>\n",
        "TitleId\tTitle\n",
        "0\t615|1545|75|31|1|138|1270|615|131\n",
        "1\t466|582|685|1|42|45|477|314\n",
        "2\t12731|190|513|12731|677|183\n",
        "3\t2371|3970|1|2805|4340|3|2914|10640|3688|11|834|3\n",
        "4\t165|134|460|2887|50|2|17527|1|1540|592|2181|3|...\n",
        "</pre>\n",
        "\n",
        "__descriptionid_tokensid.txt__\n",
        "<pre>\n",
        "DescId\tDescription\n",
        "0\t1545|31|40|615|1|272|18889|1|220|511|20|5270|1...\n",
        "1\t172|46|467|170|5634|5112|40|155|1965|834|21|41...\n",
        "2\t2672|6|1159|109662|123|49933|160|848|248|207|1...\n",
        "3\t13280|35|1299|26|282|477|606|1|4016|1671|771|1...\n",
        "4\t13327|99|128|494|2928|21|26500|10|11733|10|318\n",
        "</pre>\n",
        "\n",
        "__userid_profile.txt__\n",
        "<pre>\n",
        "UId\tGender\tAge\n",
        "1\t1\t5\n",
        "2\t2\t3\n",
        "3\t1\t5\n",
        "4\t1\t3\n",
        "5\t2\t1\n",
        "</pre>"
      ],
      "metadata": {
        "id": "zrom2bLis9Fm",
        "colab_type": "text"
      }
    },
    {
      "cell_type": "markdown",
      "source": [
        "<h2>2.2 Mapping the Real-world to a Machine Learning problem </h2>"
      ],
      "metadata": {
        "id": "12M5w9Q1s9Fn",
        "colab_type": "text"
      }
    },
    {
      "cell_type": "markdown",
      "source": [
        "<h3>2.2.1 Type of Machine Learning Problem </h3>"
      ],
      "metadata": {
        "id": "07XWrOMes9Fo",
        "colab_type": "text"
      }
    },
    {
      "cell_type": "markdown",
      "source": [
        "It is a regression problem as we predicting CTR = #clicks/#impressions"
      ],
      "metadata": {
        "id": "YwM1zY0Ts9Fo",
        "colab_type": "text"
      }
    },
    {
      "cell_type": "markdown",
      "source": [
        "<h3>2.2.2 Performance metric </h3>"
      ],
      "metadata": {
        "id": "kDUJ7ov7s9Fp",
        "colab_type": "text"
      }
    },
    {
      "cell_type": "markdown",
      "source": [
        "Souce : https://www.kaggle.com/c/kddcup2012-track2#Evaluation <br>\n",
        "ROC: https://www.appliedaicourse.com/course/applied-ai-course-online/lessons/receiver-operating-characteristic-curve-roc-curve-and-auc-1/"
      ],
      "metadata": {
        "id": "2aZsKSSYs9Fq",
        "colab_type": "text"
      }
    },
    {
      "cell_type": "markdown",
      "source": [
        "<h3> 2.2.3 Machine Learning Objectives and Constraints </h3>"
      ],
      "metadata": {
        "id": "Gfw4ohNNs9Fr",
        "colab_type": "text"
      }
    },
    {
      "cell_type": "markdown",
      "source": [
        "                                        ..."
      ],
      "metadata": {
        "id": "eLMHa4pLs9Fr",
        "colab_type": "text"
      }
    },
    {
      "cell_type": "code",
      "source": [
        "# Loading libraries...\n",
        "import pandas as pd    \n",
        "import numpy as np\n",
        "\n",
        "%matplotlib inline\n",
        "import matplotlib.pyplot as plt \n",
        "import seaborn as sns"
      ],
      "outputs": [],
      "execution_count": 5,
      "metadata": {
        "id": "2t_kqAiNs9Fs",
        "colab_type": "code",
        "colab": {},
        "execution": {
          "iopub.status.busy": "2020-04-06T00:37:34.029Z",
          "iopub.execute_input": "2020-04-06T00:37:34.059Z",
          "iopub.status.idle": "2020-04-06T00:37:35.069Z",
          "shell.execute_reply": "2020-04-06T00:37:35.098Z"
        }
      }
    },
    {
      "cell_type": "markdown",
      "source": [
        "<h1> 3. Exploratory Data Analysis </h1>"
      ],
      "metadata": {
        "id": "tUwM1Hlrs9Fw",
        "colab_type": "text"
      }
    },
    {
      "cell_type": "markdown",
      "source": [
        "<h2> 3.1 Reading and Preparing Data </h2>"
      ],
      "metadata": {
        "id": "35DbnCKvs9Fw",
        "colab_type": "text"
      }
    },
    {
      "cell_type": "code",
      "source": [
        "# Load Training Data..\n",
        "\n",
        "column  = ['Click', 'Impression', 'AdURL', 'AdId', 'AdvId', 'Depth', 'Pos', 'QId', 'KeyId', 'TitleId', 'DescId', 'UId']\n",
        "orignal = pd.read_csv('/Users/kaushik/Kaushik\\'s Stash/Workspace/NEU/NEU Assignments/Supervised Machine Learning (DS 5220)/DS5220_AdClickThroughRatePrediction/Data/training.txt', sep='\\t', header=None, names=column)\n",
        "orignal.head()"
      ],
      "outputs": [
        {
          "output_type": "execute_result",
          "execution_count": 10,
          "data": {
            "text/plain": [
              "   Click  Impression                 AdURL      AdId  AdvId  Depth  Pos  \\\n",
              "0      0           1   4298118681424644510   7686695    385      3    3   \n",
              "1      0           1   4860571499428580850  21560664  37484      2    2   \n",
              "2      0           1   9704320783495875564  21748480  36759      3    3   \n",
              "3      0           1  13677630321509009335   3517124  23778      3    1   \n",
              "4      0           1   3284760244799604489  20758093  34535      1    1   \n",
              "\n",
              "       QId  KeyId  TitleId  DescId     UId  \n",
              "0     1601   5521     7709     576  490234  \n",
              "1  2255103    317    48989   44771  490234  \n",
              "2  4532751  60721   685038   29681  490234  \n",
              "3     1601   2155     1207    1422  490234  \n",
              "4  4532751  77819   266618  222223  490234  "
            ],
            "text/html": [
              "<div>\n",
              "<style scoped>\n",
              "    .dataframe tbody tr th:only-of-type {\n",
              "        vertical-align: middle;\n",
              "    }\n",
              "\n",
              "    .dataframe tbody tr th {\n",
              "        vertical-align: top;\n",
              "    }\n",
              "\n",
              "    .dataframe thead th {\n",
              "        text-align: right;\n",
              "    }\n",
              "</style>\n",
              "<table border=\"1\" class=\"dataframe\">\n",
              "  <thead>\n",
              "    <tr style=\"text-align: right;\">\n",
              "      <th></th>\n",
              "      <th>Click</th>\n",
              "      <th>Impression</th>\n",
              "      <th>AdURL</th>\n",
              "      <th>AdId</th>\n",
              "      <th>AdvId</th>\n",
              "      <th>Depth</th>\n",
              "      <th>Pos</th>\n",
              "      <th>QId</th>\n",
              "      <th>KeyId</th>\n",
              "      <th>TitleId</th>\n",
              "      <th>DescId</th>\n",
              "      <th>UId</th>\n",
              "    </tr>\n",
              "  </thead>\n",
              "  <tbody>\n",
              "    <tr>\n",
              "      <th>0</th>\n",
              "      <td>0</td>\n",
              "      <td>1</td>\n",
              "      <td>4298118681424644510</td>\n",
              "      <td>7686695</td>\n",
              "      <td>385</td>\n",
              "      <td>3</td>\n",
              "      <td>3</td>\n",
              "      <td>1601</td>\n",
              "      <td>5521</td>\n",
              "      <td>7709</td>\n",
              "      <td>576</td>\n",
              "      <td>490234</td>\n",
              "    </tr>\n",
              "    <tr>\n",
              "      <th>1</th>\n",
              "      <td>0</td>\n",
              "      <td>1</td>\n",
              "      <td>4860571499428580850</td>\n",
              "      <td>21560664</td>\n",
              "      <td>37484</td>\n",
              "      <td>2</td>\n",
              "      <td>2</td>\n",
              "      <td>2255103</td>\n",
              "      <td>317</td>\n",
              "      <td>48989</td>\n",
              "      <td>44771</td>\n",
              "      <td>490234</td>\n",
              "    </tr>\n",
              "    <tr>\n",
              "      <th>2</th>\n",
              "      <td>0</td>\n",
              "      <td>1</td>\n",
              "      <td>9704320783495875564</td>\n",
              "      <td>21748480</td>\n",
              "      <td>36759</td>\n",
              "      <td>3</td>\n",
              "      <td>3</td>\n",
              "      <td>4532751</td>\n",
              "      <td>60721</td>\n",
              "      <td>685038</td>\n",
              "      <td>29681</td>\n",
              "      <td>490234</td>\n",
              "    </tr>\n",
              "    <tr>\n",
              "      <th>3</th>\n",
              "      <td>0</td>\n",
              "      <td>1</td>\n",
              "      <td>13677630321509009335</td>\n",
              "      <td>3517124</td>\n",
              "      <td>23778</td>\n",
              "      <td>3</td>\n",
              "      <td>1</td>\n",
              "      <td>1601</td>\n",
              "      <td>2155</td>\n",
              "      <td>1207</td>\n",
              "      <td>1422</td>\n",
              "      <td>490234</td>\n",
              "    </tr>\n",
              "    <tr>\n",
              "      <th>4</th>\n",
              "      <td>0</td>\n",
              "      <td>1</td>\n",
              "      <td>3284760244799604489</td>\n",
              "      <td>20758093</td>\n",
              "      <td>34535</td>\n",
              "      <td>1</td>\n",
              "      <td>1</td>\n",
              "      <td>4532751</td>\n",
              "      <td>77819</td>\n",
              "      <td>266618</td>\n",
              "      <td>222223</td>\n",
              "      <td>490234</td>\n",
              "    </tr>\n",
              "  </tbody>\n",
              "</table>\n",
              "</div>"
            ]
          },
          "metadata": {}
        }
      ],
      "execution_count": 10,
      "metadata": {
        "id": "aswBDDo7s9Fx",
        "colab_type": "code",
        "colab": {},
        "outputId": "e61958ca-a825-484c-8b6a-feacfa6e1454",
        "execution": {
          "iopub.status.busy": "2020-04-06T00:39:57.288Z",
          "iopub.execute_input": "2020-04-06T00:39:57.310Z",
          "iopub.status.idle": "2020-04-06T00:43:19.569Z",
          "shell.execute_reply": "2020-04-06T00:43:19.724Z"
        }
      }
    },
    {
      "cell_type": "code",
      "source": [
        "# Load User Data..\n",
        "\n",
        "user_col  = ['UId', 'Gender', 'Age']\n",
        "user      = pd.read_csv('/Users/kaushik/Kaushik\\'s Stash/Workspace/NEU/NEU Assignments/Supervised Machine Learning (DS 5220)/DS5220_AdClickThroughRatePrediction/Data/userid_profile.txt', sep='\\t', header=None, names=user_col)\n",
        "user.head()"
      ],
      "outputs": [
        {
          "output_type": "execute_result",
          "execution_count": 12,
          "data": {
            "text/plain": [
              "   UId  Gender  Age\n",
              "0    1       1    5\n",
              "1    2       2    3\n",
              "2    3       1    5\n",
              "3    4       1    3\n",
              "4    5       2    1"
            ],
            "text/html": [
              "<div>\n",
              "<style scoped>\n",
              "    .dataframe tbody tr th:only-of-type {\n",
              "        vertical-align: middle;\n",
              "    }\n",
              "\n",
              "    .dataframe tbody tr th {\n",
              "        vertical-align: top;\n",
              "    }\n",
              "\n",
              "    .dataframe thead th {\n",
              "        text-align: right;\n",
              "    }\n",
              "</style>\n",
              "<table border=\"1\" class=\"dataframe\">\n",
              "  <thead>\n",
              "    <tr style=\"text-align: right;\">\n",
              "      <th></th>\n",
              "      <th>UId</th>\n",
              "      <th>Gender</th>\n",
              "      <th>Age</th>\n",
              "    </tr>\n",
              "  </thead>\n",
              "  <tbody>\n",
              "    <tr>\n",
              "      <th>0</th>\n",
              "      <td>1</td>\n",
              "      <td>1</td>\n",
              "      <td>5</td>\n",
              "    </tr>\n",
              "    <tr>\n",
              "      <th>1</th>\n",
              "      <td>2</td>\n",
              "      <td>2</td>\n",
              "      <td>3</td>\n",
              "    </tr>\n",
              "    <tr>\n",
              "      <th>2</th>\n",
              "      <td>3</td>\n",
              "      <td>1</td>\n",
              "      <td>5</td>\n",
              "    </tr>\n",
              "    <tr>\n",
              "      <th>3</th>\n",
              "      <td>4</td>\n",
              "      <td>1</td>\n",
              "      <td>3</td>\n",
              "    </tr>\n",
              "    <tr>\n",
              "      <th>4</th>\n",
              "      <td>5</td>\n",
              "      <td>2</td>\n",
              "      <td>1</td>\n",
              "    </tr>\n",
              "  </tbody>\n",
              "</table>\n",
              "</div>"
            ]
          },
          "metadata": {}
        }
      ],
      "execution_count": 12,
      "metadata": {
        "id": "8wnFLsKns9F2",
        "colab_type": "code",
        "colab": {},
        "outputId": "dc89119e-72b0-4d0c-d70a-bc235343e0f6",
        "execution": {
          "iopub.status.busy": "2020-04-06T04:29:04.135Z",
          "iopub.execute_input": "2020-04-06T04:29:04.165Z",
          "iopub.status.idle": "2020-04-06T04:29:07.747Z",
          "shell.execute_reply": "2020-04-06T04:29:07.835Z"
        }
      }
    },
    {
      "cell_type": "code",
      "source": [
        "# Load Query Data..\n",
        "\n",
        "query_col = ['QId', 'Query']\n",
        "query     = pd.read_csv('/Users/kaushik/Kaushik\\'s Stash/Workspace/NEU/NEU Assignments/Supervised Machine Learning (DS 5220)/DS5220_AdClickThroughRatePrediction/Data/queryid_tokensid.txt', sep='\\t', header=None, names=query_col)\n",
        "query.head(5)"
      ],
      "outputs": [
        {
          "output_type": "execute_result",
          "execution_count": 13,
          "data": {
            "text/plain": [
              "   QId       Query\n",
              "0    0       12731\n",
              "1    1  1545|75|31\n",
              "2    2         383\n",
              "3    3    518|1996\n",
              "4    4  4189|75|31"
            ],
            "text/html": [
              "<div>\n",
              "<style scoped>\n",
              "    .dataframe tbody tr th:only-of-type {\n",
              "        vertical-align: middle;\n",
              "    }\n",
              "\n",
              "    .dataframe tbody tr th {\n",
              "        vertical-align: top;\n",
              "    }\n",
              "\n",
              "    .dataframe thead th {\n",
              "        text-align: right;\n",
              "    }\n",
              "</style>\n",
              "<table border=\"1\" class=\"dataframe\">\n",
              "  <thead>\n",
              "    <tr style=\"text-align: right;\">\n",
              "      <th></th>\n",
              "      <th>QId</th>\n",
              "      <th>Query</th>\n",
              "    </tr>\n",
              "  </thead>\n",
              "  <tbody>\n",
              "    <tr>\n",
              "      <th>0</th>\n",
              "      <td>0</td>\n",
              "      <td>12731</td>\n",
              "    </tr>\n",
              "    <tr>\n",
              "      <th>1</th>\n",
              "      <td>1</td>\n",
              "      <td>1545|75|31</td>\n",
              "    </tr>\n",
              "    <tr>\n",
              "      <th>2</th>\n",
              "      <td>2</td>\n",
              "      <td>383</td>\n",
              "    </tr>\n",
              "    <tr>\n",
              "      <th>3</th>\n",
              "      <td>3</td>\n",
              "      <td>518|1996</td>\n",
              "    </tr>\n",
              "    <tr>\n",
              "      <th>4</th>\n",
              "      <td>4</td>\n",
              "      <td>4189|75|31</td>\n",
              "    </tr>\n",
              "  </tbody>\n",
              "</table>\n",
              "</div>"
            ]
          },
          "metadata": {}
        }
      ],
      "execution_count": 13,
      "metadata": {
        "id": "EVclN-nps9F5",
        "colab_type": "code",
        "colab": {},
        "outputId": "6b44b05d-fe72-4dc0-d904-1f6743d23fc2",
        "execution": {
          "iopub.status.busy": "2020-04-06T04:29:22.517Z",
          "iopub.execute_input": "2020-04-06T04:29:22.547Z",
          "iopub.status.idle": "2020-04-06T04:29:36.700Z",
          "shell.execute_reply": "2020-04-06T04:29:36.787Z"
        }
      }
    },
    {
      "cell_type": "code",
      "source": [
        "# Load Ad Description Data..\n",
        "\n",
        "desc_col  = ['DescId', 'Description']\n",
        "desc      = pd.read_csv('/Users/kaushik/Kaushik\\'s Stash/Workspace/NEU/NEU Assignments/Supervised Machine Learning (DS 5220)/DS5220_AdClickThroughRatePrediction/Data/descriptionid_tokensid.txt', sep='\\t', header=None, names=desc_col)\n",
        "desc.head(5)"
      ],
      "outputs": [
        {
          "output_type": "execute_result",
          "execution_count": 14,
          "data": {
            "text/plain": [
              "   DescId                                        Description\n",
              "0       0  1545|31|40|615|1|272|18889|1|220|511|20|5270|1...\n",
              "1       1  172|46|467|170|5634|5112|40|155|1965|834|21|41...\n",
              "2       2  2672|6|1159|109662|123|49933|160|848|248|207|1...\n",
              "3       3  13280|35|1299|26|282|477|606|1|4016|1671|771|1...\n",
              "4       4  13327|99|128|494|2928|21|26500|10|11733|10|318..."
            ],
            "text/html": [
              "<div>\n",
              "<style scoped>\n",
              "    .dataframe tbody tr th:only-of-type {\n",
              "        vertical-align: middle;\n",
              "    }\n",
              "\n",
              "    .dataframe tbody tr th {\n",
              "        vertical-align: top;\n",
              "    }\n",
              "\n",
              "    .dataframe thead th {\n",
              "        text-align: right;\n",
              "    }\n",
              "</style>\n",
              "<table border=\"1\" class=\"dataframe\">\n",
              "  <thead>\n",
              "    <tr style=\"text-align: right;\">\n",
              "      <th></th>\n",
              "      <th>DescId</th>\n",
              "      <th>Description</th>\n",
              "    </tr>\n",
              "  </thead>\n",
              "  <tbody>\n",
              "    <tr>\n",
              "      <th>0</th>\n",
              "      <td>0</td>\n",
              "      <td>1545|31|40|615|1|272|18889|1|220|511|20|5270|1...</td>\n",
              "    </tr>\n",
              "    <tr>\n",
              "      <th>1</th>\n",
              "      <td>1</td>\n",
              "      <td>172|46|467|170|5634|5112|40|155|1965|834|21|41...</td>\n",
              "    </tr>\n",
              "    <tr>\n",
              "      <th>2</th>\n",
              "      <td>2</td>\n",
              "      <td>2672|6|1159|109662|123|49933|160|848|248|207|1...</td>\n",
              "    </tr>\n",
              "    <tr>\n",
              "      <th>3</th>\n",
              "      <td>3</td>\n",
              "      <td>13280|35|1299|26|282|477|606|1|4016|1671|771|1...</td>\n",
              "    </tr>\n",
              "    <tr>\n",
              "      <th>4</th>\n",
              "      <td>4</td>\n",
              "      <td>13327|99|128|494|2928|21|26500|10|11733|10|318...</td>\n",
              "    </tr>\n",
              "  </tbody>\n",
              "</table>\n",
              "</div>"
            ]
          },
          "metadata": {}
        }
      ],
      "execution_count": 14,
      "metadata": {
        "id": "gkTWSpsGs9F9",
        "colab_type": "code",
        "colab": {},
        "outputId": "5bc4ee72-0464-45a5-b268-5426c76afcf6",
        "execution": {
          "iopub.status.busy": "2020-04-06T04:29:41.505Z",
          "iopub.execute_input": "2020-04-06T04:29:41.532Z",
          "iopub.status.idle": "2020-04-06T04:29:44.913Z",
          "shell.execute_reply": "2020-04-06T04:29:44.939Z"
        }
      }
    },
    {
      "cell_type": "code",
      "source": [
        "# Load Ad Title Data..\n",
        "\n",
        "title_col = ['TitleId', 'Title']\n",
        "title     = pd.read_csv('/Users/kaushik/Kaushik\\'s Stash/Workspace/NEU/NEU Assignments/Supervised Machine Learning (DS 5220)/DS5220_AdClickThroughRatePrediction/Data/titleid_tokensid.txt', sep='\\t', header=None, names=title_col)\n",
        "title.head(5)"
      ],
      "outputs": [
        {
          "output_type": "execute_result",
          "execution_count": 15,
          "data": {
            "text/plain": [
              "   TitleId                                              Title\n",
              "0        0                  615|1545|75|31|1|138|1270|615|131\n",
              "1        1                        466|582|685|1|42|45|477|314\n",
              "2        2                        12731|190|513|12731|677|183\n",
              "3        3   2371|3970|1|2805|4340|3|2914|10640|3688|11|834|3\n",
              "4        4  165|134|460|2887|50|2|17527|1|1540|592|2181|3|..."
            ],
            "text/html": [
              "<div>\n",
              "<style scoped>\n",
              "    .dataframe tbody tr th:only-of-type {\n",
              "        vertical-align: middle;\n",
              "    }\n",
              "\n",
              "    .dataframe tbody tr th {\n",
              "        vertical-align: top;\n",
              "    }\n",
              "\n",
              "    .dataframe thead th {\n",
              "        text-align: right;\n",
              "    }\n",
              "</style>\n",
              "<table border=\"1\" class=\"dataframe\">\n",
              "  <thead>\n",
              "    <tr style=\"text-align: right;\">\n",
              "      <th></th>\n",
              "      <th>TitleId</th>\n",
              "      <th>Title</th>\n",
              "    </tr>\n",
              "  </thead>\n",
              "  <tbody>\n",
              "    <tr>\n",
              "      <th>0</th>\n",
              "      <td>0</td>\n",
              "      <td>615|1545|75|31|1|138|1270|615|131</td>\n",
              "    </tr>\n",
              "    <tr>\n",
              "      <th>1</th>\n",
              "      <td>1</td>\n",
              "      <td>466|582|685|1|42|45|477|314</td>\n",
              "    </tr>\n",
              "    <tr>\n",
              "      <th>2</th>\n",
              "      <td>2</td>\n",
              "      <td>12731|190|513|12731|677|183</td>\n",
              "    </tr>\n",
              "    <tr>\n",
              "      <th>3</th>\n",
              "      <td>3</td>\n",
              "      <td>2371|3970|1|2805|4340|3|2914|10640|3688|11|834|3</td>\n",
              "    </tr>\n",
              "    <tr>\n",
              "      <th>4</th>\n",
              "      <td>4</td>\n",
              "      <td>165|134|460|2887|50|2|17527|1|1540|592|2181|3|...</td>\n",
              "    </tr>\n",
              "  </tbody>\n",
              "</table>\n",
              "</div>"
            ]
          },
          "metadata": {}
        }
      ],
      "execution_count": 15,
      "metadata": {
        "id": "qFj8KQs8s9GA",
        "colab_type": "code",
        "colab": {},
        "outputId": "1170aa9a-3894-4dd2-be41-6bdb17ed0bfb",
        "execution": {
          "iopub.status.busy": "2020-04-06T04:30:06.601Z",
          "iopub.execute_input": "2020-04-06T04:30:06.632Z",
          "iopub.status.idle": "2020-04-06T04:30:09.437Z",
          "shell.execute_reply": "2020-04-06T04:30:09.464Z"
        }
      }
    },
    {
      "cell_type": "code",
      "source": [
        "def count(sentence):\n",
        "    '''\n",
        "        (str) -> (int)\n",
        "        Returns no. of words in a sentence.\n",
        "    '''\n",
        "    return len(str(sentence).split('|'))"
      ],
      "outputs": [],
      "execution_count": 16,
      "metadata": {
        "id": "A1u7PiNgs9GC",
        "colab_type": "code",
        "colab": {},
        "execution": {
          "iopub.status.busy": "2020-04-06T04:30:11.833Z",
          "iopub.execute_input": "2020-04-06T04:30:11.858Z",
          "iopub.status.idle": "2020-04-06T04:30:11.900Z",
          "shell.execute_reply": "2020-04-06T04:30:11.926Z"
        }
      }
    },
    {
      "cell_type": "code",
      "source": [
        "# Count no. of words in a query issued by a user.\n",
        "\n",
        "query['QCount'] = query['Query'].apply(count)"
      ],
      "outputs": [],
      "execution_count": 17,
      "metadata": {
        "id": "5frpqmBDs9GF",
        "colab_type": "code",
        "colab": {},
        "execution": {
          "iopub.status.busy": "2020-04-06T04:30:16.523Z",
          "iopub.execute_input": "2020-04-06T04:30:16.562Z",
          "iopub.status.idle": "2020-04-06T04:30:32.206Z",
          "shell.execute_reply": "2020-04-06T04:30:32.234Z"
        }
      }
    },
    {
      "cell_type": "code",
      "source": [
        "query.head(5)"
      ],
      "outputs": [
        {
          "output_type": "execute_result",
          "execution_count": 18,
          "data": {
            "text/plain": [
              "   QId       Query  QCount\n",
              "0    0       12731       1\n",
              "1    1  1545|75|31       3\n",
              "2    2         383       1\n",
              "3    3    518|1996       2\n",
              "4    4  4189|75|31       3"
            ],
            "text/html": [
              "<div>\n",
              "<style scoped>\n",
              "    .dataframe tbody tr th:only-of-type {\n",
              "        vertical-align: middle;\n",
              "    }\n",
              "\n",
              "    .dataframe tbody tr th {\n",
              "        vertical-align: top;\n",
              "    }\n",
              "\n",
              "    .dataframe thead th {\n",
              "        text-align: right;\n",
              "    }\n",
              "</style>\n",
              "<table border=\"1\" class=\"dataframe\">\n",
              "  <thead>\n",
              "    <tr style=\"text-align: right;\">\n",
              "      <th></th>\n",
              "      <th>QId</th>\n",
              "      <th>Query</th>\n",
              "      <th>QCount</th>\n",
              "    </tr>\n",
              "  </thead>\n",
              "  <tbody>\n",
              "    <tr>\n",
              "      <th>0</th>\n",
              "      <td>0</td>\n",
              "      <td>12731</td>\n",
              "      <td>1</td>\n",
              "    </tr>\n",
              "    <tr>\n",
              "      <th>1</th>\n",
              "      <td>1</td>\n",
              "      <td>1545|75|31</td>\n",
              "      <td>3</td>\n",
              "    </tr>\n",
              "    <tr>\n",
              "      <th>2</th>\n",
              "      <td>2</td>\n",
              "      <td>383</td>\n",
              "      <td>1</td>\n",
              "    </tr>\n",
              "    <tr>\n",
              "      <th>3</th>\n",
              "      <td>3</td>\n",
              "      <td>518|1996</td>\n",
              "      <td>2</td>\n",
              "    </tr>\n",
              "    <tr>\n",
              "      <th>4</th>\n",
              "      <td>4</td>\n",
              "      <td>4189|75|31</td>\n",
              "      <td>3</td>\n",
              "    </tr>\n",
              "  </tbody>\n",
              "</table>\n",
              "</div>"
            ]
          },
          "metadata": {}
        }
      ],
      "execution_count": 18,
      "metadata": {
        "id": "lz8shYGOs9GH",
        "colab_type": "code",
        "colab": {},
        "outputId": "b887121b-4cd9-40aa-e374-5695759aa397",
        "execution": {
          "iopub.status.busy": "2020-04-06T04:30:47.581Z",
          "iopub.execute_input": "2020-04-06T04:30:47.611Z",
          "iopub.status.idle": "2020-04-06T04:30:47.672Z",
          "shell.execute_reply": "2020-04-06T04:30:47.700Z"
        }
      }
    },
    {
      "cell_type": "code",
      "source": [
        "# Query isn't required now, get rid of it.\n",
        "\n",
        "del query['Query']\n",
        "query.head()"
      ],
      "outputs": [
        {
          "output_type": "execute_result",
          "execution_count": 19,
          "data": {
            "text/plain": [
              "   QId  QCount\n",
              "0    0       1\n",
              "1    1       3\n",
              "2    2       1\n",
              "3    3       2\n",
              "4    4       3"
            ],
            "text/html": [
              "<div>\n",
              "<style scoped>\n",
              "    .dataframe tbody tr th:only-of-type {\n",
              "        vertical-align: middle;\n",
              "    }\n",
              "\n",
              "    .dataframe tbody tr th {\n",
              "        vertical-align: top;\n",
              "    }\n",
              "\n",
              "    .dataframe thead th {\n",
              "        text-align: right;\n",
              "    }\n",
              "</style>\n",
              "<table border=\"1\" class=\"dataframe\">\n",
              "  <thead>\n",
              "    <tr style=\"text-align: right;\">\n",
              "      <th></th>\n",
              "      <th>QId</th>\n",
              "      <th>QCount</th>\n",
              "    </tr>\n",
              "  </thead>\n",
              "  <tbody>\n",
              "    <tr>\n",
              "      <th>0</th>\n",
              "      <td>0</td>\n",
              "      <td>1</td>\n",
              "    </tr>\n",
              "    <tr>\n",
              "      <th>1</th>\n",
              "      <td>1</td>\n",
              "      <td>3</td>\n",
              "    </tr>\n",
              "    <tr>\n",
              "      <th>2</th>\n",
              "      <td>2</td>\n",
              "      <td>1</td>\n",
              "    </tr>\n",
              "    <tr>\n",
              "      <th>3</th>\n",
              "      <td>3</td>\n",
              "      <td>2</td>\n",
              "    </tr>\n",
              "    <tr>\n",
              "      <th>4</th>\n",
              "      <td>4</td>\n",
              "      <td>3</td>\n",
              "    </tr>\n",
              "  </tbody>\n",
              "</table>\n",
              "</div>"
            ]
          },
          "metadata": {}
        }
      ],
      "execution_count": 19,
      "metadata": {
        "id": "I_Sid4mZs9GK",
        "colab_type": "code",
        "colab": {},
        "outputId": "0912db4a-f296-4fa5-8fd5-81fae96beb3e",
        "execution": {
          "shell.execute_reply": "2020-04-06T04:31:13.594Z",
          "iopub.status.busy": "2020-04-06T04:31:13.805Z",
          "iopub.execute_input": "2020-04-06T04:31:13.833Z",
          "iopub.status.idle": "2020-04-06T04:31:13.876Z"
        }
      }
    },
    {
      "cell_type": "code",
      "source": [
        "# Count no. of words in title of an advertisement.\n",
        "\n",
        "title['TCount'] = title['Title'].apply(count)"
      ],
      "outputs": [],
      "execution_count": 20,
      "metadata": {
        "id": "h8Xhbiy6s9GM",
        "colab_type": "code",
        "colab": {},
        "execution": {
          "shell.execute_reply": "2020-04-06T04:31:13.625Z",
          "iopub.status.busy": "2020-04-06T04:31:13.917Z",
          "iopub.execute_input": "2020-04-06T04:31:13.944Z",
          "iopub.status.idle": "2020-04-06T04:31:13.972Z"
        }
      }
    },
    {
      "cell_type": "code",
      "source": [
        "title.head()"
      ],
      "outputs": [
        {
          "output_type": "execute_result",
          "execution_count": 21,
          "data": {
            "text/plain": [
              "   TitleId                                              Title  TCount\n",
              "0        0                  615|1545|75|31|1|138|1270|615|131       9\n",
              "1        1                        466|582|685|1|42|45|477|314       8\n",
              "2        2                        12731|190|513|12731|677|183       6\n",
              "3        3   2371|3970|1|2805|4340|3|2914|10640|3688|11|834|3      12\n",
              "4        4  165|134|460|2887|50|2|17527|1|1540|592|2181|3|...      16"
            ],
            "text/html": [
              "<div>\n",
              "<style scoped>\n",
              "    .dataframe tbody tr th:only-of-type {\n",
              "        vertical-align: middle;\n",
              "    }\n",
              "\n",
              "    .dataframe tbody tr th {\n",
              "        vertical-align: top;\n",
              "    }\n",
              "\n",
              "    .dataframe thead th {\n",
              "        text-align: right;\n",
              "    }\n",
              "</style>\n",
              "<table border=\"1\" class=\"dataframe\">\n",
              "  <thead>\n",
              "    <tr style=\"text-align: right;\">\n",
              "      <th></th>\n",
              "      <th>TitleId</th>\n",
              "      <th>Title</th>\n",
              "      <th>TCount</th>\n",
              "    </tr>\n",
              "  </thead>\n",
              "  <tbody>\n",
              "    <tr>\n",
              "      <th>0</th>\n",
              "      <td>0</td>\n",
              "      <td>615|1545|75|31|1|138|1270|615|131</td>\n",
              "      <td>9</td>\n",
              "    </tr>\n",
              "    <tr>\n",
              "      <th>1</th>\n",
              "      <td>1</td>\n",
              "      <td>466|582|685|1|42|45|477|314</td>\n",
              "      <td>8</td>\n",
              "    </tr>\n",
              "    <tr>\n",
              "      <th>2</th>\n",
              "      <td>2</td>\n",
              "      <td>12731|190|513|12731|677|183</td>\n",
              "      <td>6</td>\n",
              "    </tr>\n",
              "    <tr>\n",
              "      <th>3</th>\n",
              "      <td>3</td>\n",
              "      <td>2371|3970|1|2805|4340|3|2914|10640|3688|11|834|3</td>\n",
              "      <td>12</td>\n",
              "    </tr>\n",
              "    <tr>\n",
              "      <th>4</th>\n",
              "      <td>4</td>\n",
              "      <td>165|134|460|2887|50|2|17527|1|1540|592|2181|3|...</td>\n",
              "      <td>16</td>\n",
              "    </tr>\n",
              "  </tbody>\n",
              "</table>\n",
              "</div>"
            ]
          },
          "metadata": {}
        }
      ],
      "execution_count": 21,
      "metadata": {
        "id": "uSgC4er7s9GO",
        "colab_type": "code",
        "colab": {},
        "outputId": "cedd1982-d010-47d6-f199-a961795ccb69",
        "execution": {
          "shell.execute_reply": "2020-04-06T04:31:13.655Z",
          "iopub.status.busy": "2020-04-06T04:31:14.013Z",
          "iopub.execute_input": "2020-04-06T04:31:14.037Z",
          "iopub.status.idle": "2020-04-06T04:31:14.078Z"
        }
      }
    },
    {
      "cell_type": "code",
      "source": [
        "# Advertisement Title isn't required now, get rid of it.\n",
        "\n",
        "del title['Title']\n",
        "title.head()"
      ],
      "outputs": [
        {
          "output_type": "execute_result",
          "execution_count": 22,
          "data": {
            "text/plain": [
              "   TitleId  TCount\n",
              "0        0       9\n",
              "1        1       8\n",
              "2        2       6\n",
              "3        3      12\n",
              "4        4      16"
            ],
            "text/html": [
              "<div>\n",
              "<style scoped>\n",
              "    .dataframe tbody tr th:only-of-type {\n",
              "        vertical-align: middle;\n",
              "    }\n",
              "\n",
              "    .dataframe tbody tr th {\n",
              "        vertical-align: top;\n",
              "    }\n",
              "\n",
              "    .dataframe thead th {\n",
              "        text-align: right;\n",
              "    }\n",
              "</style>\n",
              "<table border=\"1\" class=\"dataframe\">\n",
              "  <thead>\n",
              "    <tr style=\"text-align: right;\">\n",
              "      <th></th>\n",
              "      <th>TitleId</th>\n",
              "      <th>TCount</th>\n",
              "    </tr>\n",
              "  </thead>\n",
              "  <tbody>\n",
              "    <tr>\n",
              "      <th>0</th>\n",
              "      <td>0</td>\n",
              "      <td>9</td>\n",
              "    </tr>\n",
              "    <tr>\n",
              "      <th>1</th>\n",
              "      <td>1</td>\n",
              "      <td>8</td>\n",
              "    </tr>\n",
              "    <tr>\n",
              "      <th>2</th>\n",
              "      <td>2</td>\n",
              "      <td>6</td>\n",
              "    </tr>\n",
              "    <tr>\n",
              "      <th>3</th>\n",
              "      <td>3</td>\n",
              "      <td>12</td>\n",
              "    </tr>\n",
              "    <tr>\n",
              "      <th>4</th>\n",
              "      <td>4</td>\n",
              "      <td>16</td>\n",
              "    </tr>\n",
              "  </tbody>\n",
              "</table>\n",
              "</div>"
            ]
          },
          "metadata": {}
        }
      ],
      "execution_count": 22,
      "metadata": {
        "id": "8h-lMOMps9GR",
        "colab_type": "code",
        "colab": {},
        "outputId": "83704f13-c422-49e2-d01f-6f0484cf09fb",
        "execution": {
          "shell.execute_reply": "2020-04-06T04:31:13.681Z",
          "iopub.status.busy": "2020-04-06T04:31:14.117Z",
          "iopub.execute_input": "2020-04-06T04:31:14.142Z",
          "iopub.status.idle": "2020-04-06T04:31:14.184Z"
        }
      }
    },
    {
      "cell_type": "code",
      "source": [
        "# Count no. of words in description of an advertisement.\n",
        "\n",
        "desc['DCount'] = desc['Description'].apply(count)"
      ],
      "outputs": [],
      "execution_count": 23,
      "metadata": {
        "id": "6FYoXOZ4s9GU",
        "colab_type": "code",
        "colab": {},
        "execution": {
          "shell.execute_reply": "2020-04-06T04:31:13.708Z",
          "iopub.status.busy": "2020-04-06T04:31:14.223Z",
          "iopub.execute_input": "2020-04-06T04:31:14.248Z",
          "iopub.status.idle": "2020-04-06T04:31:14.276Z"
        }
      }
    },
    {
      "cell_type": "code",
      "source": [
        "desc.head()"
      ],
      "outputs": [
        {
          "output_type": "execute_result",
          "execution_count": 24,
          "data": {
            "text/plain": [
              "   DescId                                        Description  DCount\n",
              "0       0  1545|31|40|615|1|272|18889|1|220|511|20|5270|1...      20\n",
              "1       1  172|46|467|170|5634|5112|40|155|1965|834|21|41...      28\n",
              "2       2  2672|6|1159|109662|123|49933|160|848|248|207|1...      21\n",
              "3       3  13280|35|1299|26|282|477|606|1|4016|1671|771|1...      25\n",
              "4       4  13327|99|128|494|2928|21|26500|10|11733|10|318...      17"
            ],
            "text/html": [
              "<div>\n",
              "<style scoped>\n",
              "    .dataframe tbody tr th:only-of-type {\n",
              "        vertical-align: middle;\n",
              "    }\n",
              "\n",
              "    .dataframe tbody tr th {\n",
              "        vertical-align: top;\n",
              "    }\n",
              "\n",
              "    .dataframe thead th {\n",
              "        text-align: right;\n",
              "    }\n",
              "</style>\n",
              "<table border=\"1\" class=\"dataframe\">\n",
              "  <thead>\n",
              "    <tr style=\"text-align: right;\">\n",
              "      <th></th>\n",
              "      <th>DescId</th>\n",
              "      <th>Description</th>\n",
              "      <th>DCount</th>\n",
              "    </tr>\n",
              "  </thead>\n",
              "  <tbody>\n",
              "    <tr>\n",
              "      <th>0</th>\n",
              "      <td>0</td>\n",
              "      <td>1545|31|40|615|1|272|18889|1|220|511|20|5270|1...</td>\n",
              "      <td>20</td>\n",
              "    </tr>\n",
              "    <tr>\n",
              "      <th>1</th>\n",
              "      <td>1</td>\n",
              "      <td>172|46|467|170|5634|5112|40|155|1965|834|21|41...</td>\n",
              "      <td>28</td>\n",
              "    </tr>\n",
              "    <tr>\n",
              "      <th>2</th>\n",
              "      <td>2</td>\n",
              "      <td>2672|6|1159|109662|123|49933|160|848|248|207|1...</td>\n",
              "      <td>21</td>\n",
              "    </tr>\n",
              "    <tr>\n",
              "      <th>3</th>\n",
              "      <td>3</td>\n",
              "      <td>13280|35|1299|26|282|477|606|1|4016|1671|771|1...</td>\n",
              "      <td>25</td>\n",
              "    </tr>\n",
              "    <tr>\n",
              "      <th>4</th>\n",
              "      <td>4</td>\n",
              "      <td>13327|99|128|494|2928|21|26500|10|11733|10|318...</td>\n",
              "      <td>17</td>\n",
              "    </tr>\n",
              "  </tbody>\n",
              "</table>\n",
              "</div>"
            ]
          },
          "metadata": {}
        }
      ],
      "execution_count": 24,
      "metadata": {
        "id": "gpjHQdcIs9GZ",
        "colab_type": "code",
        "colab": {},
        "outputId": "39b6b1f1-f73e-4998-bc1d-1720be021520",
        "execution": {
          "shell.execute_reply": "2020-04-06T04:31:13.734Z",
          "iopub.status.busy": "2020-04-06T04:31:14.318Z",
          "iopub.execute_input": "2020-04-06T04:31:14.348Z",
          "iopub.status.idle": "2020-04-06T04:31:14.393Z"
        }
      }
    },
    {
      "cell_type": "code",
      "source": [
        "# Advertisement Description isn't required now, get rid of it.\n",
        "\n",
        "del desc['Description']\n",
        "desc.head()"
      ],
      "outputs": [
        {
          "output_type": "execute_result",
          "execution_count": 25,
          "data": {
            "text/plain": [
              "   DescId  DCount\n",
              "0       0      20\n",
              "1       1      28\n",
              "2       2      21\n",
              "3       3      25\n",
              "4       4      17"
            ],
            "text/html": [
              "<div>\n",
              "<style scoped>\n",
              "    .dataframe tbody tr th:only-of-type {\n",
              "        vertical-align: middle;\n",
              "    }\n",
              "\n",
              "    .dataframe tbody tr th {\n",
              "        vertical-align: top;\n",
              "    }\n",
              "\n",
              "    .dataframe thead th {\n",
              "        text-align: right;\n",
              "    }\n",
              "</style>\n",
              "<table border=\"1\" class=\"dataframe\">\n",
              "  <thead>\n",
              "    <tr style=\"text-align: right;\">\n",
              "      <th></th>\n",
              "      <th>DescId</th>\n",
              "      <th>DCount</th>\n",
              "    </tr>\n",
              "  </thead>\n",
              "  <tbody>\n",
              "    <tr>\n",
              "      <th>0</th>\n",
              "      <td>0</td>\n",
              "      <td>20</td>\n",
              "    </tr>\n",
              "    <tr>\n",
              "      <th>1</th>\n",
              "      <td>1</td>\n",
              "      <td>28</td>\n",
              "    </tr>\n",
              "    <tr>\n",
              "      <th>2</th>\n",
              "      <td>2</td>\n",
              "      <td>21</td>\n",
              "    </tr>\n",
              "    <tr>\n",
              "      <th>3</th>\n",
              "      <td>3</td>\n",
              "      <td>25</td>\n",
              "    </tr>\n",
              "    <tr>\n",
              "      <th>4</th>\n",
              "      <td>4</td>\n",
              "      <td>17</td>\n",
              "    </tr>\n",
              "  </tbody>\n",
              "</table>\n",
              "</div>"
            ]
          },
          "metadata": {}
        }
      ],
      "execution_count": 25,
      "metadata": {
        "id": "j8pEqDAds9Gd",
        "colab_type": "code",
        "colab": {},
        "outputId": "ddcd176d-53b5-41ec-b827-917674a192c2",
        "execution": {
          "shell.execute_reply": "2020-04-06T04:31:13.760Z",
          "iopub.status.busy": "2020-04-06T04:31:14.438Z",
          "iopub.execute_input": "2020-04-06T04:31:14.466Z",
          "iopub.status.idle": "2020-04-06T04:31:14.510Z"
        }
      }
    },
    {
      "cell_type": "code",
      "source": [
        "# Merging orignal with user, query, title & desc on appropriate keys to get data..\n",
        "\n",
        "data = pd.merge(orignal, user,  on='UId')\n",
        "data = pd.merge(data,    query, on='QId')\n",
        "data = pd.merge(data,    title, on='TitleId')\n",
        "data = pd.merge(data,    desc,  on='DescId')"
      ],
      "outputs": [],
      "execution_count": 26,
      "metadata": {
        "id": "7nKeIs2fs9Gg",
        "colab_type": "code",
        "colab": {},
        "execution": {
          "iopub.status.busy": "2020-04-06T04:31:14.555Z",
          "iopub.execute_input": "2020-04-06T04:31:14.581Z",
          "shell.execute_reply": "2020-04-06T04:34:54.281Z",
          "iopub.status.idle": "2020-04-06T04:34:54.434Z"
        }
      }
    },
    {
      "cell_type": "code",
      "source": [
        "data.head()"
      ],
      "outputs": [
        {
          "output_type": "execute_result",
          "execution_count": 27,
          "data": {
            "text/plain": [
              "   Click  Impression                AdURL     AdId  AdvId  Depth  Pos   QId  \\\n",
              "0      0           1  4298118681424644510  7686695    385      3    3  1601   \n",
              "1      0           2  4298118681424644510  7686695    385      2    2  1601   \n",
              "2      0           1  4298118681424644510  7686695    385      2    2  1601   \n",
              "3      0           1  4298118681424644510  7686695    385      3    3  1601   \n",
              "4      0           2  4298118681424644510  7686695    385      3    3  1601   \n",
              "\n",
              "   KeyId  TitleId  DescId      UId  Gender  Age  QCount  TCount  DCount  \n",
              "0   5521     7709     576   490234       1    3       1       8      21  \n",
              "1   5521     7709     576    30161       1    3       1       8      21  \n",
              "2   5521     7709     576  1873171       2    5       1       8      21  \n",
              "3   5521     7709     576  6558374       0    2       1       8      21  \n",
              "4   5521     7709     576  1566180       2    5       1       8      21  "
            ],
            "text/html": [
              "<div>\n",
              "<style scoped>\n",
              "    .dataframe tbody tr th:only-of-type {\n",
              "        vertical-align: middle;\n",
              "    }\n",
              "\n",
              "    .dataframe tbody tr th {\n",
              "        vertical-align: top;\n",
              "    }\n",
              "\n",
              "    .dataframe thead th {\n",
              "        text-align: right;\n",
              "    }\n",
              "</style>\n",
              "<table border=\"1\" class=\"dataframe\">\n",
              "  <thead>\n",
              "    <tr style=\"text-align: right;\">\n",
              "      <th></th>\n",
              "      <th>Click</th>\n",
              "      <th>Impression</th>\n",
              "      <th>AdURL</th>\n",
              "      <th>AdId</th>\n",
              "      <th>AdvId</th>\n",
              "      <th>Depth</th>\n",
              "      <th>Pos</th>\n",
              "      <th>QId</th>\n",
              "      <th>KeyId</th>\n",
              "      <th>TitleId</th>\n",
              "      <th>DescId</th>\n",
              "      <th>UId</th>\n",
              "      <th>Gender</th>\n",
              "      <th>Age</th>\n",
              "      <th>QCount</th>\n",
              "      <th>TCount</th>\n",
              "      <th>DCount</th>\n",
              "    </tr>\n",
              "  </thead>\n",
              "  <tbody>\n",
              "    <tr>\n",
              "      <th>0</th>\n",
              "      <td>0</td>\n",
              "      <td>1</td>\n",
              "      <td>4298118681424644510</td>\n",
              "      <td>7686695</td>\n",
              "      <td>385</td>\n",
              "      <td>3</td>\n",
              "      <td>3</td>\n",
              "      <td>1601</td>\n",
              "      <td>5521</td>\n",
              "      <td>7709</td>\n",
              "      <td>576</td>\n",
              "      <td>490234</td>\n",
              "      <td>1</td>\n",
              "      <td>3</td>\n",
              "      <td>1</td>\n",
              "      <td>8</td>\n",
              "      <td>21</td>\n",
              "    </tr>\n",
              "    <tr>\n",
              "      <th>1</th>\n",
              "      <td>0</td>\n",
              "      <td>2</td>\n",
              "      <td>4298118681424644510</td>\n",
              "      <td>7686695</td>\n",
              "      <td>385</td>\n",
              "      <td>2</td>\n",
              "      <td>2</td>\n",
              "      <td>1601</td>\n",
              "      <td>5521</td>\n",
              "      <td>7709</td>\n",
              "      <td>576</td>\n",
              "      <td>30161</td>\n",
              "      <td>1</td>\n",
              "      <td>3</td>\n",
              "      <td>1</td>\n",
              "      <td>8</td>\n",
              "      <td>21</td>\n",
              "    </tr>\n",
              "    <tr>\n",
              "      <th>2</th>\n",
              "      <td>0</td>\n",
              "      <td>1</td>\n",
              "      <td>4298118681424644510</td>\n",
              "      <td>7686695</td>\n",
              "      <td>385</td>\n",
              "      <td>2</td>\n",
              "      <td>2</td>\n",
              "      <td>1601</td>\n",
              "      <td>5521</td>\n",
              "      <td>7709</td>\n",
              "      <td>576</td>\n",
              "      <td>1873171</td>\n",
              "      <td>2</td>\n",
              "      <td>5</td>\n",
              "      <td>1</td>\n",
              "      <td>8</td>\n",
              "      <td>21</td>\n",
              "    </tr>\n",
              "    <tr>\n",
              "      <th>3</th>\n",
              "      <td>0</td>\n",
              "      <td>1</td>\n",
              "      <td>4298118681424644510</td>\n",
              "      <td>7686695</td>\n",
              "      <td>385</td>\n",
              "      <td>3</td>\n",
              "      <td>3</td>\n",
              "      <td>1601</td>\n",
              "      <td>5521</td>\n",
              "      <td>7709</td>\n",
              "      <td>576</td>\n",
              "      <td>6558374</td>\n",
              "      <td>0</td>\n",
              "      <td>2</td>\n",
              "      <td>1</td>\n",
              "      <td>8</td>\n",
              "      <td>21</td>\n",
              "    </tr>\n",
              "    <tr>\n",
              "      <th>4</th>\n",
              "      <td>0</td>\n",
              "      <td>2</td>\n",
              "      <td>4298118681424644510</td>\n",
              "      <td>7686695</td>\n",
              "      <td>385</td>\n",
              "      <td>3</td>\n",
              "      <td>3</td>\n",
              "      <td>1601</td>\n",
              "      <td>5521</td>\n",
              "      <td>7709</td>\n",
              "      <td>576</td>\n",
              "      <td>1566180</td>\n",
              "      <td>2</td>\n",
              "      <td>5</td>\n",
              "      <td>1</td>\n",
              "      <td>8</td>\n",
              "      <td>21</td>\n",
              "    </tr>\n",
              "  </tbody>\n",
              "</table>\n",
              "</div>"
            ]
          },
          "metadata": {}
        }
      ],
      "execution_count": 27,
      "metadata": {
        "id": "iNiHte2xs9Gi",
        "colab_type": "code",
        "colab": {},
        "outputId": "c5eb3915-413b-4187-8a2e-b95b582fbc73",
        "execution": {
          "shell.execute_reply": "2020-04-06T04:34:54.377Z",
          "iopub.status.busy": "2020-04-06T04:34:54.476Z",
          "iopub.execute_input": "2020-04-06T04:34:54.505Z",
          "iopub.status.idle": "2020-04-06T04:34:54.553Z"
        }
      }
    },
    {
      "cell_type": "code",
      "source": [
        "# Add target variable CTR to the dataset...\n",
        "\n",
        "data['CTR'] = data['Click'] * 1.0 / data['Impression'] * 100\n",
        "data.head()"
      ],
      "outputs": [
        {
          "output_type": "execute_result",
          "execution_count": 28,
          "data": {
            "text/plain": [
              "   Click  Impression                AdURL     AdId  AdvId  Depth  Pos   QId  \\\n",
              "0      0           1  4298118681424644510  7686695    385      3    3  1601   \n",
              "1      0           2  4298118681424644510  7686695    385      2    2  1601   \n",
              "2      0           1  4298118681424644510  7686695    385      2    2  1601   \n",
              "3      0           1  4298118681424644510  7686695    385      3    3  1601   \n",
              "4      0           2  4298118681424644510  7686695    385      3    3  1601   \n",
              "\n",
              "   KeyId  TitleId  DescId      UId  Gender  Age  QCount  TCount  DCount  CTR  \n",
              "0   5521     7709     576   490234       1    3       1       8      21  0.0  \n",
              "1   5521     7709     576    30161       1    3       1       8      21  0.0  \n",
              "2   5521     7709     576  1873171       2    5       1       8      21  0.0  \n",
              "3   5521     7709     576  6558374       0    2       1       8      21  0.0  \n",
              "4   5521     7709     576  1566180       2    5       1       8      21  0.0  "
            ],
            "text/html": [
              "<div>\n",
              "<style scoped>\n",
              "    .dataframe tbody tr th:only-of-type {\n",
              "        vertical-align: middle;\n",
              "    }\n",
              "\n",
              "    .dataframe tbody tr th {\n",
              "        vertical-align: top;\n",
              "    }\n",
              "\n",
              "    .dataframe thead th {\n",
              "        text-align: right;\n",
              "    }\n",
              "</style>\n",
              "<table border=\"1\" class=\"dataframe\">\n",
              "  <thead>\n",
              "    <tr style=\"text-align: right;\">\n",
              "      <th></th>\n",
              "      <th>Click</th>\n",
              "      <th>Impression</th>\n",
              "      <th>AdURL</th>\n",
              "      <th>AdId</th>\n",
              "      <th>AdvId</th>\n",
              "      <th>Depth</th>\n",
              "      <th>Pos</th>\n",
              "      <th>QId</th>\n",
              "      <th>KeyId</th>\n",
              "      <th>TitleId</th>\n",
              "      <th>DescId</th>\n",
              "      <th>UId</th>\n",
              "      <th>Gender</th>\n",
              "      <th>Age</th>\n",
              "      <th>QCount</th>\n",
              "      <th>TCount</th>\n",
              "      <th>DCount</th>\n",
              "      <th>CTR</th>\n",
              "    </tr>\n",
              "  </thead>\n",
              "  <tbody>\n",
              "    <tr>\n",
              "      <th>0</th>\n",
              "      <td>0</td>\n",
              "      <td>1</td>\n",
              "      <td>4298118681424644510</td>\n",
              "      <td>7686695</td>\n",
              "      <td>385</td>\n",
              "      <td>3</td>\n",
              "      <td>3</td>\n",
              "      <td>1601</td>\n",
              "      <td>5521</td>\n",
              "      <td>7709</td>\n",
              "      <td>576</td>\n",
              "      <td>490234</td>\n",
              "      <td>1</td>\n",
              "      <td>3</td>\n",
              "      <td>1</td>\n",
              "      <td>8</td>\n",
              "      <td>21</td>\n",
              "      <td>0.0</td>\n",
              "    </tr>\n",
              "    <tr>\n",
              "      <th>1</th>\n",
              "      <td>0</td>\n",
              "      <td>2</td>\n",
              "      <td>4298118681424644510</td>\n",
              "      <td>7686695</td>\n",
              "      <td>385</td>\n",
              "      <td>2</td>\n",
              "      <td>2</td>\n",
              "      <td>1601</td>\n",
              "      <td>5521</td>\n",
              "      <td>7709</td>\n",
              "      <td>576</td>\n",
              "      <td>30161</td>\n",
              "      <td>1</td>\n",
              "      <td>3</td>\n",
              "      <td>1</td>\n",
              "      <td>8</td>\n",
              "      <td>21</td>\n",
              "      <td>0.0</td>\n",
              "    </tr>\n",
              "    <tr>\n",
              "      <th>2</th>\n",
              "      <td>0</td>\n",
              "      <td>1</td>\n",
              "      <td>4298118681424644510</td>\n",
              "      <td>7686695</td>\n",
              "      <td>385</td>\n",
              "      <td>2</td>\n",
              "      <td>2</td>\n",
              "      <td>1601</td>\n",
              "      <td>5521</td>\n",
              "      <td>7709</td>\n",
              "      <td>576</td>\n",
              "      <td>1873171</td>\n",
              "      <td>2</td>\n",
              "      <td>5</td>\n",
              "      <td>1</td>\n",
              "      <td>8</td>\n",
              "      <td>21</td>\n",
              "      <td>0.0</td>\n",
              "    </tr>\n",
              "    <tr>\n",
              "      <th>3</th>\n",
              "      <td>0</td>\n",
              "      <td>1</td>\n",
              "      <td>4298118681424644510</td>\n",
              "      <td>7686695</td>\n",
              "      <td>385</td>\n",
              "      <td>3</td>\n",
              "      <td>3</td>\n",
              "      <td>1601</td>\n",
              "      <td>5521</td>\n",
              "      <td>7709</td>\n",
              "      <td>576</td>\n",
              "      <td>6558374</td>\n",
              "      <td>0</td>\n",
              "      <td>2</td>\n",
              "      <td>1</td>\n",
              "      <td>8</td>\n",
              "      <td>21</td>\n",
              "      <td>0.0</td>\n",
              "    </tr>\n",
              "    <tr>\n",
              "      <th>4</th>\n",
              "      <td>0</td>\n",
              "      <td>2</td>\n",
              "      <td>4298118681424644510</td>\n",
              "      <td>7686695</td>\n",
              "      <td>385</td>\n",
              "      <td>3</td>\n",
              "      <td>3</td>\n",
              "      <td>1601</td>\n",
              "      <td>5521</td>\n",
              "      <td>7709</td>\n",
              "      <td>576</td>\n",
              "      <td>1566180</td>\n",
              "      <td>2</td>\n",
              "      <td>5</td>\n",
              "      <td>1</td>\n",
              "      <td>8</td>\n",
              "      <td>21</td>\n",
              "      <td>0.0</td>\n",
              "    </tr>\n",
              "  </tbody>\n",
              "</table>\n",
              "</div>"
            ]
          },
          "metadata": {}
        }
      ],
      "execution_count": 28,
      "metadata": {
        "id": "cAITy2n2s9Gm",
        "colab_type": "code",
        "colab": {},
        "outputId": "8a9a746f-e084-47bd-946f-6db155938c52",
        "execution": {
          "iopub.status.busy": "2020-04-06T04:34:54.588Z",
          "iopub.execute_input": "2020-04-06T04:34:54.611Z",
          "iopub.status.idle": "2020-04-06T04:34:56.309Z",
          "shell.execute_reply": "2020-04-06T04:34:56.828Z"
        }
      }
    },
    {
      "cell_type": "code",
      "source": [
        "# Basic Information about the data...\n",
        "\n",
        "data.shape"
      ],
      "outputs": [
        {
          "output_type": "execute_result",
          "execution_count": 29,
          "data": {
            "text/plain": [
              "(110916221, 18)"
            ]
          },
          "metadata": {}
        }
      ],
      "execution_count": 29,
      "metadata": {
        "id": "nLO-TcTAs9Go",
        "colab_type": "code",
        "colab": {},
        "outputId": "ebd0b580-d378-48cd-9773-d3955e914f9e",
        "execution": {
          "iopub.status.busy": "2020-04-06T04:34:56.357Z",
          "iopub.execute_input": "2020-04-06T04:34:56.384Z",
          "iopub.status.idle": "2020-04-06T04:34:56.441Z",
          "shell.execute_reply": "2020-04-06T04:34:56.844Z"
        }
      }
    },
    {
      "cell_type": "markdown",
      "source": [
        "Note: We loaded 5M datapoints initially, after merger we have around 4.95M datapoints. What does this indicate ? Actually for a lot of user ids data is missing hence merge operation gets rid of such datapoints."
      ],
      "metadata": {
        "id": "WeRgw-O6s9Gs",
        "colab_type": "text"
      }
    },
    {
      "cell_type": "markdown",
      "source": [
        "<h2> 3.2 Analyzing features </h2>"
      ],
      "metadata": {
        "id": "L6CYa6TJs9Gt",
        "colab_type": "text"
      }
    },
    {
      "cell_type": "markdown",
      "source": [
        "<h3> 3.2.1 Getting sense out of the data</h3>"
      ],
      "metadata": {
        "id": "M-vFERoAs9Gu",
        "colab_type": "text"
      }
    },
    {
      "cell_type": "code",
      "source": [
        "# CTR(ad) = #Clicks(ad)/#Impressions(ad)\n",
        "\n",
        "# Calculating net CTR for our dataset...\n",
        "\n",
        "total_impressions = data['Impression'].sum()\n",
        "total_clicks      = data['Click'].sum()\n",
        "net_CTR           = total_clicks * 1.0 / total_impressions\n",
        "\n",
        "print( ('Net CTR: {0}'.format(round(net_CTR*100,2))), '%')"
      ],
      "outputs": [
        {
          "output_type": "stream",
          "name": "stdout",
          "text": [
            "Net CTR: 4.22 %\n"
          ]
        }
      ],
      "execution_count": 30,
      "metadata": {
        "id": "3cWpCCDKs9Gu",
        "colab_type": "code",
        "colab": {},
        "outputId": "c9a3e8cf-f7ea-460d-bff4-4596196b2b17",
        "execution": {
          "iopub.status.busy": "2020-04-06T04:34:56.484Z",
          "iopub.execute_input": "2020-04-06T04:34:56.512Z",
          "iopub.status.idle": "2020-04-06T04:34:56.570Z",
          "shell.execute_reply": "2020-04-06T04:34:56.861Z"
        }
      }
    },
    {
      "cell_type": "code",
      "source": [
        "total = data.shape[0]"
      ],
      "outputs": [],
      "execution_count": 31,
      "metadata": {
        "id": "t7GfRQg6s9Gx",
        "colab_type": "code",
        "colab": {},
        "execution": {
          "iopub.status.busy": "2020-04-06T04:34:56.613Z",
          "iopub.execute_input": "2020-04-06T04:34:56.639Z",
          "iopub.status.idle": "2020-04-06T04:34:56.681Z",
          "shell.execute_reply": "2020-04-06T04:34:56.876Z"
        }
      }
    },
    {
      "cell_type": "code",
      "source": [
        "# total no. of unique users in the dataset...\n",
        "\n",
        "# print round(len(data.groupby('UId')) * 1.0 / total * 100, 2), '%'\n",
        "print( 'Total no. of unique users:', len(data.groupby('UId')))"
      ],
      "outputs": [
        {
          "output_type": "stream",
          "name": "stdout",
          "text": [
            "Total no. of unique users: 21791948\n"
          ]
        }
      ],
      "execution_count": 32,
      "metadata": {
        "id": "kV-0yonLs9Gz",
        "colab_type": "code",
        "colab": {},
        "outputId": "73484239-5fdf-4ab2-b98b-09d2b473e752",
        "execution": {
          "iopub.status.busy": "2020-04-06T04:34:56.725Z",
          "iopub.execute_input": "2020-04-06T04:34:56.752Z",
          "iopub.status.idle": "2020-04-06T04:45:01.358Z",
          "shell.execute_reply": "2020-04-06T04:45:01.511Z"
        }
      }
    },
    {
      "cell_type": "code",
      "source": [
        "# total no. of unique queries in the dataset...\n",
        "\n",
        "# print round(len(data.groupby('QId')) * 1.0 / total * 100, 2), '%'\n",
        "print( 'Total no. of unique queries:', len(data.groupby('QId')))"
      ],
      "outputs": [
        {
          "output_type": "stream",
          "name": "stdout",
          "text": [
            "Total no. of unique queries: 15904262\n"
          ]
        }
      ],
      "execution_count": 33,
      "metadata": {
        "id": "M1ZWYRcKs9G3",
        "colab_type": "code",
        "colab": {},
        "outputId": "5b9f0906-59dd-47fa-fd2b-b054d6c97411",
        "execution": {
          "iopub.status.busy": "2020-04-06T04:45:01.405Z",
          "iopub.execute_input": "2020-04-06T04:45:01.437Z",
          "iopub.status.idle": "2020-04-06T04:51:47.873Z",
          "shell.execute_reply": "2020-04-06T04:51:47.971Z"
        }
      }
    },
    {
      "cell_type": "code",
      "source": [
        "# total no. of unique advertisements in the dataset...\n",
        "\n",
        "# print round(len(data.groupby('AdId')) * 1.0 / total * 100, 2) , '%'\n",
        "print( 'Total no. of unique ads:', len(data.groupby('AdId')))"
      ],
      "outputs": [
        {
          "output_type": "stream",
          "name": "stdout",
          "text": [
            "Total no. of unique ads: 553371\n"
          ]
        }
      ],
      "execution_count": 34,
      "metadata": {
        "id": "KZ4LhWS3s9G6",
        "colab_type": "code",
        "colab": {},
        "outputId": "9f41a01a-272f-4be4-d78d-7f899cf54531",
        "execution": {
          "iopub.status.busy": "2020-04-06T04:51:47.916Z",
          "iopub.execute_input": "2020-04-06T04:51:47.944Z",
          "iopub.status.idle": "2020-04-06T04:52:10.105Z",
          "shell.execute_reply": "2020-04-06T04:52:10.251Z"
        }
      }
    },
    {
      "cell_type": "code",
      "source": [
        "# total no. of unique advertisers in the dataset...\n",
        "\n",
        "# print round(len(data.groupby('AdvId')) * 1.0 / total * 100, 2), '%'\n",
        "print( 'Total no. of unique advertisers:', len(data.groupby('AdvId')))"
      ],
      "outputs": [
        {
          "output_type": "stream",
          "name": "stdout",
          "text": [
            "Total no. of unique advertisers: 14748\n"
          ]
        }
      ],
      "execution_count": 35,
      "metadata": {
        "id": "6_-drmu_s9G8",
        "colab_type": "code",
        "colab": {},
        "outputId": "2f59d504-5b78-4b94-e2d7-e65613843b20",
        "execution": {
          "iopub.status.busy": "2020-04-06T04:52:10.166Z",
          "iopub.execute_input": "2020-04-06T04:52:10.212Z",
          "iopub.status.idle": "2020-04-06T04:52:15.572Z",
          "shell.execute_reply": "2020-04-06T04:52:15.649Z"
        }
      }
    },
    {
      "cell_type": "code",
      "source": [
        "# Let us study the distribution of no. of words in a search query.\n",
        "\n",
        "# Preparing Data...\n",
        "\n",
        "temp = data[['QCount']].copy()\n",
        "\n",
        "print( 'Maximum Length of a Query: ', temp['QCount'].max())\n",
        "print( 'Average Length of a Query: ', temp['QCount'].mean())"
      ],
      "outputs": [
        {
          "output_type": "stream",
          "name": "stdout",
          "text": [
            "Maximum Length of a Query:  128\n",
            "Average Length of a Query:  2.994263958920851\n"
          ]
        }
      ],
      "execution_count": 36,
      "metadata": {
        "scrolled": true,
        "id": "Kpi7zzI7s9G-",
        "colab_type": "code",
        "colab": {},
        "outputId": "276ca67d-88d8-4f5e-d887-efb41f8fb079",
        "execution": {
          "iopub.status.busy": "2020-04-06T04:52:15.619Z",
          "iopub.execute_input": "2020-04-06T04:52:16.008Z",
          "iopub.status.idle": "2020-04-06T04:52:16.759Z",
          "shell.execute_reply": "2020-04-06T04:52:16.855Z"
        }
      }
    },
    {
      "cell_type": "code",
      "source": [
        "f, (ax1, ax2) = plt.subplots(2)\n",
        "sns.kdeplot(temp['QCount'], ax=ax1)\n",
        "sns.boxplot(x=None,y='QCount',data=temp, ax=ax2)\n",
        "\n",
        "# sns.boxplot(x=None,y='QCount',data=temp)"
      ],
      "outputs": [
        {
          "output_type": "execute_result",
          "execution_count": 37,
          "data": {
            "text/plain": [
              "<matplotlib.axes._subplots.AxesSubplot at 0x7fd53f54b940>"
            ]
          },
          "metadata": {}
        },
        {
          "output_type": "display_data",
          "data": {
            "text/plain": [
              "<Figure size 432x288 with 2 Axes>"
            ],
            "image/png": "[encoded data removed]"
          },
          "metadata": {
            "needs_background": "light"
          }
        }
      ],
      "execution_count": 37,
      "metadata": {
        "id": "ngpO9jNMs9HA",
        "colab_type": "code",
        "colab": {},
        "outputId": "a268147c-135e-489c-b47c-a75d0984c0a8",
        "execution": {
          "iopub.status.busy": "2020-04-06T04:52:16.800Z",
          "iopub.execute_input": "2020-04-06T04:52:16.826Z",
          "iopub.status.idle": "2020-04-06T04:57:26.112Z",
          "shell.execute_reply": "2020-04-06T04:57:26.240Z"
        }
      }
    },
    {
      "cell_type": "markdown",
      "source": [
        "Clearly, data contains outliers. We will remove them in order to make our analysis more robust."
      ],
      "metadata": {
        "id": "zQTAUUJgs9HC",
        "colab_type": "text"
      }
    },
    {
      "cell_type": "code",
      "source": [
        "print( 'Avg No. of words in a Search query:', round(temp['QCount'].mean(),2))\n",
        "print( 'Median No. of words in a Search query:', temp['QCount'].quantile(0.5))\n",
        "print('3rd Quantile No. of words in a Search query:', temp['QCount'].quantile(0.75))"
      ],
      "outputs": [
        {
          "output_type": "stream",
          "name": "stdout",
          "text": [
            "Avg No. of words in a Search query: 2.99\n",
            "Median No. of words in a Search query: 3.0\n",
            "3rd Quantile No. of words in a Search query: 4.0\n"
          ]
        }
      ],
      "execution_count": 38,
      "metadata": {
        "id": "AOBksHv7s9HD",
        "colab_type": "code",
        "colab": {},
        "outputId": "67c1ae39-bb40-4458-aeae-61f9a7cbc307",
        "execution": {
          "iopub.status.busy": "2020-04-06T04:57:26.158Z",
          "iopub.execute_input": "2020-04-06T04:57:26.187Z",
          "iopub.status.idle": "2020-04-06T04:57:29.280Z",
          "shell.execute_reply": "2020-04-06T04:57:29.381Z"
        }
      }
    },
    {
      "cell_type": "code",
      "source": [
        "# Remove outliers by considering only queries with lengh < 10.0 (chosen randomly)\n",
        "\n",
        "temp = temp[temp['QCount'] < 10.0]\n",
        "print( 'Maximum Length of a Query: ', temp['QCount'].max())\n",
        "print('Average Length of a Query: ', temp['QCount'].mean())"
      ],
      "outputs": [
        {
          "output_type": "stream",
          "name": "stdout",
          "text": [
            "Maximum Length of a Query:  9\n",
            "Average Length of a Query:  2.95418532391899\n"
          ]
        }
      ],
      "execution_count": 39,
      "metadata": {
        "id": "kF2I_qjEs9HF",
        "colab_type": "code",
        "colab": {},
        "outputId": "82ed2b26-0b83-4a4b-a3fa-60a9546ca18b",
        "execution": {
          "iopub.status.busy": "2020-04-06T04:57:29.325Z",
          "iopub.execute_input": "2020-04-06T04:57:29.352Z",
          "iopub.status.idle": "2020-04-06T04:57:31.879Z",
          "shell.execute_reply": "2020-04-06T04:57:32.008Z"
        }
      }
    },
    {
      "cell_type": "code",
      "source": [
        "# This is the same plot as above just a little more readable since outliers were removed...\n",
        "\n",
        "plt.figure(figsize=(10,4))\n",
        "\n",
        "plt.subplot(1, 2, 1)\n",
        "plt.hist(temp['QCount'],\n",
        "         color='green',\n",
        "         bins=25,\n",
        "         normed=False)\n",
        "plt.xlabel('No. of words in a Query')\n",
        "\n",
        "plt.subplot(1, 2, 2)\n",
        "plt.boxplot(temp['QCount'],\n",
        "            labels=['No. of words in a Query'],\n",
        "            )\n",
        "\n",
        "plt.tight_layout()"
      ],
      "outputs": [
        {
          "output_type": "stream",
          "name": "stderr",
          "text": [
            "/Users/kaushik/anaconda3/lib/python3.7/site-packages/ipykernel_launcher.py:9: MatplotlibDeprecationWarning: \n",
            "The 'normed' kwarg was deprecated in Matplotlib 2.1 and will be removed in 3.1. Use 'density' instead.\n",
            "  if __name__ == '__main__':\n"
          ]
        },
        {
          "output_type": "display_data",
          "data": {
            "text/plain": [
              "<Figure size 720x288 with 2 Axes>"
            ],
            "image/png": "[encoded data removed]"
          },
          "metadata": {
            "needs_background": "light"
          }
        }
      ],
      "execution_count": 40,
      "metadata": {
        "id": "Orh00Dgds9HO",
        "colab_type": "code",
        "colab": {},
        "outputId": "2df3cbd7-116a-4aa4-efca-df758e9ac999",
        "execution": {
          "iopub.status.busy": "2020-04-06T04:57:31.923Z",
          "iopub.execute_input": "2020-04-06T04:57:31.960Z",
          "iopub.status.idle": "2020-04-06T04:57:37.434Z",
          "shell.execute_reply": "2020-04-06T04:57:37.463Z"
        }
      }
    },
    {
      "cell_type": "markdown",
      "source": [
        "Conclusion: \n",
        "\n",
        "75 % of search queries has less than 4.0 words."
      ],
      "metadata": {
        "id": "oWi-pHw6s9HQ",
        "colab_type": "text"
      }
    },
    {
      "cell_type": "code",
      "source": [
        "# Let us study the distribution of no. of words in Ad description.\n",
        "\n",
        "# Preparing Data...\n",
        "\n",
        "temp = data[['DCount']].copy()\n",
        "\n",
        "print ('Maximum Length of an Ad Description: ', temp['DCount'].max())\n",
        "print ('Average Length of an Ad Description: ', temp['DCount'].mean())"
      ],
      "outputs": [
        {
          "output_type": "stream",
          "name": "stdout",
          "text": [
            "Maximum Length of an Ad Description:  50\n",
            "Average Length of an Ad Description:  21.31889777420383\n"
          ]
        }
      ],
      "execution_count": 41,
      "metadata": {
        "id": "U8aWaiZCs9HR",
        "colab_type": "code",
        "colab": {},
        "outputId": "1d18203f-4a37-4cde-cf40-863d5398ba9b",
        "execution": {
          "iopub.status.busy": "2020-04-06T04:57:37.846Z",
          "iopub.execute_input": "2020-04-06T04:57:37.873Z",
          "iopub.status.idle": "2020-04-06T04:57:38.672Z",
          "shell.execute_reply": "2020-04-06T04:57:38.772Z"
        }
      }
    },
    {
      "cell_type": "code",
      "source": [
        "# Distribution of word count in description of an ad...\n",
        "\n",
        "plt.figure(figsize=(10,4))\n",
        "\n",
        "plt.subplot(1, 2, 1)\n",
        "plt.hist(temp['DCount'],\n",
        "         bins=100,\n",
        "         color='red',\n",
        "         normed=False)\n",
        "plt.xlabel('No. of words in a Ad Description')\n",
        "\n",
        "plt.subplot(1, 2, 2)\n",
        "plt.boxplot(temp['DCount'],\n",
        "            labels=['No. of words in a Ad Description'],\n",
        "            )\n",
        "\n",
        "plt.tight_layout()"
      ],
      "outputs": [
        {
          "output_type": "stream",
          "name": "stderr",
          "text": [
            "/Users/kaushik/anaconda3/lib/python3.7/site-packages/ipykernel_launcher.py:9: MatplotlibDeprecationWarning: \n",
            "The 'normed' kwarg was deprecated in Matplotlib 2.1 and will be removed in 3.1. Use 'density' instead.\n",
            "  if __name__ == '__main__':\n"
          ]
        },
        {
          "output_type": "display_data",
          "data": {
            "text/plain": [
              "<Figure size 720x288 with 2 Axes>"
            ],
            "image/png": "[encoded data removed]"
          },
          "metadata": {
            "needs_background": "light"
          }
        }
      ],
      "execution_count": 42,
      "metadata": {
        "id": "NkxkPJJFs9HT",
        "colab_type": "code",
        "colab": {},
        "outputId": "f0960739-5282-49f3-8677-0d62ae1a8c79",
        "execution": {
          "iopub.status.busy": "2020-04-06T04:57:38.717Z",
          "iopub.execute_input": "2020-04-06T04:57:38.745Z",
          "iopub.status.idle": "2020-04-06T04:57:43.465Z",
          "shell.execute_reply": "2020-04-06T04:57:43.569Z"
        }
      }
    },
    {
      "cell_type": "code",
      "source": [
        "print ('Median No. of words in a Ad description:', temp['DCount'].quantile(0.5))\n",
        "print ('3rd Quantile No. of words in a Ad description:', temp['DCount'].quantile(0.75))"
      ],
      "outputs": [
        {
          "output_type": "stream",
          "name": "stdout",
          "text": [
            "Median No. of words in a Ad description: 22.0\n",
            "3rd Quantile No. of words in a Ad description: 25.0\n"
          ]
        }
      ],
      "execution_count": 43,
      "metadata": {
        "id": "Rz4y_Dbys9HW",
        "colab_type": "code",
        "colab": {},
        "outputId": "67a8a4db-bd6f-4bf1-e36d-8dab309c2bde",
        "execution": {
          "iopub.status.busy": "2020-04-06T04:57:43.510Z",
          "iopub.execute_input": "2020-04-06T04:57:43.539Z",
          "iopub.status.idle": "2020-04-06T04:57:45.944Z",
          "shell.execute_reply": "2020-04-06T04:57:46.015Z"
        }
      }
    },
    {
      "cell_type": "markdown",
      "source": [
        "Conclusion:\n",
        "\n",
        "75 % of the Ads use <= 25.0 words for Ad description."
      ],
      "metadata": {
        "id": "aIDoIQoVs9Ha",
        "colab_type": "text"
      }
    },
    {
      "cell_type": "code",
      "source": [
        "# Let us study the distribution of no. of words in Ad title.\n",
        "\n",
        "# Preparing Data...\n",
        "\n",
        "temp = data[['TCount']].copy()\n",
        "\n",
        "print( 'Maximum Length of an Ad Title: ', temp['TCount'].max())\n",
        "print('Average Length of an Ad Title: ', temp['TCount'].mean())"
      ],
      "outputs": [
        {
          "output_type": "stream",
          "name": "stdout",
          "text": [
            "Maximum Length of an Ad Title:  32\n",
            "Average Length of an Ad Title:  8.768875951877229\n"
          ]
        }
      ],
      "execution_count": 44,
      "metadata": {
        "id": "jH5QFEuQs9Hb",
        "colab_type": "code",
        "colab": {},
        "outputId": "38094075-9c3c-4caa-d216-ed43834d128b",
        "execution": {
          "iopub.status.busy": "2020-04-06T04:57:45.988Z",
          "iopub.execute_input": "2020-04-06T04:57:46.352Z",
          "iopub.status.idle": "2020-04-06T04:57:47.129Z",
          "shell.execute_reply": "2020-04-06T04:57:47.252Z"
        }
      }
    },
    {
      "cell_type": "code",
      "source": [
        "# Distribution of word count in a ad title...\n",
        "\n",
        "plt.figure(figsize=(10,4))\n",
        "\n",
        "plt.subplot(1, 2, 1)\n",
        "plt.hist(temp['TCount'],\n",
        "         color='red',\n",
        "         bins=100,\n",
        "         normed=False)\n",
        "plt.xlabel('No. of words in a Ad Title')\n",
        "\n",
        "plt.subplot(1, 2, 2)\n",
        "plt.boxplot(temp['TCount'],\n",
        "            labels=['No. of words in a Ad Title'],\n",
        "            )\n",
        "\n",
        "plt.tight_layout()"
      ],
      "outputs": [
        {
          "output_type": "stream",
          "name": "stderr",
          "text": [
            "/Users/kaushik/anaconda3/lib/python3.7/site-packages/ipykernel_launcher.py:9: MatplotlibDeprecationWarning: \n",
            "The 'normed' kwarg was deprecated in Matplotlib 2.1 and will be removed in 3.1. Use 'density' instead.\n",
            "  if __name__ == '__main__':\n"
          ]
        },
        {
          "output_type": "display_data",
          "data": {
            "text/plain": [
              "<Figure size 720x288 with 2 Axes>"
            ],
            "image/png": "[encoded data removed]"
          },
          "metadata": {
            "needs_background": "light"
          }
        }
      ],
      "execution_count": 45,
      "metadata": {
        "id": "GkxJjp5zs9Hf",
        "colab_type": "code",
        "colab": {},
        "outputId": "09108d86-5d84-443e-b921-2a564fe9e970",
        "execution": {
          "iopub.status.busy": "2020-04-06T04:57:47.196Z",
          "iopub.execute_input": "2020-04-06T04:57:47.224Z",
          "iopub.status.idle": "2020-04-06T04:57:51.482Z",
          "shell.execute_reply": "2020-04-06T04:57:51.580Z"
        }
      }
    },
    {
      "cell_type": "code",
      "source": [
        "print( 'Median No. of words in a Ad title:', temp['TCount'].quantile(0.5))\n",
        "print( '3rd Quantile No. of words in a Ad title:', temp['TCount'].quantile(0.75))"
      ],
      "outputs": [
        {
          "output_type": "stream",
          "name": "stdout",
          "text": [
            "Median No. of words in a Ad title: 9.0\n",
            "3rd Quantile No. of words in a Ad title: 11.0\n"
          ]
        }
      ],
      "execution_count": 46,
      "metadata": {
        "id": "1om8KUTNs9Hh",
        "colab_type": "code",
        "colab": {},
        "outputId": "dd2483a7-a0c0-4da0-ead9-dca19b51422d",
        "nteract": {
          "transient": {
            "deleting": false
          }
        },
        "execution": {
          "iopub.status.busy": "2020-04-06T04:57:51.524Z",
          "iopub.execute_input": "2020-04-06T04:57:51.553Z",
          "iopub.status.idle": "2020-04-06T04:57:53.872Z",
          "shell.execute_reply": "2020-04-06T04:57:53.901Z"
        }
      }
    },
    {
      "cell_type": "markdown",
      "source": [
        "Conclusion:\n",
        "\n",
        "75 % of the Ads use < = 11.0 words in their Ad titles."
      ],
      "metadata": {
        "id": "c_PSqsUas9Hj",
        "colab_type": "text"
      }
    },
    {
      "cell_type": "code",
      "source": [
        "# How is no. of words in Search query affect Ad CTR...\n",
        "\n",
        "# Preparing data...\n",
        "\n",
        "temp = data[['QCount', 'CTR']].copy()\n",
        "temp.head()"
      ],
      "outputs": [
        {
          "output_type": "execute_result",
          "execution_count": 47,
          "data": {
            "text/plain": [
              "   QCount  CTR\n",
              "0       1  0.0\n",
              "1       1  0.0\n",
              "2       1  0.0\n",
              "3       1  0.0\n",
              "4       1  0.0"
            ],
            "text/html": [
              "<div>\n",
              "<style scoped>\n",
              "    .dataframe tbody tr th:only-of-type {\n",
              "        vertical-align: middle;\n",
              "    }\n",
              "\n",
              "    .dataframe tbody tr th {\n",
              "        vertical-align: top;\n",
              "    }\n",
              "\n",
              "    .dataframe thead th {\n",
              "        text-align: right;\n",
              "    }\n",
              "</style>\n",
              "<table border=\"1\" class=\"dataframe\">\n",
              "  <thead>\n",
              "    <tr style=\"text-align: right;\">\n",
              "      <th></th>\n",
              "      <th>QCount</th>\n",
              "      <th>CTR</th>\n",
              "    </tr>\n",
              "  </thead>\n",
              "  <tbody>\n",
              "    <tr>\n",
              "      <th>0</th>\n",
              "      <td>1</td>\n",
              "      <td>0.0</td>\n",
              "    </tr>\n",
              "    <tr>\n",
              "      <th>1</th>\n",
              "      <td>1</td>\n",
              "      <td>0.0</td>\n",
              "    </tr>\n",
              "    <tr>\n",
              "      <th>2</th>\n",
              "      <td>1</td>\n",
              "      <td>0.0</td>\n",
              "    </tr>\n",
              "    <tr>\n",
              "      <th>3</th>\n",
              "      <td>1</td>\n",
              "      <td>0.0</td>\n",
              "    </tr>\n",
              "    <tr>\n",
              "      <th>4</th>\n",
              "      <td>1</td>\n",
              "      <td>0.0</td>\n",
              "    </tr>\n",
              "  </tbody>\n",
              "</table>\n",
              "</div>"
            ]
          },
          "metadata": {}
        }
      ],
      "execution_count": 47,
      "metadata": {
        "id": "b1C7zx-Ys9Hk",
        "colab_type": "code",
        "colab": {},
        "outputId": "b859ea98-d34a-4ea7-f333-01ea78f3f8dc",
        "execution": {
          "iopub.status.busy": "2020-04-06T04:57:55.310Z",
          "iopub.execute_input": "2020-04-06T04:57:55.337Z",
          "iopub.status.idle": "2020-04-06T04:57:56.430Z",
          "shell.execute_reply": "2020-04-06T04:57:56.554Z"
        }
      }
    },
    {
      "cell_type": "code",
      "source": [
        "# We are considering only those queries which have less than 10.0 words.\n",
        "\n",
        "temp = temp[temp['QCount'] < 10.0]"
      ],
      "outputs": [],
      "execution_count": 48,
      "metadata": {
        "id": "NDFRMkFGs9Hl",
        "colab_type": "code",
        "colab": {},
        "execution": {
          "iopub.status.busy": "2020-04-06T04:57:56.497Z",
          "iopub.execute_input": "2020-04-06T04:57:56.524Z",
          "iopub.status.idle": "2020-04-06T04:57:59.684Z",
          "shell.execute_reply": "2020-04-06T04:57:59.911Z"
        }
      }
    },
    {
      "cell_type": "code",
      "source": [
        "temp.shape[0] * 1.0 / data.shape[0] # 99.5% datapoints use less than 10 words in query..."
      ],
      "outputs": [
        {
          "output_type": "execute_result",
          "execution_count": 49,
          "data": {
            "text/plain": [
              "0.9957051367626382"
            ]
          },
          "metadata": {}
        }
      ],
      "execution_count": 49,
      "metadata": {
        "id": "96MeUYcQs9Ho",
        "colab_type": "code",
        "colab": {},
        "outputId": "6fb528d1-3209-440b-ae83-287064bf38de",
        "execution": {
          "iopub.status.busy": "2020-04-06T04:57:59.727Z",
          "iopub.execute_input": "2020-04-06T04:57:59.754Z",
          "iopub.status.idle": "2020-04-06T04:57:59.814Z",
          "shell.execute_reply": "2020-04-06T04:57:59.925Z"
        }
      }
    },
    {
      "cell_type": "code",
      "source": [
        "result = temp.groupby('QCount').agg(['mean'])\n",
        "result.head()"
      ],
      "outputs": [
        {
          "output_type": "execute_result",
          "execution_count": 50,
          "data": {
            "text/plain": [
              "             CTR\n",
              "            mean\n",
              "QCount          \n",
              "1       3.727298\n",
              "2       4.903746\n",
              "3       4.954243\n",
              "4       4.607112\n",
              "5       4.315864"
            ],
            "text/html": [
              "<div>\n",
              "<style scoped>\n",
              "    .dataframe tbody tr th:only-of-type {\n",
              "        vertical-align: middle;\n",
              "    }\n",
              "\n",
              "    .dataframe tbody tr th {\n",
              "        vertical-align: top;\n",
              "    }\n",
              "\n",
              "    .dataframe thead tr th {\n",
              "        text-align: left;\n",
              "    }\n",
              "\n",
              "    .dataframe thead tr:last-of-type th {\n",
              "        text-align: right;\n",
              "    }\n",
              "</style>\n",
              "<table border=\"1\" class=\"dataframe\">\n",
              "  <thead>\n",
              "    <tr>\n",
              "      <th></th>\n",
              "      <th>CTR</th>\n",
              "    </tr>\n",
              "    <tr>\n",
              "      <th></th>\n",
              "      <th>mean</th>\n",
              "    </tr>\n",
              "    <tr>\n",
              "      <th>QCount</th>\n",
              "      <th></th>\n",
              "    </tr>\n",
              "  </thead>\n",
              "  <tbody>\n",
              "    <tr>\n",
              "      <th>1</th>\n",
              "      <td>3.727298</td>\n",
              "    </tr>\n",
              "    <tr>\n",
              "      <th>2</th>\n",
              "      <td>4.903746</td>\n",
              "    </tr>\n",
              "    <tr>\n",
              "      <th>3</th>\n",
              "      <td>4.954243</td>\n",
              "    </tr>\n",
              "    <tr>\n",
              "      <th>4</th>\n",
              "      <td>4.607112</td>\n",
              "    </tr>\n",
              "    <tr>\n",
              "      <th>5</th>\n",
              "      <td>4.315864</td>\n",
              "    </tr>\n",
              "  </tbody>\n",
              "</table>\n",
              "</div>"
            ]
          },
          "metadata": {}
        }
      ],
      "execution_count": 50,
      "metadata": {
        "id": "D5glcmjds9Ht",
        "colab_type": "code",
        "colab": {},
        "outputId": "4b0a3bfb-47b6-4d58-8f48-9d58401cd800",
        "execution": {
          "iopub.status.busy": "2020-04-06T04:57:59.857Z",
          "iopub.execute_input": "2020-04-06T04:57:59.883Z",
          "iopub.status.idle": "2020-04-06T04:58:10.811Z",
          "shell.execute_reply": "2020-04-06T04:58:10.910Z"
        }
      }
    },
    {
      "cell_type": "code",
      "source": [
        "plt.figure(figsize=(5,5))\n",
        "\n",
        "plt.bar(result.index, result[('CTR', 'mean')],\n",
        "        color='red',\n",
        "        width=0.4)\n",
        "plt.xlabel('No. of words in a Query')\n",
        "plt.ylabel('Avg. CTR')\n",
        "\n",
        "plt.tight_layout()"
      ],
      "outputs": [
        {
          "output_type": "display_data",
          "data": {
            "text/plain": [
              "<Figure size 360x360 with 1 Axes>"
            ],
            "image/png": "[encoded data removed]"
          },
          "metadata": {
            "needs_background": "light"
          }
        }
      ],
      "execution_count": 51,
      "metadata": {
        "scrolled": true,
        "id": "rl3XF5jJs9Hv",
        "colab_type": "code",
        "colab": {},
        "outputId": "4ddf813a-c1c5-4bb3-f181-3ade578025ae",
        "execution": {
          "iopub.status.busy": "2020-04-06T04:58:10.854Z",
          "iopub.execute_input": "2020-04-06T04:58:10.883Z",
          "iopub.status.idle": "2020-04-06T04:58:10.956Z",
          "shell.execute_reply": "2020-04-06T04:58:10.985Z"
        }
      }
    },
    {
      "cell_type": "markdown",
      "source": [
        "Conclusion: As no. of words in a search query increases, typically CTR of Ads displayed falls."
      ],
      "metadata": {
        "id": "KqArVTops9Hx",
        "colab_type": "text"
      }
    },
    {
      "cell_type": "code",
      "source": [
        "# How is no. of words in Ad description affect Ad CTR...\n",
        "\n",
        "# Preparing data...\n",
        "\n",
        "temp = data[['DCount', 'CTR']].copy()"
      ],
      "outputs": [],
      "execution_count": 52,
      "metadata": {
        "id": "ut7hx4hHs9Hx",
        "colab_type": "code",
        "colab": {},
        "execution": {
          "iopub.status.busy": "2020-04-06T04:58:11.885Z",
          "iopub.execute_input": "2020-04-06T04:58:11.916Z",
          "iopub.status.idle": "2020-04-06T04:58:13.539Z",
          "shell.execute_reply": "2020-04-06T04:58:13.663Z"
        }
      }
    },
    {
      "cell_type": "code",
      "source": [
        "temp[temp['DCount'] >= 40.0].shape[0] * 1.0 / data.shape[0] # only 0.02 percent datapoints use >= 40 words in ad desc."
      ],
      "outputs": [
        {
          "output_type": "execute_result",
          "execution_count": 53,
          "data": {
            "text/plain": [
              "0.0002999831737866367"
            ]
          },
          "metadata": {}
        }
      ],
      "execution_count": 53,
      "metadata": {
        "id": "YUiHZxOWs9H0",
        "colab_type": "code",
        "colab": {},
        "outputId": "551d785a-b87d-46f9-8bbf-2f11362bcc02",
        "execution": {
          "iopub.status.busy": "2020-04-06T04:58:13.583Z",
          "iopub.execute_input": "2020-04-06T04:58:13.636Z",
          "iopub.status.idle": "2020-04-06T04:58:13.820Z",
          "shell.execute_reply": "2020-04-06T04:58:13.845Z"
        }
      }
    },
    {
      "cell_type": "code",
      "source": [
        "result = temp.groupby('DCount').agg(['mean'])\n",
        "result.head()"
      ],
      "outputs": [
        {
          "output_type": "execute_result",
          "execution_count": 54,
          "data": {
            "text/plain": [
              "             CTR\n",
              "            mean\n",
              "DCount          \n",
              "1       1.208163\n",
              "2       3.367125\n",
              "3       2.853170\n",
              "4       5.700075\n",
              "5       3.466478"
            ],
            "text/html": [
              "<div>\n",
              "<style scoped>\n",
              "    .dataframe tbody tr th:only-of-type {\n",
              "        vertical-align: middle;\n",
              "    }\n",
              "\n",
              "    .dataframe tbody tr th {\n",
              "        vertical-align: top;\n",
              "    }\n",
              "\n",
              "    .dataframe thead tr th {\n",
              "        text-align: left;\n",
              "    }\n",
              "\n",
              "    .dataframe thead tr:last-of-type th {\n",
              "        text-align: right;\n",
              "    }\n",
              "</style>\n",
              "<table border=\"1\" class=\"dataframe\">\n",
              "  <thead>\n",
              "    <tr>\n",
              "      <th></th>\n",
              "      <th>CTR</th>\n",
              "    </tr>\n",
              "    <tr>\n",
              "      <th></th>\n",
              "      <th>mean</th>\n",
              "    </tr>\n",
              "    <tr>\n",
              "      <th>DCount</th>\n",
              "      <th></th>\n",
              "    </tr>\n",
              "  </thead>\n",
              "  <tbody>\n",
              "    <tr>\n",
              "      <th>1</th>\n",
              "      <td>1.208163</td>\n",
              "    </tr>\n",
              "    <tr>\n",
              "      <th>2</th>\n",
              "      <td>3.367125</td>\n",
              "    </tr>\n",
              "    <tr>\n",
              "      <th>3</th>\n",
              "      <td>2.853170</td>\n",
              "    </tr>\n",
              "    <tr>\n",
              "      <th>4</th>\n",
              "      <td>5.700075</td>\n",
              "    </tr>\n",
              "    <tr>\n",
              "      <th>5</th>\n",
              "      <td>3.466478</td>\n",
              "    </tr>\n",
              "  </tbody>\n",
              "</table>\n",
              "</div>"
            ]
          },
          "metadata": {}
        }
      ],
      "execution_count": 54,
      "metadata": {
        "id": "ZE-oVPv0s9H3",
        "colab_type": "code",
        "colab": {},
        "outputId": "0eedba8d-2e9a-4b46-db09-a9ca33697ec6",
        "execution": {
          "iopub.status.busy": "2020-04-06T04:58:14.385Z",
          "iopub.execute_input": "2020-04-06T04:58:14.411Z",
          "iopub.status.idle": "2020-04-06T04:58:24.103Z",
          "shell.execute_reply": "2020-04-06T04:58:24.200Z"
        }
      }
    },
    {
      "cell_type": "code",
      "source": [
        "plt.figure(figsize=(5,5))\n",
        "\n",
        "plt.bar(result.index, result[('CTR', 'mean')],\n",
        "        color='red',\n",
        "        width=0.4)\n",
        "plt.xlabel('No. of words in a Ad Description')\n",
        "plt.ylabel('Avg. CTR')\n",
        "\n",
        "plt.tight_layout()"
      ],
      "outputs": [
        {
          "output_type": "display_data",
          "data": {
            "text/plain": [
              "<Figure size 360x360 with 1 Axes>"
            ],
            "image/png": "[encoded data removed]"
          },
          "metadata": {
            "needs_background": "light"
          }
        }
      ],
      "execution_count": 55,
      "metadata": {
        "id": "1kbPIaZNs9H6",
        "colab_type": "code",
        "colab": {},
        "outputId": "acb6493d-0c17-4e09-d8a0-1f214f7e33fa",
        "execution": {
          "iopub.status.busy": "2020-04-06T04:58:24.145Z",
          "iopub.execute_input": "2020-04-06T04:58:24.174Z",
          "iopub.status.idle": "2020-04-06T04:58:24.297Z",
          "shell.execute_reply": "2020-04-06T04:58:24.352Z"
        }
      }
    },
    {
      "cell_type": "markdown",
      "source": [
        "Conclusion: No. of words in Ad description doesn't give a clear picture of Ad CTR."
      ],
      "metadata": {
        "id": "aPsaaH6Is9H8",
        "colab_type": "text"
      }
    },
    {
      "cell_type": "code",
      "source": [
        "# How does no. of words in Ad Title affect Ad CTR...\n",
        "\n",
        "# Preparing data...\n",
        "\n",
        "temp = data[['TCount', 'CTR']].copy()"
      ],
      "outputs": [],
      "execution_count": 56,
      "metadata": {
        "id": "NRv6wi7As9H9",
        "colab_type": "code",
        "colab": {},
        "execution": {
          "iopub.status.busy": "2020-04-06T04:58:25.421Z",
          "iopub.execute_input": "2020-04-06T04:58:25.451Z",
          "iopub.status.idle": "2020-04-06T04:58:27.021Z",
          "shell.execute_reply": "2020-04-06T04:58:27.148Z"
        }
      }
    },
    {
      "cell_type": "code",
      "source": [
        "temp[temp['TCount'] >= 25.0].shape[0] * 1.0 / data.shape[0] # only 0.0005 percent datapoints use >= 25 words in ad title."
      ],
      "outputs": [
        {
          "output_type": "execute_result",
          "execution_count": 57,
          "data": {
            "text/plain": [
              "6.797923632829143e-06"
            ]
          },
          "metadata": {}
        }
      ],
      "execution_count": 57,
      "metadata": {
        "id": "n9f3fsuws9H_",
        "colab_type": "code",
        "colab": {},
        "outputId": "08a21b99-a3d0-42ed-f5c4-93187e7c04f9",
        "execution": {
          "iopub.status.busy": "2020-04-06T04:58:27.079Z",
          "iopub.execute_input": "2020-04-06T04:58:27.111Z",
          "iopub.status.idle": "2020-04-06T04:58:27.332Z",
          "shell.execute_reply": "2020-04-06T04:58:27.409Z"
        }
      }
    },
    {
      "cell_type": "code",
      "source": [
        "result = temp.groupby('TCount').agg(['mean'])\n",
        "result.head()"
      ],
      "outputs": [
        {
          "output_type": "execute_result",
          "execution_count": 58,
          "data": {
            "text/plain": [
              "             CTR\n",
              "            mean\n",
              "TCount          \n",
              "1       5.445345\n",
              "2       5.679129\n",
              "3       4.484111\n",
              "4       4.562053\n",
              "5       4.415506"
            ],
            "text/html": [
              "<div>\n",
              "<style scoped>\n",
              "    .dataframe tbody tr th:only-of-type {\n",
              "        vertical-align: middle;\n",
              "    }\n",
              "\n",
              "    .dataframe tbody tr th {\n",
              "        vertical-align: top;\n",
              "    }\n",
              "\n",
              "    .dataframe thead tr th {\n",
              "        text-align: left;\n",
              "    }\n",
              "\n",
              "    .dataframe thead tr:last-of-type th {\n",
              "        text-align: right;\n",
              "    }\n",
              "</style>\n",
              "<table border=\"1\" class=\"dataframe\">\n",
              "  <thead>\n",
              "    <tr>\n",
              "      <th></th>\n",
              "      <th>CTR</th>\n",
              "    </tr>\n",
              "    <tr>\n",
              "      <th></th>\n",
              "      <th>mean</th>\n",
              "    </tr>\n",
              "    <tr>\n",
              "      <th>TCount</th>\n",
              "      <th></th>\n",
              "    </tr>\n",
              "  </thead>\n",
              "  <tbody>\n",
              "    <tr>\n",
              "      <th>1</th>\n",
              "      <td>5.445345</td>\n",
              "    </tr>\n",
              "    <tr>\n",
              "      <th>2</th>\n",
              "      <td>5.679129</td>\n",
              "    </tr>\n",
              "    <tr>\n",
              "      <th>3</th>\n",
              "      <td>4.484111</td>\n",
              "    </tr>\n",
              "    <tr>\n",
              "      <th>4</th>\n",
              "      <td>4.562053</td>\n",
              "    </tr>\n",
              "    <tr>\n",
              "      <th>5</th>\n",
              "      <td>4.415506</td>\n",
              "    </tr>\n",
              "  </tbody>\n",
              "</table>\n",
              "</div>"
            ]
          },
          "metadata": {}
        }
      ],
      "execution_count": 58,
      "metadata": {
        "id": "q_E9b79ks9IA",
        "colab_type": "code",
        "colab": {},
        "outputId": "6921dab8-d025-4078-c81d-eb0de53a7c3c",
        "execution": {
          "iopub.status.busy": "2020-04-06T04:58:27.376Z",
          "iopub.execute_input": "2020-04-06T04:58:27.987Z",
          "iopub.status.idle": "2020-04-06T04:58:39.351Z",
          "shell.execute_reply": "2020-04-06T04:58:39.455Z"
        }
      }
    },
    {
      "cell_type": "code",
      "source": [
        "plt.figure(figsize=(5,5))\n",
        "\n",
        "plt.bar(result.index, result[('CTR', 'mean')],\n",
        "        color='red',\n",
        "        width=0.4)\n",
        "plt.xlabel('No. of words in a Ad Title')\n",
        "plt.ylabel('Avg. CTR')\n",
        "\n",
        "plt.tight_layout()"
      ],
      "outputs": [
        {
          "output_type": "display_data",
          "data": {
            "text/plain": [
              "<Figure size 360x360 with 1 Axes>"
            ],
            "image/png": "[encoded data removed]"
          },
          "metadata": {
            "needs_background": "light"
          }
        }
      ],
      "execution_count": 59,
      "metadata": {
        "id": "QT-Ga7M7s9IC",
        "colab_type": "code",
        "colab": {},
        "outputId": "c03ad062-e618-40c4-cb2f-0b627f5f9fca",
        "execution": {
          "iopub.status.busy": "2020-04-06T04:58:39.398Z",
          "iopub.execute_input": "2020-04-06T04:58:39.428Z",
          "iopub.status.idle": "2020-04-06T04:58:39.533Z",
          "shell.execute_reply": "2020-04-06T04:58:39.561Z"
        }
      }
    },
    {
      "cell_type": "markdown",
      "source": [
        "Conclusion: Avg. Ad CTR is more or less distributed uniformly with no. of words in Ad title."
      ],
      "metadata": {
        "id": "6qkpmOA7s9IE",
        "colab_type": "text"
      }
    },
    {
      "cell_type": "code",
      "source": [
        "# Does Ad Impresions affect Ad Clicks... (more impressions mean more click ?)\n",
        "\n",
        "# Preparing data...\n",
        "\n",
        "temp = data[['AdId', 'Impression', 'Click']].copy()\n",
        "temp.head()"
      ],
      "outputs": [
        {
          "output_type": "execute_result",
          "execution_count": 60,
          "data": {
            "text/plain": [
              "      AdId  Impression  Click\n",
              "0  7686695           1      0\n",
              "1  7686695           2      0\n",
              "2  7686695           1      0\n",
              "3  7686695           1      0\n",
              "4  7686695           2      0"
            ],
            "text/html": [
              "<div>\n",
              "<style scoped>\n",
              "    .dataframe tbody tr th:only-of-type {\n",
              "        vertical-align: middle;\n",
              "    }\n",
              "\n",
              "    .dataframe tbody tr th {\n",
              "        vertical-align: top;\n",
              "    }\n",
              "\n",
              "    .dataframe thead th {\n",
              "        text-align: right;\n",
              "    }\n",
              "</style>\n",
              "<table border=\"1\" class=\"dataframe\">\n",
              "  <thead>\n",
              "    <tr style=\"text-align: right;\">\n",
              "      <th></th>\n",
              "      <th>AdId</th>\n",
              "      <th>Impression</th>\n",
              "      <th>Click</th>\n",
              "    </tr>\n",
              "  </thead>\n",
              "  <tbody>\n",
              "    <tr>\n",
              "      <th>0</th>\n",
              "      <td>7686695</td>\n",
              "      <td>1</td>\n",
              "      <td>0</td>\n",
              "    </tr>\n",
              "    <tr>\n",
              "      <th>1</th>\n",
              "      <td>7686695</td>\n",
              "      <td>2</td>\n",
              "      <td>0</td>\n",
              "    </tr>\n",
              "    <tr>\n",
              "      <th>2</th>\n",
              "      <td>7686695</td>\n",
              "      <td>1</td>\n",
              "      <td>0</td>\n",
              "    </tr>\n",
              "    <tr>\n",
              "      <th>3</th>\n",
              "      <td>7686695</td>\n",
              "      <td>1</td>\n",
              "      <td>0</td>\n",
              "    </tr>\n",
              "    <tr>\n",
              "      <th>4</th>\n",
              "      <td>7686695</td>\n",
              "      <td>2</td>\n",
              "      <td>0</td>\n",
              "    </tr>\n",
              "  </tbody>\n",
              "</table>\n",
              "</div>"
            ]
          },
          "metadata": {}
        }
      ],
      "execution_count": 60,
      "metadata": {
        "id": "P4_hUJo0s9IE",
        "colab_type": "code",
        "colab": {},
        "outputId": "7e693015-51d7-4612-91af-eded421690b9",
        "execution": {
          "iopub.status.busy": "2020-04-06T04:58:42.875Z",
          "iopub.execute_input": "2020-04-06T04:58:42.910Z",
          "iopub.status.idle": "2020-04-06T04:58:46.487Z",
          "shell.execute_reply": "2020-04-06T04:58:46.528Z"
        }
      }
    },
    {
      "cell_type": "code",
      "source": [
        "result = temp.groupby('AdId').agg(['mean'])\n",
        "result.head(6)"
      ],
      "outputs": [
        {
          "output_type": "execute_result",
          "execution_count": 61,
          "data": {
            "text/plain": [
              "        Impression     Click\n",
              "              mean      mean\n",
              "AdId                        \n",
              "1000031   1.111111  0.000000\n",
              "1000465   1.640000  0.000000\n",
              "1000467   1.306709  0.035144\n",
              "1000468   1.250000  0.000000\n",
              "1000469   1.000000  0.000000\n",
              "1000470   1.500000  0.000000"
            ],
            "text/html": [
              "<div>\n",
              "<style scoped>\n",
              "    .dataframe tbody tr th:only-of-type {\n",
              "        vertical-align: middle;\n",
              "    }\n",
              "\n",
              "    .dataframe tbody tr th {\n",
              "        vertical-align: top;\n",
              "    }\n",
              "\n",
              "    .dataframe thead tr th {\n",
              "        text-align: left;\n",
              "    }\n",
              "\n",
              "    .dataframe thead tr:last-of-type th {\n",
              "        text-align: right;\n",
              "    }\n",
              "</style>\n",
              "<table border=\"1\" class=\"dataframe\">\n",
              "  <thead>\n",
              "    <tr>\n",
              "      <th></th>\n",
              "      <th>Impression</th>\n",
              "      <th>Click</th>\n",
              "    </tr>\n",
              "    <tr>\n",
              "      <th></th>\n",
              "      <th>mean</th>\n",
              "      <th>mean</th>\n",
              "    </tr>\n",
              "    <tr>\n",
              "      <th>AdId</th>\n",
              "      <th></th>\n",
              "      <th></th>\n",
              "    </tr>\n",
              "  </thead>\n",
              "  <tbody>\n",
              "    <tr>\n",
              "      <th>1000031</th>\n",
              "      <td>1.111111</td>\n",
              "      <td>0.000000</td>\n",
              "    </tr>\n",
              "    <tr>\n",
              "      <th>1000465</th>\n",
              "      <td>1.640000</td>\n",
              "      <td>0.000000</td>\n",
              "    </tr>\n",
              "    <tr>\n",
              "      <th>1000467</th>\n",
              "      <td>1.306709</td>\n",
              "      <td>0.035144</td>\n",
              "    </tr>\n",
              "    <tr>\n",
              "      <th>1000468</th>\n",
              "      <td>1.250000</td>\n",
              "      <td>0.000000</td>\n",
              "    </tr>\n",
              "    <tr>\n",
              "      <th>1000469</th>\n",
              "      <td>1.000000</td>\n",
              "      <td>0.000000</td>\n",
              "    </tr>\n",
              "    <tr>\n",
              "      <th>1000470</th>\n",
              "      <td>1.500000</td>\n",
              "      <td>0.000000</td>\n",
              "    </tr>\n",
              "  </tbody>\n",
              "</table>\n",
              "</div>"
            ]
          },
          "metadata": {}
        }
      ],
      "execution_count": 61,
      "metadata": {
        "scrolled": true,
        "id": "ZVlFUakHs9IJ",
        "colab_type": "code",
        "colab": {},
        "outputId": "df215a56-a1b5-4e34-bfea-d442f8e5a9fb",
        "execution": {
          "iopub.status.busy": "2020-04-06T04:58:47.311Z",
          "iopub.execute_input": "2020-04-06T04:58:47.339Z",
          "iopub.status.idle": "2020-04-06T04:58:59.185Z",
          "shell.execute_reply": "2020-04-06T04:58:59.277Z"
        }
      }
    },
    {
      "cell_type": "code",
      "source": [
        "x = result[('Impression', 'mean')]\n",
        "y = result[('Click', 'mean')]\n",
        "plt.scatter(x,\n",
        "            y,\n",
        "            c='green',\n",
        "            s=100,\n",
        "            marker='o',\n",
        "            edgecolor=None)\n",
        "plt.xlabel('No. of Impressions')\n",
        "plt.ylabel('No. of Clicks')\n",
        "plt.title('Relationship between Ad Impressions & Clicks')"
      ],
      "outputs": [
        {
          "output_type": "execute_result",
          "execution_count": 62,
          "data": {
            "text/plain": [
              "Text(0.5, 1.0, 'Relationship between Ad Impressions & Clicks')"
            ]
          },
          "metadata": {}
        },
        {
          "output_type": "display_data",
          "data": {
            "text/plain": [
              "<Figure size 432x288 with 1 Axes>"
            ],
            "image/png": "[encoded data removed]"
          },
          "metadata": {
            "needs_background": "light"
          }
        }
      ],
      "execution_count": 62,
      "metadata": {
        "id": "u9retRs7s9IL",
        "colab_type": "code",
        "colab": {},
        "outputId": "901711f8-b245-419d-fefe-1fa0fb52ada7",
        "execution": {
          "iopub.status.busy": "2020-04-06T04:58:59.227Z",
          "iopub.execute_input": "2020-04-06T04:58:59.254Z",
          "iopub.status.idle": "2020-04-06T04:59:02.187Z",
          "shell.execute_reply": "2020-04-06T04:59:02.260Z"
        }
      }
    },
    {
      "cell_type": "markdown",
      "source": [
        "Conclusion: As no. of impressions of an advertisement inc. clicks are mostly ~ 0.\n",
        "\n",
        "This indicates a very crucial aspect of human behaviour. As a user see the same ad again & again, they are less likely to click it."
      ],
      "metadata": {
        "id": "zeoWzXZQs9IN",
        "colab_type": "text"
      }
    },
    {
      "cell_type": "code",
      "source": [
        "# Let us see how Gender of a user has an impact on Ad CTR\n",
        "\n",
        "# Preparing data...\n",
        "\n",
        "temp = data[['Gender', 'CTR']].copy()\n",
        "temp.head()"
      ],
      "outputs": [
        {
          "output_type": "execute_result",
          "execution_count": 63,
          "data": {
            "text/plain": [
              "   Gender  CTR\n",
              "0       1  0.0\n",
              "1       1  0.0\n",
              "2       2  0.0\n",
              "3       0  0.0\n",
              "4       2  0.0"
            ],
            "text/html": [
              "<div>\n",
              "<style scoped>\n",
              "    .dataframe tbody tr th:only-of-type {\n",
              "        vertical-align: middle;\n",
              "    }\n",
              "\n",
              "    .dataframe tbody tr th {\n",
              "        vertical-align: top;\n",
              "    }\n",
              "\n",
              "    .dataframe thead th {\n",
              "        text-align: right;\n",
              "    }\n",
              "</style>\n",
              "<table border=\"1\" class=\"dataframe\">\n",
              "  <thead>\n",
              "    <tr style=\"text-align: right;\">\n",
              "      <th></th>\n",
              "      <th>Gender</th>\n",
              "      <th>CTR</th>\n",
              "    </tr>\n",
              "  </thead>\n",
              "  <tbody>\n",
              "    <tr>\n",
              "      <th>0</th>\n",
              "      <td>1</td>\n",
              "      <td>0.0</td>\n",
              "    </tr>\n",
              "    <tr>\n",
              "      <th>1</th>\n",
              "      <td>1</td>\n",
              "      <td>0.0</td>\n",
              "    </tr>\n",
              "    <tr>\n",
              "      <th>2</th>\n",
              "      <td>2</td>\n",
              "      <td>0.0</td>\n",
              "    </tr>\n",
              "    <tr>\n",
              "      <th>3</th>\n",
              "      <td>0</td>\n",
              "      <td>0.0</td>\n",
              "    </tr>\n",
              "    <tr>\n",
              "      <th>4</th>\n",
              "      <td>2</td>\n",
              "      <td>0.0</td>\n",
              "    </tr>\n",
              "  </tbody>\n",
              "</table>\n",
              "</div>"
            ]
          },
          "metadata": {}
        }
      ],
      "execution_count": 63,
      "metadata": {
        "id": "E3fwVBNLs9IO",
        "colab_type": "code",
        "colab": {},
        "outputId": "2a70a402-2609-4f64-ff6a-9065091716fa",
        "execution": {
          "iopub.status.busy": "2020-04-06T04:59:02.231Z",
          "iopub.execute_input": "2020-04-06T04:59:04.025Z",
          "iopub.status.idle": "2020-04-06T04:59:05.688Z",
          "shell.execute_reply": "2020-04-06T04:59:05.719Z"
        }
      }
    },
    {
      "cell_type": "code",
      "source": [
        "result = temp.groupby('Gender').agg(['mean'])\n",
        "result.head()"
      ],
      "outputs": [
        {
          "output_type": "execute_result",
          "execution_count": 64,
          "data": {
            "text/plain": [
              "             CTR\n",
              "            mean\n",
              "Gender          \n",
              "0       4.552286\n",
              "1       4.437052\n",
              "2       4.615753"
            ],
            "text/html": [
              "<div>\n",
              "<style scoped>\n",
              "    .dataframe tbody tr th:only-of-type {\n",
              "        vertical-align: middle;\n",
              "    }\n",
              "\n",
              "    .dataframe tbody tr th {\n",
              "        vertical-align: top;\n",
              "    }\n",
              "\n",
              "    .dataframe thead tr th {\n",
              "        text-align: left;\n",
              "    }\n",
              "\n",
              "    .dataframe thead tr:last-of-type th {\n",
              "        text-align: right;\n",
              "    }\n",
              "</style>\n",
              "<table border=\"1\" class=\"dataframe\">\n",
              "  <thead>\n",
              "    <tr>\n",
              "      <th></th>\n",
              "      <th>CTR</th>\n",
              "    </tr>\n",
              "    <tr>\n",
              "      <th></th>\n",
              "      <th>mean</th>\n",
              "    </tr>\n",
              "    <tr>\n",
              "      <th>Gender</th>\n",
              "      <th></th>\n",
              "    </tr>\n",
              "  </thead>\n",
              "  <tbody>\n",
              "    <tr>\n",
              "      <th>0</th>\n",
              "      <td>4.552286</td>\n",
              "    </tr>\n",
              "    <tr>\n",
              "      <th>1</th>\n",
              "      <td>4.437052</td>\n",
              "    </tr>\n",
              "    <tr>\n",
              "      <th>2</th>\n",
              "      <td>4.615753</td>\n",
              "    </tr>\n",
              "  </tbody>\n",
              "</table>\n",
              "</div>"
            ]
          },
          "metadata": {}
        }
      ],
      "execution_count": 64,
      "metadata": {
        "scrolled": true,
        "id": "YWLx6DWms9IP",
        "colab_type": "code",
        "colab": {},
        "outputId": "81418b1e-dbf9-46b3-c612-56358cd4531c",
        "execution": {
          "iopub.status.busy": "2020-04-06T04:59:06.285Z",
          "iopub.execute_input": "2020-04-06T04:59:06.312Z",
          "iopub.status.idle": "2020-04-06T04:59:16.582Z",
          "shell.execute_reply": "2020-04-06T04:59:16.875Z"
        }
      }
    },
    {
      "cell_type": "code",
      "source": [
        "# 1. Male, 2. Female, 3. Unknown"
      ],
      "outputs": [],
      "execution_count": 65,
      "metadata": {
        "id": "DJbX38dDs9IR",
        "colab_type": "code",
        "colab": {},
        "execution": {
          "iopub.status.busy": "2020-04-06T04:59:16.629Z",
          "iopub.execute_input": "2020-04-06T04:59:16.659Z",
          "iopub.status.idle": "2020-04-06T04:59:16.706Z",
          "shell.execute_reply": "2020-04-06T04:59:16.889Z"
        }
      }
    },
    {
      "cell_type": "code",
      "source": [
        "plt.figure(figsize=(5,5))\n",
        "\n",
        "plt.bar(result.index, result[('CTR', 'mean')],\n",
        "        color='red',\n",
        "        width=0.3)\n",
        "plt.xlabel('Gender')\n",
        "plt.ylabel('Avg. CTR')\n",
        "\n",
        "plt.tight_layout()"
      ],
      "outputs": [
        {
          "output_type": "display_data",
          "data": {
            "text/plain": [
              "<Figure size 360x360 with 1 Axes>"
            ],
            "image/png": "[encoded data removed]"
          },
          "metadata": {
            "needs_background": "light"
          }
        }
      ],
      "execution_count": 66,
      "metadata": {
        "id": "qRG5eOWss9IT",
        "colab_type": "code",
        "colab": {},
        "outputId": "745d2272-fa29-4ab2-be49-181da830af30",
        "execution": {
          "iopub.status.busy": "2020-04-06T04:59:16.761Z",
          "iopub.execute_input": "2020-04-06T04:59:16.789Z",
          "iopub.status.idle": "2020-04-06T04:59:16.848Z",
          "shell.execute_reply": "2020-04-06T04:59:16.904Z"
        }
      }
    },
    {
      "cell_type": "markdown",
      "source": [
        "Conclusion: Gender of a user doesn't impact CTR of an advertisement."
      ],
      "metadata": {
        "id": "6iDP-SqKs9IW",
        "colab_type": "text"
      }
    },
    {
      "cell_type": "code",
      "source": [
        "# What about Age of a user...\n",
        "\n",
        "# Preparing data...\n",
        "\n",
        "temp = data[['Age', 'CTR']].copy()\n",
        "temp.head()"
      ],
      "outputs": [
        {
          "output_type": "execute_result",
          "execution_count": 67,
          "data": {
            "text/plain": [
              "   Age  CTR\n",
              "0    3  0.0\n",
              "1    3  0.0\n",
              "2    5  0.0\n",
              "3    2  0.0\n",
              "4    5  0.0"
            ],
            "text/html": [
              "<div>\n",
              "<style scoped>\n",
              "    .dataframe tbody tr th:only-of-type {\n",
              "        vertical-align: middle;\n",
              "    }\n",
              "\n",
              "    .dataframe tbody tr th {\n",
              "        vertical-align: top;\n",
              "    }\n",
              "\n",
              "    .dataframe thead th {\n",
              "        text-align: right;\n",
              "    }\n",
              "</style>\n",
              "<table border=\"1\" class=\"dataframe\">\n",
              "  <thead>\n",
              "    <tr style=\"text-align: right;\">\n",
              "      <th></th>\n",
              "      <th>Age</th>\n",
              "      <th>CTR</th>\n",
              "    </tr>\n",
              "  </thead>\n",
              "  <tbody>\n",
              "    <tr>\n",
              "      <th>0</th>\n",
              "      <td>3</td>\n",
              "      <td>0.0</td>\n",
              "    </tr>\n",
              "    <tr>\n",
              "      <th>1</th>\n",
              "      <td>3</td>\n",
              "      <td>0.0</td>\n",
              "    </tr>\n",
              "    <tr>\n",
              "      <th>2</th>\n",
              "      <td>5</td>\n",
              "      <td>0.0</td>\n",
              "    </tr>\n",
              "    <tr>\n",
              "      <th>3</th>\n",
              "      <td>2</td>\n",
              "      <td>0.0</td>\n",
              "    </tr>\n",
              "    <tr>\n",
              "      <th>4</th>\n",
              "      <td>5</td>\n",
              "      <td>0.0</td>\n",
              "    </tr>\n",
              "  </tbody>\n",
              "</table>\n",
              "</div>"
            ]
          },
          "metadata": {}
        }
      ],
      "execution_count": 67,
      "metadata": {
        "id": "dOSjcxihs9Ia",
        "colab_type": "code",
        "colab": {},
        "outputId": "ef311baa-3f54-4bd6-be77-81a8b1de08bd",
        "execution": {
          "iopub.status.busy": "2020-04-06T04:59:18.576Z",
          "iopub.execute_input": "2020-04-06T04:59:18.604Z",
          "iopub.status.idle": "2020-04-06T04:59:20.448Z",
          "shell.execute_reply": "2020-04-06T04:59:20.574Z"
        }
      }
    },
    {
      "cell_type": "code",
      "source": [
        "temp[temp['Age'] > 4.0].shape[0] * 1.0 / data.shape[0] # 21 percent datapoints are in age group > 4.0"
      ],
      "outputs": [
        {
          "output_type": "execute_result",
          "execution_count": 68,
          "data": {
            "text/plain": [
              "0.2141411669624049"
            ]
          },
          "metadata": {}
        }
      ],
      "execution_count": 68,
      "metadata": {
        "id": "4BL6LS1Ps9Ie",
        "colab_type": "code",
        "colab": {},
        "outputId": "cba97688-cfd0-4a80-ebbf-60b5ff341529",
        "execution": {
          "iopub.status.busy": "2020-04-06T04:59:20.495Z",
          "iopub.execute_input": "2020-04-06T04:59:20.546Z",
          "iopub.status.idle": "2020-04-06T04:59:21.731Z",
          "shell.execute_reply": "2020-04-06T04:59:21.760Z"
        }
      }
    },
    {
      "cell_type": "code",
      "source": [
        "result = temp.groupby('Age').agg(['mean'])\n",
        "result.head(6)"
      ],
      "outputs": [
        {
          "output_type": "execute_result",
          "execution_count": 69,
          "data": {
            "text/plain": [
              "          CTR\n",
              "         mean\n",
              "Age          \n",
              "1    4.482771\n",
              "2    4.528035\n",
              "3    4.391190\n",
              "4    4.282456\n",
              "5    4.792122\n",
              "6    5.322192"
            ],
            "text/html": [
              "<div>\n",
              "<style scoped>\n",
              "    .dataframe tbody tr th:only-of-type {\n",
              "        vertical-align: middle;\n",
              "    }\n",
              "\n",
              "    .dataframe tbody tr th {\n",
              "        vertical-align: top;\n",
              "    }\n",
              "\n",
              "    .dataframe thead tr th {\n",
              "        text-align: left;\n",
              "    }\n",
              "\n",
              "    .dataframe thead tr:last-of-type th {\n",
              "        text-align: right;\n",
              "    }\n",
              "</style>\n",
              "<table border=\"1\" class=\"dataframe\">\n",
              "  <thead>\n",
              "    <tr>\n",
              "      <th></th>\n",
              "      <th>CTR</th>\n",
              "    </tr>\n",
              "    <tr>\n",
              "      <th></th>\n",
              "      <th>mean</th>\n",
              "    </tr>\n",
              "    <tr>\n",
              "      <th>Age</th>\n",
              "      <th></th>\n",
              "    </tr>\n",
              "  </thead>\n",
              "  <tbody>\n",
              "    <tr>\n",
              "      <th>1</th>\n",
              "      <td>4.482771</td>\n",
              "    </tr>\n",
              "    <tr>\n",
              "      <th>2</th>\n",
              "      <td>4.528035</td>\n",
              "    </tr>\n",
              "    <tr>\n",
              "      <th>3</th>\n",
              "      <td>4.391190</td>\n",
              "    </tr>\n",
              "    <tr>\n",
              "      <th>4</th>\n",
              "      <td>4.282456</td>\n",
              "    </tr>\n",
              "    <tr>\n",
              "      <th>5</th>\n",
              "      <td>4.792122</td>\n",
              "    </tr>\n",
              "    <tr>\n",
              "      <th>6</th>\n",
              "      <td>5.322192</td>\n",
              "    </tr>\n",
              "  </tbody>\n",
              "</table>\n",
              "</div>"
            ]
          },
          "metadata": {}
        }
      ],
      "execution_count": 69,
      "metadata": {
        "id": "HPZKG4IUs9Ih",
        "colab_type": "code",
        "colab": {},
        "outputId": "f249048b-5e9d-4044-c609-fe278591913b",
        "execution": {
          "iopub.status.busy": "2020-04-06T04:59:22.306Z",
          "iopub.execute_input": "2020-04-06T04:59:22.332Z",
          "iopub.status.idle": "2020-04-06T04:59:34.136Z",
          "shell.execute_reply": "2020-04-06T04:59:34.503Z"
        }
      }
    },
    {
      "cell_type": "code",
      "source": [
        "# Recall Age categories as follows:\n",
        "\n",
        "# '1' : (0, 12]\n",
        "# '2' : (12, 18]\n",
        "# '3' : (18, 24]\n",
        "# '4' : (24, 30]\n",
        "# '5' : (30,  40]\n",
        "# '6' : > 40."
      ],
      "outputs": [],
      "execution_count": 70,
      "metadata": {
        "id": "zQ7kR1WGs9Ij",
        "colab_type": "code",
        "colab": {},
        "execution": {
          "iopub.status.busy": "2020-04-06T04:59:34.179Z",
          "iopub.execute_input": "2020-04-06T04:59:34.204Z",
          "iopub.status.idle": "2020-04-06T04:59:34.243Z",
          "shell.execute_reply": "2020-04-06T04:59:34.517Z"
        }
      }
    },
    {
      "cell_type": "code",
      "source": [
        "plt.figure(figsize=(5,5))\n",
        "\n",
        "plt.bar(result.index, result[('CTR', 'mean')],\n",
        "        color='red',\n",
        "        width=0.3)\n",
        "plt.xlabel('Age')\n",
        "plt.ylabel('Avg. CTR')\n",
        "\n",
        "plt.tight_layout()"
      ],
      "outputs": [
        {
          "output_type": "display_data",
          "data": {
            "text/plain": [
              "<Figure size 360x360 with 1 Axes>"
            ],
            "image/png": "[encoded data removed]"
          },
          "metadata": {
            "needs_background": "light"
          }
        }
      ],
      "execution_count": 71,
      "metadata": {
        "id": "sXADdts8s9Ik",
        "colab_type": "code",
        "colab": {},
        "outputId": "3f2396d6-9e7e-4daa-9a95-0dfa5c959b0c",
        "execution": {
          "iopub.status.busy": "2020-04-06T04:59:34.287Z",
          "iopub.execute_input": "2020-04-06T04:59:34.339Z",
          "iopub.status.idle": "2020-04-06T04:59:34.402Z",
          "shell.execute_reply": "2020-04-06T04:59:34.533Z"
        }
      }
    },
    {
      "cell_type": "markdown",
      "source": [
        "Conclusion: An user in categories 5 & 6 has higher avg. CTR as compared to users in other categories."
      ],
      "metadata": {
        "id": "RNLcF25Os9Io",
        "colab_type": "text"
      }
    },
    {
      "cell_type": "code",
      "source": [
        "# Since users in Age categories 5 & 6 have a higher CTR, let us try to find out \n",
        "\n",
        "# how does gender of a user in category 5 & 6 affect CTR of an ad...\n",
        "\n",
        "# Preparing data...\n",
        "\n",
        "temp = data[['Gender', 'Age', 'CTR']].copy()\n",
        "temp = temp[(temp['Age'] == 5) | (temp['Age'] == 6)] # filter aged users.\n",
        "temp.head()"
      ],
      "outputs": [
        {
          "output_type": "execute_result",
          "execution_count": 72,
          "data": {
            "text/plain": [
              "    Gender  Age  CTR\n",
              "2        2    5  0.0\n",
              "4        2    5  0.0\n",
              "6        1    6  0.0\n",
              "14       2    5  0.0\n",
              "27       1    5  0.0"
            ],
            "text/html": [
              "<div>\n",
              "<style scoped>\n",
              "    .dataframe tbody tr th:only-of-type {\n",
              "        vertical-align: middle;\n",
              "    }\n",
              "\n",
              "    .dataframe tbody tr th {\n",
              "        vertical-align: top;\n",
              "    }\n",
              "\n",
              "    .dataframe thead th {\n",
              "        text-align: right;\n",
              "    }\n",
              "</style>\n",
              "<table border=\"1\" class=\"dataframe\">\n",
              "  <thead>\n",
              "    <tr style=\"text-align: right;\">\n",
              "      <th></th>\n",
              "      <th>Gender</th>\n",
              "      <th>Age</th>\n",
              "      <th>CTR</th>\n",
              "    </tr>\n",
              "  </thead>\n",
              "  <tbody>\n",
              "    <tr>\n",
              "      <th>2</th>\n",
              "      <td>2</td>\n",
              "      <td>5</td>\n",
              "      <td>0.0</td>\n",
              "    </tr>\n",
              "    <tr>\n",
              "      <th>4</th>\n",
              "      <td>2</td>\n",
              "      <td>5</td>\n",
              "      <td>0.0</td>\n",
              "    </tr>\n",
              "    <tr>\n",
              "      <th>6</th>\n",
              "      <td>1</td>\n",
              "      <td>6</td>\n",
              "      <td>0.0</td>\n",
              "    </tr>\n",
              "    <tr>\n",
              "      <th>14</th>\n",
              "      <td>2</td>\n",
              "      <td>5</td>\n",
              "      <td>0.0</td>\n",
              "    </tr>\n",
              "    <tr>\n",
              "      <th>27</th>\n",
              "      <td>1</td>\n",
              "      <td>5</td>\n",
              "      <td>0.0</td>\n",
              "    </tr>\n",
              "  </tbody>\n",
              "</table>\n",
              "</div>"
            ]
          },
          "metadata": {}
        }
      ],
      "execution_count": 72,
      "metadata": {
        "id": "aMSvSXuIs9Ip",
        "colab_type": "code",
        "colab": {},
        "outputId": "7cab3ac5-075d-4c50-d9be-8123fd5a5681",
        "execution": {
          "iopub.status.busy": "2020-04-06T04:59:34.448Z",
          "iopub.execute_input": "2020-04-06T04:59:34.475Z",
          "iopub.status.idle": "2020-04-06T04:59:40.730Z",
          "shell.execute_reply": "2020-04-06T04:59:40.829Z"
        }
      }
    },
    {
      "cell_type": "code",
      "source": [
        "temp[temp['Gender'] == 2.0].shape[0] * 1.0 / data.shape[0] # 9.3 percent users are old female."
      ],
      "outputs": [
        {
          "output_type": "execute_result",
          "execution_count": 73,
          "data": {
            "text/plain": [
              "0.09392017602186428"
            ]
          },
          "metadata": {}
        }
      ],
      "execution_count": 73,
      "metadata": {
        "id": "hNP3bjMUs9Ir",
        "colab_type": "code",
        "colab": {},
        "outputId": "6e39584b-8e2c-46a8-fec3-ad345d276ba6",
        "execution": {
          "iopub.status.busy": "2020-04-06T04:59:40.775Z",
          "iopub.execute_input": "2020-04-06T04:59:40.803Z",
          "iopub.status.idle": "2020-04-06T04:59:41.189Z",
          "shell.execute_reply": "2020-04-06T04:59:41.216Z"
        }
      }
    },
    {
      "cell_type": "code",
      "source": [
        "temp = temp[['Gender', 'CTR']].copy()\n",
        "result = temp.groupby('Gender').agg(['mean'])\n",
        "result.head()"
      ],
      "outputs": [
        {
          "output_type": "execute_result",
          "execution_count": 74,
          "data": {
            "text/plain": [
              "             CTR\n",
              "            mean\n",
              "Gender          \n",
              "0       4.672665\n",
              "1       4.793759\n",
              "2       5.155138"
            ],
            "text/html": [
              "<div>\n",
              "<style scoped>\n",
              "    .dataframe tbody tr th:only-of-type {\n",
              "        vertical-align: middle;\n",
              "    }\n",
              "\n",
              "    .dataframe tbody tr th {\n",
              "        vertical-align: top;\n",
              "    }\n",
              "\n",
              "    .dataframe thead tr th {\n",
              "        text-align: left;\n",
              "    }\n",
              "\n",
              "    .dataframe thead tr:last-of-type th {\n",
              "        text-align: right;\n",
              "    }\n",
              "</style>\n",
              "<table border=\"1\" class=\"dataframe\">\n",
              "  <thead>\n",
              "    <tr>\n",
              "      <th></th>\n",
              "      <th>CTR</th>\n",
              "    </tr>\n",
              "    <tr>\n",
              "      <th></th>\n",
              "      <th>mean</th>\n",
              "    </tr>\n",
              "    <tr>\n",
              "      <th>Gender</th>\n",
              "      <th></th>\n",
              "    </tr>\n",
              "  </thead>\n",
              "  <tbody>\n",
              "    <tr>\n",
              "      <th>0</th>\n",
              "      <td>4.672665</td>\n",
              "    </tr>\n",
              "    <tr>\n",
              "      <th>1</th>\n",
              "      <td>4.793759</td>\n",
              "    </tr>\n",
              "    <tr>\n",
              "      <th>2</th>\n",
              "      <td>5.155138</td>\n",
              "    </tr>\n",
              "  </tbody>\n",
              "</table>\n",
              "</div>"
            ]
          },
          "metadata": {}
        }
      ],
      "execution_count": 74,
      "metadata": {
        "id": "mmQfAVebs9Iu",
        "colab_type": "code",
        "colab": {},
        "outputId": "6ac963c3-410c-40e3-9d5f-a72ad54523ed",
        "execution": {
          "iopub.status.busy": "2020-04-06T04:59:41.286Z",
          "iopub.execute_input": "2020-04-06T04:59:41.313Z",
          "iopub.status.idle": "2020-04-06T04:59:44.863Z",
          "shell.execute_reply": "2020-04-06T04:59:44.962Z"
        }
      }
    },
    {
      "cell_type": "code",
      "source": [
        "plt.figure(figsize=(5,5))\n",
        "\n",
        "plt.bar(result.index, result[('CTR', 'mean')],\n",
        "        color='green',\n",
        "        width=0.5)\n",
        "plt.xlabel('Gender')\n",
        "plt.ylabel('Avg. CTR')\n",
        "\n",
        "plt.tight_layout()"
      ],
      "outputs": [
        {
          "output_type": "display_data",
          "data": {
            "text/plain": [
              "<Figure size 360x360 with 1 Axes>"
            ],
            "image/png": "[encoded data removed]"
          },
          "metadata": {
            "needs_background": "light"
          }
        }
      ],
      "execution_count": 75,
      "metadata": {
        "id": "1s4dLQdas9Iw",
        "colab_type": "code",
        "colab": {},
        "outputId": "ccfb9fa0-e751-424e-8c13-64736f0f7c49",
        "execution": {
          "iopub.status.busy": "2020-04-06T04:59:44.909Z",
          "iopub.execute_input": "2020-04-06T04:59:44.935Z",
          "shell.execute_reply": "2020-04-06T04:59:44.976Z",
          "iopub.status.idle": "2020-04-06T04:59:45.021Z"
        }
      }
    },
    {
      "cell_type": "markdown",
      "source": [
        "Conclusion: Female users (2) in Age categories 5 & 6 are more likely to click an Ad as opposed to their male (1) counterparts."
      ],
      "metadata": {
        "id": "PsVqjvG2s9I0",
        "colab_type": "text"
      }
    },
    {
      "cell_type": "code",
      "source": [
        "# Let us try to see if Ad position affects on Ad CTR...\n",
        "\n",
        "# Preparing data...\n",
        "\n",
        "temp = data[['Pos', 'CTR']].copy()\n",
        "temp.head()"
      ],
      "outputs": [
        {
          "output_type": "execute_result",
          "execution_count": 76,
          "data": {
            "text/plain": [
              "   Pos  CTR\n",
              "0    3  0.0\n",
              "1    2  0.0\n",
              "2    2  0.0\n",
              "3    3  0.0\n",
              "4    3  0.0"
            ],
            "text/html": [
              "<div>\n",
              "<style scoped>\n",
              "    .dataframe tbody tr th:only-of-type {\n",
              "        vertical-align: middle;\n",
              "    }\n",
              "\n",
              "    .dataframe tbody tr th {\n",
              "        vertical-align: top;\n",
              "    }\n",
              "\n",
              "    .dataframe thead th {\n",
              "        text-align: right;\n",
              "    }\n",
              "</style>\n",
              "<table border=\"1\" class=\"dataframe\">\n",
              "  <thead>\n",
              "    <tr style=\"text-align: right;\">\n",
              "      <th></th>\n",
              "      <th>Pos</th>\n",
              "      <th>CTR</th>\n",
              "    </tr>\n",
              "  </thead>\n",
              "  <tbody>\n",
              "    <tr>\n",
              "      <th>0</th>\n",
              "      <td>3</td>\n",
              "      <td>0.0</td>\n",
              "    </tr>\n",
              "    <tr>\n",
              "      <th>1</th>\n",
              "      <td>2</td>\n",
              "      <td>0.0</td>\n",
              "    </tr>\n",
              "    <tr>\n",
              "      <th>2</th>\n",
              "      <td>2</td>\n",
              "      <td>0.0</td>\n",
              "    </tr>\n",
              "    <tr>\n",
              "      <th>3</th>\n",
              "      <td>3</td>\n",
              "      <td>0.0</td>\n",
              "    </tr>\n",
              "    <tr>\n",
              "      <th>4</th>\n",
              "      <td>3</td>\n",
              "      <td>0.0</td>\n",
              "    </tr>\n",
              "  </tbody>\n",
              "</table>\n",
              "</div>"
            ]
          },
          "metadata": {}
        }
      ],
      "execution_count": 76,
      "metadata": {
        "id": "MAJtIZq3s9I1",
        "colab_type": "code",
        "colab": {},
        "outputId": "dcacde0d-1154-48a9-9494-c22d453d9af6",
        "execution": {
          "iopub.status.busy": "2020-04-06T04:59:45.089Z",
          "iopub.execute_input": "2020-04-06T04:59:47.215Z",
          "iopub.status.idle": "2020-04-06T04:59:48.357Z",
          "shell.execute_reply": "2020-04-06T04:59:48.430Z"
        }
      }
    },
    {
      "cell_type": "code",
      "source": [
        "result = temp.groupby('Pos').agg(['mean', 'count'])\n",
        "result.head()"
      ],
      "outputs": [
        {
          "output_type": "execute_result",
          "execution_count": 77,
          "data": {
            "text/plain": [
              "          CTR          \n",
              "         mean     count\n",
              "Pos                    \n",
              "1    5.545795  67760145\n",
              "2    3.106470  35755592\n",
              "3    1.902883   7400484"
            ],
            "text/html": [
              "<div>\n",
              "<style scoped>\n",
              "    .dataframe tbody tr th:only-of-type {\n",
              "        vertical-align: middle;\n",
              "    }\n",
              "\n",
              "    .dataframe tbody tr th {\n",
              "        vertical-align: top;\n",
              "    }\n",
              "\n",
              "    .dataframe thead tr th {\n",
              "        text-align: left;\n",
              "    }\n",
              "\n",
              "    .dataframe thead tr:last-of-type th {\n",
              "        text-align: right;\n",
              "    }\n",
              "</style>\n",
              "<table border=\"1\" class=\"dataframe\">\n",
              "  <thead>\n",
              "    <tr>\n",
              "      <th></th>\n",
              "      <th colspan=\"2\" halign=\"left\">CTR</th>\n",
              "    </tr>\n",
              "    <tr>\n",
              "      <th></th>\n",
              "      <th>mean</th>\n",
              "      <th>count</th>\n",
              "    </tr>\n",
              "    <tr>\n",
              "      <th>Pos</th>\n",
              "      <th></th>\n",
              "      <th></th>\n",
              "    </tr>\n",
              "  </thead>\n",
              "  <tbody>\n",
              "    <tr>\n",
              "      <th>1</th>\n",
              "      <td>5.545795</td>\n",
              "      <td>67760145</td>\n",
              "    </tr>\n",
              "    <tr>\n",
              "      <th>2</th>\n",
              "      <td>3.106470</td>\n",
              "      <td>35755592</td>\n",
              "    </tr>\n",
              "    <tr>\n",
              "      <th>3</th>\n",
              "      <td>1.902883</td>\n",
              "      <td>7400484</td>\n",
              "    </tr>\n",
              "  </tbody>\n",
              "</table>\n",
              "</div>"
            ]
          },
          "metadata": {}
        }
      ],
      "execution_count": 77,
      "metadata": {
        "id": "8G2twRXrs9I3",
        "colab_type": "code",
        "colab": {},
        "outputId": "1adfbb55-9c39-453d-cf42-a05d42853a6b",
        "execution": {
          "iopub.status.busy": "2020-04-06T04:59:48.400Z",
          "iopub.execute_input": "2020-04-06T04:59:48.937Z",
          "iopub.status.idle": "2020-04-06T05:00:01.173Z",
          "shell.execute_reply": "2020-04-06T05:00:01.267Z"
        }
      }
    },
    {
      "cell_type": "code",
      "source": [
        "plt.figure(figsize=(10,4))\n",
        "\n",
        "plt.subplot(1, 2, 1)\n",
        "plt.bar(result.index, result[('CTR', 'mean')],\n",
        "        color='red')\n",
        "plt.xlabel('Position')\n",
        "plt.ylabel('Avg. CTR')\n",
        "\n",
        "plt.subplot(1, 2, 2)\n",
        "plt.bar(result.index, result[('CTR', 'count')],\n",
        "        color='green')\n",
        "plt.xlabel('Position')\n",
        "plt.ylabel('Frequency of Ads')\n",
        "\n",
        "plt.tight_layout()"
      ],
      "outputs": [
        {
          "output_type": "display_data",
          "data": {
            "text/plain": [
              "<Figure size 720x288 with 2 Axes>"
            ],
            "image/png": "[encoded data removed]"
          },
          "metadata": {
            "needs_background": "light"
          }
        }
      ],
      "execution_count": 78,
      "metadata": {
        "id": "_v8LaUS4s9I6",
        "colab_type": "code",
        "colab": {},
        "outputId": "2fc047c7-1678-4f8c-ca9a-9b60445cd861",
        "execution": {
          "iopub.status.busy": "2020-04-06T05:00:01.216Z",
          "iopub.execute_input": "2020-04-06T05:00:01.241Z",
          "iopub.status.idle": "2020-04-06T05:00:01.435Z",
          "shell.execute_reply": "2020-04-06T05:00:01.462Z"
        }
      }
    },
    {
      "cell_type": "markdown",
      "source": [
        "Conclusion: Clearly, the CTR for an advertisement which has a low position (more visible to user) is higher as compared to CTR of an advertisement with higher position(not directly visible).\n",
        "\n",
        "Typically advertisement have lower position. [1,2]"
      ],
      "metadata": {
        "id": "0Lc0Fbv3s9I8",
        "colab_type": "text"
      }
    },
    {
      "cell_type": "code",
      "source": [
        "# Let us try to see if depth of a search session has an affect on CTR\n",
        "\n",
        "# Preparing data...\n",
        "\n",
        "temp = data[['Depth', 'CTR']].copy()\n",
        "temp.head()"
      ],
      "outputs": [
        {
          "output_type": "execute_result",
          "execution_count": 79,
          "data": {
            "text/plain": [
              "   Depth  CTR\n",
              "0      3  0.0\n",
              "1      2  0.0\n",
              "2      2  0.0\n",
              "3      3  0.0\n",
              "4      3  0.0"
            ],
            "text/html": [
              "<div>\n",
              "<style scoped>\n",
              "    .dataframe tbody tr th:only-of-type {\n",
              "        vertical-align: middle;\n",
              "    }\n",
              "\n",
              "    .dataframe tbody tr th {\n",
              "        vertical-align: top;\n",
              "    }\n",
              "\n",
              "    .dataframe thead th {\n",
              "        text-align: right;\n",
              "    }\n",
              "</style>\n",
              "<table border=\"1\" class=\"dataframe\">\n",
              "  <thead>\n",
              "    <tr style=\"text-align: right;\">\n",
              "      <th></th>\n",
              "      <th>Depth</th>\n",
              "      <th>CTR</th>\n",
              "    </tr>\n",
              "  </thead>\n",
              "  <tbody>\n",
              "    <tr>\n",
              "      <th>0</th>\n",
              "      <td>3</td>\n",
              "      <td>0.0</td>\n",
              "    </tr>\n",
              "    <tr>\n",
              "      <th>1</th>\n",
              "      <td>2</td>\n",
              "      <td>0.0</td>\n",
              "    </tr>\n",
              "    <tr>\n",
              "      <th>2</th>\n",
              "      <td>2</td>\n",
              "      <td>0.0</td>\n",
              "    </tr>\n",
              "    <tr>\n",
              "      <th>3</th>\n",
              "      <td>3</td>\n",
              "      <td>0.0</td>\n",
              "    </tr>\n",
              "    <tr>\n",
              "      <th>4</th>\n",
              "      <td>3</td>\n",
              "      <td>0.0</td>\n",
              "    </tr>\n",
              "  </tbody>\n",
              "</table>\n",
              "</div>"
            ]
          },
          "metadata": {}
        }
      ],
      "execution_count": 79,
      "metadata": {
        "id": "W9aRHcYZs9I8",
        "colab_type": "code",
        "colab": {},
        "outputId": "8524f334-f362-41e7-b316-34d389fc9fd9",
        "execution": {
          "iopub.status.busy": "2020-04-06T05:00:03.704Z",
          "iopub.execute_input": "2020-04-06T05:00:03.733Z",
          "iopub.status.idle": "2020-04-06T05:00:05.692Z",
          "shell.execute_reply": "2020-04-06T05:00:05.721Z"
        }
      }
    },
    {
      "cell_type": "code",
      "source": [
        "result = temp.groupby('Depth').agg(['mean', 'count'])\n",
        "result.head()"
      ],
      "outputs": [
        {
          "output_type": "execute_result",
          "execution_count": 80,
          "data": {
            "text/plain": [
              "            CTR          \n",
              "           mean     count\n",
              "Depth                    \n",
              "1      4.572644  32569142\n",
              "2      4.842063  56338453\n",
              "3      3.599424  22008626"
            ],
            "text/html": [
              "<div>\n",
              "<style scoped>\n",
              "    .dataframe tbody tr th:only-of-type {\n",
              "        vertical-align: middle;\n",
              "    }\n",
              "\n",
              "    .dataframe tbody tr th {\n",
              "        vertical-align: top;\n",
              "    }\n",
              "\n",
              "    .dataframe thead tr th {\n",
              "        text-align: left;\n",
              "    }\n",
              "\n",
              "    .dataframe thead tr:last-of-type th {\n",
              "        text-align: right;\n",
              "    }\n",
              "</style>\n",
              "<table border=\"1\" class=\"dataframe\">\n",
              "  <thead>\n",
              "    <tr>\n",
              "      <th></th>\n",
              "      <th colspan=\"2\" halign=\"left\">CTR</th>\n",
              "    </tr>\n",
              "    <tr>\n",
              "      <th></th>\n",
              "      <th>mean</th>\n",
              "      <th>count</th>\n",
              "    </tr>\n",
              "    <tr>\n",
              "      <th>Depth</th>\n",
              "      <th></th>\n",
              "      <th></th>\n",
              "    </tr>\n",
              "  </thead>\n",
              "  <tbody>\n",
              "    <tr>\n",
              "      <th>1</th>\n",
              "      <td>4.572644</td>\n",
              "      <td>32569142</td>\n",
              "    </tr>\n",
              "    <tr>\n",
              "      <th>2</th>\n",
              "      <td>4.842063</td>\n",
              "      <td>56338453</td>\n",
              "    </tr>\n",
              "    <tr>\n",
              "      <th>3</th>\n",
              "      <td>3.599424</td>\n",
              "      <td>22008626</td>\n",
              "    </tr>\n",
              "  </tbody>\n",
              "</table>\n",
              "</div>"
            ]
          },
          "metadata": {}
        }
      ],
      "execution_count": 80,
      "metadata": {
        "id": "qkQx9WL3s9JB",
        "colab_type": "code",
        "colab": {},
        "outputId": "9ef6bed0-618f-400f-d76e-d56c11cd7694",
        "execution": {
          "iopub.status.busy": "2020-04-06T05:00:06.250Z",
          "iopub.execute_input": "2020-04-06T05:00:06.274Z",
          "iopub.status.idle": "2020-04-06T05:00:19.064Z",
          "shell.execute_reply": "2020-04-06T05:00:19.187Z"
        }
      }
    },
    {
      "cell_type": "code",
      "source": [
        "plt.figure(figsize=(10,4))\n",
        "\n",
        "plt.subplot(1, 2, 1)\n",
        "plt.bar(result.index, result[('CTR', 'mean')],\n",
        "        color='red')\n",
        "plt.xlabel('Depth')\n",
        "plt.ylabel('Avg. CTR')\n",
        "\n",
        "plt.subplot(1, 2, 2)\n",
        "plt.bar(result.index, result[('CTR', 'count')],\n",
        "        color='green')\n",
        "plt.xlabel('Depth')\n",
        "plt.ylabel('Frequency of Ads')\n",
        "\n",
        "plt.tight_layout()\n",
        "plt.show()"
      ],
      "outputs": [
        {
          "output_type": "display_data",
          "data": {
            "text/plain": [
              "<Figure size 720x288 with 2 Axes>"
            ],
            "image/png": "[encoded data removed]"
          },
          "metadata": {
            "needs_background": "light"
          }
        }
      ],
      "execution_count": 81,
      "metadata": {
        "id": "RftcZSAbs9JD",
        "colab_type": "code",
        "colab": {},
        "outputId": "ab73d2e8-147f-4441-e7f6-d2e0e567935a",
        "execution": {
          "iopub.status.busy": "2020-04-06T05:00:19.109Z",
          "iopub.execute_input": "2020-04-06T05:00:19.138Z",
          "iopub.status.idle": "2020-04-06T05:00:19.327Z",
          "shell.execute_reply": "2020-04-06T05:00:19.478Z"
        }
      }
    },
    {
      "cell_type": "markdown",
      "source": [
        "Conclusion: \n",
        "\n",
        "1. Mostly depth of a Search Session is 2.\n",
        "2. If depth if high (3) avg. CTR falls. This means if there as no. of ads in a Search Session inc. avg. CTR dec."
      ],
      "metadata": {
        "id": "QnR220G8s9JG",
        "colab_type": "text"
      }
    },
    {
      "cell_type": "markdown",
      "source": [
        "<h3> 3.2.2 Studying the role of Advertiser </h3>"
      ],
      "metadata": {
        "collapsed": true,
        "id": "TPenh_nXs9JJ",
        "colab_type": "text"
      }
    },
    {
      "cell_type": "markdown",
      "source": [
        "<h4>3.2.2.1 : Studying the role of Advertiser based on Ad CTR </h4>"
      ],
      "metadata": {
        "id": "dFH2n7bVs9JK",
        "colab_type": "text"
      }
    },
    {
      "cell_type": "code",
      "source": [
        "\n",
        "# We divide the data into two categories, one corr. to Advertisers who have a high CTR on their Ads & other who don't.\n",
        "\n",
        "# Once we know who are the Advertisers with high CTR Ads, we can study how Ads by a high CTR Adv. differs from a Adv. \n",
        "\n",
        "# with low CTR Ads.\n",
        "\n",
        "# e.g. We can know if an advertiser with high CTR ads use more words to describe ad, more words in the ad title etc...\n"
      ],
      "outputs": [],
      "execution_count": 82,
      "metadata": {
        "id": "kcrQhjESs9JL",
        "colab_type": "code",
        "colab": {},
        "execution": {
          "iopub.status.busy": "2020-04-06T05:00:19.367Z",
          "iopub.execute_input": "2020-04-06T05:00:19.396Z",
          "iopub.status.idle": "2020-04-06T05:00:19.444Z",
          "shell.execute_reply": "2020-04-06T05:00:19.497Z"
        }
      }
    },
    {
      "cell_type": "code",
      "source": [
        "# Preparing data...\n",
        "\n",
        "temp = data[['AdvId', 'CTR', 'DCount', 'TCount']].copy()\n",
        "temp.head()"
      ],
      "outputs": [
        {
          "output_type": "execute_result",
          "execution_count": 176,
          "data": {
            "text/plain": [
              "   AdvId  CTR  DCount  TCount\n",
              "0    385  0.0      21       8\n",
              "1    385  0.0      21       8\n",
              "2    385  0.0      21       8\n",
              "3    385  0.0      21       8\n",
              "4    385  0.0      21       8"
            ],
            "text/html": [
              "<div>\n",
              "<style scoped>\n",
              "    .dataframe tbody tr th:only-of-type {\n",
              "        vertical-align: middle;\n",
              "    }\n",
              "\n",
              "    .dataframe tbody tr th {\n",
              "        vertical-align: top;\n",
              "    }\n",
              "\n",
              "    .dataframe thead th {\n",
              "        text-align: right;\n",
              "    }\n",
              "</style>\n",
              "<table border=\"1\" class=\"dataframe\">\n",
              "  <thead>\n",
              "    <tr style=\"text-align: right;\">\n",
              "      <th></th>\n",
              "      <th>AdvId</th>\n",
              "      <th>CTR</th>\n",
              "      <th>DCount</th>\n",
              "      <th>TCount</th>\n",
              "    </tr>\n",
              "  </thead>\n",
              "  <tbody>\n",
              "    <tr>\n",
              "      <th>0</th>\n",
              "      <td>385</td>\n",
              "      <td>0.0</td>\n",
              "      <td>21</td>\n",
              "      <td>8</td>\n",
              "    </tr>\n",
              "    <tr>\n",
              "      <th>1</th>\n",
              "      <td>385</td>\n",
              "      <td>0.0</td>\n",
              "      <td>21</td>\n",
              "      <td>8</td>\n",
              "    </tr>\n",
              "    <tr>\n",
              "      <th>2</th>\n",
              "      <td>385</td>\n",
              "      <td>0.0</td>\n",
              "      <td>21</td>\n",
              "      <td>8</td>\n",
              "    </tr>\n",
              "    <tr>\n",
              "      <th>3</th>\n",
              "      <td>385</td>\n",
              "      <td>0.0</td>\n",
              "      <td>21</td>\n",
              "      <td>8</td>\n",
              "    </tr>\n",
              "    <tr>\n",
              "      <th>4</th>\n",
              "      <td>385</td>\n",
              "      <td>0.0</td>\n",
              "      <td>21</td>\n",
              "      <td>8</td>\n",
              "    </tr>\n",
              "  </tbody>\n",
              "</table>\n",
              "</div>"
            ]
          },
          "metadata": {}
        }
      ],
      "execution_count": 176,
      "metadata": {
        "id": "-WyOEaAds9JN",
        "colab_type": "code",
        "colab": {},
        "outputId": "1709a3ba-0636-4ae6-e0bd-e38965ffe524",
        "execution": {
          "iopub.status.busy": "2020-04-06T06:55:46.337Z",
          "iopub.execute_input": "2020-04-06T06:55:46.371Z",
          "iopub.status.idle": "2020-04-06T06:55:50.057Z",
          "shell.execute_reply": "2020-04-06T06:55:50.145Z"
        }
      }
    },
    {
      "cell_type": "code",
      "source": [
        "result = temp.groupby('AdvId').agg(['mean'])\n",
        "result.head()"
      ],
      "outputs": [
        {
          "output_type": "execute_result",
          "execution_count": 177,
          "data": {
            "text/plain": [
              "            CTR DCount TCount\n",
              "           mean   mean   mean\n",
              "AdvId                        \n",
              "78     0.000000    2.0    3.0\n",
              "79     0.000000    2.0    3.0\n",
              "80     0.000000    2.0    3.0\n",
              "81     6.638677   26.0   11.0\n",
              "82     3.465991   22.0    5.0"
            ],
            "text/html": [
              "<div>\n",
              "<style scoped>\n",
              "    .dataframe tbody tr th:only-of-type {\n",
              "        vertical-align: middle;\n",
              "    }\n",
              "\n",
              "    .dataframe tbody tr th {\n",
              "        vertical-align: top;\n",
              "    }\n",
              "\n",
              "    .dataframe thead tr th {\n",
              "        text-align: left;\n",
              "    }\n",
              "\n",
              "    .dataframe thead tr:last-of-type th {\n",
              "        text-align: right;\n",
              "    }\n",
              "</style>\n",
              "<table border=\"1\" class=\"dataframe\">\n",
              "  <thead>\n",
              "    <tr>\n",
              "      <th></th>\n",
              "      <th>CTR</th>\n",
              "      <th>DCount</th>\n",
              "      <th>TCount</th>\n",
              "    </tr>\n",
              "    <tr>\n",
              "      <th></th>\n",
              "      <th>mean</th>\n",
              "      <th>mean</th>\n",
              "      <th>mean</th>\n",
              "    </tr>\n",
              "    <tr>\n",
              "      <th>AdvId</th>\n",
              "      <th></th>\n",
              "      <th></th>\n",
              "      <th></th>\n",
              "    </tr>\n",
              "  </thead>\n",
              "  <tbody>\n",
              "    <tr>\n",
              "      <th>78</th>\n",
              "      <td>0.000000</td>\n",
              "      <td>2.0</td>\n",
              "      <td>3.0</td>\n",
              "    </tr>\n",
              "    <tr>\n",
              "      <th>79</th>\n",
              "      <td>0.000000</td>\n",
              "      <td>2.0</td>\n",
              "      <td>3.0</td>\n",
              "    </tr>\n",
              "    <tr>\n",
              "      <th>80</th>\n",
              "      <td>0.000000</td>\n",
              "      <td>2.0</td>\n",
              "      <td>3.0</td>\n",
              "    </tr>\n",
              "    <tr>\n",
              "      <th>81</th>\n",
              "      <td>6.638677</td>\n",
              "      <td>26.0</td>\n",
              "      <td>11.0</td>\n",
              "    </tr>\n",
              "    <tr>\n",
              "      <th>82</th>\n",
              "      <td>3.465991</td>\n",
              "      <td>22.0</td>\n",
              "      <td>5.0</td>\n",
              "    </tr>\n",
              "  </tbody>\n",
              "</table>\n",
              "</div>"
            ]
          },
          "metadata": {}
        }
      ],
      "execution_count": 177,
      "metadata": {
        "id": "x23BIa-es9JP",
        "colab_type": "code",
        "colab": {},
        "outputId": "9d49ecfc-8784-42a8-aa20-5532a956c9e8",
        "execution": {
          "iopub.status.busy": "2020-04-06T06:55:51.651Z",
          "iopub.execute_input": "2020-04-06T06:55:51.678Z",
          "iopub.status.idle": "2020-04-06T06:56:05.763Z",
          "shell.execute_reply": "2020-04-06T06:56:05.800Z"
        }
      }
    },
    {
      "cell_type": "code",
      "source": [
        "temp = pd.DataFrame()\n",
        "\n",
        "temp['AdvId']    = result.index\n",
        "temp['CTR']      = result[('CTR', 'mean')].array\n",
        "temp['DCount']   = result[('DCount', 'mean')].array\n",
        "temp['TCount']   = result[('TCount', 'mean')].array\n",
        "\n",
        "temp.head()"
      ],
      "outputs": [
        {
          "output_type": "execute_result",
          "execution_count": 178,
          "data": {
            "text/plain": [
              "   AdvId       CTR  DCount  TCount\n",
              "0     78  0.000000     2.0     3.0\n",
              "1     79  0.000000     2.0     3.0\n",
              "2     80  0.000000     2.0     3.0\n",
              "3     81  6.638677    26.0    11.0\n",
              "4     82  3.465991    22.0     5.0"
            ],
            "text/html": [
              "<div>\n",
              "<style scoped>\n",
              "    .dataframe tbody tr th:only-of-type {\n",
              "        vertical-align: middle;\n",
              "    }\n",
              "\n",
              "    .dataframe tbody tr th {\n",
              "        vertical-align: top;\n",
              "    }\n",
              "\n",
              "    .dataframe thead th {\n",
              "        text-align: right;\n",
              "    }\n",
              "</style>\n",
              "<table border=\"1\" class=\"dataframe\">\n",
              "  <thead>\n",
              "    <tr style=\"text-align: right;\">\n",
              "      <th></th>\n",
              "      <th>AdvId</th>\n",
              "      <th>CTR</th>\n",
              "      <th>DCount</th>\n",
              "      <th>TCount</th>\n",
              "    </tr>\n",
              "  </thead>\n",
              "  <tbody>\n",
              "    <tr>\n",
              "      <th>0</th>\n",
              "      <td>78</td>\n",
              "      <td>0.000000</td>\n",
              "      <td>2.0</td>\n",
              "      <td>3.0</td>\n",
              "    </tr>\n",
              "    <tr>\n",
              "      <th>1</th>\n",
              "      <td>79</td>\n",
              "      <td>0.000000</td>\n",
              "      <td>2.0</td>\n",
              "      <td>3.0</td>\n",
              "    </tr>\n",
              "    <tr>\n",
              "      <th>2</th>\n",
              "      <td>80</td>\n",
              "      <td>0.000000</td>\n",
              "      <td>2.0</td>\n",
              "      <td>3.0</td>\n",
              "    </tr>\n",
              "    <tr>\n",
              "      <th>3</th>\n",
              "      <td>81</td>\n",
              "      <td>6.638677</td>\n",
              "      <td>26.0</td>\n",
              "      <td>11.0</td>\n",
              "    </tr>\n",
              "    <tr>\n",
              "      <th>4</th>\n",
              "      <td>82</td>\n",
              "      <td>3.465991</td>\n",
              "      <td>22.0</td>\n",
              "      <td>5.0</td>\n",
              "    </tr>\n",
              "  </tbody>\n",
              "</table>\n",
              "</div>"
            ]
          },
          "metadata": {}
        }
      ],
      "execution_count": 178,
      "metadata": {
        "id": "n3Z2R0D3s9JT",
        "colab_type": "code",
        "colab": {},
        "outputId": "0b4ed6f5-1a74-4dc8-ed1f-50fcda9fd112",
        "execution": {
          "iopub.status.busy": "2020-04-06T06:56:10.203Z",
          "iopub.execute_input": "2020-04-06T06:56:10.234Z",
          "iopub.status.idle": "2020-04-06T06:56:10.295Z",
          "shell.execute_reply": "2020-04-06T06:56:10.388Z"
        }
      }
    },
    {
      "cell_type": "code",
      "source": [
        "print( 'No. of unique advertisers: ',temp.shape[0] )"
      ],
      "outputs": [
        {
          "output_type": "stream",
          "name": "stdout",
          "text": [
            "No. of unique advertisers:  14748\n"
          ]
        }
      ],
      "execution_count": 179,
      "metadata": {
        "id": "PkgY8O6Ns9JX",
        "colab_type": "code",
        "colab": {},
        "outputId": "15694f77-38d9-458c-83ee-1f168ef46ba9",
        "execution": {
          "iopub.status.busy": "2020-04-06T06:56:16.828Z",
          "iopub.execute_input": "2020-04-06T06:56:16.860Z",
          "iopub.status.idle": "2020-04-06T06:56:16.947Z",
          "shell.execute_reply": "2020-04-06T06:56:16.976Z"
        }
      }
    },
    {
      "cell_type": "code",
      "source": [
        "# The burning question...\n",
        "\n",
        "# How to decide if an Advertiser is a high CTR Advertiser ? \n",
        "\n",
        "# Let us study the distribution of avg. Ad CTRs corr. to Advertisers..."
      ],
      "outputs": [],
      "execution_count": 87,
      "metadata": {
        "id": "mTyFdgNLs9Ja",
        "colab_type": "code",
        "colab": {},
        "execution": {
          "iopub.status.busy": "2020-04-06T05:00:42.815Z",
          "iopub.execute_input": "2020-04-06T05:00:42.843Z",
          "iopub.status.idle": "2020-04-06T05:00:42.889Z",
          "shell.execute_reply": "2020-04-06T05:00:44.445Z"
        }
      }
    },
    {
      "cell_type": "code",
      "source": [
        "f, (ax1, ax2) = plt.subplots(2)\n",
        "sns.kdeplot(temp['CTR'], ax=ax1)\n",
        "sns.boxplot(x=None,y='CTR',data=temp, ax=ax2)\n",
        "plt.show()"
      ],
      "outputs": [
        {
          "output_type": "display_data",
          "data": {
            "text/plain": [
              "<Figure size 432x288 with 2 Axes>"
            ],
            "image/png": "[encoded data removed]"
          },
          "metadata": {
            "needs_background": "light"
          }
        }
      ],
      "execution_count": 180,
      "metadata": {
        "id": "GawwIhNvs9Je",
        "colab_type": "code",
        "colab": {},
        "outputId": "8631ae41-db32-4c3a-f18b-bebeb7507f7a",
        "execution": {
          "iopub.status.busy": "2020-04-06T06:56:21.147Z",
          "iopub.execute_input": "2020-04-06T06:56:21.174Z",
          "iopub.status.idle": "2020-04-06T06:56:21.370Z",
          "shell.execute_reply": "2020-04-06T06:56:21.453Z"
        }
      }
    },
    {
      "cell_type": "code",
      "source": [
        "mean_advertiser_ctr = temp['CTR'].mean()\n",
        "print ('Average CTR of Ads given by an advertiser: ', round(mean_advertiser_ctr, 2))\n",
        "\n",
        "median_advertiser_ctr = temp['CTR'].median()\n",
        "print( 'Median CTR of Ads given by an advertiser: ', round(median_advertiser_ctr, 2))\n",
        "\n",
        "third_quantile_advertiser_ctr = temp['CTR'].quantile(0.75)\n",
        "print( '3rd Quantile CTR of Ads given by an advertiser: ', round(third_quantile_advertiser_ctr, 2))"
      ],
      "outputs": [
        {
          "output_type": "stream",
          "name": "stdout",
          "text": [
            "Average CTR of Ads given by an advertiser:  4.1\n",
            "Median CTR of Ads given by an advertiser:  3.12\n",
            "3rd Quantile CTR of Ads given by an advertiser:  4.76\n"
          ]
        }
      ],
      "execution_count": 181,
      "metadata": {
        "id": "BhL6RTdys9Jg",
        "colab_type": "code",
        "colab": {},
        "outputId": "af461fd7-496f-48c7-ffff-27d152a567ef",
        "execution": {
          "iopub.status.busy": "2020-04-06T06:56:27.852Z",
          "iopub.execute_input": "2020-04-06T06:56:27.884Z",
          "iopub.status.idle": "2020-04-06T06:56:27.945Z",
          "shell.execute_reply": "2020-04-06T06:56:27.997Z"
        }
      }
    },
    {
      "cell_type": "code",
      "source": [
        "# Let us define 'High CTR Advertiser' as - an advertiser whose ad CTR > 3rd quantile Advertiser CTR"
      ],
      "outputs": [],
      "execution_count": 90,
      "metadata": {
        "id": "zfpfmFcws9Jl",
        "colab_type": "code",
        "colab": {},
        "execution": {
          "iopub.status.busy": "2020-04-06T05:00:43.262Z",
          "iopub.execute_input": "2020-04-06T05:00:43.290Z",
          "iopub.status.idle": "2020-04-06T05:00:43.337Z",
          "shell.execute_reply": "2020-04-06T05:00:44.490Z"
        }
      }
    },
    {
      "cell_type": "code",
      "source": [
        "temp['HighCTR'] = temp['CTR'] > third_quantile_advertiser_ctr\n",
        "temp.head()"
      ],
      "outputs": [
        {
          "output_type": "execute_result",
          "execution_count": 182,
          "data": {
            "text/plain": [
              "   AdvId       CTR  DCount  TCount  HighCTR\n",
              "0     78  0.000000     2.0     3.0    False\n",
              "1     79  0.000000     2.0     3.0    False\n",
              "2     80  0.000000     2.0     3.0    False\n",
              "3     81  6.638677    26.0    11.0     True\n",
              "4     82  3.465991    22.0     5.0    False"
            ],
            "text/html": [
              "<div>\n",
              "<style scoped>\n",
              "    .dataframe tbody tr th:only-of-type {\n",
              "        vertical-align: middle;\n",
              "    }\n",
              "\n",
              "    .dataframe tbody tr th {\n",
              "        vertical-align: top;\n",
              "    }\n",
              "\n",
              "    .dataframe thead th {\n",
              "        text-align: right;\n",
              "    }\n",
              "</style>\n",
              "<table border=\"1\" class=\"dataframe\">\n",
              "  <thead>\n",
              "    <tr style=\"text-align: right;\">\n",
              "      <th></th>\n",
              "      <th>AdvId</th>\n",
              "      <th>CTR</th>\n",
              "      <th>DCount</th>\n",
              "      <th>TCount</th>\n",
              "      <th>HighCTR</th>\n",
              "    </tr>\n",
              "  </thead>\n",
              "  <tbody>\n",
              "    <tr>\n",
              "      <th>0</th>\n",
              "      <td>78</td>\n",
              "      <td>0.000000</td>\n",
              "      <td>2.0</td>\n",
              "      <td>3.0</td>\n",
              "      <td>False</td>\n",
              "    </tr>\n",
              "    <tr>\n",
              "      <th>1</th>\n",
              "      <td>79</td>\n",
              "      <td>0.000000</td>\n",
              "      <td>2.0</td>\n",
              "      <td>3.0</td>\n",
              "      <td>False</td>\n",
              "    </tr>\n",
              "    <tr>\n",
              "      <th>2</th>\n",
              "      <td>80</td>\n",
              "      <td>0.000000</td>\n",
              "      <td>2.0</td>\n",
              "      <td>3.0</td>\n",
              "      <td>False</td>\n",
              "    </tr>\n",
              "    <tr>\n",
              "      <th>3</th>\n",
              "      <td>81</td>\n",
              "      <td>6.638677</td>\n",
              "      <td>26.0</td>\n",
              "      <td>11.0</td>\n",
              "      <td>True</td>\n",
              "    </tr>\n",
              "    <tr>\n",
              "      <th>4</th>\n",
              "      <td>82</td>\n",
              "      <td>3.465991</td>\n",
              "      <td>22.0</td>\n",
              "      <td>5.0</td>\n",
              "      <td>False</td>\n",
              "    </tr>\n",
              "  </tbody>\n",
              "</table>\n",
              "</div>"
            ]
          },
          "metadata": {}
        }
      ],
      "execution_count": 182,
      "metadata": {
        "id": "dq3wbUels9Jn",
        "colab_type": "code",
        "colab": {},
        "outputId": "82dd1e1f-380b-4a81-b0b6-96e9cba20c59",
        "execution": {
          "iopub.status.busy": "2020-04-06T06:56:32.611Z",
          "iopub.execute_input": "2020-04-06T06:56:32.642Z",
          "iopub.status.idle": "2020-04-06T06:56:32.701Z",
          "shell.execute_reply": "2020-04-06T06:56:32.731Z"
        }
      }
    },
    {
      "cell_type": "code",
      "source": [
        "temp['HighCTR'].value_counts() # Clearly, an imbalanced dataset..."
      ],
      "outputs": [
        {
          "output_type": "execute_result",
          "execution_count": 183,
          "data": {
            "text/plain": [
              "False    11069\n",
              "True      3679\n",
              "Name: HighCTR, dtype: int64"
            ]
          },
          "metadata": {}
        }
      ],
      "execution_count": 183,
      "metadata": {
        "id": "OYY5b_wus9Jq",
        "colab_type": "code",
        "colab": {},
        "outputId": "7df3de6c-1b10-4232-e9fb-76aa9938d6d9",
        "execution": {
          "iopub.status.busy": "2020-04-06T06:56:36.580Z",
          "iopub.execute_input": "2020-04-06T06:56:36.610Z",
          "iopub.status.idle": "2020-04-06T06:56:36.675Z",
          "shell.execute_reply": "2020-04-06T06:56:36.708Z"
        }
      }
    },
    {
      "cell_type": "code",
      "source": [
        "# Out of 13921 Advertisers, only 3464 Advertisers have Ads. with CTR > 5.13 %."
      ],
      "outputs": [],
      "execution_count": 93,
      "metadata": {
        "id": "v3CRaYYks9Js",
        "colab_type": "code",
        "colab": {},
        "execution": {
          "iopub.status.busy": "2020-04-06T05:00:43.695Z",
          "iopub.execute_input": "2020-04-06T05:00:43.725Z",
          "iopub.status.idle": "2020-04-06T05:00:43.769Z",
          "shell.execute_reply": "2020-04-06T05:00:44.534Z"
        }
      }
    },
    {
      "cell_type": "code",
      "source": [
        "# Does an Advertiser with high CTR Ads uses more words to describe their Ads...\n",
        "\n",
        "sns.boxplot(x='HighCTR', y='DCount', data=temp)\n",
        "#sns.violinplot(x='HighCTR', y='DCount', data=temp)\n",
        "plt.show()"
      ],
      "outputs": [
        {
          "output_type": "display_data",
          "data": {
            "text/plain": [
              "<Figure size 432x288 with 1 Axes>"
            ],
            "image/png": "[encoded data removed]"
          },
          "metadata": {
            "needs_background": "light"
          }
        }
      ],
      "execution_count": 184,
      "metadata": {
        "id": "eF519ABWs9Ju",
        "colab_type": "code",
        "colab": {},
        "outputId": "d043a2c5-0a6f-4f00-be5a-117ae27b4f02",
        "execution": {
          "iopub.status.busy": "2020-04-06T06:57:12.599Z",
          "iopub.execute_input": "2020-04-06T06:57:12.627Z",
          "iopub.status.idle": "2020-04-06T06:57:12.691Z",
          "shell.execute_reply": "2020-04-06T06:57:12.766Z"
        }
      }
    },
    {
      "cell_type": "code",
      "source": [
        "(temp[['HighCTR', 'DCount']].copy()).groupby('HighCTR').agg(['median'])"
      ],
      "outputs": [
        {
          "output_type": "execute_result",
          "execution_count": 185,
          "data": {
            "text/plain": [
              "            DCount\n",
              "            median\n",
              "HighCTR           \n",
              "False    21.010811\n",
              "True     21.528226"
            ],
            "text/html": [
              "<div>\n",
              "<style scoped>\n",
              "    .dataframe tbody tr th:only-of-type {\n",
              "        vertical-align: middle;\n",
              "    }\n",
              "\n",
              "    .dataframe tbody tr th {\n",
              "        vertical-align: top;\n",
              "    }\n",
              "\n",
              "    .dataframe thead tr th {\n",
              "        text-align: left;\n",
              "    }\n",
              "\n",
              "    .dataframe thead tr:last-of-type th {\n",
              "        text-align: right;\n",
              "    }\n",
              "</style>\n",
              "<table border=\"1\" class=\"dataframe\">\n",
              "  <thead>\n",
              "    <tr>\n",
              "      <th></th>\n",
              "      <th>DCount</th>\n",
              "    </tr>\n",
              "    <tr>\n",
              "      <th></th>\n",
              "      <th>median</th>\n",
              "    </tr>\n",
              "    <tr>\n",
              "      <th>HighCTR</th>\n",
              "      <th></th>\n",
              "    </tr>\n",
              "  </thead>\n",
              "  <tbody>\n",
              "    <tr>\n",
              "      <th>False</th>\n",
              "      <td>21.010811</td>\n",
              "    </tr>\n",
              "    <tr>\n",
              "      <th>True</th>\n",
              "      <td>21.528226</td>\n",
              "    </tr>\n",
              "  </tbody>\n",
              "</table>\n",
              "</div>"
            ]
          },
          "metadata": {}
        }
      ],
      "execution_count": 185,
      "metadata": {
        "id": "x2UEq8pzs9Jw",
        "colab_type": "code",
        "colab": {},
        "outputId": "b93b61ed-4fb4-467c-a8a4-dd61a87d8994",
        "execution": {
          "iopub.status.busy": "2020-04-06T06:57:17.283Z",
          "iopub.execute_input": "2020-04-06T06:57:17.313Z",
          "iopub.status.idle": "2020-04-06T06:57:17.376Z",
          "shell.execute_reply": "2020-04-06T06:57:17.405Z"
        }
      }
    },
    {
      "cell_type": "markdown",
      "source": [
        "Conclusion: Median no. of words in the description of an Ad for high CTR advertiser (21.47) is slightly more as compared to a low CTR advertiser(21.02)."
      ],
      "metadata": {
        "id": "pT_frpmXs9Jy",
        "colab_type": "text"
      }
    },
    {
      "cell_type": "code",
      "source": [
        "# Does an Advertiser with high CTR Ads uses more words in Ad title...\n",
        "\n",
        "sns.boxplot(x='HighCTR', y='TCount', data=temp)\n",
        "#sns.violinplot(x='HighCTR', y='DCount', data=temp)\n",
        "plt.show()"
      ],
      "outputs": [
        {
          "output_type": "display_data",
          "data": {
            "text/plain": [
              "<Figure size 432x288 with 1 Axes>"
            ],
            "image/png": "[encoded data removed]"
          },
          "metadata": {
            "needs_background": "light"
          }
        }
      ],
      "execution_count": 186,
      "metadata": {
        "id": "SvuuerN0s9Jz",
        "colab_type": "code",
        "colab": {},
        "outputId": "9e1b6069-17e7-4a33-86dd-c06bb2ba8144",
        "execution": {
          "iopub.status.busy": "2020-04-06T06:57:24.786Z",
          "iopub.execute_input": "2020-04-06T06:57:24.816Z",
          "iopub.status.idle": "2020-04-06T06:57:24.879Z",
          "shell.execute_reply": "2020-04-06T06:57:24.960Z"
        }
      }
    },
    {
      "cell_type": "code",
      "source": [
        "(temp[['HighCTR', 'TCount']].copy()).groupby('HighCTR').agg(['median'])"
      ],
      "outputs": [
        {
          "output_type": "execute_result",
          "execution_count": 187,
          "data": {
            "text/plain": [
              "           TCount\n",
              "           median\n",
              "HighCTR          \n",
              "False    8.460888\n",
              "True     8.814326"
            ],
            "text/html": [
              "<div>\n",
              "<style scoped>\n",
              "    .dataframe tbody tr th:only-of-type {\n",
              "        vertical-align: middle;\n",
              "    }\n",
              "\n",
              "    .dataframe tbody tr th {\n",
              "        vertical-align: top;\n",
              "    }\n",
              "\n",
              "    .dataframe thead tr th {\n",
              "        text-align: left;\n",
              "    }\n",
              "\n",
              "    .dataframe thead tr:last-of-type th {\n",
              "        text-align: right;\n",
              "    }\n",
              "</style>\n",
              "<table border=\"1\" class=\"dataframe\">\n",
              "  <thead>\n",
              "    <tr>\n",
              "      <th></th>\n",
              "      <th>TCount</th>\n",
              "    </tr>\n",
              "    <tr>\n",
              "      <th></th>\n",
              "      <th>median</th>\n",
              "    </tr>\n",
              "    <tr>\n",
              "      <th>HighCTR</th>\n",
              "      <th></th>\n",
              "    </tr>\n",
              "  </thead>\n",
              "  <tbody>\n",
              "    <tr>\n",
              "      <th>False</th>\n",
              "      <td>8.460888</td>\n",
              "    </tr>\n",
              "    <tr>\n",
              "      <th>True</th>\n",
              "      <td>8.814326</td>\n",
              "    </tr>\n",
              "  </tbody>\n",
              "</table>\n",
              "</div>"
            ]
          },
          "metadata": {}
        }
      ],
      "execution_count": 187,
      "metadata": {
        "id": "M281b82cs9J1",
        "colab_type": "code",
        "colab": {},
        "outputId": "2478614f-d755-4c43-f094-3f9c9f3f7ebe",
        "execution": {
          "iopub.status.busy": "2020-04-06T06:57:27.178Z",
          "iopub.execute_input": "2020-04-06T06:57:27.207Z",
          "iopub.status.idle": "2020-04-06T06:57:27.265Z",
          "shell.execute_reply": "2020-04-06T06:57:27.295Z"
        }
      }
    },
    {
      "cell_type": "markdown",
      "source": [
        "Conclusion: Median no. of words in the title of an Ad for high CTR advertiser is slightly high (8.7) than a low CTR advertiser (8.5)."
      ],
      "metadata": {
        "id": "zEmq7wi_s9J2",
        "colab_type": "text"
      }
    },
    {
      "cell_type": "markdown",
      "source": [
        "##### Takeaway:\n",
        "\n",
        "Advertisers who have high CTRs use alomost same median no. of words in the title & description of their ads as an advertiser with low CTR which is intuitive. Why ? Because typically limited display space is given to every Ad irrespective of the Advertiser. Then why some Advertisers have High CTR ? \n",
        "\n",
        "There are various reasons we can think off:\n",
        "\n",
        "1. High Quality content in Ads\n",
        "2. Product sold by an Advertiser can have high demand when data was collected."
      ],
      "metadata": {
        "id": "NGfDqluYs9J3",
        "colab_type": "text"
      }
    },
    {
      "cell_type": "code",
      "source": [
        "# Do high CTR Advertisers have more impressions of their advertisements (i.e are they frequent advertisers)...\n",
        "\n",
        "# Intuition says they should be, lets find out...\n",
        "\n",
        "interim = data[['AdvId','Impression']].copy()\n",
        "interim.head()"
      ],
      "outputs": [
        {
          "output_type": "execute_result",
          "execution_count": 188,
          "data": {
            "text/plain": [
              "   AdvId  Impression\n",
              "0    385           1\n",
              "1    385           2\n",
              "2    385           1\n",
              "3    385           1\n",
              "4    385           2"
            ],
            "text/html": [
              "<div>\n",
              "<style scoped>\n",
              "    .dataframe tbody tr th:only-of-type {\n",
              "        vertical-align: middle;\n",
              "    }\n",
              "\n",
              "    .dataframe tbody tr th {\n",
              "        vertical-align: top;\n",
              "    }\n",
              "\n",
              "    .dataframe thead th {\n",
              "        text-align: right;\n",
              "    }\n",
              "</style>\n",
              "<table border=\"1\" class=\"dataframe\">\n",
              "  <thead>\n",
              "    <tr style=\"text-align: right;\">\n",
              "      <th></th>\n",
              "      <th>AdvId</th>\n",
              "      <th>Impression</th>\n",
              "    </tr>\n",
              "  </thead>\n",
              "  <tbody>\n",
              "    <tr>\n",
              "      <th>0</th>\n",
              "      <td>385</td>\n",
              "      <td>1</td>\n",
              "    </tr>\n",
              "    <tr>\n",
              "      <th>1</th>\n",
              "      <td>385</td>\n",
              "      <td>2</td>\n",
              "    </tr>\n",
              "    <tr>\n",
              "      <th>2</th>\n",
              "      <td>385</td>\n",
              "      <td>1</td>\n",
              "    </tr>\n",
              "    <tr>\n",
              "      <th>3</th>\n",
              "      <td>385</td>\n",
              "      <td>1</td>\n",
              "    </tr>\n",
              "    <tr>\n",
              "      <th>4</th>\n",
              "      <td>385</td>\n",
              "      <td>2</td>\n",
              "    </tr>\n",
              "  </tbody>\n",
              "</table>\n",
              "</div>"
            ]
          },
          "metadata": {}
        }
      ],
      "execution_count": 188,
      "metadata": {
        "id": "dokFtiRZs9J3",
        "colab_type": "code",
        "colab": {},
        "outputId": "2a92b71f-6d24-4128-99dd-4c2edfaff67d",
        "execution": {
          "iopub.status.busy": "2020-04-06T06:57:33.157Z",
          "iopub.execute_input": "2020-04-06T06:57:33.193Z",
          "iopub.status.idle": "2020-04-06T06:57:34.625Z",
          "shell.execute_reply": "2020-04-06T06:57:34.739Z"
        }
      }
    },
    {
      "cell_type": "code",
      "source": [
        "result = interim.groupby('AdvId').agg(['sum', 'count'])\n",
        "result.head()"
      ],
      "outputs": [
        {
          "output_type": "execute_result",
          "execution_count": 189,
          "data": {
            "text/plain": [
              "      Impression       \n",
              "             sum  count\n",
              "AdvId                  \n",
              "78             6      6\n",
              "79             3      3\n",
              "80            10     10\n",
              "81          2448   1965\n",
              "82        117726  82945"
            ],
            "text/html": [
              "<div>\n",
              "<style scoped>\n",
              "    .dataframe tbody tr th:only-of-type {\n",
              "        vertical-align: middle;\n",
              "    }\n",
              "\n",
              "    .dataframe tbody tr th {\n",
              "        vertical-align: top;\n",
              "    }\n",
              "\n",
              "    .dataframe thead tr th {\n",
              "        text-align: left;\n",
              "    }\n",
              "\n",
              "    .dataframe thead tr:last-of-type th {\n",
              "        text-align: right;\n",
              "    }\n",
              "</style>\n",
              "<table border=\"1\" class=\"dataframe\">\n",
              "  <thead>\n",
              "    <tr>\n",
              "      <th></th>\n",
              "      <th colspan=\"2\" halign=\"left\">Impression</th>\n",
              "    </tr>\n",
              "    <tr>\n",
              "      <th></th>\n",
              "      <th>sum</th>\n",
              "      <th>count</th>\n",
              "    </tr>\n",
              "    <tr>\n",
              "      <th>AdvId</th>\n",
              "      <th></th>\n",
              "      <th></th>\n",
              "    </tr>\n",
              "  </thead>\n",
              "  <tbody>\n",
              "    <tr>\n",
              "      <th>78</th>\n",
              "      <td>6</td>\n",
              "      <td>6</td>\n",
              "    </tr>\n",
              "    <tr>\n",
              "      <th>79</th>\n",
              "      <td>3</td>\n",
              "      <td>3</td>\n",
              "    </tr>\n",
              "    <tr>\n",
              "      <th>80</th>\n",
              "      <td>10</td>\n",
              "      <td>10</td>\n",
              "    </tr>\n",
              "    <tr>\n",
              "      <th>81</th>\n",
              "      <td>2448</td>\n",
              "      <td>1965</td>\n",
              "    </tr>\n",
              "    <tr>\n",
              "      <th>82</th>\n",
              "      <td>117726</td>\n",
              "      <td>82945</td>\n",
              "    </tr>\n",
              "  </tbody>\n",
              "</table>\n",
              "</div>"
            ]
          },
          "metadata": {}
        }
      ],
      "execution_count": 189,
      "metadata": {
        "id": "yhU7YVCCs9J4",
        "colab_type": "code",
        "colab": {},
        "outputId": "b54e3e5c-9c58-4b63-f956-31406771fbda",
        "execution": {
          "iopub.status.busy": "2020-04-06T06:57:36.976Z",
          "iopub.execute_input": "2020-04-06T06:57:37.007Z",
          "iopub.status.idle": "2020-04-06T06:57:49.500Z",
          "shell.execute_reply": "2020-04-06T06:57:49.588Z"
        }
      }
    },
    {
      "cell_type": "code",
      "source": [
        "\n",
        "# How to intepret above figure ? Advertisements by Adv. Id 82 were displayed 5230 times across 3651 user queries.\n"
      ],
      "outputs": [],
      "execution_count": 100,
      "metadata": {
        "id": "mIjLWv3as9J6",
        "colab_type": "code",
        "colab": {},
        "execution": {
          "iopub.status.busy": "2020-04-06T05:00:57.740Z",
          "iopub.execute_input": "2020-04-06T05:00:57.776Z",
          "iopub.status.idle": "2020-04-06T05:00:57.842Z",
          "shell.execute_reply": "2020-04-06T05:01:00.735Z"
        }
      }
    },
    {
      "cell_type": "code",
      "source": [
        "temp['Impression'] = result[('Impression', 'sum')].array\n",
        "temp['Count']      = result[('Impression', 'count')].array\n",
        "temp.head()"
      ],
      "outputs": [
        {
          "output_type": "execute_result",
          "execution_count": 190,
          "data": {
            "text/plain": [
              "   AdvId       CTR  DCount  TCount  HighCTR  Impression  Count\n",
              "0     78  0.000000     2.0     3.0    False           6      6\n",
              "1     79  0.000000     2.0     3.0    False           3      3\n",
              "2     80  0.000000     2.0     3.0    False          10     10\n",
              "3     81  6.638677    26.0    11.0     True        2448   1965\n",
              "4     82  3.465991    22.0     5.0    False      117726  82945"
            ],
            "text/html": [
              "<div>\n",
              "<style scoped>\n",
              "    .dataframe tbody tr th:only-of-type {\n",
              "        vertical-align: middle;\n",
              "    }\n",
              "\n",
              "    .dataframe tbody tr th {\n",
              "        vertical-align: top;\n",
              "    }\n",
              "\n",
              "    .dataframe thead th {\n",
              "        text-align: right;\n",
              "    }\n",
              "</style>\n",
              "<table border=\"1\" class=\"dataframe\">\n",
              "  <thead>\n",
              "    <tr style=\"text-align: right;\">\n",
              "      <th></th>\n",
              "      <th>AdvId</th>\n",
              "      <th>CTR</th>\n",
              "      <th>DCount</th>\n",
              "      <th>TCount</th>\n",
              "      <th>HighCTR</th>\n",
              "      <th>Impression</th>\n",
              "      <th>Count</th>\n",
              "    </tr>\n",
              "  </thead>\n",
              "  <tbody>\n",
              "    <tr>\n",
              "      <th>0</th>\n",
              "      <td>78</td>\n",
              "      <td>0.000000</td>\n",
              "      <td>2.0</td>\n",
              "      <td>3.0</td>\n",
              "      <td>False</td>\n",
              "      <td>6</td>\n",
              "      <td>6</td>\n",
              "    </tr>\n",
              "    <tr>\n",
              "      <th>1</th>\n",
              "      <td>79</td>\n",
              "      <td>0.000000</td>\n",
              "      <td>2.0</td>\n",
              "      <td>3.0</td>\n",
              "      <td>False</td>\n",
              "      <td>3</td>\n",
              "      <td>3</td>\n",
              "    </tr>\n",
              "    <tr>\n",
              "      <th>2</th>\n",
              "      <td>80</td>\n",
              "      <td>0.000000</td>\n",
              "      <td>2.0</td>\n",
              "      <td>3.0</td>\n",
              "      <td>False</td>\n",
              "      <td>10</td>\n",
              "      <td>10</td>\n",
              "    </tr>\n",
              "    <tr>\n",
              "      <th>3</th>\n",
              "      <td>81</td>\n",
              "      <td>6.638677</td>\n",
              "      <td>26.0</td>\n",
              "      <td>11.0</td>\n",
              "      <td>True</td>\n",
              "      <td>2448</td>\n",
              "      <td>1965</td>\n",
              "    </tr>\n",
              "    <tr>\n",
              "      <th>4</th>\n",
              "      <td>82</td>\n",
              "      <td>3.465991</td>\n",
              "      <td>22.0</td>\n",
              "      <td>5.0</td>\n",
              "      <td>False</td>\n",
              "      <td>117726</td>\n",
              "      <td>82945</td>\n",
              "    </tr>\n",
              "  </tbody>\n",
              "</table>\n",
              "</div>"
            ]
          },
          "metadata": {}
        }
      ],
      "execution_count": 190,
      "metadata": {
        "id": "t5yAXfERs9J8",
        "colab_type": "code",
        "colab": {},
        "outputId": "bece7855-fe17-48af-dfe2-e12a9c9c3af3",
        "execution": {
          "iopub.status.busy": "2020-04-06T06:57:51.592Z",
          "iopub.execute_input": "2020-04-06T06:57:51.643Z",
          "iopub.status.idle": "2020-04-06T06:57:51.700Z",
          "shell.execute_reply": "2020-04-06T06:57:51.727Z"
        }
      }
    },
    {
      "cell_type": "code",
      "source": [
        "# d = temp[temp['Net_Impr'] < 2]\n",
        "sns.boxplot(x='HighCTR', y='Impression', data=temp)\n",
        "plt.show()"
      ],
      "outputs": [
        {
          "output_type": "display_data",
          "data": {
            "text/plain": [
              "<Figure size 432x288 with 1 Axes>"
            ],
            "image/png": "[encoded data removed]"
          },
          "metadata": {
            "needs_background": "light"
          }
        }
      ],
      "execution_count": 191,
      "metadata": {
        "id": "Z382Veu6s9J-",
        "colab_type": "code",
        "colab": {},
        "outputId": "763cf85a-15d8-4498-ec0e-4547437f85dd",
        "execution": {
          "iopub.status.busy": "2020-04-06T06:57:59.367Z",
          "iopub.execute_input": "2020-04-06T06:57:59.396Z",
          "iopub.status.idle": "2020-04-06T06:57:59.503Z",
          "shell.execute_reply": "2020-04-06T06:57:59.535Z"
        }
      }
    },
    {
      "cell_type": "code",
      "source": [
        "# Clearly there are outliers in data. Let us take 3rd quantile value to be robust in our estimate."
      ],
      "outputs": [],
      "execution_count": 103,
      "metadata": {
        "id": "j0iZzvrys9KB",
        "colab_type": "code",
        "colab": {},
        "execution": {
          "iopub.status.busy": "2020-04-06T05:00:58.235Z",
          "iopub.execute_input": "2020-04-06T05:00:58.264Z",
          "iopub.status.idle": "2020-04-06T05:00:58.310Z",
          "shell.execute_reply": "2020-04-06T05:01:00.787Z"
        }
      }
    },
    {
      "cell_type": "code",
      "source": [
        "(temp[['HighCTR', 'Impression']].copy()).groupby('HighCTR').agg(['mean', 'median'])"
      ],
      "outputs": [
        {
          "output_type": "execute_result",
          "execution_count": 192,
          "data": {
            "text/plain": [
              "           Impression       \n",
              "                 mean median\n",
              "HighCTR                     \n",
              "False     7625.144186   1098\n",
              "True     13758.494156    929"
            ],
            "text/html": [
              "<div>\n",
              "<style scoped>\n",
              "    .dataframe tbody tr th:only-of-type {\n",
              "        vertical-align: middle;\n",
              "    }\n",
              "\n",
              "    .dataframe tbody tr th {\n",
              "        vertical-align: top;\n",
              "    }\n",
              "\n",
              "    .dataframe thead tr th {\n",
              "        text-align: left;\n",
              "    }\n",
              "\n",
              "    .dataframe thead tr:last-of-type th {\n",
              "        text-align: right;\n",
              "    }\n",
              "</style>\n",
              "<table border=\"1\" class=\"dataframe\">\n",
              "  <thead>\n",
              "    <tr>\n",
              "      <th></th>\n",
              "      <th colspan=\"2\" halign=\"left\">Impression</th>\n",
              "    </tr>\n",
              "    <tr>\n",
              "      <th></th>\n",
              "      <th>mean</th>\n",
              "      <th>median</th>\n",
              "    </tr>\n",
              "    <tr>\n",
              "      <th>HighCTR</th>\n",
              "      <th></th>\n",
              "      <th></th>\n",
              "    </tr>\n",
              "  </thead>\n",
              "  <tbody>\n",
              "    <tr>\n",
              "      <th>False</th>\n",
              "      <td>7625.144186</td>\n",
              "      <td>1098</td>\n",
              "    </tr>\n",
              "    <tr>\n",
              "      <th>True</th>\n",
              "      <td>13758.494156</td>\n",
              "      <td>929</td>\n",
              "    </tr>\n",
              "  </tbody>\n",
              "</table>\n",
              "</div>"
            ]
          },
          "metadata": {}
        }
      ],
      "execution_count": 192,
      "metadata": {
        "id": "FPZn6bgzs9KC",
        "colab_type": "code",
        "colab": {},
        "outputId": "e27a757f-6009-4907-cc29-2b512f1de1de",
        "execution": {
          "iopub.status.busy": "2020-04-06T06:58:03.326Z",
          "iopub.execute_input": "2020-04-06T06:58:03.357Z",
          "iopub.status.idle": "2020-04-06T06:58:03.423Z",
          "shell.execute_reply": "2020-04-06T06:58:03.451Z"
        }
      }
    },
    {
      "cell_type": "markdown",
      "source": [
        "Conclusion: A High CTR Advertiser has higher avg. impressions(590.0) as opposed to a low CTR Advertiser (381.0). However median no. of impressions for a High CTR Advertiser is lower (49) as opposed to a low CTR Advertiser(53)."
      ],
      "metadata": {
        "id": "rRgprQB1s9KI",
        "colab_type": "text"
      }
    },
    {
      "cell_type": "markdown",
      "source": [
        "<h4>3.2.2.2 : Studying the role of Advertiser based on Ad Frequency </h4>"
      ],
      "metadata": {
        "id": "wjCel1x-s9KI",
        "colab_type": "text"
      }
    },
    {
      "cell_type": "code",
      "source": [
        "\n",
        "# We divide the data into two categories, each corr. to frequent & infrequent Advertisers.\n",
        "\n",
        "# Once we have divided the data,we can study how Ads by a frequent Advertiser differs from a infrequent Advertiser.\n",
        "\n",
        "# e.g. We can know if an frequent advertiser use more words to describe ad, more words in the ad title etc...\n"
      ],
      "outputs": [],
      "execution_count": 105,
      "metadata": {
        "id": "njHkCM8ds9KI",
        "colab_type": "code",
        "colab": {},
        "execution": {
          "iopub.status.busy": "2020-04-06T05:00:58.520Z",
          "iopub.execute_input": "2020-04-06T05:00:58.549Z",
          "iopub.status.idle": "2020-04-06T05:00:58.596Z",
          "shell.execute_reply": "2020-04-06T05:01:00.838Z"
        }
      }
    },
    {
      "cell_type": "code",
      "source": [
        "\n",
        "# The burning question...\n",
        "\n",
        "# How to decide if an Advertiser is a frequent Advertiser or not? \n",
        "\n",
        "# There are two ways we can do this.. based on 1. Impression 2. Count\n",
        "\n",
        "# Advertiser Impression: total no. of impressions of all Ads by an Adv. \n",
        "\n",
        "# Advertiser Count: total no. training entries all Ads by an Adv.\n",
        "\n",
        "# We choose Advertiser Impression as a criteria for deciding if an Advertiser is frequent or not.\n",
        "\n",
        "# Let us study the distribution of Advertiser Impressions... \n"
      ],
      "outputs": [],
      "execution_count": 106,
      "metadata": {
        "id": "Sqcoj7tUs9KK",
        "colab_type": "code",
        "colab": {},
        "execution": {
          "iopub.status.busy": "2020-04-06T05:00:58.643Z",
          "iopub.execute_input": "2020-04-06T05:00:58.673Z",
          "iopub.status.idle": "2020-04-06T05:00:58.717Z",
          "shell.execute_reply": "2020-04-06T05:01:00.861Z"
        }
      }
    },
    {
      "cell_type": "code",
      "source": [
        "f, (ax1, ax2) = plt.subplots(2)\n",
        "sns.kdeplot(temp['Impression'], ax=ax1)\n",
        "sns.boxplot(x=None,y='Impression',data=temp, ax=ax2)\n",
        "plt.show()"
      ],
      "outputs": [
        {
          "output_type": "display_data",
          "data": {
            "text/plain": [
              "<Figure size 432x288 with 2 Axes>"
            ],
            "image/png": "[encoded data removed]"
          },
          "metadata": {
            "needs_background": "light"
          }
        }
      ],
      "execution_count": 193,
      "metadata": {
        "id": "DKbPv4-Bs9KL",
        "colab_type": "code",
        "colab": {},
        "outputId": "66ef5740-6fd0-44ed-d302-97a8eb94ce92",
        "execution": {
          "iopub.status.busy": "2020-04-06T06:58:07.902Z",
          "iopub.execute_input": "2020-04-06T06:58:07.929Z",
          "iopub.status.idle": "2020-04-06T06:58:08.045Z",
          "shell.execute_reply": "2020-04-06T06:58:08.075Z"
        }
      }
    },
    {
      "cell_type": "code",
      "source": [
        "mean_advertiser_impression = temp['Impression'].mean()\n",
        "print ('Average Advertiser Impression: ', round(mean_advertiser_impression, 2))\n",
        "\n",
        "median_advertiser_impression = temp['Impression'].median()\n",
        "print ('Median Advertiser Impression: ', round(median_advertiser_impression, 2))\n",
        "\n",
        "third_quantile_advertiser_impression = temp['Impression'].quantile(0.75)\n",
        "print( '3rd Quantile Advertiser Impression: ', round(third_quantile_advertiser_impression, 2))"
      ],
      "outputs": [
        {
          "output_type": "stream",
          "name": "stdout",
          "text": [
            "Average Advertiser Impression:  9155.15\n",
            "Median Advertiser Impression:  1060.5\n",
            "3rd Quantile Advertiser Impression:  3124.0\n"
          ]
        }
      ],
      "execution_count": 194,
      "metadata": {
        "id": "WiUCFl6gs9KN",
        "colab_type": "code",
        "colab": {},
        "outputId": "5b8af045-f882-4317-9ea8-87cbf8930545",
        "execution": {
          "iopub.status.busy": "2020-04-06T06:58:12.258Z",
          "iopub.execute_input": "2020-04-06T06:58:12.289Z",
          "iopub.status.idle": "2020-04-06T06:58:12.349Z",
          "shell.execute_reply": "2020-04-06T06:58:12.376Z"
        }
      }
    },
    {
      "cell_type": "code",
      "source": [
        "# Let us define 'Frequent Advertiser' as - advertiser with Advertiser Impression > 3rd quantile Advertiser Impression."
      ],
      "outputs": [],
      "execution_count": 109,
      "metadata": {
        "id": "tu_rcMfUs9KP",
        "colab_type": "code",
        "colab": {},
        "execution": {
          "iopub.status.busy": "2020-04-06T05:00:59.094Z",
          "iopub.execute_input": "2020-04-06T05:00:59.125Z",
          "iopub.status.idle": "2020-04-06T05:00:59.173Z",
          "shell.execute_reply": "2020-04-06T05:01:00.947Z"
        }
      }
    },
    {
      "cell_type": "code",
      "source": [
        "temp['IsFrequent'] = temp['Count'] > third_quantile_advertiser_impression\n",
        "temp.head()"
      ],
      "outputs": [
        {
          "output_type": "execute_result",
          "execution_count": 195,
          "data": {
            "text/plain": [
              "   AdvId       CTR  DCount  TCount  HighCTR  Impression  Count  IsFrequent\n",
              "0     78  0.000000     2.0     3.0    False           6      6       False\n",
              "1     79  0.000000     2.0     3.0    False           3      3       False\n",
              "2     80  0.000000     2.0     3.0    False          10     10       False\n",
              "3     81  6.638677    26.0    11.0     True        2448   1965       False\n",
              "4     82  3.465991    22.0     5.0    False      117726  82945        True"
            ],
            "text/html": [
              "<div>\n",
              "<style scoped>\n",
              "    .dataframe tbody tr th:only-of-type {\n",
              "        vertical-align: middle;\n",
              "    }\n",
              "\n",
              "    .dataframe tbody tr th {\n",
              "        vertical-align: top;\n",
              "    }\n",
              "\n",
              "    .dataframe thead th {\n",
              "        text-align: right;\n",
              "    }\n",
              "</style>\n",
              "<table border=\"1\" class=\"dataframe\">\n",
              "  <thead>\n",
              "    <tr style=\"text-align: right;\">\n",
              "      <th></th>\n",
              "      <th>AdvId</th>\n",
              "      <th>CTR</th>\n",
              "      <th>DCount</th>\n",
              "      <th>TCount</th>\n",
              "      <th>HighCTR</th>\n",
              "      <th>Impression</th>\n",
              "      <th>Count</th>\n",
              "      <th>IsFrequent</th>\n",
              "    </tr>\n",
              "  </thead>\n",
              "  <tbody>\n",
              "    <tr>\n",
              "      <th>0</th>\n",
              "      <td>78</td>\n",
              "      <td>0.000000</td>\n",
              "      <td>2.0</td>\n",
              "      <td>3.0</td>\n",
              "      <td>False</td>\n",
              "      <td>6</td>\n",
              "      <td>6</td>\n",
              "      <td>False</td>\n",
              "    </tr>\n",
              "    <tr>\n",
              "      <th>1</th>\n",
              "      <td>79</td>\n",
              "      <td>0.000000</td>\n",
              "      <td>2.0</td>\n",
              "      <td>3.0</td>\n",
              "      <td>False</td>\n",
              "      <td>3</td>\n",
              "      <td>3</td>\n",
              "      <td>False</td>\n",
              "    </tr>\n",
              "    <tr>\n",
              "      <th>2</th>\n",
              "      <td>80</td>\n",
              "      <td>0.000000</td>\n",
              "      <td>2.0</td>\n",
              "      <td>3.0</td>\n",
              "      <td>False</td>\n",
              "      <td>10</td>\n",
              "      <td>10</td>\n",
              "      <td>False</td>\n",
              "    </tr>\n",
              "    <tr>\n",
              "      <th>3</th>\n",
              "      <td>81</td>\n",
              "      <td>6.638677</td>\n",
              "      <td>26.0</td>\n",
              "      <td>11.0</td>\n",
              "      <td>True</td>\n",
              "      <td>2448</td>\n",
              "      <td>1965</td>\n",
              "      <td>False</td>\n",
              "    </tr>\n",
              "    <tr>\n",
              "      <th>4</th>\n",
              "      <td>82</td>\n",
              "      <td>3.465991</td>\n",
              "      <td>22.0</td>\n",
              "      <td>5.0</td>\n",
              "      <td>False</td>\n",
              "      <td>117726</td>\n",
              "      <td>82945</td>\n",
              "      <td>True</td>\n",
              "    </tr>\n",
              "  </tbody>\n",
              "</table>\n",
              "</div>"
            ]
          },
          "metadata": {}
        }
      ],
      "execution_count": 195,
      "metadata": {
        "id": "SxIk8S6ks9KR",
        "colab_type": "code",
        "colab": {},
        "outputId": "b6fce7e1-b3eb-4b88-827b-8bbaac91b1b0",
        "execution": {
          "iopub.status.busy": "2020-04-06T06:58:15.786Z",
          "iopub.execute_input": "2020-04-06T06:58:15.816Z",
          "iopub.status.idle": "2020-04-06T06:58:15.874Z",
          "shell.execute_reply": "2020-04-06T06:58:15.902Z"
        }
      }
    },
    {
      "cell_type": "code",
      "source": [
        "temp['IsFrequent'].value_counts() # Clearly, there is an imbalance since we chose 3rd quantile Adv. Impr. as threshold."
      ],
      "outputs": [
        {
          "output_type": "execute_result",
          "execution_count": 196,
          "data": {
            "text/plain": [
              "False    11531\n",
              "True      3217\n",
              "Name: IsFrequent, dtype: int64"
            ]
          },
          "metadata": {}
        }
      ],
      "execution_count": 196,
      "metadata": {
        "id": "E5CbqeLts9KS",
        "colab_type": "code",
        "colab": {},
        "outputId": "7b164d68-f92f-4b59-c38f-153ccd91aa59",
        "execution": {
          "iopub.status.busy": "2020-04-06T06:58:19.101Z",
          "iopub.execute_input": "2020-04-06T06:58:19.133Z",
          "iopub.status.idle": "2020-04-06T06:58:19.194Z",
          "shell.execute_reply": "2020-04-06T06:58:19.223Z"
        }
      }
    },
    {
      "cell_type": "code",
      "source": [
        "# Does a frequent advertiser has higher avg. CTR...\n",
        "\n",
        "# Intuitively they should, lets investigate.\n",
        "\n",
        "sns.violinplot(x='IsFrequent',y='CTR',data=temp)\n",
        "plt.show()"
      ],
      "outputs": [
        {
          "output_type": "display_data",
          "data": {
            "text/plain": [
              "<Figure size 432x288 with 1 Axes>"
            ],
            "image/png": "[encoded data removed]"
          },
          "metadata": {
            "needs_background": "light"
          }
        }
      ],
      "execution_count": 197,
      "metadata": {
        "id": "2q-i3f1_s9KT",
        "colab_type": "code",
        "colab": {},
        "outputId": "e4060718-e44b-4dda-eec9-8d009ee225aa",
        "execution": {
          "iopub.status.busy": "2020-04-06T06:58:22.183Z",
          "iopub.execute_input": "2020-04-06T06:58:22.210Z",
          "iopub.status.idle": "2020-04-06T06:58:22.287Z",
          "shell.execute_reply": "2020-04-06T06:58:22.318Z"
        }
      }
    },
    {
      "cell_type": "code",
      "source": [
        "(temp[['IsFrequent', 'CTR']].copy()).groupby('IsFrequent').agg(['mean', 'median'])"
      ],
      "outputs": [
        {
          "output_type": "execute_result",
          "execution_count": 198,
          "data": {
            "text/plain": [
              "                 CTR          \n",
              "                mean    median\n",
              "IsFrequent                    \n",
              "False       4.088067  2.995671\n",
              "True        4.152445  3.506978"
            ],
            "text/html": [
              "<div>\n",
              "<style scoped>\n",
              "    .dataframe tbody tr th:only-of-type {\n",
              "        vertical-align: middle;\n",
              "    }\n",
              "\n",
              "    .dataframe tbody tr th {\n",
              "        vertical-align: top;\n",
              "    }\n",
              "\n",
              "    .dataframe thead tr th {\n",
              "        text-align: left;\n",
              "    }\n",
              "\n",
              "    .dataframe thead tr:last-of-type th {\n",
              "        text-align: right;\n",
              "    }\n",
              "</style>\n",
              "<table border=\"1\" class=\"dataframe\">\n",
              "  <thead>\n",
              "    <tr>\n",
              "      <th></th>\n",
              "      <th colspan=\"2\" halign=\"left\">CTR</th>\n",
              "    </tr>\n",
              "    <tr>\n",
              "      <th></th>\n",
              "      <th>mean</th>\n",
              "      <th>median</th>\n",
              "    </tr>\n",
              "    <tr>\n",
              "      <th>IsFrequent</th>\n",
              "      <th></th>\n",
              "      <th></th>\n",
              "    </tr>\n",
              "  </thead>\n",
              "  <tbody>\n",
              "    <tr>\n",
              "      <th>False</th>\n",
              "      <td>4.088067</td>\n",
              "      <td>2.995671</td>\n",
              "    </tr>\n",
              "    <tr>\n",
              "      <th>True</th>\n",
              "      <td>4.152445</td>\n",
              "      <td>3.506978</td>\n",
              "    </tr>\n",
              "  </tbody>\n",
              "</table>\n",
              "</div>"
            ]
          },
          "metadata": {}
        }
      ],
      "execution_count": 198,
      "metadata": {
        "id": "C0XU4xN3s9KW",
        "colab_type": "code",
        "colab": {},
        "outputId": "7ddfc065-aa40-4a9c-cdc2-9bc84948d0e4",
        "execution": {
          "iopub.status.busy": "2020-04-06T06:58:27.156Z",
          "iopub.execute_input": "2020-04-06T06:58:27.186Z",
          "iopub.status.idle": "2020-04-06T06:58:27.248Z",
          "shell.execute_reply": "2020-04-06T06:58:27.277Z"
        }
      }
    },
    {
      "cell_type": "markdown",
      "source": [
        "Conclusion: A frequent advertiser has higher median CTR(3.58%) & avg. CTR(4.14%) as compared to an infrequent advertiser with 1.58% median CTR & 3.8% avg. CTR. Why it that ? This is very intuitive. How ? \n",
        "\n",
        "An Advertiser being frequent tantamounts to higher CTR else he/she wouldn't be frequent in the first place.\n",
        "Why on earth would an advertiser want to show their Ads if more impressions isn't generating revenue for the advertiser."
      ],
      "metadata": {
        "id": "D04Tk9v1s9KY",
        "colab_type": "text"
      }
    },
    {
      "cell_type": "code",
      "source": [
        "# Does a frequent Advertiser use more words to describe their Ads...\n",
        "\n",
        "sns.boxplot(x='IsFrequent', y='DCount', data=temp)\n",
        "#sns.violinplot(x='HighCTR', y='DCount', data=temp)\n",
        "plt.show()"
      ],
      "outputs": [
        {
          "output_type": "display_data",
          "data": {
            "text/plain": [
              "<Figure size 432x288 with 1 Axes>"
            ],
            "image/png": "[encoded data removed]"
          },
          "metadata": {
            "needs_background": "light"
          }
        }
      ],
      "execution_count": 199,
      "metadata": {
        "id": "PKTaxWl_s9KZ",
        "colab_type": "code",
        "colab": {},
        "outputId": "47f468fd-31ba-4f5d-8b5f-94ec162fb131",
        "execution": {
          "iopub.status.busy": "2020-04-06T06:58:31.394Z",
          "iopub.execute_input": "2020-04-06T06:58:31.421Z",
          "iopub.status.idle": "2020-04-06T06:58:31.478Z",
          "shell.execute_reply": "2020-04-06T06:58:31.555Z"
        }
      }
    },
    {
      "cell_type": "code",
      "source": [
        "(temp[['IsFrequent', 'DCount']].copy()).groupby('IsFrequent').agg(['median'])"
      ],
      "outputs": [
        {
          "output_type": "execute_result",
          "execution_count": 200,
          "data": {
            "text/plain": [
              "               DCount\n",
              "               median\n",
              "IsFrequent           \n",
              "False       21.033898\n",
              "True        21.470769"
            ],
            "text/html": [
              "<div>\n",
              "<style scoped>\n",
              "    .dataframe tbody tr th:only-of-type {\n",
              "        vertical-align: middle;\n",
              "    }\n",
              "\n",
              "    .dataframe tbody tr th {\n",
              "        vertical-align: top;\n",
              "    }\n",
              "\n",
              "    .dataframe thead tr th {\n",
              "        text-align: left;\n",
              "    }\n",
              "\n",
              "    .dataframe thead tr:last-of-type th {\n",
              "        text-align: right;\n",
              "    }\n",
              "</style>\n",
              "<table border=\"1\" class=\"dataframe\">\n",
              "  <thead>\n",
              "    <tr>\n",
              "      <th></th>\n",
              "      <th>DCount</th>\n",
              "    </tr>\n",
              "    <tr>\n",
              "      <th></th>\n",
              "      <th>median</th>\n",
              "    </tr>\n",
              "    <tr>\n",
              "      <th>IsFrequent</th>\n",
              "      <th></th>\n",
              "    </tr>\n",
              "  </thead>\n",
              "  <tbody>\n",
              "    <tr>\n",
              "      <th>False</th>\n",
              "      <td>21.033898</td>\n",
              "    </tr>\n",
              "    <tr>\n",
              "      <th>True</th>\n",
              "      <td>21.470769</td>\n",
              "    </tr>\n",
              "  </tbody>\n",
              "</table>\n",
              "</div>"
            ]
          },
          "metadata": {}
        }
      ],
      "execution_count": 200,
      "metadata": {
        "id": "NCzyhQ5Xs9Ka",
        "colab_type": "code",
        "colab": {},
        "outputId": "5c96b02f-6520-49c1-a042-56cd8b935155",
        "execution": {
          "iopub.status.busy": "2020-04-06T06:58:34.458Z",
          "iopub.execute_input": "2020-04-06T06:58:34.486Z",
          "iopub.status.idle": "2020-04-06T06:58:34.545Z",
          "shell.execute_reply": "2020-04-06T06:58:34.576Z"
        }
      }
    },
    {
      "cell_type": "markdown",
      "source": [
        "Conclusion: Median no. of words in the Ad description for frequent advertiser is slightly high (21.5) than a infrequent advertiser(21.0)."
      ],
      "metadata": {
        "id": "ICUZkhwws9Kd",
        "colab_type": "text"
      }
    },
    {
      "cell_type": "code",
      "source": [
        "# Does a frequent Advertiser use more words to describe their Ads...\n",
        "\n",
        "sns.boxplot(x='IsFrequent', y='TCount', data=temp)\n",
        "#sns.violinplot(x='HighCTR', y='DCount', data=temp)\n",
        "plt.show()"
      ],
      "outputs": [
        {
          "output_type": "display_data",
          "data": {
            "text/plain": [
              "<Figure size 432x288 with 1 Axes>"
            ],
            "image/png": "[encoded data removed]"
          },
          "metadata": {
            "needs_background": "light"
          }
        }
      ],
      "execution_count": 201,
      "metadata": {
        "id": "RY_-nEobs9Kd",
        "colab_type": "code",
        "colab": {},
        "outputId": "a295f27f-17d6-452d-d92a-60b7bbf8497c",
        "execution": {
          "iopub.status.busy": "2020-04-06T06:58:39.046Z",
          "iopub.execute_input": "2020-04-06T06:58:39.071Z",
          "iopub.status.idle": "2020-04-06T06:58:39.131Z",
          "shell.execute_reply": "2020-04-06T06:58:39.205Z"
        }
      }
    },
    {
      "cell_type": "code",
      "source": [
        "(temp[['IsFrequent', 'TCount']].copy()).groupby('IsFrequent').agg(['median'])"
      ],
      "outputs": [
        {
          "output_type": "execute_result",
          "execution_count": 202,
          "data": {
            "text/plain": [
              "              TCount\n",
              "              median\n",
              "IsFrequent          \n",
              "False       8.458647\n",
              "True        8.867147"
            ],
            "text/html": [
              "<div>\n",
              "<style scoped>\n",
              "    .dataframe tbody tr th:only-of-type {\n",
              "        vertical-align: middle;\n",
              "    }\n",
              "\n",
              "    .dataframe tbody tr th {\n",
              "        vertical-align: top;\n",
              "    }\n",
              "\n",
              "    .dataframe thead tr th {\n",
              "        text-align: left;\n",
              "    }\n",
              "\n",
              "    .dataframe thead tr:last-of-type th {\n",
              "        text-align: right;\n",
              "    }\n",
              "</style>\n",
              "<table border=\"1\" class=\"dataframe\">\n",
              "  <thead>\n",
              "    <tr>\n",
              "      <th></th>\n",
              "      <th>TCount</th>\n",
              "    </tr>\n",
              "    <tr>\n",
              "      <th></th>\n",
              "      <th>median</th>\n",
              "    </tr>\n",
              "    <tr>\n",
              "      <th>IsFrequent</th>\n",
              "      <th></th>\n",
              "    </tr>\n",
              "  </thead>\n",
              "  <tbody>\n",
              "    <tr>\n",
              "      <th>False</th>\n",
              "      <td>8.458647</td>\n",
              "    </tr>\n",
              "    <tr>\n",
              "      <th>True</th>\n",
              "      <td>8.867147</td>\n",
              "    </tr>\n",
              "  </tbody>\n",
              "</table>\n",
              "</div>"
            ]
          },
          "metadata": {}
        }
      ],
      "execution_count": 202,
      "metadata": {
        "id": "sFetD-1ys9Ke",
        "colab_type": "code",
        "colab": {},
        "outputId": "eead43f3-4fac-495f-edee-33013c7a864a",
        "execution": {
          "iopub.status.busy": "2020-04-06T06:58:42.261Z",
          "iopub.execute_input": "2020-04-06T06:58:42.288Z",
          "iopub.status.idle": "2020-04-06T06:58:42.349Z",
          "shell.execute_reply": "2020-04-06T06:58:42.376Z"
        }
      }
    },
    {
      "cell_type": "markdown",
      "source": [
        "Conclusion: Median no. of words in the Ad Title for frequent advertiser is slightly high (8.9) than a infrequent advertiser(8.4)."
      ],
      "metadata": {
        "id": "9hBTdeK-s9Kh",
        "colab_type": "text"
      }
    },
    {
      "cell_type": "markdown",
      "source": [
        "<h3> 3.2.3 Studying Ads irrespective of Advertisers </h3>"
      ],
      "metadata": {
        "id": "pQpQSR7as9Ki",
        "colab_type": "text"
      }
    },
    {
      "cell_type": "markdown",
      "source": [
        "<h4> 3.2.3.1 Studying Ad properties based on Ad CTR </h4>"
      ],
      "metadata": {
        "id": "6fX7ipeDs9Ki",
        "colab_type": "text"
      }
    },
    {
      "cell_type": "code",
      "source": [
        "\n",
        "\n",
        "# We divide the data into two categories, one corr. to Ads with high CTR & other corr. to Ads with low CTR.\n",
        "\n",
        "# Once this is done, we can investigate how an Ad with high CTR differs from an Ad with low CTR.\n"
      ],
      "outputs": [],
      "execution_count": 118,
      "metadata": {
        "id": "YhcPqK_Ss9Ki",
        "colab_type": "code",
        "colab": {},
        "execution": {
          "iopub.status.busy": "2020-04-06T05:01:00.441Z",
          "iopub.execute_input": "2020-04-06T05:01:00.470Z",
          "iopub.status.idle": "2020-04-06T05:01:00.517Z",
          "shell.execute_reply": "2020-04-06T05:01:01.190Z"
        }
      }
    },
    {
      "cell_type": "code",
      "source": [
        "# What is my goal ? To study properties of Advertisements.\n",
        "\n",
        "# What questions I intend to answer ? \n",
        "\n",
        "# 1. How does no. of words in Ad Description vary with CTR of an Ad ? \n",
        "\n",
        "# 2. How does no. of words in Ad Title vary with CTR of an Ad ? \n",
        "\n",
        "# 3. How is the Ad frequency related to no. of words used in Ad description ? \n",
        "\n",
        "# 4. How is the Ad frequency related to no. of words used in Ad title ? \n",
        "\n",
        "# 5. How is the Ad frequency related to Ad Position ? \n",
        "\n",
        "# 6. How is the Ad frequency related to Ad Depth ? \n",
        "\n",
        "# 7. How is the Ad frequency related to Ad Clicks ? Does more Ad impressions mean more clicks ? \n",
        "\n",
        "# 8. Does frequency of an Ad has an effect on CTR of the Ad ? \n"
      ],
      "outputs": [],
      "execution_count": 119,
      "metadata": {
        "id": "n_iOcMU7s9Ko",
        "colab_type": "code",
        "colab": {},
        "execution": {
          "iopub.status.busy": "2020-04-06T05:01:00.595Z",
          "iopub.execute_input": "2020-04-06T05:01:00.626Z",
          "iopub.status.idle": "2020-04-06T05:01:00.681Z",
          "shell.execute_reply": "2020-04-06T05:01:01.213Z"
        }
      }
    },
    {
      "cell_type": "code",
      "source": [
        "# Preparing Data for Analysis....\n",
        "\n",
        "temp = data[['AdId', 'CTR', 'Pos', 'Depth', 'QCount', 'DCount', 'TCount']].copy()"
      ],
      "outputs": [],
      "execution_count": 203,
      "metadata": {
        "id": "LAPWPspzs9Kp",
        "colab_type": "code",
        "colab": {},
        "execution": {
          "iopub.status.busy": "2020-04-06T06:58:57.160Z",
          "iopub.execute_input": "2020-04-06T06:58:57.193Z",
          "iopub.status.idle": "2020-04-06T06:59:06.326Z",
          "shell.execute_reply": "2020-04-06T06:59:06.443Z"
        }
      }
    },
    {
      "cell_type": "code",
      "source": [
        "result = temp.groupby('AdId').agg(['mean'])\n",
        "result.head()"
      ],
      "outputs": [
        {
          "output_type": "execute_result",
          "execution_count": 204,
          "data": {
            "text/plain": [
              "              CTR       Pos     Depth    QCount     DCount TCount\n",
              "             mean      mean      mean      mean       mean   mean\n",
              "AdId                                                             \n",
              "1000031  0.000000  1.851852  2.111111  3.592593  18.000000    6.0\n",
              "1000465  0.000000  1.840000  2.320000  3.040000  17.000000    5.0\n",
              "1000467  2.675719  1.932907  2.215655  2.937700  17.864217    5.0\n",
              "1000468  0.000000  1.916667  2.333333  2.833333  17.000000    5.0\n",
              "1000469  0.000000  2.000000  2.250000  4.000000  17.250000    5.0"
            ],
            "text/html": [
              "<div>\n",
              "<style scoped>\n",
              "    .dataframe tbody tr th:only-of-type {\n",
              "        vertical-align: middle;\n",
              "    }\n",
              "\n",
              "    .dataframe tbody tr th {\n",
              "        vertical-align: top;\n",
              "    }\n",
              "\n",
              "    .dataframe thead tr th {\n",
              "        text-align: left;\n",
              "    }\n",
              "\n",
              "    .dataframe thead tr:last-of-type th {\n",
              "        text-align: right;\n",
              "    }\n",
              "</style>\n",
              "<table border=\"1\" class=\"dataframe\">\n",
              "  <thead>\n",
              "    <tr>\n",
              "      <th></th>\n",
              "      <th>CTR</th>\n",
              "      <th>Pos</th>\n",
              "      <th>Depth</th>\n",
              "      <th>QCount</th>\n",
              "      <th>DCount</th>\n",
              "      <th>TCount</th>\n",
              "    </tr>\n",
              "    <tr>\n",
              "      <th></th>\n",
              "      <th>mean</th>\n",
              "      <th>mean</th>\n",
              "      <th>mean</th>\n",
              "      <th>mean</th>\n",
              "      <th>mean</th>\n",
              "      <th>mean</th>\n",
              "    </tr>\n",
              "    <tr>\n",
              "      <th>AdId</th>\n",
              "      <th></th>\n",
              "      <th></th>\n",
              "      <th></th>\n",
              "      <th></th>\n",
              "      <th></th>\n",
              "      <th></th>\n",
              "    </tr>\n",
              "  </thead>\n",
              "  <tbody>\n",
              "    <tr>\n",
              "      <th>1000031</th>\n",
              "      <td>0.000000</td>\n",
              "      <td>1.851852</td>\n",
              "      <td>2.111111</td>\n",
              "      <td>3.592593</td>\n",
              "      <td>18.000000</td>\n",
              "      <td>6.0</td>\n",
              "    </tr>\n",
              "    <tr>\n",
              "      <th>1000465</th>\n",
              "      <td>0.000000</td>\n",
              "      <td>1.840000</td>\n",
              "      <td>2.320000</td>\n",
              "      <td>3.040000</td>\n",
              "      <td>17.000000</td>\n",
              "      <td>5.0</td>\n",
              "    </tr>\n",
              "    <tr>\n",
              "      <th>1000467</th>\n",
              "      <td>2.675719</td>\n",
              "      <td>1.932907</td>\n",
              "      <td>2.215655</td>\n",
              "      <td>2.937700</td>\n",
              "      <td>17.864217</td>\n",
              "      <td>5.0</td>\n",
              "    </tr>\n",
              "    <tr>\n",
              "      <th>1000468</th>\n",
              "      <td>0.000000</td>\n",
              "      <td>1.916667</td>\n",
              "      <td>2.333333</td>\n",
              "      <td>2.833333</td>\n",
              "      <td>17.000000</td>\n",
              "      <td>5.0</td>\n",
              "    </tr>\n",
              "    <tr>\n",
              "      <th>1000469</th>\n",
              "      <td>0.000000</td>\n",
              "      <td>2.000000</td>\n",
              "      <td>2.250000</td>\n",
              "      <td>4.000000</td>\n",
              "      <td>17.250000</td>\n",
              "      <td>5.0</td>\n",
              "    </tr>\n",
              "  </tbody>\n",
              "</table>\n",
              "</div>"
            ]
          },
          "metadata": {}
        }
      ],
      "execution_count": 204,
      "metadata": {
        "id": "CBtI3lk9s9Ks",
        "colab_type": "code",
        "colab": {},
        "outputId": "8eedf83b-d27c-4f3c-dafe-6160c28e3d74",
        "execution": {
          "iopub.status.busy": "2020-04-06T06:59:06.380Z",
          "iopub.execute_input": "2020-04-06T06:59:06.412Z",
          "iopub.status.idle": "2020-04-06T06:59:34.999Z",
          "shell.execute_reply": "2020-04-06T06:59:35.113Z"
        }
      }
    },
    {
      "cell_type": "code",
      "source": [
        "temp = pd.DataFrame()\n",
        "\n",
        "temp['AdId']   = result.index\n",
        "temp['CTR']    = result[('CTR', 'mean')].array\n",
        "temp['Pos']    = result[('Pos', 'mean')].array\n",
        "temp['Depth']  = result[('Depth', 'mean')].array\n",
        "temp['DCount'] = result[('DCount', 'mean')].array\n",
        "temp['TCount'] = result[('TCount', 'mean')].array\n",
        "\n",
        "temp.head()"
      ],
      "outputs": [
        {
          "output_type": "execute_result",
          "execution_count": 205,
          "data": {
            "text/plain": [
              "      AdId       CTR       Pos     Depth     DCount  TCount\n",
              "0  1000031  0.000000  1.851852  2.111111  18.000000     6.0\n",
              "1  1000465  0.000000  1.840000  2.320000  17.000000     5.0\n",
              "2  1000467  2.675719  1.932907  2.215655  17.864217     5.0\n",
              "3  1000468  0.000000  1.916667  2.333333  17.000000     5.0\n",
              "4  1000469  0.000000  2.000000  2.250000  17.250000     5.0"
            ],
            "text/html": [
              "<div>\n",
              "<style scoped>\n",
              "    .dataframe tbody tr th:only-of-type {\n",
              "        vertical-align: middle;\n",
              "    }\n",
              "\n",
              "    .dataframe tbody tr th {\n",
              "        vertical-align: top;\n",
              "    }\n",
              "\n",
              "    .dataframe thead th {\n",
              "        text-align: right;\n",
              "    }\n",
              "</style>\n",
              "<table border=\"1\" class=\"dataframe\">\n",
              "  <thead>\n",
              "    <tr style=\"text-align: right;\">\n",
              "      <th></th>\n",
              "      <th>AdId</th>\n",
              "      <th>CTR</th>\n",
              "      <th>Pos</th>\n",
              "      <th>Depth</th>\n",
              "      <th>DCount</th>\n",
              "      <th>TCount</th>\n",
              "    </tr>\n",
              "  </thead>\n",
              "  <tbody>\n",
              "    <tr>\n",
              "      <th>0</th>\n",
              "      <td>1000031</td>\n",
              "      <td>0.000000</td>\n",
              "      <td>1.851852</td>\n",
              "      <td>2.111111</td>\n",
              "      <td>18.000000</td>\n",
              "      <td>6.0</td>\n",
              "    </tr>\n",
              "    <tr>\n",
              "      <th>1</th>\n",
              "      <td>1000465</td>\n",
              "      <td>0.000000</td>\n",
              "      <td>1.840000</td>\n",
              "      <td>2.320000</td>\n",
              "      <td>17.000000</td>\n",
              "      <td>5.0</td>\n",
              "    </tr>\n",
              "    <tr>\n",
              "      <th>2</th>\n",
              "      <td>1000467</td>\n",
              "      <td>2.675719</td>\n",
              "      <td>1.932907</td>\n",
              "      <td>2.215655</td>\n",
              "      <td>17.864217</td>\n",
              "      <td>5.0</td>\n",
              "    </tr>\n",
              "    <tr>\n",
              "      <th>3</th>\n",
              "      <td>1000468</td>\n",
              "      <td>0.000000</td>\n",
              "      <td>1.916667</td>\n",
              "      <td>2.333333</td>\n",
              "      <td>17.000000</td>\n",
              "      <td>5.0</td>\n",
              "    </tr>\n",
              "    <tr>\n",
              "      <th>4</th>\n",
              "      <td>1000469</td>\n",
              "      <td>0.000000</td>\n",
              "      <td>2.000000</td>\n",
              "      <td>2.250000</td>\n",
              "      <td>17.250000</td>\n",
              "      <td>5.0</td>\n",
              "    </tr>\n",
              "  </tbody>\n",
              "</table>\n",
              "</div>"
            ]
          },
          "metadata": {}
        }
      ],
      "execution_count": 205,
      "metadata": {
        "id": "1CtYef9Hs9Ku",
        "colab_type": "code",
        "colab": {},
        "outputId": "86b0aec4-2909-4b98-fdff-ae5e779fc4d4",
        "execution": {
          "iopub.status.busy": "2020-04-06T06:59:38.298Z",
          "iopub.execute_input": "2020-04-06T06:59:38.331Z",
          "iopub.status.idle": "2020-04-06T06:59:38.394Z",
          "shell.execute_reply": "2020-04-06T06:59:38.496Z"
        }
      }
    },
    {
      "cell_type": "code",
      "source": [
        "interim = data[['AdId', 'Impression', 'Click']].copy()\n",
        "iresult = interim.groupby('AdId').agg(['sum'])\n",
        "iresult.head()"
      ],
      "outputs": [
        {
          "output_type": "execute_result",
          "execution_count": 206,
          "data": {
            "text/plain": [
              "        Impression Click\n",
              "               sum   sum\n",
              "AdId                    \n",
              "1000031         30     0\n",
              "1000465         41     0\n",
              "1000467        818    22\n",
              "1000468         15     0\n",
              "1000469          4     0"
            ],
            "text/html": [
              "<div>\n",
              "<style scoped>\n",
              "    .dataframe tbody tr th:only-of-type {\n",
              "        vertical-align: middle;\n",
              "    }\n",
              "\n",
              "    .dataframe tbody tr th {\n",
              "        vertical-align: top;\n",
              "    }\n",
              "\n",
              "    .dataframe thead tr th {\n",
              "        text-align: left;\n",
              "    }\n",
              "\n",
              "    .dataframe thead tr:last-of-type th {\n",
              "        text-align: right;\n",
              "    }\n",
              "</style>\n",
              "<table border=\"1\" class=\"dataframe\">\n",
              "  <thead>\n",
              "    <tr>\n",
              "      <th></th>\n",
              "      <th>Impression</th>\n",
              "      <th>Click</th>\n",
              "    </tr>\n",
              "    <tr>\n",
              "      <th></th>\n",
              "      <th>sum</th>\n",
              "      <th>sum</th>\n",
              "    </tr>\n",
              "    <tr>\n",
              "      <th>AdId</th>\n",
              "      <th></th>\n",
              "      <th></th>\n",
              "    </tr>\n",
              "  </thead>\n",
              "  <tbody>\n",
              "    <tr>\n",
              "      <th>1000031</th>\n",
              "      <td>30</td>\n",
              "      <td>0</td>\n",
              "    </tr>\n",
              "    <tr>\n",
              "      <th>1000465</th>\n",
              "      <td>41</td>\n",
              "      <td>0</td>\n",
              "    </tr>\n",
              "    <tr>\n",
              "      <th>1000467</th>\n",
              "      <td>818</td>\n",
              "      <td>22</td>\n",
              "    </tr>\n",
              "    <tr>\n",
              "      <th>1000468</th>\n",
              "      <td>15</td>\n",
              "      <td>0</td>\n",
              "    </tr>\n",
              "    <tr>\n",
              "      <th>1000469</th>\n",
              "      <td>4</td>\n",
              "      <td>0</td>\n",
              "    </tr>\n",
              "  </tbody>\n",
              "</table>\n",
              "</div>"
            ]
          },
          "metadata": {}
        }
      ],
      "execution_count": 206,
      "metadata": {
        "id": "Duytaqhcs9Kv",
        "colab_type": "code",
        "colab": {},
        "outputId": "642c613b-1c29-4960-d307-80f203653782",
        "execution": {
          "iopub.status.busy": "2020-04-06T06:59:45.756Z",
          "iopub.execute_input": "2020-04-06T06:59:45.788Z",
          "iopub.status.idle": "2020-04-06T07:00:01.713Z",
          "shell.execute_reply": "2020-04-06T07:00:01.985Z"
        }
      }
    },
    {
      "cell_type": "code",
      "source": [
        "temp['Impression'] = iresult[('Impression', 'sum')].array\n",
        "temp['Click']      = iresult[('Click', 'sum')].array\n",
        "temp.head()"
      ],
      "outputs": [
        {
          "output_type": "execute_result",
          "execution_count": 207,
          "data": {
            "text/plain": [
              "      AdId       CTR       Pos     Depth     DCount  TCount  Impression  Click\n",
              "0  1000031  0.000000  1.851852  2.111111  18.000000     6.0          30      0\n",
              "1  1000465  0.000000  1.840000  2.320000  17.000000     5.0          41      0\n",
              "2  1000467  2.675719  1.932907  2.215655  17.864217     5.0         818     22\n",
              "3  1000468  0.000000  1.916667  2.333333  17.000000     5.0          15      0\n",
              "4  1000469  0.000000  2.000000  2.250000  17.250000     5.0           4      0"
            ],
            "text/html": [
              "<div>\n",
              "<style scoped>\n",
              "    .dataframe tbody tr th:only-of-type {\n",
              "        vertical-align: middle;\n",
              "    }\n",
              "\n",
              "    .dataframe tbody tr th {\n",
              "        vertical-align: top;\n",
              "    }\n",
              "\n",
              "    .dataframe thead th {\n",
              "        text-align: right;\n",
              "    }\n",
              "</style>\n",
              "<table border=\"1\" class=\"dataframe\">\n",
              "  <thead>\n",
              "    <tr style=\"text-align: right;\">\n",
              "      <th></th>\n",
              "      <th>AdId</th>\n",
              "      <th>CTR</th>\n",
              "      <th>Pos</th>\n",
              "      <th>Depth</th>\n",
              "      <th>DCount</th>\n",
              "      <th>TCount</th>\n",
              "      <th>Impression</th>\n",
              "      <th>Click</th>\n",
              "    </tr>\n",
              "  </thead>\n",
              "  <tbody>\n",
              "    <tr>\n",
              "      <th>0</th>\n",
              "      <td>1000031</td>\n",
              "      <td>0.000000</td>\n",
              "      <td>1.851852</td>\n",
              "      <td>2.111111</td>\n",
              "      <td>18.000000</td>\n",
              "      <td>6.0</td>\n",
              "      <td>30</td>\n",
              "      <td>0</td>\n",
              "    </tr>\n",
              "    <tr>\n",
              "      <th>1</th>\n",
              "      <td>1000465</td>\n",
              "      <td>0.000000</td>\n",
              "      <td>1.840000</td>\n",
              "      <td>2.320000</td>\n",
              "      <td>17.000000</td>\n",
              "      <td>5.0</td>\n",
              "      <td>41</td>\n",
              "      <td>0</td>\n",
              "    </tr>\n",
              "    <tr>\n",
              "      <th>2</th>\n",
              "      <td>1000467</td>\n",
              "      <td>2.675719</td>\n",
              "      <td>1.932907</td>\n",
              "      <td>2.215655</td>\n",
              "      <td>17.864217</td>\n",
              "      <td>5.0</td>\n",
              "      <td>818</td>\n",
              "      <td>22</td>\n",
              "    </tr>\n",
              "    <tr>\n",
              "      <th>3</th>\n",
              "      <td>1000468</td>\n",
              "      <td>0.000000</td>\n",
              "      <td>1.916667</td>\n",
              "      <td>2.333333</td>\n",
              "      <td>17.000000</td>\n",
              "      <td>5.0</td>\n",
              "      <td>15</td>\n",
              "      <td>0</td>\n",
              "    </tr>\n",
              "    <tr>\n",
              "      <th>4</th>\n",
              "      <td>1000469</td>\n",
              "      <td>0.000000</td>\n",
              "      <td>2.000000</td>\n",
              "      <td>2.250000</td>\n",
              "      <td>17.250000</td>\n",
              "      <td>5.0</td>\n",
              "      <td>4</td>\n",
              "      <td>0</td>\n",
              "    </tr>\n",
              "  </tbody>\n",
              "</table>\n",
              "</div>"
            ]
          },
          "metadata": {}
        }
      ],
      "execution_count": 207,
      "metadata": {
        "id": "cPUVfovQs9Kw",
        "colab_type": "code",
        "colab": {},
        "outputId": "06d25504-261b-46bd-d71a-ca6bbf253fae",
        "execution": {
          "iopub.status.busy": "2020-04-06T07:00:01.758Z",
          "iopub.execute_input": "2020-04-06T07:00:01.787Z",
          "iopub.status.idle": "2020-04-06T07:00:01.844Z",
          "shell.execute_reply": "2020-04-06T07:00:01.999Z"
        }
      }
    },
    {
      "cell_type": "code",
      "source": [
        "print ('No. of unique advertisements: ',temp.shape[0] )"
      ],
      "outputs": [
        {
          "output_type": "stream",
          "name": "stdout",
          "text": [
            "No. of unique advertisements:  553371\n"
          ]
        }
      ],
      "execution_count": 208,
      "metadata": {
        "id": "E-JRgZN2s9Kx",
        "colab_type": "code",
        "colab": {},
        "outputId": "bbcb4d34-aff3-4b4c-c68e-ea6dea8d901c",
        "execution": {
          "iopub.status.busy": "2020-04-06T07:00:05.965Z",
          "iopub.execute_input": "2020-04-06T07:00:05.995Z",
          "iopub.status.idle": "2020-04-06T07:00:06.055Z",
          "shell.execute_reply": "2020-04-06T07:00:06.084Z"
        }
      }
    },
    {
      "cell_type": "code",
      "source": [
        "\n",
        "# The burning question...\n",
        "\n",
        "# How to decide if an Ad qualifies as a high CTR Advertisment ? \n",
        "\n",
        "# Let us study the distribution of avg. Ad CTRs...\n"
      ],
      "outputs": [],
      "execution_count": 126,
      "metadata": {
        "id": "BWJ03UUhs9Ky",
        "colab_type": "code",
        "colab": {},
        "execution": {
          "iopub.status.busy": "2020-04-06T05:01:57.027Z",
          "iopub.execute_input": "2020-04-06T05:01:57.057Z",
          "iopub.status.idle": "2020-04-06T05:01:57.102Z",
          "shell.execute_reply": "2020-04-06T05:02:01.070Z"
        }
      }
    },
    {
      "cell_type": "code",
      "source": [
        "f, (ax1, ax2) = plt.subplots(2)\n",
        "sns.kdeplot(temp['CTR'], ax=ax1)\n",
        "sns.boxplot(x=None,y='CTR',data=temp, ax=ax2)\n",
        "plt.show()"
      ],
      "outputs": [
        {
          "output_type": "display_data",
          "data": {
            "text/plain": [
              "<Figure size 432x288 with 2 Axes>"
            ],
            "image/png": "[encoded data removed]"
          },
          "metadata": {
            "needs_background": "light"
          }
        }
      ],
      "execution_count": 209,
      "metadata": {
        "id": "tv0ya1GCs9Kz",
        "colab_type": "code",
        "colab": {},
        "outputId": "5604117d-94d4-4b55-8f1c-5b7c907b4ccd",
        "execution": {
          "iopub.status.busy": "2020-04-06T07:00:10.285Z",
          "iopub.execute_input": "2020-04-06T07:00:10.316Z",
          "iopub.status.idle": "2020-04-06T07:00:11.529Z",
          "shell.execute_reply": "2020-04-06T07:00:11.599Z"
        }
      }
    },
    {
      "cell_type": "code",
      "source": [
        "mean_ad_ctr = temp['CTR'].mean()\n",
        "print ('Average CTR of Ads : ', round(mean_ad_ctr, 2))\n",
        "\n",
        "median_ad_ctr = temp['CTR'].median()\n",
        "print ('Median CTR of Ads : ', round(median_ad_ctr, 2))\n",
        "\n",
        "third_quantile_ad_ctr = temp['CTR'].quantile(0.75)\n",
        "print ('3rd Quantile CTR of Ads: ', round(third_quantile_ad_ctr, 2))"
      ],
      "outputs": [
        {
          "output_type": "stream",
          "name": "stdout",
          "text": [
            "Average CTR of Ads :  5.61\n",
            "Median CTR of Ads :  0.0\n",
            "3rd Quantile CTR of Ads:  4.42\n"
          ]
        }
      ],
      "execution_count": 210,
      "metadata": {
        "id": "-21LyJDbs9K0",
        "colab_type": "code",
        "colab": {},
        "outputId": "9318429c-254a-4ce0-b083-aa6575af6a62",
        "execution": {
          "iopub.status.busy": "2020-04-06T07:00:14.823Z",
          "iopub.execute_input": "2020-04-06T07:00:14.853Z",
          "iopub.status.idle": "2020-04-06T07:00:14.914Z",
          "shell.execute_reply": "2020-04-06T07:00:14.943Z"
        }
      }
    },
    {
      "cell_type": "code",
      "source": [
        "# Since median & 3rd quantile avg. CTR is 0.0 using it as a threshold is meaningless. So, let us use \n",
        "\n",
        "# Avg. Ad CTR as a threshold for deciding if an ad is qualified as a high CTR ad or not."
      ],
      "outputs": [],
      "execution_count": 129,
      "metadata": {
        "id": "b8LAx5kBs9K2",
        "colab_type": "code",
        "colab": {},
        "execution": {
          "iopub.status.busy": "2020-04-06T05:01:57.455Z",
          "iopub.execute_input": "2020-04-06T05:01:57.486Z",
          "iopub.status.idle": "2020-04-06T05:01:57.531Z",
          "shell.execute_reply": "2020-04-06T05:02:01.114Z"
        }
      }
    },
    {
      "cell_type": "code",
      "source": [
        "temp['HighCTR'] = temp['CTR'] > mean_ad_ctr\n",
        "temp.head()"
      ],
      "outputs": [
        {
          "output_type": "execute_result",
          "execution_count": 211,
          "data": {
            "text/plain": [
              "      AdId       CTR       Pos     Depth     DCount  TCount  Impression  \\\n",
              "0  1000031  0.000000  1.851852  2.111111  18.000000     6.0          30   \n",
              "1  1000465  0.000000  1.840000  2.320000  17.000000     5.0          41   \n",
              "2  1000467  2.675719  1.932907  2.215655  17.864217     5.0         818   \n",
              "3  1000468  0.000000  1.916667  2.333333  17.000000     5.0          15   \n",
              "4  1000469  0.000000  2.000000  2.250000  17.250000     5.0           4   \n",
              "\n",
              "   Click  HighCTR  \n",
              "0      0    False  \n",
              "1      0    False  \n",
              "2     22    False  \n",
              "3      0    False  \n",
              "4      0    False  "
            ],
            "text/html": [
              "<div>\n",
              "<style scoped>\n",
              "    .dataframe tbody tr th:only-of-type {\n",
              "        vertical-align: middle;\n",
              "    }\n",
              "\n",
              "    .dataframe tbody tr th {\n",
              "        vertical-align: top;\n",
              "    }\n",
              "\n",
              "    .dataframe thead th {\n",
              "        text-align: right;\n",
              "    }\n",
              "</style>\n",
              "<table border=\"1\" class=\"dataframe\">\n",
              "  <thead>\n",
              "    <tr style=\"text-align: right;\">\n",
              "      <th></th>\n",
              "      <th>AdId</th>\n",
              "      <th>CTR</th>\n",
              "      <th>Pos</th>\n",
              "      <th>Depth</th>\n",
              "      <th>DCount</th>\n",
              "      <th>TCount</th>\n",
              "      <th>Impression</th>\n",
              "      <th>Click</th>\n",
              "      <th>HighCTR</th>\n",
              "    </tr>\n",
              "  </thead>\n",
              "  <tbody>\n",
              "    <tr>\n",
              "      <th>0</th>\n",
              "      <td>1000031</td>\n",
              "      <td>0.000000</td>\n",
              "      <td>1.851852</td>\n",
              "      <td>2.111111</td>\n",
              "      <td>18.000000</td>\n",
              "      <td>6.0</td>\n",
              "      <td>30</td>\n",
              "      <td>0</td>\n",
              "      <td>False</td>\n",
              "    </tr>\n",
              "    <tr>\n",
              "      <th>1</th>\n",
              "      <td>1000465</td>\n",
              "      <td>0.000000</td>\n",
              "      <td>1.840000</td>\n",
              "      <td>2.320000</td>\n",
              "      <td>17.000000</td>\n",
              "      <td>5.0</td>\n",
              "      <td>41</td>\n",
              "      <td>0</td>\n",
              "      <td>False</td>\n",
              "    </tr>\n",
              "    <tr>\n",
              "      <th>2</th>\n",
              "      <td>1000467</td>\n",
              "      <td>2.675719</td>\n",
              "      <td>1.932907</td>\n",
              "      <td>2.215655</td>\n",
              "      <td>17.864217</td>\n",
              "      <td>5.0</td>\n",
              "      <td>818</td>\n",
              "      <td>22</td>\n",
              "      <td>False</td>\n",
              "    </tr>\n",
              "    <tr>\n",
              "      <th>3</th>\n",
              "      <td>1000468</td>\n",
              "      <td>0.000000</td>\n",
              "      <td>1.916667</td>\n",
              "      <td>2.333333</td>\n",
              "      <td>17.000000</td>\n",
              "      <td>5.0</td>\n",
              "      <td>15</td>\n",
              "      <td>0</td>\n",
              "      <td>False</td>\n",
              "    </tr>\n",
              "    <tr>\n",
              "      <th>4</th>\n",
              "      <td>1000469</td>\n",
              "      <td>0.000000</td>\n",
              "      <td>2.000000</td>\n",
              "      <td>2.250000</td>\n",
              "      <td>17.250000</td>\n",
              "      <td>5.0</td>\n",
              "      <td>4</td>\n",
              "      <td>0</td>\n",
              "      <td>False</td>\n",
              "    </tr>\n",
              "  </tbody>\n",
              "</table>\n",
              "</div>"
            ]
          },
          "metadata": {}
        }
      ],
      "execution_count": 211,
      "metadata": {
        "id": "7amd2tNLs9K3",
        "colab_type": "code",
        "colab": {},
        "outputId": "19112695-f4dd-4b64-e153-b6e87aa34e6f",
        "execution": {
          "iopub.status.busy": "2020-04-06T07:00:18.371Z",
          "iopub.execute_input": "2020-04-06T07:00:18.400Z",
          "iopub.status.idle": "2020-04-06T07:00:18.461Z",
          "shell.execute_reply": "2020-04-06T07:00:18.489Z"
        }
      }
    },
    {
      "cell_type": "code",
      "source": [
        "temp['HighCTR'].value_counts() # Clearly, an imbalanced dataset..."
      ],
      "outputs": [
        {
          "output_type": "execute_result",
          "execution_count": 212,
          "data": {
            "text/plain": [
              "False    434677\n",
              "True     118694\n",
              "Name: HighCTR, dtype: int64"
            ]
          },
          "metadata": {}
        }
      ],
      "execution_count": 212,
      "metadata": {
        "id": "gECu8htRs9K4",
        "colab_type": "code",
        "colab": {},
        "outputId": "3154803b-02ba-48b6-91fa-94081bfbf8bc",
        "execution": {
          "iopub.status.busy": "2020-04-06T07:00:22.593Z",
          "iopub.execute_input": "2020-04-06T07:00:22.623Z",
          "iopub.status.idle": "2020-04-06T07:00:22.683Z",
          "shell.execute_reply": "2020-04-06T07:00:22.711Z"
        }
      }
    },
    {
      "cell_type": "code",
      "source": [
        "# How does Ad CTR affect no. of words in Ad description...\n",
        "\n",
        "sns.boxplot(x='HighCTR', y='DCount', data=temp)\n",
        "#sns.violinplot(x='HighCTR', y='DCount', data=temp)\n",
        "plt.show()"
      ],
      "outputs": [
        {
          "output_type": "display_data",
          "data": {
            "text/plain": [
              "<Figure size 432x288 with 1 Axes>"
            ],
            "image/png": "[encoded data removed]"
          },
          "metadata": {
            "needs_background": "light"
          }
        }
      ],
      "execution_count": 213,
      "metadata": {
        "id": "w_FXKr-Vs9K9",
        "colab_type": "code",
        "colab": {},
        "outputId": "0ab8f411-69c0-4d16-f1bd-87ad50c54c0f",
        "execution": {
          "iopub.status.busy": "2020-04-06T07:00:25.830Z",
          "iopub.execute_input": "2020-04-06T07:00:25.859Z",
          "iopub.status.idle": "2020-04-06T07:00:25.961Z",
          "shell.execute_reply": "2020-04-06T07:00:26.038Z"
        }
      }
    },
    {
      "cell_type": "code",
      "source": [
        "(temp[['HighCTR', 'DCount']].copy()).groupby('HighCTR').agg(['median'])"
      ],
      "outputs": [
        {
          "output_type": "execute_result",
          "execution_count": 214,
          "data": {
            "text/plain": [
              "        DCount\n",
              "        median\n",
              "HighCTR       \n",
              "False    21.25\n",
              "True     22.00"
            ],
            "text/html": [
              "<div>\n",
              "<style scoped>\n",
              "    .dataframe tbody tr th:only-of-type {\n",
              "        vertical-align: middle;\n",
              "    }\n",
              "\n",
              "    .dataframe tbody tr th {\n",
              "        vertical-align: top;\n",
              "    }\n",
              "\n",
              "    .dataframe thead tr th {\n",
              "        text-align: left;\n",
              "    }\n",
              "\n",
              "    .dataframe thead tr:last-of-type th {\n",
              "        text-align: right;\n",
              "    }\n",
              "</style>\n",
              "<table border=\"1\" class=\"dataframe\">\n",
              "  <thead>\n",
              "    <tr>\n",
              "      <th></th>\n",
              "      <th>DCount</th>\n",
              "    </tr>\n",
              "    <tr>\n",
              "      <th></th>\n",
              "      <th>median</th>\n",
              "    </tr>\n",
              "    <tr>\n",
              "      <th>HighCTR</th>\n",
              "      <th></th>\n",
              "    </tr>\n",
              "  </thead>\n",
              "  <tbody>\n",
              "    <tr>\n",
              "      <th>False</th>\n",
              "      <td>21.25</td>\n",
              "    </tr>\n",
              "    <tr>\n",
              "      <th>True</th>\n",
              "      <td>22.00</td>\n",
              "    </tr>\n",
              "  </tbody>\n",
              "</table>\n",
              "</div>"
            ]
          },
          "metadata": {}
        }
      ],
      "execution_count": 214,
      "metadata": {
        "id": "wRTxcvPLs9K-",
        "colab_type": "code",
        "colab": {},
        "outputId": "20688567-ddea-4c00-e6ea-cbcc54ab9949",
        "execution": {
          "iopub.status.busy": "2020-04-06T07:00:28.864Z",
          "iopub.execute_input": "2020-04-06T07:00:28.894Z",
          "iopub.status.idle": "2020-04-06T07:00:28.952Z",
          "shell.execute_reply": "2020-04-06T07:00:28.978Z"
        }
      }
    },
    {
      "cell_type": "markdown",
      "source": [
        "Conclusion: Description of an Ad with high CTR typically has a higher median no. of words (22.0) as compared to a low CTR Ad(21.0)."
      ],
      "metadata": {
        "id": "33YeZIRYs9LB",
        "colab_type": "text"
      }
    },
    {
      "cell_type": "code",
      "source": [
        "# How does Ad CTR affect no. of words in Ad Title...\n",
        "\n",
        "sns.boxplot(x='HighCTR', y='TCount', data=temp)\n",
        "# sns.violinplot(x='HighCTR', y='TCount', data=temp)\n",
        "plt.show()"
      ],
      "outputs": [
        {
          "output_type": "display_data",
          "data": {
            "text/plain": [
              "<Figure size 432x288 with 1 Axes>"
            ],
            "image/png": "[encoded data removed]"
          },
          "metadata": {
            "needs_background": "light"
          }
        }
      ],
      "execution_count": 215,
      "metadata": {
        "id": "p73j-Agxs9LB",
        "colab_type": "code",
        "colab": {},
        "outputId": "3bd1db76-0711-4a2f-80de-444a87c0fc32",
        "execution": {
          "iopub.status.busy": "2020-04-06T07:00:32.787Z",
          "iopub.execute_input": "2020-04-06T07:00:32.811Z",
          "iopub.status.idle": "2020-04-06T07:00:32.926Z",
          "shell.execute_reply": "2020-04-06T07:00:32.956Z"
        }
      }
    },
    {
      "cell_type": "code",
      "source": [
        "(temp[['HighCTR', 'TCount']].copy()).groupby('HighCTR').agg(['median'])"
      ],
      "outputs": [
        {
          "output_type": "execute_result",
          "execution_count": 216,
          "data": {
            "text/plain": [
              "        TCount\n",
              "        median\n",
              "HighCTR       \n",
              "False      9.0\n",
              "True       9.0"
            ],
            "text/html": [
              "<div>\n",
              "<style scoped>\n",
              "    .dataframe tbody tr th:only-of-type {\n",
              "        vertical-align: middle;\n",
              "    }\n",
              "\n",
              "    .dataframe tbody tr th {\n",
              "        vertical-align: top;\n",
              "    }\n",
              "\n",
              "    .dataframe thead tr th {\n",
              "        text-align: left;\n",
              "    }\n",
              "\n",
              "    .dataframe thead tr:last-of-type th {\n",
              "        text-align: right;\n",
              "    }\n",
              "</style>\n",
              "<table border=\"1\" class=\"dataframe\">\n",
              "  <thead>\n",
              "    <tr>\n",
              "      <th></th>\n",
              "      <th>TCount</th>\n",
              "    </tr>\n",
              "    <tr>\n",
              "      <th></th>\n",
              "      <th>median</th>\n",
              "    </tr>\n",
              "    <tr>\n",
              "      <th>HighCTR</th>\n",
              "      <th></th>\n",
              "    </tr>\n",
              "  </thead>\n",
              "  <tbody>\n",
              "    <tr>\n",
              "      <th>False</th>\n",
              "      <td>9.0</td>\n",
              "    </tr>\n",
              "    <tr>\n",
              "      <th>True</th>\n",
              "      <td>9.0</td>\n",
              "    </tr>\n",
              "  </tbody>\n",
              "</table>\n",
              "</div>"
            ]
          },
          "metadata": {}
        }
      ],
      "execution_count": 216,
      "metadata": {
        "id": "obos6jYWs9LD",
        "colab_type": "code",
        "colab": {},
        "outputId": "0711a04b-4505-4d93-ea60-505c31345765",
        "execution": {
          "iopub.status.busy": "2020-04-06T07:00:35.662Z",
          "iopub.execute_input": "2020-04-06T07:00:35.689Z",
          "iopub.status.idle": "2020-04-06T07:00:35.747Z",
          "shell.execute_reply": "2020-04-06T07:00:35.774Z"
        }
      }
    },
    {
      "cell_type": "markdown",
      "source": [
        "Conclusion: Title of an Ad with high CTR typically has equal median no. of words (9.0) as a low CTR Ad."
      ],
      "metadata": {
        "id": "dkImZsQxs9LG",
        "colab_type": "text"
      }
    },
    {
      "cell_type": "code",
      "source": [
        "# Do high CTR Ads have more no. of impressions...\n",
        "\n",
        "# Intuition says they should be, lets find out...\n",
        "\n",
        "sns.boxplot(x='HighCTR', y='Impression', data=temp)\n",
        "plt.show()"
      ],
      "outputs": [
        {
          "output_type": "display_data",
          "data": {
            "text/plain": [
              "<Figure size 432x288 with 1 Axes>"
            ],
            "image/png": "[encoded data removed]"
          },
          "metadata": {
            "needs_background": "light"
          }
        }
      ],
      "execution_count": 217,
      "metadata": {
        "id": "6lX4jJXVs9LH",
        "colab_type": "code",
        "colab": {},
        "outputId": "97907bd4-6ac1-4f9d-bf7f-afd8d3787672",
        "execution": {
          "iopub.status.busy": "2020-04-06T07:00:38.597Z",
          "iopub.execute_input": "2020-04-06T07:00:38.624Z",
          "iopub.status.idle": "2020-04-06T07:00:38.922Z",
          "shell.execute_reply": "2020-04-06T07:00:38.992Z"
        }
      }
    },
    {
      "cell_type": "code",
      "source": [
        "(temp[['HighCTR', 'Impression']].copy()).groupby('HighCTR').agg(['mean', 'median'])"
      ],
      "outputs": [
        {
          "output_type": "execute_result",
          "execution_count": 218,
          "data": {
            "text/plain": [
              "         Impression       \n",
              "               mean median\n",
              "HighCTR                   \n",
              "False    233.781532      6\n",
              "True     281.402312     16"
            ],
            "text/html": [
              "<div>\n",
              "<style scoped>\n",
              "    .dataframe tbody tr th:only-of-type {\n",
              "        vertical-align: middle;\n",
              "    }\n",
              "\n",
              "    .dataframe tbody tr th {\n",
              "        vertical-align: top;\n",
              "    }\n",
              "\n",
              "    .dataframe thead tr th {\n",
              "        text-align: left;\n",
              "    }\n",
              "\n",
              "    .dataframe thead tr:last-of-type th {\n",
              "        text-align: right;\n",
              "    }\n",
              "</style>\n",
              "<table border=\"1\" class=\"dataframe\">\n",
              "  <thead>\n",
              "    <tr>\n",
              "      <th></th>\n",
              "      <th colspan=\"2\" halign=\"left\">Impression</th>\n",
              "    </tr>\n",
              "    <tr>\n",
              "      <th></th>\n",
              "      <th>mean</th>\n",
              "      <th>median</th>\n",
              "    </tr>\n",
              "    <tr>\n",
              "      <th>HighCTR</th>\n",
              "      <th></th>\n",
              "      <th></th>\n",
              "    </tr>\n",
              "  </thead>\n",
              "  <tbody>\n",
              "    <tr>\n",
              "      <th>False</th>\n",
              "      <td>233.781532</td>\n",
              "      <td>6</td>\n",
              "    </tr>\n",
              "    <tr>\n",
              "      <th>True</th>\n",
              "      <td>281.402312</td>\n",
              "      <td>16</td>\n",
              "    </tr>\n",
              "  </tbody>\n",
              "</table>\n",
              "</div>"
            ]
          },
          "metadata": {}
        }
      ],
      "execution_count": 218,
      "metadata": {
        "id": "JgqSwgw9s9LK",
        "colab_type": "code",
        "colab": {},
        "outputId": "b296bdde-25a3-4b72-9ce6-68c98c9037ab",
        "execution": {
          "iopub.status.busy": "2020-04-06T07:00:41.719Z",
          "iopub.execute_input": "2020-04-06T07:00:41.746Z",
          "iopub.status.idle": "2020-04-06T07:00:41.803Z",
          "shell.execute_reply": "2020-04-06T07:00:41.903Z"
        }
      }
    },
    {
      "cell_type": "markdown",
      "source": [
        "Conclusion: A High CTR Ad has higher avg. impressions(50.8) & median impressions(9.0) as opposed to a low CTR Ad with avg. impressions of 23.90 & median impressions of 3.0"
      ],
      "metadata": {
        "id": "nicZVofus9LL",
        "colab_type": "text"
      }
    },
    {
      "cell_type": "code",
      "source": [
        "\n",
        "# Part 3.2 Studying Ad properties based on Ad frequency...\n"
      ],
      "outputs": [],
      "execution_count": 138,
      "metadata": {
        "id": "FvW0YQv0s9LM",
        "colab_type": "code",
        "colab": {},
        "execution": {
          "iopub.status.busy": "2020-04-06T05:01:58.762Z",
          "iopub.execute_input": "2020-04-06T05:01:58.787Z",
          "iopub.status.idle": "2020-04-06T05:01:58.833Z",
          "shell.execute_reply": "2020-04-06T05:02:01.270Z"
        }
      }
    },
    {
      "cell_type": "code",
      "source": [
        "\n",
        "# The burning question...\n",
        "\n",
        "# How to decide if an Ad is frequent or not? \n",
        "\n",
        "# There are two ways we can do this.. based on 1. Impression 2. Count\n",
        "\n",
        "# Ad Impression: total no. of impressions of an Ad across all entries in the training file. \n",
        "\n",
        "# Ad Count: total no. of training entries in which Ad appeared.\n",
        "\n",
        "# We choose Ad Impression as a criteria for deciding if an Ad is frequent or not.\n",
        "\n",
        "# Let us study the distribution of Ad Impressions... \n"
      ],
      "outputs": [],
      "execution_count": 139,
      "metadata": {
        "id": "vgy9gG5vs9LQ",
        "colab_type": "code",
        "colab": {},
        "execution": {
          "iopub.status.busy": "2020-04-06T05:01:58.883Z",
          "iopub.execute_input": "2020-04-06T05:01:58.912Z",
          "iopub.status.idle": "2020-04-06T05:01:58.955Z",
          "shell.execute_reply": "2020-04-06T05:02:01.286Z"
        }
      }
    },
    {
      "cell_type": "code",
      "source": [
        "f, (ax1, ax2) = plt.subplots(2)\n",
        "sns.kdeplot(temp['Impression'], ax=ax1)\n",
        "sns.boxplot(x=None,y='Impression',data=temp, ax=ax2)\n",
        "# sns.boxplot(x=None,y='Impression',data=temp)\n",
        "plt.show()"
      ],
      "outputs": [
        {
          "output_type": "display_data",
          "data": {
            "text/plain": [
              "<Figure size 432x288 with 2 Axes>"
            ],
            "image/png": "[encoded data removed]"
          },
          "metadata": {
            "needs_background": "light"
          }
        }
      ],
      "execution_count": 219,
      "metadata": {
        "id": "_3X_dvSts9LR",
        "colab_type": "code",
        "colab": {},
        "outputId": "c8b6e5f8-050d-4e3b-e6ce-efced2600f6c",
        "execution": {
          "iopub.status.busy": "2020-04-06T07:00:45.284Z",
          "iopub.execute_input": "2020-04-06T07:00:45.313Z",
          "iopub.status.idle": "2020-04-06T07:00:46.234Z",
          "shell.execute_reply": "2020-04-06T07:00:46.299Z"
        }
      }
    },
    {
      "cell_type": "code",
      "source": [
        "mean_ad_impression = temp['Impression'].mean()\n",
        "print ('Avg. impresssions of an Ad: ', round(mean_ad_impression))\n",
        "\n",
        "median_ad_impression = temp['Impression'].median()\n",
        "print ('Median impresssions of an Ad: ', round(median_ad_impression))\n",
        "\n",
        "third_quantile_ad_impression = temp['Impression'].quantile(0.75)\n",
        "print ('3rd quantile impresssions of an Ad: ', round(third_quantile_ad_impression))"
      ],
      "outputs": [
        {
          "output_type": "stream",
          "name": "stdout",
          "text": [
            "Avg. impresssions of an Ad:  244.0\n",
            "Median impresssions of an Ad:  8.0\n",
            "3rd quantile impresssions of an Ad:  43.0\n"
          ]
        }
      ],
      "execution_count": 220,
      "metadata": {
        "id": "MB9o3QMEs9LT",
        "colab_type": "code",
        "colab": {},
        "outputId": "c393bb09-0888-4bf1-d0da-0e81403fd7a3",
        "execution": {
          "iopub.status.busy": "2020-04-06T07:00:48.353Z",
          "iopub.execute_input": "2020-04-06T07:00:48.379Z",
          "iopub.status.idle": "2020-04-06T07:00:48.436Z",
          "shell.execute_reply": "2020-04-06T07:00:48.462Z"
        }
      }
    },
    {
      "cell_type": "code",
      "source": [
        "# Let us define 'Frequent Ad' as - an Ad with Ad Impression > 3rd quantile Ad Impression."
      ],
      "outputs": [],
      "execution_count": 142,
      "metadata": {
        "id": "lOMkffYAs9LU",
        "colab_type": "code",
        "colab": {},
        "execution": {
          "iopub.status.busy": "2020-04-06T05:01:59.306Z",
          "iopub.execute_input": "2020-04-06T05:01:59.334Z",
          "iopub.status.idle": "2020-04-06T05:01:59.377Z",
          "shell.execute_reply": "2020-04-06T05:02:01.334Z"
        }
      }
    },
    {
      "cell_type": "code",
      "source": [
        "temp['IsFrequent'] = temp['Impression'] > third_quantile_ad_impression\n",
        "temp.head()"
      ],
      "outputs": [
        {
          "output_type": "execute_result",
          "execution_count": 221,
          "data": {
            "text/plain": [
              "      AdId       CTR       Pos     Depth     DCount  TCount  Impression  \\\n",
              "0  1000031  0.000000  1.851852  2.111111  18.000000     6.0          30   \n",
              "1  1000465  0.000000  1.840000  2.320000  17.000000     5.0          41   \n",
              "2  1000467  2.675719  1.932907  2.215655  17.864217     5.0         818   \n",
              "3  1000468  0.000000  1.916667  2.333333  17.000000     5.0          15   \n",
              "4  1000469  0.000000  2.000000  2.250000  17.250000     5.0           4   \n",
              "\n",
              "   Click  HighCTR  IsFrequent  \n",
              "0      0    False       False  \n",
              "1      0    False       False  \n",
              "2     22    False        True  \n",
              "3      0    False       False  \n",
              "4      0    False       False  "
            ],
            "text/html": [
              "<div>\n",
              "<style scoped>\n",
              "    .dataframe tbody tr th:only-of-type {\n",
              "        vertical-align: middle;\n",
              "    }\n",
              "\n",
              "    .dataframe tbody tr th {\n",
              "        vertical-align: top;\n",
              "    }\n",
              "\n",
              "    .dataframe thead th {\n",
              "        text-align: right;\n",
              "    }\n",
              "</style>\n",
              "<table border=\"1\" class=\"dataframe\">\n",
              "  <thead>\n",
              "    <tr style=\"text-align: right;\">\n",
              "      <th></th>\n",
              "      <th>AdId</th>\n",
              "      <th>CTR</th>\n",
              "      <th>Pos</th>\n",
              "      <th>Depth</th>\n",
              "      <th>DCount</th>\n",
              "      <th>TCount</th>\n",
              "      <th>Impression</th>\n",
              "      <th>Click</th>\n",
              "      <th>HighCTR</th>\n",
              "      <th>IsFrequent</th>\n",
              "    </tr>\n",
              "  </thead>\n",
              "  <tbody>\n",
              "    <tr>\n",
              "      <th>0</th>\n",
              "      <td>1000031</td>\n",
              "      <td>0.000000</td>\n",
              "      <td>1.851852</td>\n",
              "      <td>2.111111</td>\n",
              "      <td>18.000000</td>\n",
              "      <td>6.0</td>\n",
              "      <td>30</td>\n",
              "      <td>0</td>\n",
              "      <td>False</td>\n",
              "      <td>False</td>\n",
              "    </tr>\n",
              "    <tr>\n",
              "      <th>1</th>\n",
              "      <td>1000465</td>\n",
              "      <td>0.000000</td>\n",
              "      <td>1.840000</td>\n",
              "      <td>2.320000</td>\n",
              "      <td>17.000000</td>\n",
              "      <td>5.0</td>\n",
              "      <td>41</td>\n",
              "      <td>0</td>\n",
              "      <td>False</td>\n",
              "      <td>False</td>\n",
              "    </tr>\n",
              "    <tr>\n",
              "      <th>2</th>\n",
              "      <td>1000467</td>\n",
              "      <td>2.675719</td>\n",
              "      <td>1.932907</td>\n",
              "      <td>2.215655</td>\n",
              "      <td>17.864217</td>\n",
              "      <td>5.0</td>\n",
              "      <td>818</td>\n",
              "      <td>22</td>\n",
              "      <td>False</td>\n",
              "      <td>True</td>\n",
              "    </tr>\n",
              "    <tr>\n",
              "      <th>3</th>\n",
              "      <td>1000468</td>\n",
              "      <td>0.000000</td>\n",
              "      <td>1.916667</td>\n",
              "      <td>2.333333</td>\n",
              "      <td>17.000000</td>\n",
              "      <td>5.0</td>\n",
              "      <td>15</td>\n",
              "      <td>0</td>\n",
              "      <td>False</td>\n",
              "      <td>False</td>\n",
              "    </tr>\n",
              "    <tr>\n",
              "      <th>4</th>\n",
              "      <td>1000469</td>\n",
              "      <td>0.000000</td>\n",
              "      <td>2.000000</td>\n",
              "      <td>2.250000</td>\n",
              "      <td>17.250000</td>\n",
              "      <td>5.0</td>\n",
              "      <td>4</td>\n",
              "      <td>0</td>\n",
              "      <td>False</td>\n",
              "      <td>False</td>\n",
              "    </tr>\n",
              "  </tbody>\n",
              "</table>\n",
              "</div>"
            ]
          },
          "metadata": {}
        }
      ],
      "execution_count": 221,
      "metadata": {
        "id": "MZcfzz_hs9LV",
        "colab_type": "code",
        "colab": {},
        "outputId": "2fcaaca8-6f6e-4d41-c483-c0685acdd19c",
        "execution": {
          "iopub.status.busy": "2020-04-06T07:00:51.119Z",
          "iopub.execute_input": "2020-04-06T07:00:51.147Z",
          "iopub.status.idle": "2020-04-06T07:00:51.210Z",
          "shell.execute_reply": "2020-04-06T07:00:51.238Z"
        }
      }
    },
    {
      "cell_type": "code",
      "source": [
        "temp['IsFrequent'].value_counts() # Dataset is balanced."
      ],
      "outputs": [
        {
          "output_type": "execute_result",
          "execution_count": 222,
          "data": {
            "text/plain": [
              "False    415673\n",
              "True     137698\n",
              "Name: IsFrequent, dtype: int64"
            ]
          },
          "metadata": {}
        }
      ],
      "execution_count": 222,
      "metadata": {
        "id": "Q-gqBsuKs9LW",
        "colab_type": "code",
        "colab": {},
        "outputId": "cd5a54a1-2736-4bc7-e584-66861638574a",
        "execution": {
          "iopub.status.busy": "2020-04-06T07:00:53.914Z",
          "iopub.execute_input": "2020-04-06T07:00:53.941Z",
          "iopub.status.idle": "2020-04-06T07:00:54.003Z",
          "shell.execute_reply": "2020-04-06T07:00:54.033Z"
        }
      }
    },
    {
      "cell_type": "code",
      "source": [
        "# How does Ad frequency affect no. of words in Ad description...\n",
        "\n",
        "sns.boxplot(x='IsFrequent', y='DCount', data=temp)\n",
        "#sns.violinplot(x='HighCTR', y='DCount', data=temp)\n",
        "plt.show()"
      ],
      "outputs": [
        {
          "output_type": "display_data",
          "data": {
            "text/plain": [
              "<Figure size 432x288 with 1 Axes>"
            ],
            "image/png": "[encoded data removed]"
          },
          "metadata": {
            "needs_background": "light"
          }
        }
      ],
      "execution_count": 223,
      "metadata": {
        "id": "aBPXbrj4s9LZ",
        "colab_type": "code",
        "colab": {},
        "outputId": "c0c6984a-9c4b-40cf-dc74-660c6d3835f9",
        "execution": {
          "iopub.status.busy": "2020-04-06T07:00:58.431Z",
          "iopub.execute_input": "2020-04-06T07:00:58.457Z",
          "iopub.status.idle": "2020-04-06T07:00:58.557Z",
          "shell.execute_reply": "2020-04-06T07:00:58.632Z"
        }
      }
    },
    {
      "cell_type": "code",
      "source": [
        "(temp[['IsFrequent', 'DCount']].copy()).groupby('IsFrequent').agg(['median'])"
      ],
      "outputs": [
        {
          "output_type": "execute_result",
          "execution_count": 224,
          "data": {
            "text/plain": [
              "               DCount\n",
              "               median\n",
              "IsFrequent           \n",
              "False       21.500000\n",
              "True        21.434783"
            ],
            "text/html": [
              "<div>\n",
              "<style scoped>\n",
              "    .dataframe tbody tr th:only-of-type {\n",
              "        vertical-align: middle;\n",
              "    }\n",
              "\n",
              "    .dataframe tbody tr th {\n",
              "        vertical-align: top;\n",
              "    }\n",
              "\n",
              "    .dataframe thead tr th {\n",
              "        text-align: left;\n",
              "    }\n",
              "\n",
              "    .dataframe thead tr:last-of-type th {\n",
              "        text-align: right;\n",
              "    }\n",
              "</style>\n",
              "<table border=\"1\" class=\"dataframe\">\n",
              "  <thead>\n",
              "    <tr>\n",
              "      <th></th>\n",
              "      <th>DCount</th>\n",
              "    </tr>\n",
              "    <tr>\n",
              "      <th></th>\n",
              "      <th>median</th>\n",
              "    </tr>\n",
              "    <tr>\n",
              "      <th>IsFrequent</th>\n",
              "      <th></th>\n",
              "    </tr>\n",
              "  </thead>\n",
              "  <tbody>\n",
              "    <tr>\n",
              "      <th>False</th>\n",
              "      <td>21.500000</td>\n",
              "    </tr>\n",
              "    <tr>\n",
              "      <th>True</th>\n",
              "      <td>21.434783</td>\n",
              "    </tr>\n",
              "  </tbody>\n",
              "</table>\n",
              "</div>"
            ]
          },
          "metadata": {}
        }
      ],
      "execution_count": 224,
      "metadata": {
        "id": "fHNEHN2qs9La",
        "colab_type": "code",
        "colab": {},
        "outputId": "c60a1f7c-ac7c-4b84-c685-09893699159a",
        "execution": {
          "iopub.status.busy": "2020-04-06T07:01:02.290Z",
          "iopub.execute_input": "2020-04-06T07:01:02.319Z",
          "iopub.status.idle": "2020-04-06T07:01:02.379Z",
          "shell.execute_reply": "2020-04-06T07:01:02.407Z"
        }
      }
    },
    {
      "cell_type": "markdown",
      "source": [
        "Conclusion: Description of a frequent Ad has a slightly higher median no. of words (22.0) as compared to a infrequent Ad (21.0)."
      ],
      "metadata": {
        "id": "v29S4UXts9Lc",
        "colab_type": "text"
      }
    },
    {
      "cell_type": "code",
      "source": [
        "# How does Ad frequency affect no. of words in Ad title...\n",
        "\n",
        "sns.boxplot(x='IsFrequent', y='TCount', data=temp)\n",
        "#sns.violinplot(x='HighCTR', y='DCount', data=temp)\n",
        "plt.show()"
      ],
      "outputs": [
        {
          "output_type": "display_data",
          "data": {
            "text/plain": [
              "<Figure size 432x288 with 1 Axes>"
            ],
            "image/png": "[encoded data removed]"
          },
          "metadata": {
            "needs_background": "light"
          }
        }
      ],
      "execution_count": 225,
      "metadata": {
        "id": "ScGbOlpus9Lc",
        "colab_type": "code",
        "colab": {},
        "outputId": "a32f666a-bc2f-4b1d-a171-a1187fd83728",
        "execution": {
          "iopub.status.busy": "2020-04-06T07:01:05.688Z",
          "iopub.execute_input": "2020-04-06T07:01:05.718Z",
          "iopub.status.idle": "2020-04-06T07:01:05.824Z",
          "shell.execute_reply": "2020-04-06T07:01:05.856Z"
        }
      }
    },
    {
      "cell_type": "code",
      "source": [
        "(temp[['IsFrequent', 'TCount']].copy()).groupby('IsFrequent').agg(['median'])"
      ],
      "outputs": [
        {
          "output_type": "execute_result",
          "execution_count": 226,
          "data": {
            "text/plain": [
              "              TCount\n",
              "              median\n",
              "IsFrequent          \n",
              "False       9.000000\n",
              "True        8.692308"
            ],
            "text/html": [
              "<div>\n",
              "<style scoped>\n",
              "    .dataframe tbody tr th:only-of-type {\n",
              "        vertical-align: middle;\n",
              "    }\n",
              "\n",
              "    .dataframe tbody tr th {\n",
              "        vertical-align: top;\n",
              "    }\n",
              "\n",
              "    .dataframe thead tr th {\n",
              "        text-align: left;\n",
              "    }\n",
              "\n",
              "    .dataframe thead tr:last-of-type th {\n",
              "        text-align: right;\n",
              "    }\n",
              "</style>\n",
              "<table border=\"1\" class=\"dataframe\">\n",
              "  <thead>\n",
              "    <tr>\n",
              "      <th></th>\n",
              "      <th>TCount</th>\n",
              "    </tr>\n",
              "    <tr>\n",
              "      <th></th>\n",
              "      <th>median</th>\n",
              "    </tr>\n",
              "    <tr>\n",
              "      <th>IsFrequent</th>\n",
              "      <th></th>\n",
              "    </tr>\n",
              "  </thead>\n",
              "  <tbody>\n",
              "    <tr>\n",
              "      <th>False</th>\n",
              "      <td>9.000000</td>\n",
              "    </tr>\n",
              "    <tr>\n",
              "      <th>True</th>\n",
              "      <td>8.692308</td>\n",
              "    </tr>\n",
              "  </tbody>\n",
              "</table>\n",
              "</div>"
            ]
          },
          "metadata": {}
        }
      ],
      "execution_count": 226,
      "metadata": {
        "id": "0I7587c6s9Le",
        "colab_type": "code",
        "colab": {},
        "outputId": "a974e153-ed4f-411e-d6ee-4b3502333480",
        "execution": {
          "iopub.status.busy": "2020-04-06T07:01:08.399Z",
          "iopub.execute_input": "2020-04-06T07:01:08.430Z",
          "iopub.status.idle": "2020-04-06T07:01:08.488Z",
          "shell.execute_reply": "2020-04-06T07:01:08.516Z"
        }
      }
    },
    {
      "cell_type": "markdown",
      "source": [
        "Conclusion: Title of a frequent Ad has a almost equal median no. of words (8.7) as compared to a infrequent Ad (9.0)."
      ],
      "metadata": {
        "id": "o0kgccUWs9Lg",
        "colab_type": "text"
      }
    },
    {
      "cell_type": "code",
      "source": [
        "# How does Ad frequency affect Ad position..\n",
        "\n",
        "sns.FacetGrid(temp, hue=\"IsFrequent\", size=5) \\\n",
        "   .map(sns.kdeplot, \"Pos\") \\\n",
        "   .add_legend()\n",
        "plt.show()"
      ],
      "outputs": [
        {
          "output_type": "stream",
          "name": "stderr",
          "text": [
            "/Users/kaushik/anaconda3/lib/python3.7/site-packages/seaborn/axisgrid.py:243: UserWarning: The `size` parameter has been renamed to `height`; please update your code.\n",
            "  warnings.warn(msg, UserWarning)\n"
          ]
        },
        {
          "output_type": "display_data",
          "data": {
            "text/plain": [
              "<Figure size 422.125x360 with 1 Axes>"
            ],
            "image/png": "[encoded data removed]"
          },
          "metadata": {
            "needs_background": "light"
          }
        }
      ],
      "execution_count": 227,
      "metadata": {
        "scrolled": false,
        "id": "so55fdF6s9Lg",
        "colab_type": "code",
        "colab": {},
        "outputId": "2904c68b-e8e3-4ff2-f697-a563f9325085",
        "execution": {
          "iopub.status.busy": "2020-04-06T07:01:11.876Z",
          "iopub.execute_input": "2020-04-06T07:01:11.908Z",
          "iopub.status.idle": "2020-04-06T07:01:13.182Z",
          "shell.execute_reply": "2020-04-06T07:01:13.241Z"
        }
      }
    },
    {
      "cell_type": "markdown",
      "source": [
        "Conclusion: infrequent & frequenct ads usually occupy similar positions which is mostly positions 1 & 2."
      ],
      "metadata": {
        "id": "7nOxRrA_s9Lh",
        "colab_type": "text"
      }
    },
    {
      "cell_type": "code",
      "source": [
        "# How does Ad frequency affect Ad Depth...\n",
        "\n",
        "sns.FacetGrid(temp, hue=\"IsFrequent\", size=5) \\\n",
        "   .map(sns.kdeplot, \"Depth\") \\\n",
        "   .add_legend()\n",
        "plt.show()"
      ],
      "outputs": [
        {
          "output_type": "stream",
          "name": "stderr",
          "text": [
            "/Users/kaushik/anaconda3/lib/python3.7/site-packages/seaborn/axisgrid.py:243: UserWarning: The `size` parameter has been renamed to `height`; please update your code.\n",
            "  warnings.warn(msg, UserWarning)\n"
          ]
        },
        {
          "output_type": "display_data",
          "data": {
            "text/plain": [
              "<Figure size 422.125x360 with 1 Axes>"
            ],
            "image/png": "[encoded data removed]"
          },
          "metadata": {
            "needs_background": "light"
          }
        }
      ],
      "execution_count": 228,
      "metadata": {
        "id": "Pm2NMIT1s9Lh",
        "colab_type": "code",
        "colab": {},
        "outputId": "0fdef21a-c8a2-4b66-b758-2f328451f524",
        "execution": {
          "iopub.status.busy": "2020-04-06T07:01:16.530Z",
          "iopub.execute_input": "2020-04-06T07:01:16.561Z",
          "iopub.status.idle": "2020-04-06T07:01:17.643Z",
          "shell.execute_reply": "2020-04-06T07:01:17.706Z"
        }
      }
    },
    {
      "cell_type": "markdown",
      "source": [
        "Conclusion: infrequent advertisement occur mostly in search sessions with depths is 2. On the other hand occurence of a frequent advertisement is distributed normally (not exactly) across all depths."
      ],
      "metadata": {
        "id": "8CqzEalus9Lj",
        "colab_type": "text"
      }
    },
    {
      "cell_type": "markdown",
      "source": [
        "Conclusion: If an advertisement is infrequent it has less no. of clicks as compared to an frequent advertisement. \n",
        "Why is that ? It is very intuitive. How ? Ad is infrequent in the first place becuase it has low CTR hence low no. of clicks.\n"
      ],
      "metadata": {
        "id": "0IAcHkbZs9Lj",
        "colab_type": "text"
      }
    },
    {
      "cell_type": "code",
      "source": [
        "# Do frequent Ads have higher CTR...\n",
        "\n",
        "# Intuition says they should be, lets find out...\n",
        "\n",
        "sns.boxplot(x='IsFrequent', y='CTR', data=temp)\n",
        "plt.show()"
      ],
      "outputs": [
        {
          "output_type": "display_data",
          "data": {
            "text/plain": [
              "<Figure size 432x288 with 1 Axes>"
            ],
            "image/png": "[encoded data removed]"
          },
          "metadata": {
            "needs_background": "light"
          }
        }
      ],
      "execution_count": 229,
      "metadata": {
        "id": "sb0IfYd3s9Lj",
        "colab_type": "code",
        "colab": {},
        "outputId": "13ea3319-da8b-4ae0-9cec-ba9bae7a4f94",
        "execution": {
          "iopub.status.busy": "2020-04-06T07:01:21.074Z",
          "iopub.execute_input": "2020-04-06T07:01:21.100Z",
          "iopub.status.idle": "2020-04-06T07:01:21.393Z",
          "shell.execute_reply": "2020-04-06T07:01:21.462Z"
        }
      }
    },
    {
      "cell_type": "code",
      "source": [
        "# Clearly there are outliers so we will use median CTR to decide this...\n",
        "\n",
        "(temp[['IsFrequent', 'CTR']].copy()).groupby('IsFrequent').agg(['median'])"
      ],
      "outputs": [
        {
          "output_type": "execute_result",
          "execution_count": 230,
          "data": {
            "text/plain": [
              "                 CTR\n",
              "              median\n",
              "IsFrequent          \n",
              "False       0.000000\n",
              "True        3.046777"
            ],
            "text/html": [
              "<div>\n",
              "<style scoped>\n",
              "    .dataframe tbody tr th:only-of-type {\n",
              "        vertical-align: middle;\n",
              "    }\n",
              "\n",
              "    .dataframe tbody tr th {\n",
              "        vertical-align: top;\n",
              "    }\n",
              "\n",
              "    .dataframe thead tr th {\n",
              "        text-align: left;\n",
              "    }\n",
              "\n",
              "    .dataframe thead tr:last-of-type th {\n",
              "        text-align: right;\n",
              "    }\n",
              "</style>\n",
              "<table border=\"1\" class=\"dataframe\">\n",
              "  <thead>\n",
              "    <tr>\n",
              "      <th></th>\n",
              "      <th>CTR</th>\n",
              "    </tr>\n",
              "    <tr>\n",
              "      <th></th>\n",
              "      <th>median</th>\n",
              "    </tr>\n",
              "    <tr>\n",
              "      <th>IsFrequent</th>\n",
              "      <th></th>\n",
              "    </tr>\n",
              "  </thead>\n",
              "  <tbody>\n",
              "    <tr>\n",
              "      <th>False</th>\n",
              "      <td>0.000000</td>\n",
              "    </tr>\n",
              "    <tr>\n",
              "      <th>True</th>\n",
              "      <td>3.046777</td>\n",
              "    </tr>\n",
              "  </tbody>\n",
              "</table>\n",
              "</div>"
            ]
          },
          "metadata": {}
        }
      ],
      "execution_count": 230,
      "metadata": {
        "id": "ZNKFVpRRs9Lk",
        "colab_type": "code",
        "colab": {},
        "outputId": "f7c1b32e-f83b-4fc7-b9fd-9762a7a7f5ec",
        "execution": {
          "iopub.status.busy": "2020-04-06T07:01:25.890Z",
          "iopub.execute_input": "2020-04-06T07:01:25.920Z",
          "iopub.status.idle": "2020-04-06T07:01:25.980Z",
          "shell.execute_reply": "2020-04-06T07:01:26.008Z"
        }
      }
    },
    {
      "cell_type": "markdown",
      "source": [
        "Frequent Ads have higher median CTR (2.36) as opposed to infrequent Ads (0.0) which is intuitive."
      ],
      "metadata": {
        "id": "uZUD4rmhs9Lm",
        "colab_type": "text"
      }
    },
    {
      "cell_type": "code",
      "source": [
        "\n",
        "# Takeaways:\n",
        "\n",
        "# 1. Ads at lower positions have higher avg. CTR so we have included a feature mPosCTR.\n",
        "\n",
        "# 2. Frequent advertisers have higher avg. CTR as we included feature mAdvCTR.\n",
        "\n",
        "# 3. Frequents ads have higher avg. CTR so we have included feature mAdCTR. \n"
      ],
      "outputs": [],
      "execution_count": 153,
      "metadata": {
        "id": "VqwG_37ws9Lm",
        "colab_type": "code",
        "colab": {},
        "execution": {
          "iopub.status.busy": "2020-04-06T05:02:00.918Z",
          "iopub.execute_input": "2020-04-06T05:02:00.946Z",
          "iopub.status.idle": "2020-04-06T05:02:00.992Z",
          "shell.execute_reply": "2020-04-06T05:02:01.499Z"
        }
      }
    }
  ],
  "metadata": {
    "kernelspec": {
      "display_name": "Python 3",
      "language": "python",
      "name": "python3"
    },
    "language_info": {
      "name": "python",
      "version": "3.7.3",
      "mimetype": "text/x-python",
      "codemirror_mode": {
        "name": "ipython",
        "version": 3
      },
      "pygments_lexer": "ipython3",
      "nbconvert_exporter": "python",
      "file_extension": ".py"
    },
    "colab": {
      "name": "apd_EDA.ipynb",
      "provenance": []
    },
    "nteract": {
      "version": "0.22.0"
    }
  },
  "nbformat": 4,
  "nbformat_minor": 0
}